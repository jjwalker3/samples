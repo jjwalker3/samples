{
 "cells": [
  {
   "cell_type": "code",
   "execution_count": null,
   "metadata": {
    "collapsed": false,
    "deletable": true,
    "editable": true
   },
   "outputs": [],
   "source": []
  },
  {
   "cell_type": "code",
   "execution_count": 1,
   "metadata": {
    "collapsed": false,
    "deletable": true,
    "editable": true
   },
   "outputs": [],
   "source": [
    "import os\n",
    "\n",
    "import cPickle as pickle\n",
    "\n",
    "import pandas as pd\n",
    "from pandas import DataFrame, Series\n",
    "\n",
    "import numpy as np"
   ]
  },
  {
   "cell_type": "code",
   "execution_count": 67,
   "metadata": {
    "collapsed": false,
    "deletable": true,
    "editable": true
   },
   "outputs": [
    {
     "data": {
      "text/plain": [
       "str"
      ]
     },
     "execution_count": 67,
     "metadata": {},
     "output_type": "execute_result"
    }
   ],
   "source": [
    "# Open data\n",
    "f =  open('CustomerReviews.txt')\n",
    "raw_giant_string_data = f.read()\n",
    "type(raw_giant_string_data)"
   ]
  },
  {
   "cell_type": "code",
   "execution_count": 4,
   "metadata": {
    "collapsed": false,
    "deletable": true,
    "editable": true
   },
   "outputs": [],
   "source": [
    "# 3. Split the GIANT string you read into LIST of lines\n",
    "raw_list_of_strings_data = raw_giant_string_data.splitlines()"
   ]
  },
  {
   "cell_type": "code",
   "execution_count": 5,
   "metadata": {
    "collapsed": false,
    "deletable": true,
    "editable": true
   },
   "outputs": [
    {
     "data": {
      "text/plain": [
       "list"
      ]
     },
     "execution_count": 5,
     "metadata": {},
     "output_type": "execute_result"
    }
   ],
   "source": [
    "# Verify the datatype you got?\n",
    "type(raw_list_of_strings_data)"
   ]
  },
  {
   "cell_type": "code",
   "execution_count": 68,
   "metadata": {
    "collapsed": false,
    "deletable": true,
    "editable": true
   },
   "outputs": [
    {
     "data": {
      "text/plain": [
       "['ProductModelName: Samsung TV 60 LED',\n",
       " 'ProductCategory: TV',\n",
       " 'ProductPrice: 1100',\n",
       " 'RetailerName: Walmart',\n",
       " 'RetailerZip: 94102',\n",
       " 'RetailerCity: San Francisco',\n",
       " 'RetailerState: CA',\n",
       " 'RetailerOnSale: Yes',\n",
       " 'ManufacturerName: Samsung',\n",
       " 'ManufacturerRebate: No',\n",
       " 'UserID: hueii17',\n",
       " 'UserAge: 37',\n",
       " 'UserGender: Female',\n",
       " 'UserOccupation: Manager',\n",
       " 'ReviewRating: 5',\n",
       " 'ReviewDate: 12/14/2014',\n",
       " 'ReviewText: Great staff with the sale!! They did an extraordinary job and will be shopping there again! I love Samsung!',\n",
       " '',\n",
       " 'ProductModelName: Galaxy S4',\n",
       " 'ProductCategory: Smart Phone']"
      ]
     },
     "execution_count": 68,
     "metadata": {},
     "output_type": "execute_result"
    }
   ],
   "source": [
    "# 4. Print the raw_list_data\n",
    "# How does the data look like in the raw_list_data?\n",
    "# Every Line will be represented as an item of type (String) in the resulting LIST\n",
    "raw_list_of_strings_data[:20]"
   ]
  },
  {
   "cell_type": "code",
   "execution_count": 7,
   "metadata": {
    "collapsed": false,
    "deletable": true,
    "editable": true
   },
   "outputs": [],
   "source": [
    "# Does the data list you got have similar patterns?\n",
    "# Did you get a list of strings, where the PATTERN of the string could be either\n",
    "#  (a) 'parameterName: parameterValue'  \n",
    "#  (b)  ''     \n",
    "# Note that      ''        string is the BLANK line in the textfile"
   ]
  },
  {
   "cell_type": "code",
   "execution_count": 8,
   "metadata": {
    "collapsed": false,
    "deletable": true,
    "editable": true
   },
   "outputs": [],
   "source": [
    "# 5. Create  the LOL  - a List Of two-item Lists\n",
    "# So we can have something like this:\n",
    "#     [['Product/ModelName', 'Samsung TV 60 LED'],\n",
    "#      ['Product/Category', 'TV'],\n",
    "#      ['Product/Price', '1200'], \n",
    "#       ........................\n",
    "#       ........................"
   ]
  },
  {
   "cell_type": "code",
   "execution_count": null,
   "metadata": {
    "collapsed": false,
    "deletable": true,
    "editable": true
   },
   "outputs": [],
   "source": []
  },
  {
   "cell_type": "code",
   "execution_count": 9,
   "metadata": {
    "collapsed": false,
    "deletable": true,
    "editable": true
   },
   "outputs": [],
   "source": [
    "# Split\n",
    "raw_list_of_lists_data = []\n",
    "for row in raw_list_of_strings_data:\n",
    "    if row :\n",
    "        raw_list_of_lists_data = raw_list_of_lists_data +  [row.split(': ')]\n"
   ]
  },
  {
   "cell_type": "code",
   "execution_count": 10,
   "metadata": {
    "collapsed": false,
    "deletable": true,
    "editable": true
   },
   "outputs": [
    {
     "data": {
      "text/plain": [
       "list"
      ]
     },
     "execution_count": 10,
     "metadata": {},
     "output_type": "execute_result"
    }
   ],
   "source": [
    "type (raw_list_of_lists_data)"
   ]
  },
  {
   "cell_type": "code",
   "execution_count": 11,
   "metadata": {
    "collapsed": false,
    "deletable": true,
    "editable": true
   },
   "outputs": [
    {
     "data": {
      "text/plain": [
       "[['ProductModelName', 'Samsung TV 60 LED']]"
      ]
     },
     "execution_count": 11,
     "metadata": {},
     "output_type": "execute_result"
    }
   ],
   "source": [
    "raw_list_of_lists_data[:1]"
   ]
  },
  {
   "cell_type": "code",
   "execution_count": 12,
   "metadata": {
    "collapsed": false,
    "deletable": true,
    "editable": true
   },
   "outputs": [
    {
     "data": {
      "text/plain": [
       "[['ProductModelName', 'Samsung TV 60 LED'],\n",
       " ['ProductCategory', 'TV'],\n",
       " ['ProductPrice', '1100'],\n",
       " ['RetailerName', 'Walmart'],\n",
       " ['RetailerZip', '94102'],\n",
       " ['RetailerCity', 'San Francisco'],\n",
       " ['RetailerState', 'CA'],\n",
       " ['RetailerOnSale', 'Yes'],\n",
       " ['ManufacturerName', 'Samsung'],\n",
       " ['ManufacturerRebate', 'No'],\n",
       " ['UserID', 'hueii17'],\n",
       " ['UserAge', '37'],\n",
       " ['UserGender', 'Female'],\n",
       " ['UserOccupation', 'Manager'],\n",
       " ['ReviewRating', '5'],\n",
       " ['ReviewDate', '12/14/2014'],\n",
       " ['ReviewText',\n",
       "  'Great staff with the sale!! They did an extraordinary job and will be shopping there again! I love Samsung!'],\n",
       " ['ProductModelName', 'Galaxy S4'],\n",
       " ['ProductCategory', 'Smart Phone'],\n",
       " ['ProductPrice', '402'],\n",
       " ['RetailerName', 'Frys'],\n",
       " ['RetailerZip', '30134'],\n",
       " ['RetailerCity', 'Atlanta'],\n",
       " ['RetailerState', 'GA'],\n",
       " ['RetailerOnSale', 'No'],\n",
       " ['ManufacturerName', 'Samsung'],\n",
       " ['ManufacturerRebate', 'No'],\n",
       " ['UserID', 'ttltk97'],\n",
       " ['UserAge', '26'],\n",
       " ['UserGender', 'Male'],\n",
       " ['UserOccupation', 'Secratary'],\n",
       " ['ReviewRating', '5']]"
      ]
     },
     "execution_count": 12,
     "metadata": {},
     "output_type": "execute_result"
    }
   ],
   "source": [
    "raw_list_of_lists_data[:32]"
   ]
  },
  {
   "cell_type": "code",
   "execution_count": 13,
   "metadata": {
    "collapsed": false,
    "deletable": true,
    "editable": true
   },
   "outputs": [],
   "source": [
    "# 6. Create a generator Method for our partitions of the reviews in the raw_list_of_lists_data\n",
    "\n",
    "def partition_generator(reviews_list, n):\n",
    "    def reviews_partitions():\n",
    "        for i in xrange(0, len(reviews_list), n):\n",
    "            yield reviews_list[i:i+n]\n",
    "    return [i for i in reviews_partitions()]\n"
   ]
  },
  {
   "cell_type": "code",
   "execution_count": 14,
   "metadata": {
    "collapsed": false,
    "deletable": true,
    "editable": true
   },
   "outputs": [
    {
     "data": {
      "text/plain": [
       "[[['ProductModelName', 'Samsung TV 60 LED'],\n",
       "  ['ProductCategory', 'TV'],\n",
       "  ['ProductPrice', '1100'],\n",
       "  ['RetailerName', 'Walmart'],\n",
       "  ['RetailerZip', '94102'],\n",
       "  ['RetailerCity', 'San Francisco'],\n",
       "  ['RetailerState', 'CA'],\n",
       "  ['RetailerOnSale', 'Yes'],\n",
       "  ['ManufacturerName', 'Samsung'],\n",
       "  ['ManufacturerRebate', 'No'],\n",
       "  ['UserID', 'hueii17'],\n",
       "  ['UserAge', '37'],\n",
       "  ['UserGender', 'Female'],\n",
       "  ['UserOccupation', 'Manager'],\n",
       "  ['ReviewRating', '5'],\n",
       "  ['ReviewDate', '12/14/2014'],\n",
       "  ['ReviewText',\n",
       "   'Great staff with the sale!! They did an extraordinary job and will be shopping there again! I love Samsung!']],\n",
       " [['ProductModelName', 'Galaxy S4'],\n",
       "  ['ProductCategory', 'Smart Phone'],\n",
       "  ['ProductPrice', '402'],\n",
       "  ['RetailerName', 'Frys'],\n",
       "  ['RetailerZip', '30134'],\n",
       "  ['RetailerCity', 'Atlanta'],\n",
       "  ['RetailerState', 'GA'],\n",
       "  ['RetailerOnSale', 'No'],\n",
       "  ['ManufacturerName', 'Samsung'],\n",
       "  ['ManufacturerRebate', 'No'],\n",
       "  ['UserID', 'ttltk97'],\n",
       "  ['UserAge', '26'],\n",
       "  ['UserGender', 'Male'],\n",
       "  ['UserOccupation', 'Secratary'],\n",
       "  ['ReviewRating', '5'],\n",
       "  ['ReviewDate', '07/09/14'],\n",
       "  ['ReviewText',\n",
       "   \" really like this Samsung Galaxy 4. i don't use a  computer any more\"]],\n",
       " [['ProductModelName', 'Samsung TV 65 Curved'],\n",
       "  ['ProductCategory', 'TV'],\n",
       "  ['ProductPrice', '1899'],\n",
       "  ['RetailerName', 'Bestbuy'],\n",
       "  ['RetailerZip', '60585'],\n",
       "  ['RetailerCity', 'Naperville'],\n",
       "  ['RetailerState', 'IL'],\n",
       "  ['RetailerOnSale', 'Yes'],\n",
       "  ['ManufacturerName', 'Samsung'],\n",
       "  ['ManufacturerRebate', 'Yes'],\n",
       "  ['UserID', 'xzwef40'],\n",
       "  ['UserAge', '51'],\n",
       "  ['UserGender', 'Male'],\n",
       "  ['UserOccupation', 'Unknown'],\n",
       "  ['ReviewRating', '4'],\n",
       "  ['ReviewDate', '12/05/14'],\n",
       "  ['ReviewText', 'The TV is great with superb picture quality.']]]"
      ]
     },
     "execution_count": 14,
     "metadata": {},
     "output_type": "execute_result"
    }
   ],
   "source": [
    "partitioned_list_of_reviews = partition_generator(raw_list_of_lists_data, 17)\n",
    "\n",
    "\n",
    "partitioned_list_of_reviews[:3]"
   ]
  },
  {
   "cell_type": "code",
   "execution_count": 15,
   "metadata": {
    "collapsed": false,
    "deletable": true,
    "editable": true
   },
   "outputs": [],
   "source": [
    "# 7. Create Column Headers\n",
    "# Read the FIRST  list ONLY in the partitioned_list_of_reviews \n",
    "# and extract from it column_headers for our review_table\n",
    "# All other lists have the SAME header/pattern names\n",
    "\n",
    "keys = [row[0] for row in partitioned_list_of_reviews[0]]\n",
    "\n",
    "review_row = [row[1] for row in partitioned_list_of_reviews[0]]\n"
   ]
  },
  {
   "cell_type": "code",
   "execution_count": 16,
   "metadata": {
    "collapsed": false,
    "deletable": true,
    "editable": true
   },
   "outputs": [
    {
     "data": {
      "text/plain": [
       "['ProductModelName',\n",
       " 'ProductCategory',\n",
       " 'ProductPrice',\n",
       " 'RetailerName',\n",
       " 'RetailerZip',\n",
       " 'RetailerCity',\n",
       " 'RetailerState',\n",
       " 'RetailerOnSale',\n",
       " 'ManufacturerName',\n",
       " 'ManufacturerRebate',\n",
       " 'UserID',\n",
       " 'UserAge',\n",
       " 'UserGender',\n",
       " 'UserOccupation',\n",
       " 'ReviewRating',\n",
       " 'ReviewDate',\n",
       " 'ReviewText']"
      ]
     },
     "execution_count": 16,
     "metadata": {},
     "output_type": "execute_result"
    }
   ],
   "source": [
    "keys"
   ]
  },
  {
   "cell_type": "code",
   "execution_count": 17,
   "metadata": {
    "collapsed": false,
    "deletable": true,
    "editable": true
   },
   "outputs": [],
   "source": [
    "# 8. Create List of Doctionaries for the reviews\n",
    "\n",
    "number_of_rows = len(partitioned_list_of_reviews)\n",
    "number_of_cols = len(keys)\n",
    "\n",
    "list_of_reviews_dictionaries = []\n",
    "\n",
    "for row in xrange(number_of_rows):\n",
    "        review_dict = {}\n",
    "        for col in xrange(number_of_cols):\n",
    "                review_dict[keys[col]] = partitioned_list_of_reviews[row][col][1]\n",
    "        list_of_reviews_dictionaries.append(review_dict)\n",
    "        \n"
   ]
  },
  {
   "cell_type": "code",
   "execution_count": 18,
   "metadata": {
    "collapsed": false,
    "deletable": true,
    "editable": true
   },
   "outputs": [
    {
     "data": {
      "text/plain": [
       "[{'ManufacturerName': 'Samsung',\n",
       "  'ManufacturerRebate': 'No',\n",
       "  'ProductCategory': 'TV',\n",
       "  'ProductModelName': 'Samsung TV 60 LED',\n",
       "  'ProductPrice': '1100',\n",
       "  'RetailerCity': 'San Francisco',\n",
       "  'RetailerName': 'Walmart',\n",
       "  'RetailerOnSale': 'Yes',\n",
       "  'RetailerState': 'CA',\n",
       "  'RetailerZip': '94102',\n",
       "  'ReviewDate': '12/14/2014',\n",
       "  'ReviewRating': '5',\n",
       "  'ReviewText': 'Great staff with the sale!! They did an extraordinary job and will be shopping there again! I love Samsung!',\n",
       "  'UserAge': '37',\n",
       "  'UserGender': 'Female',\n",
       "  'UserID': 'hueii17',\n",
       "  'UserOccupation': 'Manager'},\n",
       " {'ManufacturerName': 'Samsung',\n",
       "  'ManufacturerRebate': 'No',\n",
       "  'ProductCategory': 'Smart Phone',\n",
       "  'ProductModelName': 'Galaxy S4',\n",
       "  'ProductPrice': '402',\n",
       "  'RetailerCity': 'Atlanta',\n",
       "  'RetailerName': 'Frys',\n",
       "  'RetailerOnSale': 'No',\n",
       "  'RetailerState': 'GA',\n",
       "  'RetailerZip': '30134',\n",
       "  'ReviewDate': '07/09/14',\n",
       "  'ReviewRating': '5',\n",
       "  'ReviewText': \" really like this Samsung Galaxy 4. i don't use a  computer any more\",\n",
       "  'UserAge': '26',\n",
       "  'UserGender': 'Male',\n",
       "  'UserID': 'ttltk97',\n",
       "  'UserOccupation': 'Secratary'},\n",
       " {'ManufacturerName': 'Samsung',\n",
       "  'ManufacturerRebate': 'Yes',\n",
       "  'ProductCategory': 'TV',\n",
       "  'ProductModelName': 'Samsung TV 65 Curved',\n",
       "  'ProductPrice': '1899',\n",
       "  'RetailerCity': 'Naperville',\n",
       "  'RetailerName': 'Bestbuy',\n",
       "  'RetailerOnSale': 'Yes',\n",
       "  'RetailerState': 'IL',\n",
       "  'RetailerZip': '60585',\n",
       "  'ReviewDate': '12/05/14',\n",
       "  'ReviewRating': '4',\n",
       "  'ReviewText': 'The TV is great with superb picture quality.',\n",
       "  'UserAge': '51',\n",
       "  'UserGender': 'Male',\n",
       "  'UserID': 'xzwef40',\n",
       "  'UserOccupation': 'Unknown'}]"
      ]
     },
     "execution_count": 18,
     "metadata": {},
     "output_type": "execute_result"
    }
   ],
   "source": [
    "# Sanity Test\n",
    "# Verify you got healthy data by printing 3 reviews from teh doctionary\n",
    "\n",
    "list_of_reviews_dictionaries[:3]"
   ]
  },
  {
   "cell_type": "code",
   "execution_count": 19,
   "metadata": {
    "collapsed": false,
    "deletable": true,
    "editable": true
   },
   "outputs": [
    {
     "name": "stdout",
     "output_type": "stream",
     "text": [
      "2000\n"
     ]
    }
   ],
   "source": [
    "# Sanity Test\n",
    "# Verify you got the right number of reviews\n",
    "print number_of_rows"
   ]
  },
  {
   "cell_type": "code",
   "execution_count": 20,
   "metadata": {
    "collapsed": false,
    "deletable": true,
    "editable": true
   },
   "outputs": [
    {
     "name": "stdout",
     "output_type": "stream",
     "text": [
      "17\n"
     ]
    }
   ],
   "source": [
    "# Sanity Test\n",
    "# Verify you got right number of fields for reviews\n",
    "print number_of_cols"
   ]
  },
  {
   "cell_type": "code",
   "execution_count": 21,
   "metadata": {
    "collapsed": false,
    "deletable": true,
    "editable": true
   },
   "outputs": [
    {
     "data": {
      "text/plain": [
       "2000"
      ]
     },
     "execution_count": 21,
     "metadata": {},
     "output_type": "execute_result"
    }
   ],
   "source": [
    "# Sanity Test\n",
    "# Verify you got the right number of reviews in the list of dictionaries\n",
    "len(list_of_reviews_dictionaries)"
   ]
  },
  {
   "cell_type": "code",
   "execution_count": 22,
   "metadata": {
    "collapsed": false,
    "deletable": true,
    "editable": true
   },
   "outputs": [],
   "source": [
    "# 9. Import pymongo package\n",
    "\n",
    "from pymongo import MongoClient\n",
    "#db.reviews.delete_many({})"
   ]
  },
  {
   "cell_type": "code",
   "execution_count": 23,
   "metadata": {
    "collapsed": false,
    "deletable": true,
    "editable": true
   },
   "outputs": [],
   "source": [
    "# 10. Connect to MongoDB running instance\n",
    "\n",
    "# MongoClient defaults to the MongoDB instance that runs on the localhost interface on port 27017\n",
    "\n",
    "client = MongoClient()"
   ]
  },
  {
   "cell_type": "code",
   "execution_count": 24,
   "metadata": {
    "collapsed": false,
    "deletable": true,
    "editable": true
   },
   "outputs": [],
   "source": [
    "# You can specify a complete MongoDB URI to define the connection:\n",
    "\n",
    "# client = MongoClient(\"mongodb://localhost:27017\")"
   ]
  },
  {
   "cell_type": "code",
   "execution_count": 25,
   "metadata": {
    "collapsed": false,
    "deletable": true,
    "editable": true
   },
   "outputs": [],
   "source": [
    "# Databases hold groups of logically related collections. \n",
    "\n",
    "# MongoDB creates new databases implicitly upon their first use\n"
   ]
  },
  {
   "cell_type": "code",
   "execution_count": 26,
   "metadata": {
    "collapsed": false,
    "deletable": true,
    "editable": true
   },
   "outputs": [],
   "source": [
    "# 11. Create your database\n",
    "\n",
    "db = client.reviews"
   ]
  },
  {
   "cell_type": "raw",
   "metadata": {
    "deletable": true,
    "editable": true
   },
   "source": [
    "A collection is a group of documents stored in MongoDB, and can be thought of as roughly the equivalent of a table in a relational database. Getting a collection in PyMongo works the same as getting a database:\n"
   ]
  },
  {
   "cell_type": "raw",
   "metadata": {
    "deletable": true,
    "editable": true
   },
   "source": [
    "Data in MongoDB is represented (and stored) using JSON-style documents. In PyMongo we use dictionaries to represent documents."
   ]
  },
  {
   "cell_type": "code",
   "execution_count": 27,
   "metadata": {
    "collapsed": false,
    "deletable": true,
    "editable": true
   },
   "outputs": [],
   "source": [
    "reviews = db['reviews']"
   ]
  },
  {
   "cell_type": "code",
   "execution_count": 66,
   "metadata": {
    "collapsed": false,
    "deletable": true,
    "editable": true
   },
   "outputs": [
    {
     "data": {
      "text/plain": [
       "{'ManufacturerName': 'Samsung',\n",
       " 'ManufacturerRebate': 'No',\n",
       " 'ProductCategory': 'TV',\n",
       " 'ProductModelName': 'Samsung TV 60 LED',\n",
       " 'ProductPrice': '1100',\n",
       " 'RetailerCity': 'San Francisco',\n",
       " 'RetailerName': 'Walmart',\n",
       " 'RetailerOnSale': 'Yes',\n",
       " 'RetailerState': 'CA',\n",
       " 'RetailerZip': '94102',\n",
       " 'ReviewDate': '12/14/2014',\n",
       " 'ReviewRating': '5',\n",
       " 'ReviewText': 'Great staff with the sale!! They did an extraordinary job and will be shopping there again! I love Samsung!',\n",
       " 'UserAge': '37',\n",
       " 'UserGender': 'Female',\n",
       " 'UserID': 'hueii17',\n",
       " 'UserOccupation': 'Manager',\n",
       " '_id': ObjectId('592f27286cb48027a4cbf151')}"
      ]
     },
     "execution_count": 66,
     "metadata": {},
     "output_type": "execute_result"
    }
   ],
   "source": [
    "list_of_reviews_dictionaries[0]"
   ]
  },
  {
   "cell_type": "raw",
   "metadata": {
    "deletable": true,
    "editable": true
   },
   "source": [
    "To insert a document into a collection we can use the insert() method:"
   ]
  },
  {
   "cell_type": "code",
   "execution_count": 29,
   "metadata": {
    "collapsed": false,
    "deletable": true,
    "editable": true
   },
   "outputs": [
    {
     "name": "stderr",
     "output_type": "stream",
     "text": [
      "C:\\Users\\yefimovich\\AppData\\Local\\Enthought\\Canopy\\User\\lib\\site-packages\\ipykernel\\__main__.py:3: DeprecationWarning: insert is deprecated. Use insert_one or insert_many instead.\n",
      "  app.launch_new_instance()\n"
     ]
    }
   ],
   "source": [
    "# review_id = reviews.insert(list_of_reviews_dictionaries[1])\n",
    "for review in list_of_reviews_dictionaries:\n",
    "    review_id = reviews.insert(review)"
   ]
  },
  {
   "cell_type": "raw",
   "metadata": {
    "deletable": true,
    "editable": true
   },
   "source": [
    "After inserting the first document, the reviews collection has actually been created on the server. We can verify this by listing all of the collections in our database"
   ]
  },
  {
   "cell_type": "code",
   "execution_count": 30,
   "metadata": {
    "collapsed": false,
    "deletable": true,
    "editable": true
   },
   "outputs": [
    {
     "data": {
      "text/plain": [
       "[u'reviews']"
      ]
     },
     "execution_count": 30,
     "metadata": {},
     "output_type": "execute_result"
    }
   ],
   "source": [
    "db.collection_names(include_system_collections=False)"
   ]
  },
  {
   "cell_type": "raw",
   "metadata": {
    "deletable": true,
    "editable": true
   },
   "source": [
    "The most basic type of query that can be performed in MongoDB is find_one(). This method returns a single document matching a query (or None if there are no matches). It is useful when you know there is only one matching document, or are only interested in the first match. Here we use find_one() to get the first document from the reviews collection:"
   ]
  },
  {
   "cell_type": "code",
   "execution_count": 31,
   "metadata": {
    "collapsed": false,
    "deletable": true,
    "editable": true
   },
   "outputs": [
    {
     "data": {
      "text/plain": [
       "{u'ManufacturerName': u'Samsung',\n",
       " u'ManufacturerRebate': u'No',\n",
       " u'ProductCategory': u'TV',\n",
       " u'ProductModelName': u'Samsung TV 60 LED',\n",
       " u'ProductPrice': u'1100',\n",
       " u'RetailerCity': u'San Francisco',\n",
       " u'RetailerName': u'Walmart',\n",
       " u'RetailerOnSale': u'Yes',\n",
       " u'RetailerState': u'CA',\n",
       " u'RetailerZip': u'94102',\n",
       " u'ReviewDate': u'12/14/2014',\n",
       " u'ReviewRating': u'5',\n",
       " u'ReviewText': u'Great staff with the sale!! They did an extraordinary job and will be shopping there again! I love Samsung!',\n",
       " u'UserAge': u'37',\n",
       " u'UserGender': u'Female',\n",
       " u'UserID': u'hueii17',\n",
       " u'UserOccupation': u'Manager',\n",
       " u'_id': ObjectId('592f27286cb48027a4cbf151')}"
      ]
     },
     "execution_count": 31,
     "metadata": {},
     "output_type": "execute_result"
    }
   ],
   "source": [
    "reviews.find_one()"
   ]
  },
  {
   "cell_type": "raw",
   "metadata": {
    "deletable": true,
    "editable": true
   },
   "source": [
    "The result is a dictionary matching the one that we inserted previously."
   ]
  },
  {
   "cell_type": "raw",
   "metadata": {
    "deletable": true,
    "editable": true
   },
   "source": [
    "The returned document contains an \"_id\", which was automatically added on insert. "
   ]
  },
  {
   "cell_type": "raw",
   "metadata": {
    "deletable": true,
    "editable": true
   },
   "source": [
    "find_one() also supports querying on specific elements that the resulting document must match. To limit our results to a document with retailer “Bestbuy” we do:"
   ]
  },
  {
   "cell_type": "code",
   "execution_count": 32,
   "metadata": {
    "collapsed": false,
    "deletable": true,
    "editable": true
   },
   "outputs": [
    {
     "data": {
      "text/plain": [
       "{u'ManufacturerName': u'Samsung',\n",
       " u'ManufacturerRebate': u'Yes',\n",
       " u'ProductCategory': u'TV',\n",
       " u'ProductModelName': u'Samsung TV 65 Curved',\n",
       " u'ProductPrice': u'1899',\n",
       " u'RetailerCity': u'Naperville',\n",
       " u'RetailerName': u'Bestbuy',\n",
       " u'RetailerOnSale': u'Yes',\n",
       " u'RetailerState': u'IL',\n",
       " u'RetailerZip': u'60585',\n",
       " u'ReviewDate': u'12/05/14',\n",
       " u'ReviewRating': u'4',\n",
       " u'ReviewText': u'The TV is great with superb picture quality.',\n",
       " u'UserAge': u'51',\n",
       " u'UserGender': u'Male',\n",
       " u'UserID': u'xzwef40',\n",
       " u'UserOccupation': u'Unknown',\n",
       " u'_id': ObjectId('592f27286cb48027a4cbf153')}"
      ]
     },
     "execution_count": 32,
     "metadata": {},
     "output_type": "execute_result"
    }
   ],
   "source": [
    "reviews.find_one({\"RetailerName\": \"Bestbuy\"})"
   ]
  },
  {
   "cell_type": "code",
   "execution_count": 33,
   "metadata": {
    "collapsed": false,
    "deletable": true,
    "editable": true
   },
   "outputs": [
    {
     "data": {
      "text/plain": [
       "ObjectId('592f27286cb48027a4cbf920')"
      ]
     },
     "execution_count": 33,
     "metadata": {},
     "output_type": "execute_result"
    }
   ],
   "source": [
    "review_id"
   ]
  },
  {
   "cell_type": "raw",
   "metadata": {
    "deletable": true,
    "editable": true
   },
   "source": [
    "We can also find a post by its _id, which in our example is an ObjectId:"
   ]
  },
  {
   "cell_type": "code",
   "execution_count": 34,
   "metadata": {
    "collapsed": false,
    "deletable": true,
    "editable": true
   },
   "outputs": [
    {
     "data": {
      "text/plain": [
       "{u'ManufacturerName': u'Dell',\n",
       " u'ManufacturerRebate': u'No',\n",
       " u'ProductCategory': u'Laptop',\n",
       " u'ProductModelName': u'Dell Ispiron 15.6',\n",
       " u'ProductPrice': u'349',\n",
       " u'RetailerCity': u'Los Angeles',\n",
       " u'RetailerName': u'Walmart',\n",
       " u'RetailerOnSale': u'Yes',\n",
       " u'RetailerState': u'CA',\n",
       " u'RetailerZip': u'90012',\n",
       " u'ReviewDate': u'5/15/2013',\n",
       " u'ReviewRating': u'5',\n",
       " u'ReviewText': u'Im very much impressed with the make and Performance of this new series ultrabook compared its predecessor',\n",
       " u'UserAge': u'33',\n",
       " u'UserGender': u'Male',\n",
       " u'UserID': u'rehjw30',\n",
       " u'UserOccupation': u'Programmer',\n",
       " u'_id': ObjectId('592f27286cb48027a4cbf920')}"
      ]
     },
     "execution_count": 34,
     "metadata": {},
     "output_type": "execute_result"
    }
   ],
   "source": [
    "reviews.find_one({\"_id\": review_id})"
   ]
  },
  {
   "cell_type": "raw",
   "metadata": {
    "deletable": true,
    "editable": true
   },
   "source": [
    "To get more than a single document as the result of a query we use the find() method. find() returns a Cursor instance, which allows us to iterate over all matching documents. For example, we can iterate over every document in the reviews collection:\n"
   ]
  },
  {
   "cell_type": "code",
   "execution_count": 35,
   "metadata": {
    "collapsed": false,
    "deletable": true,
    "editable": true
   },
   "outputs": [],
   "source": [
    "# uncomment the following lines if you want to print the 2000 reviews in the database\n",
    "\n",
    "#for review in reviews.find():\n",
    "#    print review"
   ]
  },
  {
   "cell_type": "code",
   "execution_count": 36,
   "metadata": {
    "collapsed": false,
    "deletable": true,
    "editable": true
   },
   "outputs": [
    {
     "data": {
      "text/plain": [
       "pymongo.collection.Collection"
      ]
     },
     "execution_count": 36,
     "metadata": {},
     "output_type": "execute_result"
    }
   ],
   "source": [
    "type(reviews)"
   ]
  },
  {
   "cell_type": "code",
   "execution_count": 37,
   "metadata": {
    "collapsed": false,
    "deletable": true,
    "editable": true
   },
   "outputs": [
    {
     "data": {
      "text/plain": [
       "{u'ManufacturerName': u'Samsung',\n",
       " u'ManufacturerRebate': u'Yes',\n",
       " u'ProductCategory': u'TV',\n",
       " u'ProductModelName': u'Samsung TV 65 Curved',\n",
       " u'ProductPrice': u'1899',\n",
       " u'RetailerCity': u'Naperville',\n",
       " u'RetailerName': u'Bestbuy',\n",
       " u'RetailerOnSale': u'Yes',\n",
       " u'RetailerState': u'IL',\n",
       " u'RetailerZip': u'60585',\n",
       " u'ReviewDate': u'12/05/14',\n",
       " u'ReviewRating': u'4',\n",
       " u'ReviewText': u'The TV is great with superb picture quality.',\n",
       " u'UserAge': u'51',\n",
       " u'UserGender': u'Male',\n",
       " u'UserID': u'xzwef40',\n",
       " u'UserOccupation': u'Unknown',\n",
       " u'_id': ObjectId('592f27286cb48027a4cbf153')}"
      ]
     },
     "execution_count": 37,
     "metadata": {},
     "output_type": "execute_result"
    }
   ],
   "source": [
    "# uncomment the following lines if you want to print ALL of Bestbuy reviews in the database\n",
    "\n",
    "# for review in reviews.find({\"RetailerName\": \"Bestbuy\"}):\n",
    "#    print review\n",
    "\n",
    "reviews.find_one({\"RetailerName\": \"Bestbuy\"})\n"
   ]
  },
  {
   "cell_type": "raw",
   "metadata": {
    "deletable": true,
    "editable": true
   },
   "source": [
    "If we just want to know how many documents match a query we can perform a count() operation instead of a full query. We can get a count of all of the documents in a collection:\n"
   ]
  },
  {
   "cell_type": "code",
   "execution_count": 38,
   "metadata": {
    "collapsed": false,
    "deletable": true,
    "editable": true
   },
   "outputs": [
    {
     "data": {
      "text/plain": [
       "2000"
      ]
     },
     "execution_count": 38,
     "metadata": {},
     "output_type": "execute_result"
    }
   ],
   "source": [
    "reviews.count()"
   ]
  },
  {
   "cell_type": "code",
   "execution_count": 39,
   "metadata": {
    "collapsed": false,
    "deletable": true,
    "editable": true
   },
   "outputs": [
    {
     "data": {
      "text/plain": [
       "287"
      ]
     },
     "execution_count": 39,
     "metadata": {},
     "output_type": "execute_result"
    }
   ],
   "source": [
    "reviews.find({\"RetailerName\": \"Bestbuy\"}).count()"
   ]
  },
  {
   "cell_type": "raw",
   "metadata": {
    "deletable": true,
    "editable": true
   },
   "source": [
    "To remove all documents from a collection, pass an empty query document {} to the remove() method. The remove() method does not remove the indexes."
   ]
  },
  {
   "cell_type": "code",
   "execution_count": 40,
   "metadata": {
    "collapsed": false,
    "deletable": true,
    "editable": true
   },
   "outputs": [],
   "source": [
    "# Clean up the database while you are testing your code\n",
    "# db.reviews.remove({})"
   ]
  },
  {
   "cell_type": "code",
   "execution_count": 41,
   "metadata": {
    "collapsed": false,
    "deletable": true,
    "editable": true
   },
   "outputs": [
    {
     "data": {
      "text/plain": [
       "2000"
      ]
     },
     "execution_count": 41,
     "metadata": {},
     "output_type": "execute_result"
    }
   ],
   "source": [
    "# sanity test\n",
    "reviews.count()"
   ]
  },
  {
   "cell_type": "raw",
   "metadata": {
    "deletable": true,
    "editable": true
   },
   "source": [
    "Couple of status commands about the database/collection that  you could use"
   ]
  },
  {
   "cell_type": "code",
   "execution_count": 42,
   "metadata": {
    "collapsed": false,
    "deletable": true,
    "editable": true
   },
   "outputs": [
    {
     "data": {
      "text/plain": [
       "{u'avgObjSize': 503.5435,\n",
       " u'collections': 1,\n",
       " u'dataSize': 1007087.0,\n",
       " u'db': u'reviews',\n",
       " u'indexSize': 36864.0,\n",
       " u'indexes': 1,\n",
       " u'numExtents': 0,\n",
       " u'objects': 2000,\n",
       " u'ok': 1.0,\n",
       " u'storageSize': 454656.0,\n",
       " u'views': 0}"
      ]
     },
     "execution_count": 42,
     "metadata": {},
     "output_type": "execute_result"
    }
   ],
   "source": [
    "db.command({'dbstats': 1})"
   ]
  },
  {
   "cell_type": "code",
   "execution_count": 43,
   "metadata": {
    "collapsed": false,
    "deletable": true,
    "editable": true
   },
   "outputs": [
    {
     "data": {
      "text/plain": [
       "{u'avgObjSize': 503,\n",
       " u'capped': False,\n",
       " u'count': 2000,\n",
       " u'indexDetails': {u'_id_': {u'LSM': {u'bloom filter false positives': 0,\n",
       "    u'bloom filter hits': 0,\n",
       "    u'bloom filter misses': 0,\n",
       "    u'bloom filter pages evicted from cache': 0,\n",
       "    u'bloom filter pages read into cache': 0,\n",
       "    u'bloom filters in the LSM tree': 0,\n",
       "    u'chunks in the LSM tree': 0,\n",
       "    u'highest merge generation in the LSM tree': 0,\n",
       "    u'queries that could have benefited from a Bloom filter that did not exist': 0,\n",
       "    u'sleep for LSM checkpoint throttle': 0,\n",
       "    u'sleep for LSM merge throttle': 0,\n",
       "    u'total size of bloom filters': 0},\n",
       "   u'block-manager': {u'allocations requiring file extension': 0,\n",
       "    u'blocks allocated': 0,\n",
       "    u'blocks freed': 0,\n",
       "    u'checkpoint size': 16384,\n",
       "    u'file allocation unit size': 4096,\n",
       "    u'file bytes available for reuse': 4096,\n",
       "    u'file magic number': 120897,\n",
       "    u'file major version number': 1,\n",
       "    u'file size in bytes': 36864,\n",
       "    u'minor version number': 0},\n",
       "   u'btree': {u'btree checkpoint generation': 0,\n",
       "    u'column-store fixed-size leaf pages': 0,\n",
       "    u'column-store internal pages': 0,\n",
       "    u'column-store variable-size RLE encoded values': 0,\n",
       "    u'column-store variable-size deleted values': 0,\n",
       "    u'column-store variable-size leaf pages': 0,\n",
       "    u'fixed-record size': 0,\n",
       "    u'maximum internal page key size': 1474,\n",
       "    u'maximum internal page size': 16384,\n",
       "    u'maximum leaf page key size': 1474,\n",
       "    u'maximum leaf page size': 16384,\n",
       "    u'maximum leaf page value size': 7372,\n",
       "    u'maximum tree depth': 3,\n",
       "    u'number of key/value pairs': 0,\n",
       "    u'overflow pages': 0,\n",
       "    u'pages rewritten by compaction': 0,\n",
       "    u'row-store internal pages': 0,\n",
       "    u'row-store leaf pages': 0},\n",
       "   u'cache': {u'bytes currently in the cache': 347818,\n",
       "    u'bytes read into cache': 16131,\n",
       "    u'bytes written from cache': 0,\n",
       "    u'checkpoint blocked page eviction': 0,\n",
       "    u'data source pages selected for eviction unable to be evicted': 0,\n",
       "    u'hazard pointer blocked page eviction': 0,\n",
       "    u'in-memory page passed criteria to be split': 0,\n",
       "    u'in-memory page splits': 0,\n",
       "    u'internal pages evicted': 0,\n",
       "    u'internal pages split during eviction': 0,\n",
       "    u'leaf pages split during eviction': 0,\n",
       "    u'modified pages evicted': 0,\n",
       "    u'overflow pages read into cache': 0,\n",
       "    u'overflow values cached in memory': 0,\n",
       "    u'page split during eviction deepened the tree': 0,\n",
       "    u'page written requiring lookaside records': 0,\n",
       "    u'pages read into cache': 2,\n",
       "    u'pages read into cache requiring lookaside entries': 0,\n",
       "    u'pages requested from the cache': 4001,\n",
       "    u'pages written from cache': 0,\n",
       "    u'pages written requiring in-memory restoration': 0,\n",
       "    u'tracked dirty bytes in the cache': 343230,\n",
       "    u'unmodified pages evicted': 0},\n",
       "   u'cache_walk': {u'Average difference between current eviction generation when the page was last considered': 0,\n",
       "    u'Average on-disk page image size seen': 0,\n",
       "    u'Clean pages currently in cache': 0,\n",
       "    u'Current eviction generation': 0,\n",
       "    u'Dirty pages currently in cache': 0,\n",
       "    u'Entries in the root page': 0,\n",
       "    u'Internal pages currently in cache': 0,\n",
       "    u'Leaf pages currently in cache': 0,\n",
       "    u'Maximum difference between current eviction generation when the page was last considered': 0,\n",
       "    u'Maximum page size seen': 0,\n",
       "    u'Minimum on-disk page image size seen': 0,\n",
       "    u'On-disk page image sizes smaller than a single allocation unit': 0,\n",
       "    u'Pages created in memory and never written': 0,\n",
       "    u'Pages currently queued for eviction': 0,\n",
       "    u'Pages that could not be queued for eviction': 0,\n",
       "    u'Refs skipped during cache traversal': 0,\n",
       "    u'Size of the root page': 0,\n",
       "    u'Total number of pages currently in cache': 0},\n",
       "   u'compression': {u'compressed pages read': 0,\n",
       "    u'compressed pages written': 0,\n",
       "    u'page written failed to compress': 0,\n",
       "    u'page written was too small to compress': 0,\n",
       "    u'raw compression call failed, additional data available': 0,\n",
       "    u'raw compression call failed, no additional data available': 0,\n",
       "    u'raw compression call succeeded': 0},\n",
       "   u'creationString': u'access_pattern_hint=none,allocation_size=4KB,app_metadata=(formatVersion=8,infoObj={ \"v\" : 2, \"key\" : { \"_id\" : 1 }, \"name\" : \"_id_\", \"ns\" : \"reviews.reviews\" }),block_allocation=best,block_compressor=,cache_resident=false,checksum=on,colgroups=,collator=,columns=,dictionary=0,encryption=(keyid=,name=),exclusive=false,extractor=,format=btree,huffman_key=,huffman_value=,ignore_in_memory_cache_size=false,immutable=false,internal_item_max=0,internal_key_max=0,internal_key_truncate=true,internal_page_max=16k,key_format=u,key_gap=10,leaf_item_max=0,leaf_key_max=0,leaf_page_max=16k,leaf_value_max=0,log=(enabled=true),lsm=(auto_throttle=true,bloom=true,bloom_bit_count=16,bloom_config=,bloom_hash_count=8,bloom_oldest=false,chunk_count_limit=0,chunk_max=5GB,chunk_size=10MB,merge_max=15,merge_min=0),memory_page_max=5MB,os_cache_dirty_max=0,os_cache_max=0,prefix_compression=true,prefix_compression_min=4,source=,split_deepen_min_child=0,split_deepen_per_child=0,split_pct=90,type=file,value_format=u',\n",
       "   u'cursor': {u'bulk-loaded cursor-insert calls': 0,\n",
       "    u'create calls': 2,\n",
       "    u'cursor-insert key and value bytes inserted': 34000,\n",
       "    u'cursor-remove key bytes removed': 28000,\n",
       "    u'cursor-update value bytes updated': 0,\n",
       "    u'insert calls': 2000,\n",
       "    u'next calls': 0,\n",
       "    u'prev calls': 0,\n",
       "    u'remove calls': 2000,\n",
       "    u'reset calls': 4001,\n",
       "    u'restarted searches': 0,\n",
       "    u'search calls': 1,\n",
       "    u'search near calls': 0,\n",
       "    u'truncate calls': 0,\n",
       "    u'update calls': 0},\n",
       "   u'metadata': {u'formatVersion': 8,\n",
       "    u'infoObj': u'{ \"v\" : 2, \"key\" : { \"_id\" : 1 }, \"name\" : \"_id_\", \"ns\" : \"reviews.reviews\" }'},\n",
       "   u'reconciliation': {u'dictionary matches': 0,\n",
       "    u'fast-path pages deleted': 0,\n",
       "    u'internal page key bytes discarded using suffix compression': 0,\n",
       "    u'internal page multi-block writes': 0,\n",
       "    u'internal-page overflow keys': 0,\n",
       "    u'leaf page key bytes discarded using prefix compression': 0,\n",
       "    u'leaf page multi-block writes': 0,\n",
       "    u'leaf-page overflow keys': 0,\n",
       "    u'maximum blocks required for a page': 0,\n",
       "    u'overflow values written': 0,\n",
       "    u'page checksum matches': 0,\n",
       "    u'page reconciliation calls': 0,\n",
       "    u'page reconciliation calls for eviction': 0,\n",
       "    u'pages deleted': 0},\n",
       "   u'session': {u'object compaction': 0, u'open cursor count': 2},\n",
       "   u'transaction': {u'update conflicts': 0},\n",
       "   u'type': u'file',\n",
       "   u'uri': u'statistics:table:index-6-7919695551620901197'}},\n",
       " u'indexSizes': {u'_id_': 36864},\n",
       " u'nindexes': 1,\n",
       " u'ns': u'reviews.reviews',\n",
       " u'ok': 1.0,\n",
       " u'size': 1007087,\n",
       " u'storageSize': 454656,\n",
       " u'totalIndexSize': 36864,\n",
       " u'wiredTiger': {u'LSM': {u'bloom filter false positives': 0,\n",
       "   u'bloom filter hits': 0,\n",
       "   u'bloom filter misses': 0,\n",
       "   u'bloom filter pages evicted from cache': 0,\n",
       "   u'bloom filter pages read into cache': 0,\n",
       "   u'bloom filters in the LSM tree': 0,\n",
       "   u'chunks in the LSM tree': 0,\n",
       "   u'highest merge generation in the LSM tree': 0,\n",
       "   u'queries that could have benefited from a Bloom filter that did not exist': 0,\n",
       "   u'sleep for LSM checkpoint throttle': 0,\n",
       "   u'sleep for LSM merge throttle': 0,\n",
       "   u'total size of bloom filters': 0},\n",
       "  u'block-manager': {u'allocations requiring file extension': 0,\n",
       "   u'blocks allocated': 0,\n",
       "   u'blocks freed': 35,\n",
       "   u'checkpoint size': 434176,\n",
       "   u'file allocation unit size': 4096,\n",
       "   u'file bytes available for reuse': 4096,\n",
       "   u'file magic number': 120897,\n",
       "   u'file major version number': 1,\n",
       "   u'file size in bytes': 454656,\n",
       "   u'minor version number': 0},\n",
       "  u'btree': {u'btree checkpoint generation': 2,\n",
       "   u'column-store fixed-size leaf pages': 0,\n",
       "   u'column-store internal pages': 0,\n",
       "   u'column-store variable-size RLE encoded values': 0,\n",
       "   u'column-store variable-size deleted values': 0,\n",
       "   u'column-store variable-size leaf pages': 0,\n",
       "   u'fixed-record size': 0,\n",
       "   u'maximum internal page key size': 368,\n",
       "   u'maximum internal page size': 4096,\n",
       "   u'maximum leaf page key size': 2867,\n",
       "   u'maximum leaf page size': 32768,\n",
       "   u'maximum leaf page value size': 67108864,\n",
       "   u'maximum tree depth': 3,\n",
       "   u'number of key/value pairs': 0,\n",
       "   u'overflow pages': 0,\n",
       "   u'pages rewritten by compaction': 0,\n",
       "   u'row-store internal pages': 0,\n",
       "   u'row-store leaf pages': 0},\n",
       "  u'cache': {u'bytes currently in the cache': 1260978,\n",
       "   u'bytes read into cache': 1021011,\n",
       "   u'bytes written from cache': 0,\n",
       "   u'checkpoint blocked page eviction': 0,\n",
       "   u'data source pages selected for eviction unable to be evicted': 0,\n",
       "   u'hazard pointer blocked page eviction': 0,\n",
       "   u'in-memory page passed criteria to be split': 0,\n",
       "   u'in-memory page splits': 0,\n",
       "   u'internal pages evicted': 0,\n",
       "   u'internal pages split during eviction': 0,\n",
       "   u'leaf pages split during eviction': 0,\n",
       "   u'modified pages evicted': 35,\n",
       "   u'overflow pages read into cache': 0,\n",
       "   u'overflow values cached in memory': 0,\n",
       "   u'page split during eviction deepened the tree': 0,\n",
       "   u'page written requiring lookaside records': 0,\n",
       "   u'pages read into cache': 37,\n",
       "   u'pages read into cache requiring lookaside entries': 0,\n",
       "   u'pages requested from the cache': 8131,\n",
       "   u'pages written from cache': 0,\n",
       "   u'pages written requiring in-memory restoration': 0,\n",
       "   u'tracked dirty bytes in the cache': 1260978,\n",
       "   u'unmodified pages evicted': 0},\n",
       "  u'cache_walk': {u'Average difference between current eviction generation when the page was last considered': 0,\n",
       "   u'Average on-disk page image size seen': 0,\n",
       "   u'Clean pages currently in cache': 0,\n",
       "   u'Current eviction generation': 0,\n",
       "   u'Dirty pages currently in cache': 0,\n",
       "   u'Entries in the root page': 0,\n",
       "   u'Internal pages currently in cache': 0,\n",
       "   u'Leaf pages currently in cache': 0,\n",
       "   u'Maximum difference between current eviction generation when the page was last considered': 0,\n",
       "   u'Maximum page size seen': 0,\n",
       "   u'Minimum on-disk page image size seen': 0,\n",
       "   u'On-disk page image sizes smaller than a single allocation unit': 0,\n",
       "   u'Pages created in memory and never written': 0,\n",
       "   u'Pages currently queued for eviction': 0,\n",
       "   u'Pages that could not be queued for eviction': 0,\n",
       "   u'Refs skipped during cache traversal': 0,\n",
       "   u'Size of the root page': 0,\n",
       "   u'Total number of pages currently in cache': 0},\n",
       "  u'compression': {u'compressed pages read': 36,\n",
       "   u'compressed pages written': 0,\n",
       "   u'page written failed to compress': 0,\n",
       "   u'page written was too small to compress': 0,\n",
       "   u'raw compression call failed, additional data available': 0,\n",
       "   u'raw compression call failed, no additional data available': 0,\n",
       "   u'raw compression call succeeded': 0},\n",
       "  u'creationString': u'access_pattern_hint=none,allocation_size=4KB,app_metadata=(formatVersion=1),block_allocation=best,block_compressor=snappy,cache_resident=false,checksum=on,colgroups=,collator=,columns=,dictionary=0,encryption=(keyid=,name=),exclusive=false,extractor=,format=btree,huffman_key=,huffman_value=,ignore_in_memory_cache_size=false,immutable=false,internal_item_max=0,internal_key_max=0,internal_key_truncate=true,internal_page_max=4KB,key_format=q,key_gap=10,leaf_item_max=0,leaf_key_max=0,leaf_page_max=32KB,leaf_value_max=64MB,log=(enabled=true),lsm=(auto_throttle=true,bloom=true,bloom_bit_count=16,bloom_config=,bloom_hash_count=8,bloom_oldest=false,chunk_count_limit=0,chunk_max=5GB,chunk_size=10MB,merge_max=15,merge_min=0),memory_page_max=10m,os_cache_dirty_max=0,os_cache_max=0,prefix_compression=false,prefix_compression_min=4,source=,split_deepen_min_child=0,split_deepen_per_child=0,split_pct=90,type=file,value_format=u',\n",
       "  u'cursor': {u'bulk-loaded cursor-insert calls': 0,\n",
       "   u'create calls': 3,\n",
       "   u'cursor-insert key and value bytes inserted': 1012576,\n",
       "   u'cursor-remove key bytes removed': 4000,\n",
       "   u'cursor-update value bytes updated': 0,\n",
       "   u'insert calls': 2000,\n",
       "   u'next calls': 4025,\n",
       "   u'prev calls': 2,\n",
       "   u'remove calls': 2000,\n",
       "   u'reset calls': 8038,\n",
       "   u'restarted searches': 0,\n",
       "   u'search calls': 4001,\n",
       "   u'search near calls': 2031,\n",
       "   u'truncate calls': 0,\n",
       "   u'update calls': 0},\n",
       "  u'metadata': {u'formatVersion': 1},\n",
       "  u'reconciliation': {u'dictionary matches': 0,\n",
       "   u'fast-path pages deleted': 0,\n",
       "   u'internal page key bytes discarded using suffix compression': 0,\n",
       "   u'internal page multi-block writes': 0,\n",
       "   u'internal-page overflow keys': 0,\n",
       "   u'leaf page key bytes discarded using prefix compression': 0,\n",
       "   u'leaf page multi-block writes': 0,\n",
       "   u'leaf-page overflow keys': 0,\n",
       "   u'maximum blocks required for a page': 0,\n",
       "   u'overflow values written': 0,\n",
       "   u'page checksum matches': 0,\n",
       "   u'page reconciliation calls': 35,\n",
       "   u'page reconciliation calls for eviction': 35,\n",
       "   u'pages deleted': 35},\n",
       "  u'session': {u'object compaction': 0, u'open cursor count': 3},\n",
       "  u'transaction': {u'update conflicts': 0},\n",
       "  u'type': u'file',\n",
       "  u'uri': u'statistics:table:collection-5-7919695551620901197'}}"
      ]
     },
     "execution_count": 43,
     "metadata": {},
     "output_type": "execute_result"
    }
   ],
   "source": [
    "db.command({'collstats': 'reviews'})"
   ]
  },
  {
   "cell_type": "markdown",
   "metadata": {
    "deletable": true,
    "editable": true
   },
   "source": [
    "# +++++++++++++++++++++++++++++++++++++++++++"
   ]
  },
  {
   "cell_type": "markdown",
   "metadata": {
    "deletable": true,
    "editable": true
   },
   "source": [
    "# +++++++++++++++++++++++++++++++++++++++++++"
   ]
  },
  {
   "cell_type": "markdown",
   "metadata": {
    "deletable": true,
    "editable": true
   },
   "source": [
    "# +++++  Now lets execute different queries for our analysis  ++++++"
   ]
  },
  {
   "cell_type": "markdown",
   "metadata": {
    "deletable": true,
    "editable": true
   },
   "source": [
    "# +++++++++++++++++++++++++++++++++++++++++++"
   ]
  },
  {
   "cell_type": "markdown",
   "metadata": {
    "deletable": true,
    "editable": true
   },
   "source": [
    "# +++++++++++++++++++++++++++++++++++++++++++"
   ]
  },
  {
   "cell_type": "markdown",
   "metadata": {
    "deletable": true,
    "editable": true
   },
   "source": [
    "## Query 1: Print the list of reviews for the retailer Target"
   ]
  },
  {
   "cell_type": "code",
   "execution_count": 44,
   "metadata": {
    "collapsed": false,
    "deletable": true,
    "editable": true
   },
   "outputs": [
    {
     "name": "stdout",
     "output_type": "stream",
     "text": [
      "{u'RetailerName': u'Target', u'UserOccupation': u'Programmer', u'ProductPrice': u'969', u'RetailerState': u'IL', u'ManufacturerRebate': u'No', u'ReviewDate': u'5/25/2014', u'ReviewText': u'I was expecting a tablet with limited function but I got a computer in the compact size of a tablet.', u'UserID': u'gmcvd78', u'ProductCategory': u'Tablet', u'ProductModelName': u'Surface 3', u'UserAge': u'32', u'RetailerOnSale': u'No', u'ManufacturerName': u'Microsoft', u'ReviewRating': u'5', u'UserGender': u'Male', u'RetailerZip': u'60585', u'_id': ObjectId('592f27286cb48027a4cbf156'), u'RetailerCity': u'Naperville'}\n",
      "{u'RetailerName': u'Target', u'UserOccupation': u'Student', u'ProductPrice': u'1100', u'RetailerState': u'CA', u'ManufacturerRebate': u'No', u'ReviewDate': u'2/15/2015', u'ReviewText': u'this is a wonderful television and the service was excellent especially the geek squad', u'UserID': u'ujvip28', u'ProductCategory': u'TV', u'ProductModelName': u'Samsung TV 60 LED', u'UserAge': u'59', u'RetailerOnSale': u'Yes', u'ManufacturerName': u'Samsung', u'ReviewRating': u'4', u'UserGender': u'Male', u'RetailerZip': u'94102', u'_id': ObjectId('592f27286cb48027a4cbf157'), u'RetailerCity': u'San Francisco'}\n",
      "{u'RetailerName': u'Target', u'UserOccupation': u'Secratary', u'ProductPrice': u'449', u'RetailerState': u'IL', u'ManufacturerRebate': u'No', u'ReviewDate': u'12/27/2014', u'ReviewText': u' I did not like the keyboard at all - it was difficult to use', u'UserID': u'rhgpc68', u'ProductCategory': u'Laptop', u'ProductModelName': u'Dell Ispiron 15.6', u'UserAge': u'23', u'RetailerOnSale': u'Yes', u'ManufacturerName': u'Dell', u'ReviewRating': u'1', u'UserGender': u'Male', u'RetailerZip': u'60603', u'_id': ObjectId('592f27286cb48027a4cbf160'), u'RetailerCity': u'Chicago'}\n",
      "{u'RetailerName': u'Target', u'UserOccupation': u'Accountant', u'ProductPrice': u'299', u'RetailerState': u'CA', u'ManufacturerRebate': u'No', u'ReviewDate': u'10/08/14', u'ReviewText': u'HP has really produced a top notch product with this notebook', u'UserID': u'mzibo91', u'ProductCategory': u'Laptop', u'ProductModelName': u'HP PAVALION  15.6', u'UserAge': u'43', u'RetailerOnSale': u'Yes', u'ManufacturerName': u'HP', u'ReviewRating': u'5', u'UserGender': u'Female', u'RetailerZip': u'94102', u'_id': ObjectId('592f27286cb48027a4cbf162'), u'RetailerCity': u'San Francisco'}\n",
      "{u'RetailerName': u'Target', u'UserOccupation': u'Accountant', u'ProductPrice': u'299', u'RetailerState': u'MA', u'ManufacturerRebate': u'No', u'ReviewDate': u'8/17/2014', u'ReviewText': u'Runs great and super fast! Lightweight and easy to transport!', u'UserID': u'juiwu65', u'ProductCategory': u'Laptop', u'ProductModelName': u'HP PAVALION  15.6', u'UserAge': u'19', u'RetailerOnSale': u'Yes', u'ManufacturerName': u'HP', u'ReviewRating': u'5', u'UserGender': u'Male', u'RetailerZip': u'2108', u'_id': ObjectId('592f27286cb48027a4cbf173'), u'RetailerCity': u'Boston'}\n",
      "{u'RetailerName': u'Target', u'UserOccupation': u'Manager', u'ProductPrice': u'349', u'RetailerState': u'OH', u'ManufacturerRebate': u'No', u'ReviewDate': u'2/29/2015', u'ReviewText': u'very noisy fan.', u'UserID': u'krzor99', u'ProductCategory': u'Laptop', u'ProductModelName': u'Dell Ispiron 15.6', u'UserAge': u'38', u'RetailerOnSale': u'Yes', u'ManufacturerName': u'Dell', u'ReviewRating': u'1', u'UserGender': u'Male', u'RetailerZip': u'44114', u'_id': ObjectId('592f27286cb48027a4cbf188'), u'RetailerCity': u'Cleveland'}\n",
      "{u'RetailerName': u'Target', u'UserOccupation': u'Accountant', u'ProductPrice': u'299', u'RetailerState': u'IL', u'ManufacturerRebate': u'No', u'ReviewDate': u'7/19/2014', u'ReviewText': u' I would recommend the iPhone 6', u'UserID': u'rqrxq44', u'ProductCategory': u'Smart Phone', u'ProductModelName': u'iPhone 6', u'UserAge': u'48', u'RetailerOnSale': u'Yes', u'ManufacturerName': u'Apple', u'ReviewRating': u'5', u'UserGender': u'Male', u'RetailerZip': u'60603', u'_id': ObjectId('592f27286cb48027a4cbf18a'), u'RetailerCity': u'Chicago'}\n",
      "{u'RetailerName': u'Target', u'UserOccupation': u'Student', u'ProductPrice': u'319', u'RetailerState': u'MA', u'ManufacturerRebate': u'No', u'ReviewDate': u'6/18/2014', u'ReviewText': u'Its a nice computer but windows 8 is alittle more complex than I need or wanted.', u'UserID': u'hqrgf79', u'ProductCategory': u'Laptop', u'ProductModelName': u'HP PAVALION  15.6', u'UserAge': u'47', u'RetailerOnSale': u'No', u'ManufacturerName': u'HP', u'ReviewRating': u'4', u'UserGender': u'Male', u'RetailerZip': u'2108', u'_id': ObjectId('592f27286cb48027a4cbf18c'), u'RetailerCity': u'Boston'}\n",
      "{u'RetailerName': u'Target', u'UserOccupation': u'Accountant', u'ProductPrice': u'1100', u'RetailerState': u'CA', u'ManufacturerRebate': u'No', u'ReviewDate': u'7/19/2014', u'ReviewText': u' We like it very much. We have not had a flat screen until this one', u'UserID': u'tvcqx95', u'ProductCategory': u'TV', u'ProductModelName': u'Samsung TV 60 LED', u'UserAge': u'45', u'RetailerOnSale': u'Yes', u'ManufacturerName': u'Samsung', u'ReviewRating': u'5', u'UserGender': u'Male', u'RetailerZip': u'94102', u'_id': ObjectId('592f27286cb48027a4cbf195'), u'RetailerCity': u'San Francisco'}\n",
      "{u'RetailerName': u'Target', u'UserOccupation': u'Manager', u'ProductPrice': u'999', u'RetailerState': u'IL', u'ManufacturerRebate': u'No', u'ReviewDate': u'12/05/14', u'ReviewText': u'Enjoy the portability as a traveler.', u'UserID': u'fjook35', u'ProductCategory': u'Tablet', u'ProductModelName': u'Surface 3', u'UserAge': u'59', u'RetailerOnSale': u'No', u'ManufacturerName': u'Microsoft', u'ReviewRating': u'4', u'UserGender': u'Male', u'RetailerZip': u'60616', u'_id': ObjectId('592f27286cb48027a4cbf198'), u'RetailerCity': u'Chicago'}\n",
      "{u'RetailerName': u'Target', u'UserOccupation': u'Accountant', u'ProductPrice': u'1100', u'RetailerState': u'CA', u'ManufacturerRebate': u'No', u'ReviewDate': u'08/01/14', u'ReviewText': u' The day I got this TV', u'UserID': u'rnkov18', u'ProductCategory': u'TV', u'ProductModelName': u'Samsung TV 60 LED', u'UserAge': u'44', u'RetailerOnSale': u'Yes', u'ManufacturerName': u'Samsung', u'ReviewRating': u'4', u'UserGender': u'Male', u'RetailerZip': u'94158', u'_id': ObjectId('592f27286cb48027a4cbf19d'), u'RetailerCity': u'San Francisco'}\n",
      "{u'RetailerName': u'Target', u'UserOccupation': u'Student', u'ProductPrice': u'399', u'RetailerState': u'FL', u'ManufacturerRebate': u'No', u'ReviewDate': u'08/10/13', u'ReviewText': u\"I upgraded and I'm not really that impressed.\", u'UserID': u'hocwn35', u'ProductCategory': u'Smart Phone', u'ProductModelName': u'iPhone 6', u'UserAge': u'25', u'RetailerOnSale': u'No', u'ManufacturerName': u'Apple', u'ReviewRating': u'3', u'UserGender': u'Male', u'RetailerZip': u'33129', u'_id': ObjectId('592f27286cb48027a4cbf1a1'), u'RetailerCity': u'Miami'}\n",
      "{u'RetailerName': u'Target', u'UserOccupation': u'Unknown', u'ProductPrice': u'589', u'RetailerState': u'CA', u'ManufacturerRebate': u'No', u'ReviewDate': u'6/18/2014', u'ReviewText': u'so far this has been a good phone and have had no problems', u'UserID': u'tiojc57', u'ProductCategory': u'Smart Phone', u'ProductModelName': u'iPhone 6', u'UserAge': u'45', u'RetailerOnSale': u'No', u'ManufacturerName': u'Apple', u'ReviewRating': u'4', u'UserGender': u'Male', u'RetailerZip': u'94102', u'_id': ObjectId('592f27286cb48027a4cbf1a4'), u'RetailerCity': u'San Francisco'}\n",
      "{u'RetailerName': u'Target', u'UserOccupation': u'Accountant', u'ProductPrice': u'349', u'RetailerState': u'CA', u'ManufacturerRebate': u'No', u'ReviewDate': u'11/29/2014', u'ReviewText': u' I love the feel of the keyboard and the mouse pad. I use it for personal and work from home needs - it is comfortable to use on a table', u'UserID': u'ebeer51', u'ProductCategory': u'Laptop', u'ProductModelName': u'Dell Ispiron 15.6', u'UserAge': u'25', u'RetailerOnSale': u'Yes', u'ManufacturerName': u'Dell', u'ReviewRating': u'5', u'UserGender': u'Female', u'RetailerZip': u'90033', u'_id': ObjectId('592f27286cb48027a4cbf1af'), u'RetailerCity': u'Los Angeles'}\n",
      "{u'RetailerName': u'Target', u'UserOccupation': u'Unknown', u'ProductPrice': u'589', u'RetailerState': u'IL', u'ManufacturerRebate': u'No', u'ReviewDate': u'10/21/2014', u'ReviewText': u'So happy I got my iPhone 6 this is probably y my 6th iPhone i just keep looking forward for new ones to come! Great quality and design', u'UserID': u'wwuxs27', u'ProductCategory': u'Smart Phone', u'ProductModelName': u'iPhone 6', u'UserAge': u'41', u'RetailerOnSale': u'No', u'ManufacturerName': u'Apple', u'ReviewRating': u'5', u'UserGender': u'Male', u'RetailerZip': u'60616', u'_id': ObjectId('592f27286cb48027a4cbf1c2'), u'RetailerCity': u'Chicago'}\n",
      "{u'RetailerName': u'Target', u'UserOccupation': u'Unknown', u'ProductPrice': u'349', u'RetailerState': u'CA', u'ManufacturerRebate': u'No', u'ReviewDate': u'8/21/2014', u'ReviewText': u' Got it for my mother', u'UserID': u'cwqnt17', u'ProductCategory': u'Tablet', u'ProductModelName': u'Samsung Tab 4', u'UserAge': u'59', u'RetailerOnSale': u'No', u'ManufacturerName': u'Samsung', u'ReviewRating': u'5', u'UserGender': u'Male', u'RetailerZip': u'90033', u'_id': ObjectId('592f27286cb48027a4cbf1c5'), u'RetailerCity': u'Los Angeles'}\n",
      "{u'RetailerName': u'Target', u'UserOccupation': u'Unknown', u'ProductPrice': u'499', u'RetailerState': u'CA', u'ManufacturerRebate': u'No', u'ReviewDate': u'08/10/13', u'ReviewText': u' but the ipad case is not so good', u'UserID': u'ncgux50', u'ProductCategory': u'Tablet', u'ProductModelName': u'iPad Air', u'UserAge': u'24', u'RetailerOnSale': u'No', u'ManufacturerName': u'Apple', u'ReviewRating': u'5', u'UserGender': u'Male', u'RetailerZip': u'94102', u'_id': ObjectId('592f27286cb48027a4cbf1c9'), u'RetailerCity': u'San Francisco'}\n",
      "{u'RetailerName': u'Target', u'UserOccupation': u'Secratary', u'ProductPrice': u'1900', u'RetailerState': u'FL', u'ManufacturerRebate': u'No', u'ReviewDate': u'2/15/2015', u'ReviewText': u' The TV is absolutely beautiful', u'UserID': u'jcozt6', u'ProductCategory': u'TV', u'ProductModelName': u'Samsung TV 65 Curved', u'UserAge': u'48', u'RetailerOnSale': u'No', u'ManufacturerName': u'Samsung', u'ReviewRating': u'4', u'UserGender': u'Male', u'RetailerZip': u'33130', u'_id': ObjectId('592f27286cb48027a4cbf1cb'), u'RetailerCity': u'Miami'}\n",
      "{u'RetailerName': u'Target', u'UserOccupation': u'Secratary', u'ProductPrice': u'1100', u'RetailerState': u'FL', u'ManufacturerRebate': u'No', u'ReviewDate': u'5/24/2014', u'ReviewText': u\" It got to the point where HULU and Netflix wouldn't work at all\", u'UserID': u'tekyy48', u'ProductCategory': u'TV', u'ProductModelName': u'Samsung TV 60 LED', u'UserAge': u'50', u'RetailerOnSale': u'Yes', u'ManufacturerName': u'Samsung', u'ReviewRating': u'3', u'UserGender': u'Male', u'RetailerZip': u'33130', u'_id': ObjectId('592f27286cb48027a4cbf1d2'), u'RetailerCity': u'Miami'}\n",
      "{u'RetailerName': u'Target', u'UserOccupation': u'Manager', u'ProductPrice': u'425', u'RetailerState': u'IL', u'ManufacturerRebate': u'No', u'ReviewDate': u'8/21/2014', u'ReviewText': u'I love my new iPad. The colors and pictures are amazing. Would recommend.', u'UserID': u'qmnpa83', u'ProductCategory': u'Tablet', u'ProductModelName': u'iPad Air', u'UserAge': u'38', u'RetailerOnSale': u'Yes', u'ManufacturerName': u'Apple', u'ReviewRating': u'5', u'UserGender': u'Female', u'RetailerZip': u'60603', u'_id': ObjectId('592f27286cb48027a4cbf1da'), u'RetailerCity': u'Chicago'}\n",
      "{u'RetailerName': u'Target', u'UserOccupation': u'Unknown', u'ProductPrice': u'298', u'RetailerState': u'CA', u'ManufacturerRebate': u'Yes', u'ReviewDate': u'12/27/2014', u'ReviewText': u'I am very happy with my laptop. I would recommend it to anyone', u'UserID': u'dbcjy72', u'ProductCategory': u'Laptop', u'ProductModelName': u'HP PAVALION  15.6', u'UserAge': u'19', u'RetailerOnSale': u'Yes', u'ManufacturerName': u'HP', u'ReviewRating': u'5', u'UserGender': u'Male', u'RetailerZip': u'94158', u'_id': ObjectId('592f27286cb48027a4cbf1dc'), u'RetailerCity': u'San Francisco'}\n",
      "{u'RetailerName': u'Target', u'UserOccupation': u'Manager', u'ProductPrice': u'399', u'RetailerState': u'CA', u'ManufacturerRebate': u'No', u'ReviewDate': u'8/18/2014', u'ReviewText': u' I absolutely love this phone', u'UserID': u'lbqks30', u'ProductCategory': u'Smart Phone', u'ProductModelName': u'Galaxy S4', u'UserAge': u'51', u'RetailerOnSale': u'No', u'ManufacturerName': u'Samsung', u'ReviewRating': u'5', u'UserGender': u'Male', u'RetailerZip': u'90012', u'_id': ObjectId('592f27286cb48027a4cbf1e4'), u'RetailerCity': u'Los Angeles'}\n",
      "{u'RetailerName': u'Target', u'UserOccupation': u'Programmer', u'ProductPrice': u'299', u'RetailerState': u'IL', u'ManufacturerRebate': u'No', u'ReviewDate': u'10/21/2014', u'ReviewText': u' The new iPhone 6 has been good to me so far. I love the sleek', u'UserID': u'ntbxv22', u'ProductCategory': u'Smart Phone', u'ProductModelName': u'iPhone 6', u'UserAge': u'27', u'RetailerOnSale': u'Yes', u'ManufacturerName': u'Apple', u'ReviewRating': u'4', u'UserGender': u'Female', u'RetailerZip': u'60585', u'_id': ObjectId('592f27286cb48027a4cbf1e5'), u'RetailerCity': u'Naperville'}\n",
      "{u'RetailerName': u'Target', u'UserOccupation': u'Programmer', u'ProductPrice': u'1200', u'RetailerState': u'IL', u'ManufacturerRebate': u'No', u'ReviewDate': u'6/25/2014', u'ReviewText': u'Great tv for the price easy to set up and easy to use .', u'UserID': u'zdzzu26', u'ProductCategory': u'TV', u'ProductModelName': u'Samsung TV 60 LED', u'UserAge': u'45', u'RetailerOnSale': u'No', u'ManufacturerName': u'Samsung', u'ReviewRating': u'4', u'UserGender': u'Male', u'RetailerZip': u'60616', u'_id': ObjectId('592f27286cb48027a4cbf1e9'), u'RetailerCity': u'Chicago'}\n",
      "{u'RetailerName': u'Target', u'UserOccupation': u'Secratary', u'ProductPrice': u'299', u'RetailerState': u'CA', u'ManufacturerRebate': u'Yes', u'ReviewDate': u'05/12/14', u'ReviewText': u\"Apple doesn't tell you that the Ios takes up almost 5 gb. So if you actually need 16gb you need to get the 32 gb unit.\", u'UserID': u'woonl29', u'ProductCategory': u'Tablet', u'ProductModelName': u'iPad Air', u'UserAge': u'54', u'RetailerOnSale': u'Yes', u'ManufacturerName': u'Apple', u'ReviewRating': u'3', u'UserGender': u'Male', u'RetailerZip': u'90012', u'_id': ObjectId('592f27286cb48027a4cbf1f9'), u'RetailerCity': u'Los Angeles'}\n",
      "{u'RetailerName': u'Target', u'UserOccupation': u'Student', u'ProductPrice': u'299', u'RetailerState': u'CA', u'ManufacturerRebate': u'No', u'ReviewDate': u'2/15/2015', u'ReviewText': u\"I bought this one for me and i love it! That's why this is the second one I bought as a gift for my aunt.\", u'UserID': u'ojrbe17', u'ProductCategory': u'Tablet', u'ProductModelName': u'Samsung Tab 4', u'UserAge': u'39', u'RetailerOnSale': u'Yes', u'ManufacturerName': u'Samsung', u'ReviewRating': u'5', u'UserGender': u'Female', u'RetailerZip': u'94158', u'_id': ObjectId('592f27286cb48027a4cbf1ff'), u'RetailerCity': u'San Francisco'}\n",
      "{u'RetailerName': u'Target', u'UserOccupation': u'Secratary', u'ProductPrice': u'425', u'RetailerState': u'CA', u'ManufacturerRebate': u'No', u'ReviewDate': u'11/29/2014', u'ReviewText': u\"My very first iPad and I am very pleased. I purchased an open box product and I wouldn't have been to tell the difference if I brought it brand new\", u'UserID': u'ihodw63', u'ProductCategory': u'Tablet', u'ProductModelName': u'iPad Air', u'UserAge': u'31', u'RetailerOnSale': u'Yes', u'ManufacturerName': u'Apple', u'ReviewRating': u'5', u'UserGender': u'Female', u'RetailerZip': u'94102', u'_id': ObjectId('592f27286cb48027a4cbf208'), u'RetailerCity': u'San Francisco'}\n",
      "{u'RetailerName': u'Target', u'UserOccupation': u'Unknown', u'ProductPrice': u'1100', u'RetailerState': u'IL', u'ManufacturerRebate': u'No', u'ReviewDate': u'12/05/14', u'ReviewText': u'This tv is very hard to operate - the remote control is terrible and hard to use', u'UserID': u'jvuun2', u'ProductCategory': u'TV', u'ProductModelName': u'Samsung TV 60 LED', u'UserAge': u'27', u'RetailerOnSale': u'Yes', u'ManufacturerName': u'Samsung', u'ReviewRating': u'1', u'UserGender': u'Male', u'RetailerZip': u'60603', u'_id': ObjectId('592f27286cb48027a4cbf20b'), u'RetailerCity': u'Chicago'}\n",
      "{u'RetailerName': u'Target', u'UserOccupation': u'Programmer', u'ProductPrice': u'402', u'RetailerState': u'FL', u'ManufacturerRebate': u'No', u'ReviewDate': u'10/14/2014', u'ReviewText': u'was a iphone user but now will not go back it is easy to use easier than iphone', u'UserID': u'wxttl78', u'ProductCategory': u'Smart Phone', u'ProductModelName': u'Galaxy S4', u'UserAge': u'51', u'RetailerOnSale': u'No', u'ManufacturerName': u'Samsung', u'ReviewRating': u'4', u'UserGender': u'Female', u'RetailerZip': u'33130', u'_id': ObjectId('592f27286cb48027a4cbf20c'), u'RetailerCity': u'Miami'}\n",
      "{u'RetailerName': u'Target', u'UserOccupation': u'Secratary', u'ProductPrice': u'2199', u'RetailerState': u'CA', u'ManufacturerRebate': u'No', u'ReviewDate': u'12/05/14', u'ReviewText': u'This TV is awesome.', u'UserID': u'osjqi73', u'ProductCategory': u'TV', u'ProductModelName': u'Samsung TV 65 Curved', u'UserAge': u'38', u'RetailerOnSale': u'No', u'ManufacturerName': u'Samsung', u'ReviewRating': u'5', u'UserGender': u'Female', u'RetailerZip': u'90033', u'_id': ObjectId('592f27286cb48027a4cbf22d'), u'RetailerCity': u'Los Angeles'}\n",
      "{u'RetailerName': u'Target', u'UserOccupation': u'Programmer', u'ProductPrice': u'299', u'RetailerState': u'CA', u'ManufacturerRebate': u'No', u'ReviewDate': u'5/15/2013', u'ReviewText': u\"So far the tablet haven't failed me... except for Bestbuy app latest version that is no longer compatible with it.\", u'UserID': u'uuzuu6', u'ProductCategory': u'Tablet', u'ProductModelName': u'Samsung Tab 4', u'UserAge': u'20', u'RetailerOnSale': u'Yes', u'ManufacturerName': u'Samsung', u'ReviewRating': u'4', u'UserGender': u'Male', u'RetailerZip': u'94102', u'_id': ObjectId('592f27286cb48027a4cbf242'), u'RetailerCity': u'San Francisco'}\n",
      "{u'RetailerName': u'Target', u'UserOccupation': u'Programmer', u'ProductPrice': u'376', u'RetailerState': u'CA', u'ManufacturerRebate': u'No', u'ReviewDate': u'5/25/2014', u'ReviewText': u'I am still learning but so far it is a good computer.', u'UserID': u'fdaju61', u'ProductCategory': u'Laptop', u'ProductModelName': u'HP PAVALION  15.6', u'UserAge': u'19', u'RetailerOnSale': u'No', u'ManufacturerName': u'HP', u'ReviewRating': u'5', u'UserGender': u'Female', u'RetailerZip': u'94158', u'_id': ObjectId('592f27286cb48027a4cbf259'), u'RetailerCity': u'San Francisco'}\n",
      "{u'RetailerName': u'Target', u'UserOccupation': u'Student', u'ProductPrice': u'399', u'RetailerState': u'MA', u'ManufacturerRebate': u'No', u'ReviewDate': u'10/25/2014', u'ReviewText': u' Good phone', u'UserID': u'ullxf50', u'ProductCategory': u'Smart Phone', u'ProductModelName': u'Galaxy S4', u'UserAge': u'59', u'RetailerOnSale': u'No', u'ManufacturerName': u'Samsung', u'ReviewRating': u'4', u'UserGender': u'Male', u'RetailerZip': u'2109', u'_id': ObjectId('592f27286cb48027a4cbf25d'), u'RetailerCity': u'Boston'}\n",
      "{u'RetailerName': u'Target', u'UserOccupation': u'Student', u'ProductPrice': u'499', u'RetailerState': u'FL', u'ManufacturerRebate': u'No', u'ReviewDate': u'4/19/2014', u'ReviewText': u'I have not had any problems with this laptop so far and I would definitely recommend it to anyone!', u'UserID': u'xmloq67', u'ProductCategory': u'Laptop', u'ProductModelName': u'Dell Ispiron 15.6', u'UserAge': u'24', u'RetailerOnSale': u'No', u'ManufacturerName': u'Dell', u'ReviewRating': u'5', u'UserGender': u'Male', u'RetailerZip': u'33129', u'_id': ObjectId('592f27286cb48027a4cbf25f'), u'RetailerCity': u'Miami'}\n",
      "{u'RetailerName': u'Target', u'UserOccupation': u'Unknown', u'ProductPrice': u'899', u'RetailerState': u'OH', u'ManufacturerRebate': u'No', u'ReviewDate': u'9/20/2014', u'ReviewText': u' Great price for a 65 inch', u'UserID': u'ebmml16', u'ProductCategory': u'Tablet', u'ProductModelName': u'Surface 3', u'UserAge': u'41', u'RetailerOnSale': u'Yes', u'ManufacturerName': u'Microsoft', u'ReviewRating': u'5', u'UserGender': u'Male', u'RetailerZip': u'44114', u'_id': ObjectId('592f27286cb48027a4cbf26c'), u'RetailerCity': u'Cleveland'}\n",
      "{u'RetailerName': u'Target', u'UserOccupation': u'Secratary', u'ProductPrice': u'299', u'RetailerState': u'FL', u'ManufacturerRebate': u'No', u'ReviewDate': u'3/13/2014', u'ReviewText': u'Been an iPhone user for many years and always wanted a bigger size screen', u'UserID': u'jakik11', u'ProductCategory': u'Smart Phone', u'ProductModelName': u'iPhone 6', u'UserAge': u'29', u'RetailerOnSale': u'Yes', u'ManufacturerName': u'Apple', u'ReviewRating': u'5', u'UserGender': u'Male', u'RetailerZip': u'33129', u'_id': ObjectId('592f27286cb48027a4cbf26e'), u'RetailerCity': u'Miami'}\n",
      "{u'RetailerName': u'Target', u'UserOccupation': u'Manager', u'ProductPrice': u'1799', u'RetailerState': u'CA', u'ManufacturerRebate': u'Yes', u'ReviewDate': u'9/13/2013', u'ReviewText': u' This TV was on sale', u'UserID': u'apnud55', u'ProductCategory': u'TV', u'ProductModelName': u'Samsung TV 65 Curved', u'UserAge': u'31', u'RetailerOnSale': u'Yes', u'ManufacturerName': u'Samsung', u'ReviewRating': u'5', u'UserGender': u'Male', u'RetailerZip': u'94158', u'_id': ObjectId('592f27286cb48027a4cbf26f'), u'RetailerCity': u'San Francisco'}\n",
      "{u'RetailerName': u'Target', u'UserOccupation': u'Student', u'ProductPrice': u'299', u'RetailerState': u'FL', u'ManufacturerRebate': u'No', u'ReviewDate': u'5/24/2014', u'ReviewText': u'FOR ME ALWAYS THE BEST BRAND IS SAMSUNG! I LOVE IT!', u'UserID': u'zyizh40', u'ProductCategory': u'Tablet', u'ProductModelName': u'Samsung Tab 4', u'UserAge': u'47', u'RetailerOnSale': u'Yes', u'ManufacturerName': u'Samsung', u'ReviewRating': u'5', u'UserGender': u'Female', u'RetailerZip': u'33130', u'_id': ObjectId('592f27286cb48027a4cbf270'), u'RetailerCity': u'Miami'}\n",
      "{u'RetailerName': u'Target', u'UserOccupation': u'Manager', u'ProductPrice': u'1100', u'RetailerState': u'CA', u'ManufacturerRebate': u'No', u'ReviewDate': u'05/12/14', u'ReviewText': u\"I bought this TV on sale 2 weeks ago for $900 and I'm very happy with it. Great picture and sound quality. Sports (hockey) looks awesome on it. My Xbox One looks and plays great on it. I use the USB inputs to watch movies right off a USB stick.\", u'UserID': u'ohjhp13', u'ProductCategory': u'TV', u'ProductModelName': u'Samsung TV 60 LED', u'UserAge': u'28', u'RetailerOnSale': u'Yes', u'ManufacturerName': u'Samsung', u'ReviewRating': u'5', u'UserGender': u'Male', u'RetailerZip': u'90012', u'_id': ObjectId('592f27286cb48027a4cbf27d'), u'RetailerCity': u'Los Angeles'}\n",
      "{u'RetailerName': u'Target', u'UserOccupation': u'Programmer', u'ProductPrice': u'2250', u'RetailerState': u'IL', u'ManufacturerRebate': u'No', u'ReviewDate': u'4/19/2014', u'ReviewText': u'Easy to set up and beautiful picture.', u'UserID': u'arxoj4', u'ProductCategory': u'TV', u'ProductModelName': u'LG 65', u'UserAge': u'27', u'RetailerOnSale': u'No', u'ManufacturerName': u'LG', u'ReviewRating': u'4', u'UserGender': u'Male', u'RetailerZip': u'60585', u'_id': ObjectId('592f27286cb48027a4cbf27f'), u'RetailerCity': u'Naperville'}\n",
      "{u'RetailerName': u'Target', u'UserOccupation': u'Manager', u'ProductPrice': u'969', u'RetailerState': u'IL', u'ManufacturerRebate': u'No', u'ReviewDate': u'03/10/15', u'ReviewText': u'The Surface Pro 3 is having a terrible time connecting to any wifi hub. ', u'UserID': u'jgfif74', u'ProductCategory': u'Tablet', u'ProductModelName': u'Surface 3', u'UserAge': u'31', u'RetailerOnSale': u'No', u'ManufacturerName': u'Microsoft', u'ReviewRating': u'2', u'UserGender': u'Male', u'RetailerZip': u'60616', u'_id': ObjectId('592f27286cb48027a4cbf291'), u'RetailerCity': u'Chicago'}\n",
      "{u'RetailerName': u'Target', u'UserOccupation': u'Secratary', u'ProductPrice': u'269', u'RetailerState': u'CA', u'ManufacturerRebate': u'Yes', u'ReviewDate': u'08/01/14', u'ReviewText': u' I really do love it I am learning something new on it everyday', u'UserID': u'zsybx57', u'ProductCategory': u'Smart Phone', u'ProductModelName': u'Galaxy S4', u'UserAge': u'50', u'RetailerOnSale': u'Yes', u'ManufacturerName': u'Samsung', u'ReviewRating': u'5', u'UserGender': u'Male', u'RetailerZip': u'94158', u'_id': ObjectId('592f27286cb48027a4cbf292'), u'RetailerCity': u'San Francisco'}\n",
      "{u'RetailerName': u'Target', u'UserOccupation': u'Secratary', u'ProductPrice': u'999', u'RetailerState': u'CA', u'ManufacturerRebate': u'No', u'ReviewDate': u'8/18/2014', u'ReviewText': u'So far I have zero complaints on this tv. ', u'UserID': u'evadn72', u'ProductCategory': u'TV', u'ProductModelName': u'LG 65', u'UserAge': u'44', u'RetailerOnSale': u'No', u'ManufacturerName': u'LG', u'ReviewRating': u'4', u'UserGender': u'Male', u'RetailerZip': u'94158', u'_id': ObjectId('592f27286cb48027a4cbf298'), u'RetailerCity': u'San Francisco'}\n",
      "{u'RetailerName': u'Target', u'UserOccupation': u'Manager', u'ProductPrice': u'299', u'RetailerState': u'CA', u'ManufacturerRebate': u'No', u'ReviewDate': u'02/01/15', u'ReviewText': u' This is my first tablet and I love it! Great price', u'UserID': u'fdbya1', u'ProductCategory': u'Tablet', u'ProductModelName': u'Samsung Tab 4', u'UserAge': u'35', u'RetailerOnSale': u'Yes', u'ManufacturerName': u'Samsung', u'ReviewRating': u'5', u'UserGender': u'Female', u'RetailerZip': u'94158', u'_id': ObjectId('592f27286cb48027a4cbf29d'), u'RetailerCity': u'San Francisco'}\n",
      "{u'RetailerName': u'Target', u'UserOccupation': u'Unknown', u'ProductPrice': u'425', u'RetailerState': u'IL', u'ManufacturerRebate': u'No', u'ReviewDate': u'7/19/2014', u'ReviewText': u' Longer lasting power', u'UserID': u'rkwkm49', u'ProductCategory': u'Tablet', u'ProductModelName': u'iPad Air', u'UserAge': u'41', u'RetailerOnSale': u'Yes', u'ManufacturerName': u'Apple', u'ReviewRating': u'5', u'UserGender': u'Male', u'RetailerZip': u'60585', u'_id': ObjectId('592f27286cb48027a4cbf2a1'), u'RetailerCity': u'Naperville'}\n",
      "{u'RetailerName': u'Target', u'UserOccupation': u'Accountant', u'ProductPrice': u'1100', u'RetailerState': u'OH', u'ManufacturerRebate': u'No', u'ReviewDate': u'5/25/2014', u'ReviewText': u'If you are looking for a TV that produces an incredible picture with loads of features and are uncertain about going 4k then this is the top of the line Samsung product.', u'UserID': u'hgzsx36', u'ProductCategory': u'TV', u'ProductModelName': u'Samsung TV 60 LED', u'UserAge': u'35', u'RetailerOnSale': u'Yes', u'ManufacturerName': u'Samsung', u'ReviewRating': u'5', u'UserGender': u'Male', u'RetailerZip': u'44114', u'_id': ObjectId('592f27286cb48027a4cbf2b6'), u'RetailerCity': u'Cleveland'}\n",
      "{u'RetailerName': u'Target', u'UserOccupation': u'Programmer', u'ProductPrice': u'349', u'RetailerState': u'CA', u'ManufacturerRebate': u'No', u'ReviewDate': u'3/24/2014', u'ReviewText': u' I got the Galaxy Tab because I have a galaxy phone', u'UserID': u'lpzum63', u'ProductCategory': u'Tablet', u'ProductModelName': u'Samsung Tab 4', u'UserAge': u'24', u'RetailerOnSale': u'No', u'ManufacturerName': u'Samsung', u'ReviewRating': u'4', u'UserGender': u'Male', u'RetailerZip': u'90012', u'_id': ObjectId('592f27286cb48027a4cbf2b9'), u'RetailerCity': u'Los Angeles'}\n",
      "{u'RetailerName': u'Target', u'UserOccupation': u'Unknown', u'ProductPrice': u'399', u'RetailerState': u'CA', u'ManufacturerRebate': u'No', u'ReviewDate': u'8/21/2014', u'ReviewText': u'Excellent phone in all respects. Great camera! Screen is bigger and sharper than the 5', u'UserID': u'xixzz63', u'ProductCategory': u'Smart Phone', u'ProductModelName': u'iPhone 6', u'UserAge': u'34', u'RetailerOnSale': u'No', u'ManufacturerName': u'Apple', u'ReviewRating': u'5', u'UserGender': u'Female', u'RetailerZip': u'94102', u'_id': ObjectId('592f27286cb48027a4cbf2ba'), u'RetailerCity': u'San Francisco'}\n",
      "{u'RetailerName': u'Target', u'UserOccupation': u'Programmer', u'ProductPrice': u'925', u'RetailerState': u'CA', u'ManufacturerRebate': u'No', u'ReviewDate': u'8/21/2014', u'ReviewText': u' ery light', u'UserID': u'fjwtm35', u'ProductCategory': u'Tablet', u'ProductModelName': u'Surface 3', u'UserAge': u'30', u'RetailerOnSale': u'No', u'ManufacturerName': u'Microsoft', u'ReviewRating': u'5', u'UserGender': u'Female', u'RetailerZip': u'90033', u'_id': ObjectId('592f27286cb48027a4cbf2be'), u'RetailerCity': u'Los Angeles'}\n",
      "{u'RetailerName': u'Target', u'UserOccupation': u'Accountant', u'ProductPrice': u'1100', u'RetailerState': u'FL', u'ManufacturerRebate': u'No', u'ReviewDate': u'8/21/2014', u'ReviewText': u' My family and I love our new 4k samsung 60 inch! The picture is so crisp it appears like the actors are right there in our living room! You can see people pores on their faces', u'UserID': u'omskf11', u'ProductCategory': u'TV', u'ProductModelName': u'Samsung TV 60 LED', u'UserAge': u'43', u'RetailerOnSale': u'Yes', u'ManufacturerName': u'Samsung', u'ReviewRating': u'4', u'UserGender': u'Male', u'RetailerZip': u'33130', u'_id': ObjectId('592f27286cb48027a4cbf2bf'), u'RetailerCity': u'Miami'}\n",
      "{u'RetailerName': u'Target', u'UserOccupation': u'Programmer', u'ProductPrice': u'899', u'RetailerState': u'CA', u'ManufacturerRebate': u'No', u'ReviewDate': u'6/18/2014', u'ReviewText': u'Improvement on the surface pro 2 - bigger screen is nice while still maintaining excellent portability', u'UserID': u'hqakp16', u'ProductCategory': u'Tablet', u'ProductModelName': u'Surface 3', u'UserAge': u'57', u'RetailerOnSale': u'Yes', u'ManufacturerName': u'Microsoft', u'ReviewRating': u'5', u'UserGender': u'Male', u'RetailerZip': u'90033', u'_id': ObjectId('592f27286cb48027a4cbf2d2'), u'RetailerCity': u'Los Angeles'}\n",
      "{u'RetailerName': u'Target', u'UserOccupation': u'Manager', u'ProductPrice': u'499', u'RetailerState': u'MA', u'ManufacturerRebate': u'No', u'ReviewDate': u'12/27/2014', u'ReviewText': u' Works well lots of apps', u'UserID': u'phrdh93', u'ProductCategory': u'Tablet', u'ProductModelName': u'iPad Air', u'UserAge': u'46', u'RetailerOnSale': u'No', u'ManufacturerName': u'Apple', u'ReviewRating': u'4', u'UserGender': u'Male', u'RetailerZip': u'2110', u'_id': ObjectId('592f27286cb48027a4cbf2db'), u'RetailerCity': u'Boston'}\n",
      "{u'RetailerName': u'Target', u'UserOccupation': u'Student', u'ProductPrice': u'1200', u'RetailerState': u'IL', u'ManufacturerRebate': u'No', u'ReviewDate': u'10/28/2014', u'ReviewText': u'New Samsung 60in TV sound is great and the smart tv apps are great also', u'UserID': u'mjbka29', u'ProductCategory': u'TV', u'ProductModelName': u'Samsung TV 60 LED', u'UserAge': u'41', u'RetailerOnSale': u'No', u'ManufacturerName': u'Samsung', u'ReviewRating': u'5', u'UserGender': u'Female', u'RetailerZip': u'60585', u'_id': ObjectId('592f27286cb48027a4cbf2df'), u'RetailerCity': u'Naperville'}\n",
      "{u'RetailerName': u'Target', u'UserOccupation': u'Unknown', u'ProductPrice': u'2250', u'RetailerState': u'FL', u'ManufacturerRebate': u'No', u'ReviewDate': u'10/13/2013', u'ReviewText': u' The only problem I have found is the tv is lacking an optical output for a surround sound system', u'UserID': u'ufcvo53', u'ProductCategory': u'TV', u'ProductModelName': u'LG 65', u'UserAge': u'49', u'RetailerOnSale': u'No', u'ManufacturerName': u'LG', u'ReviewRating': u'4', u'UserGender': u'Male', u'RetailerZip': u'33130', u'_id': ObjectId('592f27286cb48027a4cbf300'), u'RetailerCity': u'Miami'}\n",
      "{u'RetailerName': u'Target', u'UserOccupation': u'Secratary', u'ProductPrice': u'349', u'RetailerState': u'CA', u'ManufacturerRebate': u'No', u'ReviewDate': u'2/29/2015', u'ReviewText': u'i the only problems i have about it was the speaker and the camera the speaker is on the back but i usually just use a Bluetooth speaker.', u'UserID': u'cnkvm2', u'ProductCategory': u'Tablet', u'ProductModelName': u'Samsung Tab 4', u'UserAge': u'20', u'RetailerOnSale': u'No', u'ManufacturerName': u'Samsung', u'ReviewRating': u'5', u'UserGender': u'Female', u'RetailerZip': u'94102', u'_id': ObjectId('592f27286cb48027a4cbf304'), u'RetailerCity': u'San Francisco'}\n",
      "{u'RetailerName': u'Target', u'UserOccupation': u'Manager', u'ProductPrice': u'999', u'RetailerState': u'IL', u'ManufacturerRebate': u'No', u'ReviewDate': u'9/24/2014', u'ReviewText': u'Thus is a great working system. Very efficient for the mobile person.', u'UserID': u'iybir14', u'ProductCategory': u'Tablet', u'ProductModelName': u'Surface 3', u'UserAge': u'32', u'RetailerOnSale': u'No', u'ManufacturerName': u'Microsoft', u'ReviewRating': u'5', u'UserGender': u'Female', u'RetailerZip': u'60585', u'_id': ObjectId('592f27286cb48027a4cbf305'), u'RetailerCity': u'Naperville'}\n",
      "{u'RetailerName': u'Target', u'UserOccupation': u'Unknown', u'ProductPrice': u'2099', u'RetailerState': u'CA', u'ManufacturerRebate': u'No', u'ReviewDate': u'12/01/14', u'ReviewText': u'We love the TV. Picture is amazing. ', u'UserID': u'lemlj17', u'ProductCategory': u'TV', u'ProductModelName': u'Samsung TV 65 Curved', u'UserAge': u'19', u'RetailerOnSale': u'Yes', u'ManufacturerName': u'Samsung', u'ReviewRating': u'5', u'UserGender': u'Female', u'RetailerZip': u'94102', u'_id': ObjectId('592f27286cb48027a4cbf30d'), u'RetailerCity': u'San Francisco'}\n",
      "{u'RetailerName': u'Target', u'UserOccupation': u'Manager', u'ProductPrice': u'328', u'RetailerState': u'CA', u'ManufacturerRebate': u'Yes', u'ReviewDate': u'12/27/2014', u'ReviewText': u'It is worth to its price.', u'UserID': u'pvixn30', u'ProductCategory': u'Laptop', u'ProductModelName': u'Dell Ispiron 15.6', u'UserAge': u'19', u'RetailerOnSale': u'Yes', u'ManufacturerName': u'Dell', u'ReviewRating': u'4', u'UserGender': u'Male', u'RetailerZip': u'90033', u'_id': ObjectId('592f27286cb48027a4cbf313'), u'RetailerCity': u'Los Angeles'}\n",
      "{u'RetailerName': u'Target', u'UserOccupation': u'Secratary', u'ProductPrice': u'960', u'RetailerState': u'CA', u'ManufacturerRebate': u'No', u'ReviewDate': u'5/19/2014', u'ReviewText': u\"I'm 100% satisfied with my purchase. I would recommend this product to all my friends and family.\", u'UserID': u'fjzeh99', u'ProductCategory': u'Smart Phone', u'ProductModelName': u'iPhone 6', u'UserAge': u'27', u'RetailerOnSale': u'No', u'ManufacturerName': u'Apple', u'ReviewRating': u'5', u'UserGender': u'Female', u'RetailerZip': u'94102', u'_id': ObjectId('592f27286cb48027a4cbf31c'), u'RetailerCity': u'San Francisco'}\n",
      "{u'RetailerName': u'Target', u'UserOccupation': u'Accountant', u'ProductPrice': u'299', u'RetailerState': u'MA', u'ManufacturerRebate': u'No', u'ReviewDate': u'10/25/2014', u'ReviewText': u'It is a pretty good tab but the camera quality not', u'UserID': u'qqobi43', u'ProductCategory': u'Tablet', u'ProductModelName': u'Samsung Tab 4', u'UserAge': u'40', u'RetailerOnSale': u'Yes', u'ManufacturerName': u'Samsung', u'ReviewRating': u'3', u'UserGender': u'Male', u'RetailerZip': u'2110', u'_id': ObjectId('592f27286cb48027a4cbf324'), u'RetailerCity': u'Boston'}\n",
      "{u'RetailerName': u'Target', u'UserOccupation': u'Unknown', u'ProductPrice': u'349', u'RetailerState': u'FL', u'ManufacturerRebate': u'No', u'ReviewDate': u'8/17/2014', u'ReviewText': u'Bought this laptop for work and going back to school. The touch screen is something I thought I would hate but I actually love it.', u'UserID': u'symny52', u'ProductCategory': u'Laptop', u'ProductModelName': u'Dell Ispiron 15.6', u'UserAge': u'52', u'RetailerOnSale': u'Yes', u'ManufacturerName': u'Dell', u'ReviewRating': u'5', u'UserGender': u'Male', u'RetailerZip': u'33130', u'_id': ObjectId('592f27286cb48027a4cbf33a'), u'RetailerCity': u'Miami'}\n",
      "{u'RetailerName': u'Target', u'UserOccupation': u'Student', u'ProductPrice': u'299', u'RetailerState': u'CA', u'ManufacturerRebate': u'No', u'ReviewDate': u'12/05/14', u'ReviewText': u'good quality screen. not too big and not too small. quality picture and sound.', u'UserID': u'khlor30', u'ProductCategory': u'Laptop', u'ProductModelName': u'HP PAVALION  15.6', u'UserAge': u'31', u'RetailerOnSale': u'Yes', u'ManufacturerName': u'HP', u'ReviewRating': u'4', u'UserGender': u'Female', u'RetailerZip': u'90012', u'_id': ObjectId('592f27286cb48027a4cbf33c'), u'RetailerCity': u'Los Angeles'}\n",
      "{u'RetailerName': u'Target', u'UserOccupation': u'Unknown', u'ProductPrice': u'1900', u'RetailerState': u'FL', u'ManufacturerRebate': u'No', u'ReviewDate': u'5/24/2014', u'ReviewText': u'We love the TV. The picture is as clear as the store.', u'UserID': u'tzltl39', u'ProductCategory': u'TV', u'ProductModelName': u'Samsung TV 65 Curved', u'UserAge': u'19', u'RetailerOnSale': u'No', u'ManufacturerName': u'Samsung', u'ReviewRating': u'5', u'UserGender': u'Male', u'RetailerZip': u'33129', u'_id': ObjectId('592f27286cb48027a4cbf340'), u'RetailerCity': u'Miami'}\n",
      "{u'RetailerName': u'Target', u'UserOccupation': u'Unknown', u'ProductPrice': u'402', u'RetailerState': u'CA', u'ManufacturerRebate': u'No', u'ReviewDate': u'12/05/14', u'ReviewText': u'I like the phone very fast takes good photos and very bright screen', u'UserID': u'fivvf20', u'ProductCategory': u'Smart Phone', u'ProductModelName': u'Galaxy S4', u'UserAge': u'54', u'RetailerOnSale': u'No', u'ManufacturerName': u'Samsung', u'ReviewRating': u'4', u'UserGender': u'Male', u'RetailerZip': u'94102', u'_id': ObjectId('592f27286cb48027a4cbf347'), u'RetailerCity': u'San Francisco'}\n",
      "{u'RetailerName': u'Target', u'UserOccupation': u'Accountant', u'ProductPrice': u'1200', u'RetailerState': u'IL', u'ManufacturerRebate': u'No', u'ReviewDate': u'12/01/14', u'ReviewText': u'We purchased this TV after looking at several different options. It was a great value and perfect for our family.', u'UserID': u'vbpoz35', u'ProductCategory': u'TV', u'ProductModelName': u'Samsung TV 60 LED', u'UserAge': u'43', u'RetailerOnSale': u'No', u'ManufacturerName': u'Samsung', u'ReviewRating': u'5', u'UserGender': u'Male', u'RetailerZip': u'60616', u'_id': ObjectId('592f27286cb48027a4cbf34b'), u'RetailerCity': u'Chicago'}\n",
      "{u'RetailerName': u'Target', u'UserOccupation': u'Accountant', u'ProductPrice': u'499', u'RetailerState': u'MA', u'ManufacturerRebate': u'No', u'ReviewDate': u'5/25/2014', u'ReviewText': u\"I'm happy with my iPad I manly use it for watching movies surf the web etc... The only thing I don't like it's that in the camera there is no flash\", u'UserID': u'bghgd9', u'ProductCategory': u'Tablet', u'ProductModelName': u'iPad Air', u'UserAge': u'51', u'RetailerOnSale': u'No', u'ManufacturerName': u'Apple', u'ReviewRating': u'4', u'UserGender': u'Female', u'RetailerZip': u'2110', u'_id': ObjectId('592f27286cb48027a4cbf350'), u'RetailerCity': u'Boston'}\n",
      "{u'RetailerName': u'Target', u'UserOccupation': u'Accountant', u'ProductPrice': u'899', u'RetailerState': u'MA', u'ManufacturerRebate': u'No', u'ReviewDate': u'1/15/2012', u'ReviewText': u'The unit really could use one more USB port and another video connection option.', u'UserID': u'sfupc49', u'ProductCategory': u'Tablet', u'ProductModelName': u'Surface 3', u'UserAge': u'53', u'RetailerOnSale': u'Yes', u'ManufacturerName': u'Microsoft', u'ReviewRating': u'3', u'UserGender': u'Male', u'RetailerZip': u'2110', u'_id': ObjectId('592f27286cb48027a4cbf351'), u'RetailerCity': u'Boston'}\n",
      "{u'RetailerName': u'Target', u'UserOccupation': u'Unknown', u'ProductPrice': u'589', u'RetailerState': u'IL', u'ManufacturerRebate': u'No', u'ReviewDate': u'6/18/2013', u'ReviewText': u'Awesome phone and awesome service.', u'UserID': u'tjbmr18', u'ProductCategory': u'Smart Phone', u'ProductModelName': u'iPhone 6', u'UserAge': u'40', u'RetailerOnSale': u'No', u'ManufacturerName': u'Apple', u'ReviewRating': u'5', u'UserGender': u'Male', u'RetailerZip': u'60585', u'_id': ObjectId('592f27286cb48027a4cbf352'), u'RetailerCity': u'Naperville'}\n",
      "{u'RetailerName': u'Target', u'UserOccupation': u'Secratary', u'ProductPrice': u'1900', u'RetailerState': u'CA', u'ManufacturerRebate': u'No', u'ReviewDate': u'9/24/2014', u'ReviewText': u'Bestbuy is the best as well as its employees', u'UserID': u'hwkua30', u'ProductCategory': u'TV', u'ProductModelName': u'Samsung TV 65 Curved', u'UserAge': u'32', u'RetailerOnSale': u'No', u'ManufacturerName': u'Samsung', u'ReviewRating': u'5', u'UserGender': u'Male', u'RetailerZip': u'90033', u'_id': ObjectId('592f27286cb48027a4cbf35b'), u'RetailerCity': u'Los Angeles'}\n",
      "{u'RetailerName': u'Target', u'UserOccupation': u'Unknown', u'ProductPrice': u'2250', u'RetailerState': u'CA', u'ManufacturerRebate': u'No', u'ReviewDate': u'08/10/14', u'ReviewText': u' The TV has a nice look', u'UserID': u'kvvub63', u'ProductCategory': u'TV', u'ProductModelName': u'LG 65', u'UserAge': u'45', u'RetailerOnSale': u'No', u'ManufacturerName': u'LG', u'ReviewRating': u'5', u'UserGender': u'Male', u'RetailerZip': u'90033', u'_id': ObjectId('592f27286cb48027a4cbf36c'), u'RetailerCity': u'Los Angeles'}\n",
      "{u'RetailerName': u'Target', u'UserOccupation': u'Programmer', u'ProductPrice': u'269', u'RetailerState': u'IL', u'ManufacturerRebate': u'Yes', u'ReviewDate': u'5/19/2014', u'ReviewText': u' I am enjoying my Galaxy S4; however', u'UserID': u'hrime80', u'ProductCategory': u'Smart Phone', u'ProductModelName': u'Galaxy S4', u'UserAge': u'57', u'RetailerOnSale': u'Yes', u'ManufacturerName': u'Samsung', u'ReviewRating': u'4', u'UserGender': u'Male', u'RetailerZip': u'60603', u'_id': ObjectId('592f27286cb48027a4cbf371'), u'RetailerCity': u'Chicago'}\n",
      "{u'RetailerName': u'Target', u'UserOccupation': u'Secratary', u'ProductPrice': u'298', u'RetailerState': u'FL', u'ManufacturerRebate': u'Yes', u'ReviewDate': u'5/19/2014', u'ReviewText': u'Outstanding computer for the money.', u'UserID': u'ohits34', u'ProductCategory': u'Laptop', u'ProductModelName': u'HP PAVALION  15.6', u'UserAge': u'56', u'RetailerOnSale': u'Yes', u'ManufacturerName': u'HP', u'ReviewRating': u'5', u'UserGender': u'Male', u'RetailerZip': u'33130', u'_id': ObjectId('592f27286cb48027a4cbf37c'), u'RetailerCity': u'Miami'}\n",
      "{u'RetailerName': u'Target', u'UserOccupation': u'Unknown', u'ProductPrice': u'1799', u'RetailerState': u'CA', u'ManufacturerRebate': u'Yes', u'ReviewDate': u'8/18/2014', u'ReviewText': u'So far I have no problems', u'UserID': u'hgwzm23', u'ProductCategory': u'TV', u'ProductModelName': u'Samsung TV 65 Curved', u'UserAge': u'31', u'RetailerOnSale': u'Yes', u'ManufacturerName': u'Samsung', u'ReviewRating': u'4', u'UserGender': u'Male', u'RetailerZip': u'90012', u'_id': ObjectId('592f27286cb48027a4cbf37d'), u'RetailerCity': u'Los Angeles'}\n",
      "{u'RetailerName': u'Target', u'UserOccupation': u'Student', u'ProductPrice': u'2250', u'RetailerState': u'CA', u'ManufacturerRebate': u'No', u'ReviewDate': u'2/29/2015', u'ReviewText': u'Great deal on this size TV.', u'UserID': u'umiuh49', u'ProductCategory': u'TV', u'ProductModelName': u'LG 65', u'UserAge': u'50', u'RetailerOnSale': u'No', u'ManufacturerName': u'LG', u'ReviewRating': u'5', u'UserGender': u'Male', u'RetailerZip': u'94102', u'_id': ObjectId('592f27286cb48027a4cbf37e'), u'RetailerCity': u'San Francisco'}\n",
      "{u'RetailerName': u'Target', u'UserOccupation': u'Accountant', u'ProductPrice': u'402', u'RetailerState': u'IL', u'ManufacturerRebate': u'No', u'ReviewDate': u'2/15/2015', u'ReviewText': u\"Second one I've had (dropped the first one in water after 2+ years of ownership) and I love it.\", u'UserID': u'xssex64', u'ProductCategory': u'Smart Phone', u'ProductModelName': u'Galaxy S4', u'UserAge': u'28', u'RetailerOnSale': u'No', u'ManufacturerName': u'Samsung', u'ReviewRating': u'5', u'UserGender': u'Male', u'RetailerZip': u'60616', u'_id': ObjectId('592f27286cb48027a4cbf38b'), u'RetailerCity': u'Chicago'}\n",
      "{u'RetailerName': u'Target', u'UserOccupation': u'Manager', u'ProductPrice': u'299', u'RetailerState': u'IL', u'ManufacturerRebate': u'No', u'ReviewDate': u'10/21/2014', u'ReviewText': u\" It's nice looking\", u'UserID': u'ybfjv29', u'ProductCategory': u'Laptop', u'ProductModelName': u'HP PAVALION  15.6', u'UserAge': u'36', u'RetailerOnSale': u'Yes', u'ManufacturerName': u'HP', u'ReviewRating': u'4', u'UserGender': u'Female', u'RetailerZip': u'60585', u'_id': ObjectId('592f27286cb48027a4cbf393'), u'RetailerCity': u'Naperville'}\n",
      "{u'RetailerName': u'Target', u'UserOccupation': u'Accountant', u'ProductPrice': u'1900', u'RetailerState': u'CA', u'ManufacturerRebate': u'No', u'ReviewDate': u'4/19/2014', u'ReviewText': u\"Once again samsung products don't let me down the picture quality is amazing. \", u'UserID': u'nmarp73', u'ProductCategory': u'TV', u'ProductModelName': u'Samsung TV 65 Curved', u'UserAge': u'18', u'RetailerOnSale': u'No', u'ManufacturerName': u'Samsung', u'ReviewRating': u'4', u'UserGender': u'Male', u'RetailerZip': u'94158', u'_id': ObjectId('592f27286cb48027a4cbf3a9'), u'RetailerCity': u'San Francisco'}\n",
      "{u'RetailerName': u'Target', u'UserOccupation': u'Unknown', u'ProductPrice': u'299', u'RetailerState': u'IL', u'ManufacturerRebate': u'Yes', u'ReviewDate': u'08/10/13', u'ReviewText': u' Smooth', u'UserID': u'pynrw94', u'ProductCategory': u'Tablet', u'ProductModelName': u'iPad Air', u'UserAge': u'41', u'RetailerOnSale': u'Yes', u'ManufacturerName': u'Apple', u'ReviewRating': u'5', u'UserGender': u'Male', u'RetailerZip': u'60603', u'_id': ObjectId('592f27286cb48027a4cbf3b7'), u'RetailerCity': u'Chicago'}\n",
      "{u'RetailerName': u'Target', u'UserOccupation': u'Manager', u'ProductPrice': u'969', u'RetailerState': u'CA', u'ManufacturerRebate': u'No', u'ReviewDate': u'3/24/2014', u'ReviewText': u'I have had it for a few weeks now and use it everyday. ', u'UserID': u'zokcz21', u'ProductCategory': u'Tablet', u'ProductModelName': u'Surface 3', u'UserAge': u'35', u'RetailerOnSale': u'No', u'ManufacturerName': u'Microsoft', u'ReviewRating': u'5', u'UserGender': u'Female', u'RetailerZip': u'94158', u'_id': ObjectId('592f27286cb48027a4cbf3ca'), u'RetailerCity': u'San Francisco'}\n",
      "{u'RetailerName': u'Target', u'UserOccupation': u'Accountant', u'ProductPrice': u'299', u'RetailerState': u'CA', u'ManufacturerRebate': u'No', u'ReviewDate': u'10/21/2014', u'ReviewText': u\" It's a wifi tablet so you want have. Wifi in your home. Nice size\", u'UserID': u'ppvwz39', u'ProductCategory': u'Tablet', u'ProductModelName': u'Samsung Tab 4', u'UserAge': u'50', u'RetailerOnSale': u'Yes', u'ManufacturerName': u'Samsung', u'ReviewRating': u'4', u'UserGender': u'Male', u'RetailerZip': u'94102', u'_id': ObjectId('592f27286cb48027a4cbf3d3'), u'RetailerCity': u'San Francisco'}\n",
      "{u'RetailerName': u'Target', u'UserOccupation': u'Manager', u'ProductPrice': u'269', u'RetailerState': u'IL', u'ManufacturerRebate': u'Yes', u'ReviewDate': u'4/19/2014', u'ReviewText': u'Always have good luck with Samsung products. Durable enough to last at least until my next upgrade availability.', u'UserID': u'sdqes6', u'ProductCategory': u'Smart Phone', u'ProductModelName': u'Galaxy S4', u'UserAge': u'58', u'RetailerOnSale': u'Yes', u'ManufacturerName': u'Samsung', u'ReviewRating': u'5', u'UserGender': u'Female', u'RetailerZip': u'60603', u'_id': ObjectId('592f27286cb48027a4cbf3d6'), u'RetailerCity': u'Chicago'}\n",
      "{u'RetailerName': u'Target', u'UserOccupation': u'Programmer', u'ProductPrice': u'499', u'RetailerState': u'FL', u'ManufacturerRebate': u'No', u'ReviewDate': u'8/21/2014', u'ReviewText': u' Light and very easy to use and tote around', u'UserID': u'snyji80', u'ProductCategory': u'Tablet', u'ProductModelName': u'iPad Air', u'UserAge': u'25', u'RetailerOnSale': u'No', u'ManufacturerName': u'Apple', u'ReviewRating': u'5', u'UserGender': u'Male', u'RetailerZip': u'33130', u'_id': ObjectId('592f27286cb48027a4cbf3d8'), u'RetailerCity': u'Miami'}\n",
      "{u'RetailerName': u'Target', u'UserOccupation': u'Unknown', u'ProductPrice': u'1200', u'RetailerState': u'OH', u'ManufacturerRebate': u'No', u'ReviewDate': u'6/18/2014', u'ReviewText': u' Purchase this TV after 20 years of service from my old 32   Panasonic.  ', u'UserID': u'rispl90', u'ProductCategory': u'TV', u'ProductModelName': u'Samsung TV 60 LED', u'UserAge': u'37', u'RetailerOnSale': u'No', u'ManufacturerName': u'Samsung', u'ReviewRating': u'4', u'UserGender': u'Female', u'RetailerZip': u'44114', u'_id': ObjectId('592f27286cb48027a4cbf3de'), u'RetailerCity': u'Cleveland'}\n",
      "{u'RetailerName': u'Target', u'UserOccupation': u'Secratary', u'ProductPrice': u'402', u'RetailerState': u'CA', u'ManufacturerRebate': u'No', u'ReviewDate': u'4/19/2014', u'ReviewText': u'I loved this phone. ', u'UserID': u'glmic22', u'ProductCategory': u'Smart Phone', u'ProductModelName': u'Galaxy S4', u'UserAge': u'44', u'RetailerOnSale': u'No', u'ManufacturerName': u'Samsung', u'ReviewRating': u'5', u'UserGender': u'Female', u'RetailerZip': u'94102', u'_id': ObjectId('592f27286cb48027a4cbf3f3'), u'RetailerCity': u'San Francisco'}\n",
      "{u'RetailerName': u'Target', u'UserOccupation': u'Student', u'ProductPrice': u'319', u'RetailerState': u'CA', u'ManufacturerRebate': u'No', u'ReviewDate': u'2/15/2014', u'ReviewText': u' this laptop is just what I was looking for home office work', u'UserID': u'avgnu10', u'ProductCategory': u'Laptop', u'ProductModelName': u'HP PAVALION  15.6', u'UserAge': u'25', u'RetailerOnSale': u'No', u'ManufacturerName': u'HP', u'ReviewRating': u'5', u'UserGender': u'Male', u'RetailerZip': u'90033', u'_id': ObjectId('592f27286cb48027a4cbf3fd'), u'RetailerCity': u'Los Angeles'}\n",
      "{u'RetailerName': u'Target', u'UserOccupation': u'Secratary', u'ProductPrice': u'499', u'RetailerState': u'IL', u'ManufacturerRebate': u'No', u'ReviewDate': u'8/21/2014', u'ReviewText': u' Very quick', u'UserID': u'akztx26', u'ProductCategory': u'Laptop', u'ProductModelName': u'Dell Ispiron 15.6', u'UserAge': u'45', u'RetailerOnSale': u'No', u'ManufacturerName': u'Dell', u'ReviewRating': u'5', u'UserGender': u'Female', u'RetailerZip': u'60616', u'_id': ObjectId('592f27286cb48027a4cbf403'), u'RetailerCity': u'Chicago'}\n",
      "{u'RetailerName': u'Target', u'UserOccupation': u'Accountant', u'ProductPrice': u'402', u'RetailerState': u'CA', u'ManufacturerRebate': u'No', u'ReviewDate': u'12/05/14', u'ReviewText': u\"Sure the Galaxy 5 is out now...but if you're looking to upgrade from a flip-phone or an older model Galaxy...the 4 is out there with GREAT pricing too.\", u'UserID': u'noidp0', u'ProductCategory': u'Smart Phone', u'ProductModelName': u'Galaxy S4', u'UserAge': u'35', u'RetailerOnSale': u'No', u'ManufacturerName': u'Samsung', u'ReviewRating': u'5', u'UserGender': u'Male', u'RetailerZip': u'94158', u'_id': ObjectId('592f27286cb48027a4cbf406'), u'RetailerCity': u'San Francisco'}\n",
      "{u'RetailerName': u'Target', u'UserOccupation': u'Accountant', u'ProductPrice': u'349', u'RetailerState': u'CA', u'ManufacturerRebate': u'No', u'ReviewDate': u'8/18/2014', u'ReviewText': u\"I bought this for my son who is going to College in the fall. He loves it. He likes that it's light weight and has a lighted keypad.\", u'UserID': u'gftfh22', u'ProductCategory': u'Laptop', u'ProductModelName': u'Dell Ispiron 15.6', u'UserAge': u'35', u'RetailerOnSale': u'Yes', u'ManufacturerName': u'Dell', u'ReviewRating': u'5', u'UserGender': u'Male', u'RetailerZip': u'94158', u'_id': ObjectId('592f27286cb48027a4cbf414'), u'RetailerCity': u'San Francisco'}\n",
      "{u'RetailerName': u'Target', u'UserOccupation': u'Secratary', u'ProductPrice': u'589', u'RetailerState': u'CA', u'ManufacturerRebate': u'No', u'ReviewDate': u'9/13/2013', u'ReviewText': u' Apple hit a home run with the new iPhone 6. Personally', u'UserID': u'uabzu38', u'ProductCategory': u'Smart Phone', u'ProductModelName': u'iPhone 6', u'UserAge': u'19', u'RetailerOnSale': u'No', u'ManufacturerName': u'Apple', u'ReviewRating': u'5', u'UserGender': u'Male', u'RetailerZip': u'94158', u'_id': ObjectId('592f27286cb48027a4cbf41f'), u'RetailerCity': u'San Francisco'}\n",
      "{u'RetailerName': u'Target', u'UserOccupation': u'Secratary', u'ProductPrice': u'319', u'RetailerState': u'CA', u'ManufacturerRebate': u'No', u'ReviewDate': u'9/14/2014', u'ReviewText': u\" although there are many apps that I'll probably not use\", u'UserID': u'sfpcd84', u'ProductCategory': u'Laptop', u'ProductModelName': u'HP PAVALION  15.6', u'UserAge': u'56', u'RetailerOnSale': u'No', u'ManufacturerName': u'HP', u'ReviewRating': u'5', u'UserGender': u'Male', u'RetailerZip': u'90012', u'_id': ObjectId('592f27286cb48027a4cbf422'), u'RetailerCity': u'Los Angeles'}\n",
      "{u'RetailerName': u'Target', u'UserOccupation': u'Secratary', u'ProductPrice': u'925', u'RetailerState': u'CA', u'ManufacturerRebate': u'No', u'ReviewDate': u'12/20/2014', u'ReviewText': u' I still need to take the tutorials and learn more about using the Surface', u'UserID': u'aobsd12', u'ProductCategory': u'Tablet', u'ProductModelName': u'Surface 3', u'UserAge': u'34', u'RetailerOnSale': u'No', u'ManufacturerName': u'Microsoft', u'ReviewRating': u'4', u'UserGender': u'Male', u'RetailerZip': u'90012', u'_id': ObjectId('592f27286cb48027a4cbf436'), u'RetailerCity': u'Los Angeles'}\n",
      "{u'RetailerName': u'Target', u'UserOccupation': u'Unknown', u'ProductPrice': u'589', u'RetailerState': u'IL', u'ManufacturerRebate': u'No', u'ReviewDate': u'11/25/2014', u'ReviewText': u'The new iPhone 6 is everything and more.', u'UserID': u'jvcjf18', u'ProductCategory': u'Smart Phone', u'ProductModelName': u'iPhone 6', u'UserAge': u'30', u'RetailerOnSale': u'No', u'ManufacturerName': u'Apple', u'ReviewRating': u'5', u'UserGender': u'Male', u'RetailerZip': u'60616', u'_id': ObjectId('592f27286cb48027a4cbf439'), u'RetailerCity': u'Chicago'}\n",
      "{u'RetailerName': u'Target', u'UserOccupation': u'Programmer', u'ProductPrice': u'999', u'RetailerState': u'IL', u'ManufacturerRebate': u'No', u'ReviewDate': u'08/01/14', u'ReviewText': u'This computer picked up a virus the first day it went online even with virus protection.', u'UserID': u'lhjuk89', u'ProductCategory': u'Tablet', u'ProductModelName': u'Surface 3', u'UserAge': u'57', u'RetailerOnSale': u'No', u'ManufacturerName': u'Microsoft', u'ReviewRating': u'3', u'UserGender': u'Male', u'RetailerZip': u'60585', u'_id': ObjectId('592f27286cb48027a4cbf44b'), u'RetailerCity': u'Naperville'}\n",
      "{u'RetailerName': u'Target', u'UserOccupation': u'Accountant', u'ProductPrice': u'399', u'RetailerState': u'FL', u'ManufacturerRebate': u'No', u'ReviewDate': u'5/25/2014', u'ReviewText': u'I love my new phone and all the new features it offers', u'UserID': u'pnseg9', u'ProductCategory': u'Smart Phone', u'ProductModelName': u'iPhone 6', u'UserAge': u'52', u'RetailerOnSale': u'No', u'ManufacturerName': u'Apple', u'ReviewRating': u'4', u'UserGender': u'Male', u'RetailerZip': u'33129', u'_id': ObjectId('592f27286cb48027a4cbf44f'), u'RetailerCity': u'Miami'}\n",
      "{u'RetailerName': u'Target', u'UserOccupation': u'Student', u'ProductPrice': u'319', u'RetailerState': u'CA', u'ManufacturerRebate': u'No', u'ReviewDate': u'5/25/2014', u'ReviewText': u' This is my first touch screen', u'UserID': u'lwhoj94', u'ProductCategory': u'Laptop', u'ProductModelName': u'HP PAVALION  15.6', u'UserAge': u'52', u'RetailerOnSale': u'No', u'ManufacturerName': u'HP', u'ReviewRating': u'5', u'UserGender': u'Male', u'RetailerZip': u'90012', u'_id': ObjectId('592f27286cb48027a4cbf454'), u'RetailerCity': u'Los Angeles'}\n",
      "{u'RetailerName': u'Target', u'UserOccupation': u'Student', u'ProductPrice': u'299', u'RetailerState': u'FL', u'ManufacturerRebate': u'Yes', u'ReviewDate': u'7/21/2014', u'ReviewText': u'Ipads are the best devices around. Its ease of use and friendly demeanor are exceptional.', u'UserID': u'xocfk69', u'ProductCategory': u'Tablet', u'ProductModelName': u'iPad Air', u'UserAge': u'22', u'RetailerOnSale': u'Yes', u'ManufacturerName': u'Apple', u'ReviewRating': u'5', u'UserGender': u'Female', u'RetailerZip': u'33129', u'_id': ObjectId('592f27286cb48027a4cbf455'), u'RetailerCity': u'Miami'}\n",
      "{u'RetailerName': u'Target', u'UserOccupation': u'Unknown', u'ProductPrice': u'999', u'RetailerState': u'CA', u'ManufacturerRebate': u'No', u'ReviewDate': u'07/09/14', u'ReviewText': u' Excellent computer', u'UserID': u'zktyc81', u'ProductCategory': u'Tablet', u'ProductModelName': u'Surface 3', u'UserAge': u'40', u'RetailerOnSale': u'No', u'ManufacturerName': u'Microsoft', u'ReviewRating': u'5', u'UserGender': u'Male', u'RetailerZip': u'90012', u'_id': ObjectId('592f27286cb48027a4cbf45e'), u'RetailerCity': u'Los Angeles'}\n",
      "{u'RetailerName': u'Target', u'UserOccupation': u'Unknown', u'ProductPrice': u'925', u'RetailerState': u'CA', u'ManufacturerRebate': u'No', u'ReviewDate': u'10/21/2014', u'ReviewText': u' Great layout', u'UserID': u'qalso70', u'ProductCategory': u'Tablet', u'ProductModelName': u'Surface 3', u'UserAge': u'26', u'RetailerOnSale': u'No', u'ManufacturerName': u'Microsoft', u'ReviewRating': u'4', u'UserGender': u'Female', u'RetailerZip': u'90012', u'_id': ObjectId('592f27286cb48027a4cbf45f'), u'RetailerCity': u'Los Angeles'}\n",
      "{u'RetailerName': u'Target', u'UserOccupation': u'Programmer', u'ProductPrice': u'999', u'RetailerState': u'OH', u'ManufacturerRebate': u'No', u'ReviewDate': u'1/17/2015', u'ReviewText': u\" Great TV if you are looking for a 65   that doesn't need to be Smart. \", u'UserID': u'eysye94', u'ProductCategory': u'TV', u'ProductModelName': u'LG 65', u'UserAge': u'19', u'RetailerOnSale': u'No', u'ManufacturerName': u'LG', u'ReviewRating': u'4', u'UserGender': u'Male', u'RetailerZip': u'44114', u'_id': ObjectId('592f27286cb48027a4cbf460'), u'RetailerCity': u'Cleveland'}\n",
      "{u'RetailerName': u'Target', u'UserOccupation': u'Student', u'ProductPrice': u'299', u'RetailerState': u'CA', u'ManufacturerRebate': u'No', u'ReviewDate': u'03/10/15', u'ReviewText': u'Loving my new laptop. Took a while to decide but this is great', u'UserID': u'aebdi55', u'ProductCategory': u'Laptop', u'ProductModelName': u'HP PAVALION  15.6', u'UserAge': u'33', u'RetailerOnSale': u'Yes', u'ManufacturerName': u'HP', u'ReviewRating': u'5', u'UserGender': u'Male', u'RetailerZip': u'94102', u'_id': ObjectId('592f27286cb48027a4cbf463'), u'RetailerCity': u'San Francisco'}\n",
      "{u'RetailerName': u'Target', u'UserOccupation': u'Manager', u'ProductPrice': u'499', u'RetailerState': u'CA', u'ManufacturerRebate': u'No', u'ReviewDate': u'10/28/2014', u'ReviewText': u'I had the retina mini which was great but too small for web browsing comfortably for extended periods.', u'UserID': u'wzplo89', u'ProductCategory': u'Tablet', u'ProductModelName': u'iPad Air', u'UserAge': u'19', u'RetailerOnSale': u'No', u'ManufacturerName': u'Apple', u'ReviewRating': u'5', u'UserGender': u'Male', u'RetailerZip': u'90033', u'_id': ObjectId('592f27286cb48027a4cbf46b'), u'RetailerCity': u'Los Angeles'}\n",
      "{u'RetailerName': u'Target', u'UserOccupation': u'Accountant', u'ProductPrice': u'925', u'RetailerState': u'OH', u'ManufacturerRebate': u'No', u'ReviewDate': u'04/01/15', u'ReviewText': u' It is a tablet', u'UserID': u'ybsgp94', u'ProductCategory': u'Tablet', u'ProductModelName': u'Surface 3', u'UserAge': u'40', u'RetailerOnSale': u'No', u'ManufacturerName': u'Microsoft', u'ReviewRating': u'5', u'UserGender': u'Male', u'RetailerZip': u'44114', u'_id': ObjectId('592f27286cb48027a4cbf47c'), u'RetailerCity': u'Cleveland'}\n",
      "{u'RetailerName': u'Target', u'UserOccupation': u'Accountant', u'ProductPrice': u'589', u'RetailerState': u'CA', u'ManufacturerRebate': u'No', u'ReviewDate': u'12/01/14', u'ReviewText': u'As all other Iphones this is also a great unit. Some of the upgraded features are very good(print Lock/Unlock)', u'UserID': u'lniyv55', u'ProductCategory': u'Smart Phone', u'ProductModelName': u'iPhone 6', u'UserAge': u'24', u'RetailerOnSale': u'No', u'ManufacturerName': u'Apple', u'ReviewRating': u'5', u'UserGender': u'Female', u'RetailerZip': u'90012', u'_id': ObjectId('592f27286cb48027a4cbf482'), u'RetailerCity': u'Los Angeles'}\n",
      "{u'RetailerName': u'Target', u'UserOccupation': u'Manager', u'ProductPrice': u'925', u'RetailerState': u'MA', u'ManufacturerRebate': u'No', u'ReviewDate': u'02/01/13', u'ReviewText': u'Battery life could be better but it just depends on what your using it for.', u'UserID': u'gvtfg51', u'ProductCategory': u'Tablet', u'ProductModelName': u'Surface 3', u'UserAge': u'52', u'RetailerOnSale': u'No', u'ManufacturerName': u'Microsoft', u'ReviewRating': u'5', u'UserGender': u'Female', u'RetailerZip': u'2108', u'_id': ObjectId('592f27286cb48027a4cbf48c'), u'RetailerCity': u'Boston'}\n",
      "{u'RetailerName': u'Target', u'UserOccupation': u'Secratary', u'ProductPrice': u'402', u'RetailerState': u'GA', u'ManufacturerRebate': u'No', u'ReviewDate': u'07/10/13', u'ReviewText': u'For a first-time smart phone user this is a nice place to start. Having fun learning the ropes', u'UserID': u'tkvlc45', u'ProductCategory': u'Smart Phone', u'ProductModelName': u'Galaxy S4', u'UserAge': u'42', u'RetailerOnSale': u'No', u'ManufacturerName': u'Samsung', u'ReviewRating': u'4', u'UserGender': u'Male', u'RetailerZip': u'30134', u'_id': ObjectId('592f27286cb48027a4cbf496'), u'RetailerCity': u'Atlanta'}\n",
      "{u'RetailerName': u'Target', u'UserOccupation': u'Secratary', u'ProductPrice': u'349', u'RetailerState': u'IL', u'ManufacturerRebate': u'No', u'ReviewDate': u'6/21/2014', u'ReviewText': u'This tablet is very nice looking and performance is excellent as well. I like Samsung products. This tablet is very light and has pretty decent speakers for a tablet', u'UserID': u'aexeb99', u'ProductCategory': u'Tablet', u'ProductModelName': u'Samsung Tab 4', u'UserAge': u'34', u'RetailerOnSale': u'No', u'ManufacturerName': u'Samsung', u'ReviewRating': u'4', u'UserGender': u'Female', u'RetailerZip': u'60585', u'_id': ObjectId('592f27286cb48027a4cbf4a2'), u'RetailerCity': u'Naperville'}\n",
      "{u'RetailerName': u'Target', u'UserOccupation': u'Secratary', u'ProductPrice': u'2250', u'RetailerState': u'FL', u'ManufacturerRebate': u'No', u'ReviewDate': u'02/01/13', u'ReviewText': u' Has some edge lighting issues for sure', u'UserID': u'aeebo79', u'ProductCategory': u'TV', u'ProductModelName': u'LG 65', u'UserAge': u'24', u'RetailerOnSale': u'No', u'ManufacturerName': u'LG', u'ReviewRating': u'3', u'UserGender': u'Male', u'RetailerZip': u'33130', u'_id': ObjectId('592f27286cb48027a4cbf4a4'), u'RetailerCity': u'Miami'}\n",
      "{u'RetailerName': u'Target', u'UserOccupation': u'Manager', u'ProductPrice': u'960', u'RetailerState': u'CA', u'ManufacturerRebate': u'No', u'ReviewDate': u'12/27/2014', u'ReviewText': u'Great hardware but the software need some work the bugs in the take away from the level of refinement associated with Apple products .', u'UserID': u'goyzk65', u'ProductCategory': u'Smart Phone', u'ProductModelName': u'iPhone 6', u'UserAge': u'53', u'RetailerOnSale': u'No', u'ManufacturerName': u'Apple', u'ReviewRating': u'4', u'UserGender': u'Male', u'RetailerZip': u'90012', u'_id': ObjectId('592f27286cb48027a4cbf4a5'), u'RetailerCity': u'Los Angeles'}\n",
      "{u'RetailerName': u'Target', u'UserOccupation': u'Programmer', u'ProductPrice': u'319', u'RetailerState': u'CA', u'ManufacturerRebate': u'No', u'ReviewDate': u'08/10/13', u'ReviewText': u' Love the touch screen ', u'UserID': u'acpvj71', u'ProductCategory': u'Laptop', u'ProductModelName': u'HP PAVALION  15.6', u'UserAge': u'18', u'RetailerOnSale': u'No', u'ManufacturerName': u'HP', u'ReviewRating': u'5', u'UserGender': u'Male', u'RetailerZip': u'90033', u'_id': ObjectId('592f27286cb48027a4cbf4a7'), u'RetailerCity': u'Los Angeles'}\n",
      "{u'RetailerName': u'Target', u'UserOccupation': u'Unknown', u'ProductPrice': u'299', u'RetailerState': u'CA', u'ManufacturerRebate': u'No', u'ReviewDate': u'11/29/2014', u'ReviewText': u'Screen is amazing nice to watch movies. It has everything you could wasnt.', u'UserID': u'fdhgh25', u'ProductCategory': u'Tablet', u'ProductModelName': u'Samsung Tab 4', u'UserAge': u'19', u'RetailerOnSale': u'Yes', u'ManufacturerName': u'Samsung', u'ReviewRating': u'5', u'UserGender': u'Male', u'RetailerZip': u'94102', u'_id': ObjectId('592f27286cb48027a4cbf4a9'), u'RetailerCity': u'San Francisco'}\n",
      "{u'RetailerName': u'Target', u'UserOccupation': u'Accountant', u'ProductPrice': u'1899', u'RetailerState': u'CA', u'ManufacturerRebate': u'Yes', u'ReviewDate': u'10/21/2014', u'ReviewText': u'To bad i couldnt stand the strange halo effect moving objects had it was unbearable to watch. ', u'UserID': u'bgvia59', u'ProductCategory': u'TV', u'ProductModelName': u'Samsung TV 65 Curved', u'UserAge': u'22', u'RetailerOnSale': u'Yes', u'ManufacturerName': u'Samsung', u'ReviewRating': u'3', u'UserGender': u'Male', u'RetailerZip': u'94158', u'_id': ObjectId('592f27286cb48027a4cbf4b2'), u'RetailerCity': u'San Francisco'}\n",
      "{u'RetailerName': u'Target', u'UserOccupation': u'Student', u'ProductPrice': u'349', u'RetailerState': u'IL', u'ManufacturerRebate': u'No', u'ReviewDate': u'3/24/2014', u'ReviewText': u'love love love this thing.', u'UserID': u'apwtr88', u'ProductCategory': u'Laptop', u'ProductModelName': u'Dell Ispiron 15.6', u'UserAge': u'22', u'RetailerOnSale': u'Yes', u'ManufacturerName': u'Dell', u'ReviewRating': u'3', u'UserGender': u'Male', u'RetailerZip': u'60616', u'_id': ObjectId('592f27286cb48027a4cbf4b3'), u'RetailerCity': u'Chicago'}\n",
      "{u'RetailerName': u'Target', u'UserOccupation': u'Secratary', u'ProductPrice': u'298', u'RetailerState': u'IL', u'ManufacturerRebate': u'Yes', u'ReviewDate': u'9/20/2014', u'ReviewText': u'This laptop is the best and the windows 8.1 is awesome.', u'UserID': u'uyafy16', u'ProductCategory': u'Laptop', u'ProductModelName': u'HP PAVALION  15.6', u'UserAge': u'58', u'RetailerOnSale': u'Yes', u'ManufacturerName': u'HP', u'ReviewRating': u'4', u'UserGender': u'Female', u'RetailerZip': u'60616', u'_id': ObjectId('592f27286cb48027a4cbf4c4'), u'RetailerCity': u'Chicago'}\n",
      "{u'RetailerName': u'Target', u'UserOccupation': u'Manager', u'ProductPrice': u'319', u'RetailerState': u'CA', u'ManufacturerRebate': u'No', u'ReviewDate': u'9/17/2014', u'ReviewText': u'I BOUGHT THIS ITEM FOR EBAY. THIS COMPUTER IS GREAT TO USE AND HAS EVERYTHING I NEED. ADVISE TO PURCHASE!', u'UserID': u'ohkhd26', u'ProductCategory': u'Laptop', u'ProductModelName': u'HP PAVALION  15.6', u'UserAge': u'49', u'RetailerOnSale': u'No', u'ManufacturerName': u'HP', u'ReviewRating': u'3', u'UserGender': u'Male', u'RetailerZip': u'94102', u'_id': ObjectId('592f27286cb48027a4cbf4cf'), u'RetailerCity': u'San Francisco'}\n",
      "{u'RetailerName': u'Target', u'UserOccupation': u'Programmer', u'ProductPrice': u'1900', u'RetailerState': u'CA', u'ManufacturerRebate': u'No', u'ReviewDate': u'5/25/2014', u'ReviewText': u'Picture quality is ok. Inside Bestbuy stores TVs picture quality is great?', u'UserID': u'kagpj63', u'ProductCategory': u'TV', u'ProductModelName': u'Samsung TV 65 Curved', u'UserAge': u'59', u'RetailerOnSale': u'No', u'ManufacturerName': u'Samsung', u'ReviewRating': u'2', u'UserGender': u'Male', u'RetailerZip': u'90012', u'_id': ObjectId('592f27286cb48027a4cbf4d0'), u'RetailerCity': u'Los Angeles'}\n",
      "{u'RetailerName': u'Target', u'UserOccupation': u'Unknown', u'ProductPrice': u'960', u'RetailerState': u'FL', u'ManufacturerRebate': u'No', u'ReviewDate': u'12/01/14', u'ReviewText': u'So glad i bought the 64GB. I need the extra space and love it.', u'UserID': u'oziaz15', u'ProductCategory': u'Smart Phone', u'ProductModelName': u'iPhone 6', u'UserAge': u'37', u'RetailerOnSale': u'No', u'ManufacturerName': u'Apple', u'ReviewRating': u'5', u'UserGender': u'Male', u'RetailerZip': u'33130', u'_id': ObjectId('592f27286cb48027a4cbf4e5'), u'RetailerCity': u'Miami'}\n",
      "{u'RetailerName': u'Target', u'UserOccupation': u'Unknown', u'ProductPrice': u'399', u'RetailerState': u'GA', u'ManufacturerRebate': u'No', u'ReviewDate': u'3/14/2013', u'ReviewText': u'I had an Iphone before this. I enjoy the larger screen and ease of use.', u'UserID': u'zdhqq35', u'ProductCategory': u'Smart Phone', u'ProductModelName': u'Galaxy S4', u'UserAge': u'40', u'RetailerOnSale': u'No', u'ManufacturerName': u'Samsung', u'ReviewRating': u'5', u'UserGender': u'Female', u'RetailerZip': u'30303', u'_id': ObjectId('592f27286cb48027a4cbf4e6'), u'RetailerCity': u'Atlanta'}\n",
      "{u'RetailerName': u'Target', u'UserOccupation': u'Accountant', u'ProductPrice': u'349', u'RetailerState': u'CA', u'ManufacturerRebate': u'No', u'ReviewDate': u'4/19/2014', u'ReviewText': u' Nice tablet but not able to get all the apps I would like to get that are available for the ipad. If you are an Apple fan', u'UserID': u'avsuf70', u'ProductCategory': u'Tablet', u'ProductModelName': u'Samsung Tab 4', u'UserAge': u'28', u'RetailerOnSale': u'No', u'ManufacturerName': u'Samsung', u'ReviewRating': u'3', u'UserGender': u'Female', u'RetailerZip': u'94158', u'_id': ObjectId('592f27286cb48027a4cbf4e9'), u'RetailerCity': u'San Francisco'}\n",
      "{u'RetailerName': u'Target', u'UserOccupation': u'Unknown', u'ProductPrice': u'299', u'RetailerState': u'IL', u'ManufacturerRebate': u'No', u'ReviewDate': u'4/19/2014', u'ReviewText': u'Since I use a samsung galaxy phone it was really easy to transition to the tablet. The battery life is amazing.', u'UserID': u'nqejm71', u'ProductCategory': u'Tablet', u'ProductModelName': u'Samsung Tab 4', u'UserAge': u'50', u'RetailerOnSale': u'Yes', u'ManufacturerName': u'Samsung', u'ReviewRating': u'5', u'UserGender': u'Female', u'RetailerZip': u'60616', u'_id': ObjectId('592f27286cb48027a4cbf4fc'), u'RetailerCity': u'Chicago'}\n",
      "{u'RetailerName': u'Target', u'UserOccupation': u'Manager', u'ProductPrice': u'349', u'RetailerState': u'MA', u'ManufacturerRebate': u'No', u'ReviewDate': u'04/01/15', u'ReviewText': u'Purchased the tablet for my mom. She will use it on the road when she travels instead of carrying her laptop with her. ', u'UserID': u'nsjij59', u'ProductCategory': u'Tablet', u'ProductModelName': u'Samsung Tab 4', u'UserAge': u'58', u'RetailerOnSale': u'No', u'ManufacturerName': u'Samsung', u'ReviewRating': u'3', u'UserGender': u'Male', u'RetailerZip': u'2110', u'_id': ObjectId('592f27286cb48027a4cbf4ff'), u'RetailerCity': u'Boston'}\n",
      "{u'RetailerName': u'Target', u'UserOccupation': u'Manager', u'ProductPrice': u'1899', u'RetailerState': u'FL', u'ManufacturerRebate': u'Yes', u'ReviewDate': u'12/27/2014', u'ReviewText': u'This TV has the best quality by far hands down on all the TVs outthere.', u'UserID': u'jnqvm82', u'ProductCategory': u'TV', u'ProductModelName': u'Samsung TV 65 Curved', u'UserAge': u'40', u'RetailerOnSale': u'Yes', u'ManufacturerName': u'Samsung', u'ReviewRating': u'3', u'UserGender': u'Male', u'RetailerZip': u'33129', u'_id': ObjectId('592f27286cb48027a4cbf516'), u'RetailerCity': u'Miami'}\n",
      "{u'RetailerName': u'Target', u'UserOccupation': u'Accountant', u'ProductPrice': u'1799', u'RetailerState': u'MA', u'ManufacturerRebate': u'Yes', u'ReviewDate': u'5/25/2014', u'ReviewText': u'The only reason why I give it a 3 stars is because the way the TV is shaped affects the dark screen or black images because the lights that project behind the led panel it comes out in the edges creating white spots and clouds', u'UserID': u'spfia42', u'ProductCategory': u'TV', u'ProductModelName': u'Samsung TV 65 Curved', u'UserAge': u'38', u'RetailerOnSale': u'Yes', u'ManufacturerName': u'Samsung', u'ReviewRating': u'3', u'UserGender': u'Male', u'RetailerZip': u'2108', u'_id': ObjectId('592f27286cb48027a4cbf51e'), u'RetailerCity': u'Boston'}\n",
      "{u'RetailerName': u'Target', u'UserOccupation': u'Unknown', u'ProductPrice': u'2199', u'RetailerState': u'IL', u'ManufacturerRebate': u'No', u'ReviewDate': u'2/29/2015', u'ReviewText': u'during scenes where there is a lot of motion', u'UserID': u'vjejh86', u'ProductCategory': u'TV', u'ProductModelName': u'Samsung TV 65 Curved', u'UserAge': u'43', u'RetailerOnSale': u'No', u'ManufacturerName': u'Samsung', u'ReviewRating': u'4', u'UserGender': u'Male', u'RetailerZip': u'60603', u'_id': ObjectId('592f27286cb48027a4cbf522'), u'RetailerCity': u'Chicago'}\n",
      "{u'RetailerName': u'Target', u'UserOccupation': u'Accountant', u'ProductPrice': u'999', u'RetailerState': u'OH', u'ManufacturerRebate': u'No', u'ReviewDate': u'8/18/2014', u'ReviewText': u'I got this TV because of the great price.', u'UserID': u'aqbfc49', u'ProductCategory': u'TV', u'ProductModelName': u'LG 65', u'UserAge': u'22', u'RetailerOnSale': u'No', u'ManufacturerName': u'LG', u'ReviewRating': u'4', u'UserGender': u'Male', u'RetailerZip': u'44114', u'_id': ObjectId('592f27286cb48027a4cbf525'), u'RetailerCity': u'Cleveland'}\n",
      "{u'RetailerName': u'Target', u'UserOccupation': u'Unknown', u'ProductPrice': u'349', u'RetailerState': u'IL', u'ManufacturerRebate': u'No', u'ReviewDate': u'05/12/14', u'ReviewText': u' Bought 2 inferior 10.1 tablets before deciding on the Samsung Tab 4 8  . Should have bought this for wifey from the beginning but she is a novice. ', u'UserID': u'kelys63', u'ProductCategory': u'Tablet', u'ProductModelName': u'Samsung Tab 4', u'UserAge': u'58', u'RetailerOnSale': u'No', u'ManufacturerName': u'Samsung', u'ReviewRating': u'4', u'UserGender': u'Male', u'RetailerZip': u'60616', u'_id': ObjectId('592f27286cb48027a4cbf528'), u'RetailerCity': u'Chicago'}\n",
      "{u'RetailerName': u'Target', u'UserOccupation': u'Manager', u'ProductPrice': u'299', u'RetailerState': u'CA', u'ManufacturerRebate': u'No', u'ReviewDate': u'12/01/14', u'ReviewText': u' Looking forward to using it', u'UserID': u'wwpek19', u'ProductCategory': u'Tablet', u'ProductModelName': u'Samsung Tab 4', u'UserAge': u'47', u'RetailerOnSale': u'Yes', u'ManufacturerName': u'Samsung', u'ReviewRating': u'4', u'UserGender': u'Male', u'RetailerZip': u'94102', u'_id': ObjectId('592f27286cb48027a4cbf52d'), u'RetailerCity': u'San Francisco'}\n",
      "{u'RetailerName': u'Target', u'UserOccupation': u'Accountant', u'ProductPrice': u'299', u'RetailerState': u'FL', u'ManufacturerRebate': u'No', u'ReviewDate': u'6/21/2014', u'ReviewText': u'Just much more cumbersome to use than an iPad. Freezes a lot.', u'UserID': u'oalzu45', u'ProductCategory': u'Tablet', u'ProductModelName': u'Samsung Tab 4', u'UserAge': u'29', u'RetailerOnSale': u'Yes', u'ManufacturerName': u'Samsung', u'ReviewRating': u'2', u'UserGender': u'Female', u'RetailerZip': u'33129', u'_id': ObjectId('592f27286cb48027a4cbf53a'), u'RetailerCity': u'Miami'}\n",
      "{u'RetailerName': u'Target', u'UserOccupation': u'Student', u'ProductPrice': u'1899', u'RetailerState': u'IL', u'ManufacturerRebate': u'Yes', u'ReviewDate': u'10/28/2014', u'ReviewText': u'Curved feature creates a slightly 3d feel. ', u'UserID': u'yqmif85', u'ProductCategory': u'TV', u'ProductModelName': u'Samsung TV 65 Curved', u'UserAge': u'55', u'RetailerOnSale': u'Yes', u'ManufacturerName': u'Samsung', u'ReviewRating': u'4', u'UserGender': u'Male', u'RetailerZip': u'60603', u'_id': ObjectId('592f27286cb48027a4cbf540'), u'RetailerCity': u'Chicago'}\n",
      "{u'RetailerName': u'Target', u'UserOccupation': u'Programmer', u'ProductPrice': u'298', u'RetailerState': u'IL', u'ManufacturerRebate': u'Yes', u'ReviewDate': u'10/25/2014', u'ReviewText': u'I love this computer! It is like having a laptop and tablet in one machine', u'UserID': u'umblu1', u'ProductCategory': u'Laptop', u'ProductModelName': u'HP PAVALION  15.6', u'UserAge': u'18', u'RetailerOnSale': u'Yes', u'ManufacturerName': u'HP', u'ReviewRating': u'3', u'UserGender': u'Male', u'RetailerZip': u'60603', u'_id': ObjectId('592f27286cb48027a4cbf547'), u'RetailerCity': u'Chicago'}\n",
      "{u'RetailerName': u'Target', u'UserOccupation': u'Accountant', u'ProductPrice': u'925', u'RetailerState': u'MA', u'ManufacturerRebate': u'No', u'ReviewDate': u'10/08/14', u'ReviewText': u'The Surface Pro 3 is a great device if you want the portability of a tablet with the power of a PC.', u'UserID': u'radsl73', u'ProductCategory': u'Tablet', u'ProductModelName': u'Surface 3', u'UserAge': u'50', u'RetailerOnSale': u'No', u'ManufacturerName': u'Microsoft', u'ReviewRating': u'5', u'UserGender': u'Male', u'RetailerZip': u'2110', u'_id': ObjectId('592f27286cb48027a4cbf572'), u'RetailerCity': u'Boston'}\n",
      "{u'RetailerName': u'Target', u'UserOccupation': u'Accountant', u'ProductPrice': u'449', u'RetailerState': u'CA', u'ManufacturerRebate': u'No', u'ReviewDate': u'12/05/14', u'ReviewText': u'it work great a lot better thing the other one i had before that was no good it great on my WiFi to thank you', u'UserID': u'hdgad45', u'ProductCategory': u'Laptop', u'ProductModelName': u'Dell Ispiron 15.6', u'UserAge': u'44', u'RetailerOnSale': u'Yes', u'ManufacturerName': u'Dell', u'ReviewRating': u'5', u'UserGender': u'Male', u'RetailerZip': u'94102', u'_id': ObjectId('592f27286cb48027a4cbf57d'), u'RetailerCity': u'San Francisco'}\n",
      "{u'RetailerName': u'Target', u'UserOccupation': u'Accountant', u'ProductPrice': u'376', u'RetailerState': u'CA', u'ManufacturerRebate': u'No', u'ReviewDate': u'2/29/2015', u'ReviewText': u'I was looking for a new laptop to upgrade 7 year old HP laptop. This is a good laptop for the price and its super fast.', u'UserID': u'jwbzp79', u'ProductCategory': u'Laptop', u'ProductModelName': u'HP PAVALION  15.6', u'UserAge': u'49', u'RetailerOnSale': u'No', u'ManufacturerName': u'HP', u'ReviewRating': u'5', u'UserGender': u'Male', u'RetailerZip': u'90033', u'_id': ObjectId('592f27286cb48027a4cbf596'), u'RetailerCity': u'Los Angeles'}\n",
      "{u'RetailerName': u'Target', u'UserOccupation': u'Student', u'ProductPrice': u'499', u'RetailerState': u'CA', u'ManufacturerRebate': u'No', u'ReviewDate': u'9/24/2014', u'ReviewText': u'It is lightweight and easy to set up and use. I like the screen size and the new windows operating system is great.', u'UserID': u'icade41', u'ProductCategory': u'Laptop', u'ProductModelName': u'Dell Ispiron 15.6', u'UserAge': u'50', u'RetailerOnSale': u'No', u'ManufacturerName': u'Dell', u'ReviewRating': u'5', u'UserGender': u'Male', u'RetailerZip': u'94102', u'_id': ObjectId('592f27286cb48027a4cbf599'), u'RetailerCity': u'San Francisco'}\n",
      "{u'RetailerName': u'Target', u'UserOccupation': u'Unknown', u'ProductPrice': u'849', u'RetailerState': u'CA', u'ManufacturerRebate': u'Yes', u'ReviewDate': u'8/18/2014', u'ReviewText': u'Impressive TV! Fantastic price.', u'UserID': u'afnly21', u'ProductCategory': u'TV', u'ProductModelName': u'LG 65', u'UserAge': u'26', u'RetailerOnSale': u'Yes', u'ManufacturerName': u'LG', u'ReviewRating': u'4', u'UserGender': u'Female', u'RetailerZip': u'94158', u'_id': ObjectId('592f27286cb48027a4cbf5a1'), u'RetailerCity': u'San Francisco'}\n",
      "{u'RetailerName': u'Target', u'UserOccupation': u'Student', u'ProductPrice': u'849', u'RetailerState': u'CA', u'ManufacturerRebate': u'Yes', u'ReviewDate': u'06/10/14', u'ReviewText': u'LG tvs are always good and the price was just right', u'UserID': u'mlypz12', u'ProductCategory': u'TV', u'ProductModelName': u'LG 65', u'UserAge': u'25', u'RetailerOnSale': u'Yes', u'ManufacturerName': u'LG', u'ReviewRating': u'5', u'UserGender': u'Female', u'RetailerZip': u'90033', u'_id': ObjectId('592f27286cb48027a4cbf5a3'), u'RetailerCity': u'Los Angeles'}\n",
      "{u'RetailerName': u'Target', u'UserOccupation': u'Manager', u'ProductPrice': u'399', u'RetailerState': u'OH', u'ManufacturerRebate': u'No', u'ReviewDate': u'8/18/2014', u'ReviewText': u'This is the best phone ever! I have service everywhere and its bigger than the 5. I love this phone!!!', u'UserID': u'mzzgz89', u'ProductCategory': u'Smart Phone', u'ProductModelName': u'iPhone 6', u'UserAge': u'48', u'RetailerOnSale': u'No', u'ManufacturerName': u'Apple', u'ReviewRating': u'5', u'UserGender': u'Male', u'RetailerZip': u'44114', u'_id': ObjectId('592f27286cb48027a4cbf5a8'), u'RetailerCity': u'Cleveland'}\n",
      "{u'RetailerName': u'Target', u'UserOccupation': u'Student', u'ProductPrice': u'402', u'RetailerState': u'CA', u'ManufacturerRebate': u'No', u'ReviewDate': u'7/16/2014', u'ReviewText': u'My daughter really likes this phone - we bought it for her as a first smart phone. Takes good pictures.', u'UserID': u'cnysc99', u'ProductCategory': u'Smart Phone', u'ProductModelName': u'Galaxy S4', u'UserAge': u'37', u'RetailerOnSale': u'No', u'ManufacturerName': u'Samsung', u'ReviewRating': u'4', u'UserGender': u'Male', u'RetailerZip': u'90012', u'_id': ObjectId('592f27286cb48027a4cbf5af'), u'RetailerCity': u'Los Angeles'}\n",
      "{u'RetailerName': u'Target', u'UserOccupation': u'Manager', u'ProductPrice': u'2199', u'RetailerState': u'IL', u'ManufacturerRebate': u'No', u'ReviewDate': u'4/29/2014', u'ReviewText': u'so glad i got this right before march madness began!', u'UserID': u'lkidv22', u'ProductCategory': u'TV', u'ProductModelName': u'Samsung TV 65 Curved', u'UserAge': u'42', u'RetailerOnSale': u'No', u'ManufacturerName': u'Samsung', u'ReviewRating': u'5', u'UserGender': u'Male', u'RetailerZip': u'60603', u'_id': ObjectId('592f27286cb48027a4cbf5b3'), u'RetailerCity': u'Chicago'}\n",
      "{u'RetailerName': u'Target', u'UserOccupation': u'Unknown', u'ProductPrice': u'2250', u'RetailerState': u'MA', u'ManufacturerRebate': u'No', u'ReviewDate': u'04/01/13', u'ReviewText': u'Had great experience and got just what we needed.', u'UserID': u'exdvp47', u'ProductCategory': u'TV', u'ProductModelName': u'LG 65', u'UserAge': u'43', u'RetailerOnSale': u'No', u'ManufacturerName': u'LG', u'ReviewRating': u'5', u'UserGender': u'Male', u'RetailerZip': u'2108', u'_id': ObjectId('592f27286cb48027a4cbf5ba'), u'RetailerCity': u'Boston'}\n",
      "{u'RetailerName': u'Target', u'UserOccupation': u'Student', u'ProductPrice': u'1100', u'RetailerState': u'MA', u'ManufacturerRebate': u'No', u'ReviewDate': u'12/10/14', u'ReviewText': u'This T.V. is great! It does everything.', u'UserID': u'ibrhy74', u'ProductCategory': u'TV', u'ProductModelName': u'Samsung TV 60 LED', u'UserAge': u'46', u'RetailerOnSale': u'Yes', u'ManufacturerName': u'Samsung', u'ReviewRating': u'5', u'UserGender': u'Female', u'RetailerZip': u'2110', u'_id': ObjectId('592f27286cb48027a4cbf5bb'), u'RetailerCity': u'Boston'}\n",
      "{u'RetailerName': u'Target', u'UserOccupation': u'Programmer', u'ProductPrice': u'849', u'RetailerState': u'IL', u'ManufacturerRebate': u'Yes', u'ReviewDate': u'6/21/2014', u'ReviewText': u'No complaints with this tv. ', u'UserID': u'skszi8', u'ProductCategory': u'TV', u'ProductModelName': u'LG 65', u'UserAge': u'57', u'RetailerOnSale': u'Yes', u'ManufacturerName': u'LG', u'ReviewRating': u'5', u'UserGender': u'Male', u'RetailerZip': u'60585', u'_id': ObjectId('592f27286cb48027a4cbf5be'), u'RetailerCity': u'Naperville'}\n",
      "{u'RetailerName': u'Target', u'UserOccupation': u'Accountant', u'ProductPrice': u'402', u'RetailerState': u'IL', u'ManufacturerRebate': u'No', u'ReviewDate': u'2/15/2014', u'ReviewText': u' Major improvement over my Samsung Galaxy II Skyrocket. Larger 5   screen', u'UserID': u'gzkle53', u'ProductCategory': u'Smart Phone', u'ProductModelName': u'Galaxy S4', u'UserAge': u'20', u'RetailerOnSale': u'No', u'ManufacturerName': u'Samsung', u'ReviewRating': u'5', u'UserGender': u'Male', u'RetailerZip': u'60585', u'_id': ObjectId('592f27286cb48027a4cbf5bf'), u'RetailerCity': u'Naperville'}\n",
      "{u'RetailerName': u'Target', u'UserOccupation': u'Manager', u'ProductPrice': u'402', u'RetailerState': u'IL', u'ManufacturerRebate': u'No', u'ReviewDate': u'2/29/2015', u'ReviewText': u' I upgraded from my Galaxy S3 with a little hesitation. It looked the same', u'UserID': u'kwxca46', u'ProductCategory': u'Smart Phone', u'ProductModelName': u'Galaxy S4', u'UserAge': u'55', u'RetailerOnSale': u'No', u'ManufacturerName': u'Samsung', u'ReviewRating': u'4', u'UserGender': u'Male', u'RetailerZip': u'60585', u'_id': ObjectId('592f27286cb48027a4cbf5c2'), u'RetailerCity': u'Naperville'}\n",
      "{u'RetailerName': u'Target', u'UserOccupation': u'Student', u'ProductPrice': u'399', u'RetailerState': u'IL', u'ManufacturerRebate': u'No', u'ReviewDate': u'5/15/2013', u'ReviewText': u' I like the larger screen phones', u'UserID': u'tqmgo57', u'ProductCategory': u'Smart Phone', u'ProductModelName': u'iPhone 6', u'UserAge': u'43', u'RetailerOnSale': u'No', u'ManufacturerName': u'Apple', u'ReviewRating': u'3', u'UserGender': u'Male', u'RetailerZip': u'60603', u'_id': ObjectId('592f27286cb48027a4cbf5cc'), u'RetailerCity': u'Chicago'}\n",
      "{u'RetailerName': u'Target', u'UserOccupation': u'Accountant', u'ProductPrice': u'960', u'RetailerState': u'CA', u'ManufacturerRebate': u'No', u'ReviewDate': u'8/17/2014', u'ReviewText': u' I love the new i6 phone. The size is perfect', u'UserID': u'zdnjf0', u'ProductCategory': u'Smart Phone', u'ProductModelName': u'iPhone 6', u'UserAge': u'50', u'RetailerOnSale': u'No', u'ManufacturerName': u'Apple', u'ReviewRating': u'5', u'UserGender': u'Female', u'RetailerZip': u'90012', u'_id': ObjectId('592f27286cb48027a4cbf5cf'), u'RetailerCity': u'Los Angeles'}\n",
      "{u'RetailerName': u'Target', u'UserOccupation': u'Unknown', u'ProductPrice': u'299', u'RetailerState': u'IL', u'ManufacturerRebate': u'No', u'ReviewDate': u'6/26/2014', u'ReviewText': u' This computer was exactly what I was looking for! Was a little hesitant on the Windows 8', u'UserID': u'tilpv47', u'ProductCategory': u'Laptop', u'ProductModelName': u'HP PAVALION  15.6', u'UserAge': u'54', u'RetailerOnSale': u'Yes', u'ManufacturerName': u'HP', u'ReviewRating': u'5', u'UserGender': u'Male', u'RetailerZip': u'60616', u'_id': ObjectId('592f27286cb48027a4cbf5d4'), u'RetailerCity': u'Chicago'}\n",
      "{u'RetailerName': u'Target', u'UserOccupation': u'Manager', u'ProductPrice': u'2199', u'RetailerState': u'CA', u'ManufacturerRebate': u'No', u'ReviewDate': u'12/20/2014', u'ReviewText': u\" After I turned this tv on I knew I'd be taking it back the next day\", u'UserID': u'ohbbk3', u'ProductCategory': u'TV', u'ProductModelName': u'Samsung TV 65 Curved', u'UserAge': u'28', u'RetailerOnSale': u'No', u'ManufacturerName': u'Samsung', u'ReviewRating': u'4', u'UserGender': u'Male', u'RetailerZip': u'94158', u'_id': ObjectId('592f27286cb48027a4cbf5d9'), u'RetailerCity': u'San Francisco'}\n",
      "{u'RetailerName': u'Target', u'UserOccupation': u'Programmer', u'ProductPrice': u'499', u'RetailerState': u'IL', u'ManufacturerRebate': u'No', u'ReviewDate': u'12/14/2014', u'ReviewText': u' breaks easily', u'UserID': u'pbxhr55', u'ProductCategory': u'Tablet', u'ProductModelName': u'iPad Air', u'UserAge': u'21', u'RetailerOnSale': u'No', u'ManufacturerName': u'Apple', u'ReviewRating': u'1', u'UserGender': u'Male', u'RetailerZip': u'60603', u'_id': ObjectId('592f27286cb48027a4cbf5e1'), u'RetailerCity': u'Chicago'}\n",
      "{u'RetailerName': u'Target', u'UserOccupation': u'Manager', u'ProductPrice': u'449', u'RetailerState': u'FL', u'ManufacturerRebate': u'No', u'ReviewDate': u'7/19/2014', u'ReviewText': u'Nice lappy from Dell.', u'UserID': u'ferek97', u'ProductCategory': u'Laptop', u'ProductModelName': u'Dell Ispiron 15.6', u'UserAge': u'34', u'RetailerOnSale': u'Yes', u'ManufacturerName': u'Dell', u'ReviewRating': u'5', u'UserGender': u'Male', u'RetailerZip': u'33130', u'_id': ObjectId('592f27286cb48027a4cbf5e3'), u'RetailerCity': u'Miami'}\n",
      "{u'RetailerName': u'Target', u'UserOccupation': u'Manager', u'ProductPrice': u'969', u'RetailerState': u'IL', u'ManufacturerRebate': u'No', u'ReviewDate': u'04/01/15', u'ReviewText': u' This takes me from the construction site to the office seamlessly', u'UserID': u'cdxdh38', u'ProductCategory': u'Tablet', u'ProductModelName': u'Surface 3', u'UserAge': u'28', u'RetailerOnSale': u'No', u'ManufacturerName': u'Microsoft', u'ReviewRating': u'4', u'UserGender': u'Male', u'RetailerZip': u'60603', u'_id': ObjectId('592f27286cb48027a4cbf5ea'), u'RetailerCity': u'Chicago'}\n",
      "{u'RetailerName': u'Target', u'UserOccupation': u'Manager', u'ProductPrice': u'499', u'RetailerState': u'IL', u'ManufacturerRebate': u'No', u'ReviewDate': u'2/15/2015', u'ReviewText': u'I purchased two IPads at the same time and the price is what made me go ahead and buy two.', u'UserID': u'awwot59', u'ProductCategory': u'Tablet', u'ProductModelName': u'iPad Air', u'UserAge': u'32', u'RetailerOnSale': u'No', u'ManufacturerName': u'Apple', u'ReviewRating': u'5', u'UserGender': u'Female', u'RetailerZip': u'60603', u'_id': ObjectId('592f27286cb48027a4cbf5ed'), u'RetailerCity': u'Chicago'}\n",
      "{u'RetailerName': u'Target', u'UserOccupation': u'Unknown', u'ProductPrice': u'299', u'RetailerState': u'IL', u'ManufacturerRebate': u'No', u'ReviewDate': u'11/25/2014', u'ReviewText': u'Bought this for my mom as a Christmas gift and she loves it.', u'UserID': u'ilcha91', u'ProductCategory': u'Tablet', u'ProductModelName': u'Samsung Tab 4', u'UserAge': u'23', u'RetailerOnSale': u'Yes', u'ManufacturerName': u'Samsung', u'ReviewRating': u'4', u'UserGender': u'Female', u'RetailerZip': u'60616', u'_id': ObjectId('592f27286cb48027a4cbf5ee'), u'RetailerCity': u'Chicago'}\n",
      "{u'RetailerName': u'Target', u'UserOccupation': u'Student', u'ProductPrice': u'849', u'RetailerState': u'IL', u'ManufacturerRebate': u'Yes', u'ReviewDate': u'02/01/13', u'ReviewText': u' slow wifi connection even with 15 ft.', u'UserID': u'sznqv55', u'ProductCategory': u'TV', u'ProductModelName': u'LG 65', u'UserAge': u'51', u'RetailerOnSale': u'Yes', u'ManufacturerName': u'LG', u'ReviewRating': u'1', u'UserGender': u'Male', u'RetailerZip': u'60616', u'_id': ObjectId('592f27286cb48027a4cbf5f4'), u'RetailerCity': u'Chicago'}\n",
      "{u'RetailerName': u'Target', u'UserOccupation': u'Unknown', u'ProductPrice': u'2250', u'RetailerState': u'CA', u'ManufacturerRebate': u'No', u'ReviewDate': u'12/10/14', u'ReviewText': u'I am very pleased with my purchase.', u'UserID': u'jyaiz98', u'ProductCategory': u'TV', u'ProductModelName': u'LG 65', u'UserAge': u'54', u'RetailerOnSale': u'No', u'ManufacturerName': u'LG', u'ReviewRating': u'4', u'UserGender': u'Female', u'RetailerZip': u'90033', u'_id': ObjectId('592f27286cb48027a4cbf5fc'), u'RetailerCity': u'Los Angeles'}\n",
      "{u'RetailerName': u'Target', u'UserOccupation': u'Unknown', u'ProductPrice': u'2099', u'RetailerState': u'OH', u'ManufacturerRebate': u'No', u'ReviewDate': u'5/15/2013', u'ReviewText': u'Bought this as a second 4K to go along with my Sony. ', u'UserID': u'pqfld34', u'ProductCategory': u'TV', u'ProductModelName': u'Samsung TV 65 Curved', u'UserAge': u'55', u'RetailerOnSale': u'Yes', u'ManufacturerName': u'Samsung', u'ReviewRating': u'4', u'UserGender': u'Male', u'RetailerZip': u'44114', u'_id': ObjectId('592f27286cb48027a4cbf620'), u'RetailerCity': u'Cleveland'}\n",
      "{u'RetailerName': u'Target', u'UserOccupation': u'Accountant', u'ProductPrice': u'925', u'RetailerState': u'OH', u'ManufacturerRebate': u'No', u'ReviewDate': u'4/19/2014', u'ReviewText': u'Very fast and stable platform.', u'UserID': u'zpshx11', u'ProductCategory': u'Tablet', u'ProductModelName': u'Surface 3', u'UserAge': u'56', u'RetailerOnSale': u'No', u'ManufacturerName': u'Microsoft', u'ReviewRating': u'4', u'UserGender': u'Male', u'RetailerZip': u'44114', u'_id': ObjectId('592f27286cb48027a4cbf638'), u'RetailerCity': u'Cleveland'}\n",
      "{u'RetailerName': u'Target', u'UserOccupation': u'Manager', u'ProductPrice': u'1200', u'RetailerState': u'CA', u'ManufacturerRebate': u'No', u'ReviewDate': u'8/21/2014', u'ReviewText': u' I have not had a lot of time to really get into the different things that can all be done with this tv be it seems the options are almost endless. It has a great picture', u'UserID': u'bizhe23', u'ProductCategory': u'TV', u'ProductModelName': u'Samsung TV 60 LED', u'UserAge': u'31', u'RetailerOnSale': u'No', u'ManufacturerName': u'Samsung', u'ReviewRating': u'5', u'UserGender': u'Male', u'RetailerZip': u'94158', u'_id': ObjectId('592f27286cb48027a4cbf658'), u'RetailerCity': u'San Francisco'}\n",
      "{u'RetailerName': u'Target', u'UserOccupation': u'Unknown', u'ProductPrice': u'499', u'RetailerState': u'IL', u'ManufacturerRebate': u'No', u'ReviewDate': u'9/24/2014', u'ReviewText': u'The apps available make the iPad such an amazing product. ', u'UserID': u'vbbxz63', u'ProductCategory': u'Tablet', u'ProductModelName': u'iPad Air', u'UserAge': u'25', u'RetailerOnSale': u'No', u'ManufacturerName': u'Apple', u'ReviewRating': u'5', u'UserGender': u'Male', u'RetailerZip': u'60603', u'_id': ObjectId('592f27286cb48027a4cbf65a'), u'RetailerCity': u'Chicago'}\n",
      "{u'RetailerName': u'Target', u'UserOccupation': u'Manager', u'ProductPrice': u'960', u'RetailerState': u'CA', u'ManufacturerRebate': u'No', u'ReviewDate': u'08/10/13', u'ReviewText': u'The Apple iPhone six is the best iPhone to date.', u'UserID': u'guoue74', u'ProductCategory': u'Smart Phone', u'ProductModelName': u'iPhone 6', u'UserAge': u'32', u'RetailerOnSale': u'No', u'ManufacturerName': u'Apple', u'ReviewRating': u'5', u'UserGender': u'Male', u'RetailerZip': u'94102', u'_id': ObjectId('592f27286cb48027a4cbf65c'), u'RetailerCity': u'San Francisco'}\n",
      "{u'RetailerName': u'Target', u'UserOccupation': u'Programmer', u'ProductPrice': u'960', u'RetailerState': u'FL', u'ManufacturerRebate': u'No', u'ReviewDate': u'7/19/2014', u'ReviewText': u'I love using Apple Pay. And all the extra storage in it.', u'UserID': u'sssks59', u'ProductCategory': u'Smart Phone', u'ProductModelName': u'iPhone 6', u'UserAge': u'40', u'RetailerOnSale': u'No', u'ManufacturerName': u'Apple', u'ReviewRating': u'5', u'UserGender': u'Female', u'RetailerZip': u'33129', u'_id': ObjectId('592f27286cb48027a4cbf65e'), u'RetailerCity': u'Miami'}\n",
      "{u'RetailerName': u'Target', u'UserOccupation': u'Manager', u'ProductPrice': u'425', u'RetailerState': u'CA', u'ManufacturerRebate': u'No', u'ReviewDate': u'5/23/2014', u'ReviewText': u' I got this for my 92 yr old mother in law', u'UserID': u'dillc90', u'ProductCategory': u'Tablet', u'ProductModelName': u'iPad Air', u'UserAge': u'53', u'RetailerOnSale': u'Yes', u'ManufacturerName': u'Apple', u'ReviewRating': u'5', u'UserGender': u'Male', u'RetailerZip': u'90033', u'_id': ObjectId('592f27286cb48027a4cbf67a'), u'RetailerCity': u'Los Angeles'}\n",
      "{u'RetailerName': u'Target', u'UserOccupation': u'Accountant', u'ProductPrice': u'1200', u'RetailerState': u'CA', u'ManufacturerRebate': u'No', u'ReviewDate': u'08/10/13', u'ReviewText': u'slwo wifi when I stream Netflix', u'UserID': u'kzlfd39', u'ProductCategory': u'TV', u'ProductModelName': u'Samsung TV 60 LED', u'UserAge': u'57', u'RetailerOnSale': u'No', u'ManufacturerName': u'Samsung', u'ReviewRating': u'2', u'UserGender': u'Male', u'RetailerZip': u'90033', u'_id': ObjectId('592f27286cb48027a4cbf67d'), u'RetailerCity': u'Los Angeles'}\n",
      "{u'RetailerName': u'Target', u'UserOccupation': u'Student', u'ProductPrice': u'299', u'RetailerState': u'CA', u'ManufacturerRebate': u'No', u'ReviewDate': u'6/18/2014', u'ReviewText': u' It is very easy to use', u'UserID': u'dhxxq55', u'ProductCategory': u'Laptop', u'ProductModelName': u'HP PAVALION  15.6', u'UserAge': u'42', u'RetailerOnSale': u'Yes', u'ManufacturerName': u'HP', u'ReviewRating': u'4', u'UserGender': u'Male', u'RetailerZip': u'94102', u'_id': ObjectId('592f27286cb48027a4cbf67f'), u'RetailerCity': u'San Francisco'}\n",
      "{u'RetailerName': u'Target', u'UserOccupation': u'Student', u'ProductPrice': u'299', u'RetailerState': u'IL', u'ManufacturerRebate': u'No', u'ReviewDate': u'10/28/2014', u'ReviewText': u'I have tried all 4 operating systems on smartphones. I', u'UserID': u'ohmik89', u'ProductCategory': u'Smart Phone', u'ProductModelName': u'iPhone 6', u'UserAge': u'48', u'RetailerOnSale': u'Yes', u'ManufacturerName': u'Apple', u'ReviewRating': u'5', u'UserGender': u'Male', u'RetailerZip': u'60616', u'_id': ObjectId('592f27286cb48027a4cbf681'), u'RetailerCity': u'Chicago'}\n",
      "{u'RetailerName': u'Target', u'UserOccupation': u'Unknown', u'ProductPrice': u'499', u'RetailerState': u'FL', u'ManufacturerRebate': u'No', u'ReviewDate': u'7/19/2014', u'ReviewText': u' Great laptop', u'UserID': u'ucoab56', u'ProductCategory': u'Laptop', u'ProductModelName': u'Dell Ispiron 15.6', u'UserAge': u'59', u'RetailerOnSale': u'No', u'ManufacturerName': u'Dell', u'ReviewRating': u'4', u'UserGender': u'Male', u'RetailerZip': u'33129', u'_id': ObjectId('592f27286cb48027a4cbf685'), u'RetailerCity': u'Miami'}\n",
      "{u'RetailerName': u'Target', u'UserOccupation': u'Student', u'ProductPrice': u'589', u'RetailerState': u'CA', u'ManufacturerRebate': u'No', u'ReviewDate': u'8/21/2014', u'ReviewText': u'  Great audio', u'UserID': u'hesvs77', u'ProductCategory': u'Smart Phone', u'ProductModelName': u'iPhone 6', u'UserAge': u'56', u'RetailerOnSale': u'No', u'ManufacturerName': u'Apple', u'ReviewRating': u'4', u'UserGender': u'Male', u'RetailerZip': u'94102', u'_id': ObjectId('592f27286cb48027a4cbf68a'), u'RetailerCity': u'San Francisco'}\n",
      "{u'RetailerName': u'Target', u'UserOccupation': u'Manager', u'ProductPrice': u'299', u'RetailerState': u'OH', u'ManufacturerRebate': u'Yes', u'ReviewDate': u'9/14/2014', u'ReviewText': u'I am really enjoying my Ipad. The colors are amazing and I can still fit tons on it with only 16GB. It interacts very well with itunes and my old ipod.', u'UserID': u'vpxps16', u'ProductCategory': u'Tablet', u'ProductModelName': u'iPad Air', u'UserAge': u'43', u'RetailerOnSale': u'Yes', u'ManufacturerName': u'Apple', u'ReviewRating': u'5', u'UserGender': u'Female', u'RetailerZip': u'44114', u'_id': ObjectId('592f27286cb48027a4cbf68f'), u'RetailerCity': u'Cleveland'}\n",
      "{u'RetailerName': u'Target', u'UserOccupation': u'Student', u'ProductPrice': u'2250', u'RetailerState': u'FL', u'ManufacturerRebate': u'No', u'ReviewDate': u'6/18/2013', u'ReviewText': u'Love it and would recommend to others to buy one too.', u'UserID': u'iyakv5', u'ProductCategory': u'TV', u'ProductModelName': u'LG 65', u'UserAge': u'28', u'RetailerOnSale': u'No', u'ManufacturerName': u'LG', u'ReviewRating': u'4', u'UserGender': u'Female', u'RetailerZip': u'33129', u'_id': ObjectId('592f27286cb48027a4cbf691'), u'RetailerCity': u'Miami'}\n",
      "{u'RetailerName': u'Target', u'UserOccupation': u'Unknown', u'ProductPrice': u'499', u'RetailerState': u'CA', u'ManufacturerRebate': u'No', u'ReviewDate': u'10/21/2014', u'ReviewText': u\"Works great for editing gopro movies. It's fast with no problems\", u'UserID': u'ptotr64', u'ProductCategory': u'Laptop', u'ProductModelName': u'Dell Ispiron 15.6', u'UserAge': u'50', u'RetailerOnSale': u'No', u'ManufacturerName': u'Dell', u'ReviewRating': u'5', u'UserGender': u'Female', u'RetailerZip': u'90033', u'_id': ObjectId('592f27286cb48027a4cbf693'), u'RetailerCity': u'Los Angeles'}\n",
      "{u'RetailerName': u'Target', u'UserOccupation': u'Accountant', u'ProductPrice': u'925', u'RetailerState': u'CA', u'ManufacturerRebate': u'No', u'ReviewDate': u'12/15/2013', u'ReviewText': u'It is NOT a laptop. I took it back the next day.', u'UserID': u'nuyls75', u'ProductCategory': u'Tablet', u'ProductModelName': u'Surface 3', u'UserAge': u'25', u'RetailerOnSale': u'No', u'ManufacturerName': u'Microsoft', u'ReviewRating': u'1', u'UserGender': u'Female', u'RetailerZip': u'94158', u'_id': ObjectId('592f27286cb48027a4cbf694'), u'RetailerCity': u'San Francisco'}\n",
      "{u'RetailerName': u'Target', u'UserOccupation': u'Accountant', u'ProductPrice': u'299', u'RetailerState': u'IL', u'ManufacturerRebate': u'No', u'ReviewDate': u'9/20/2014', u'ReviewText': u' overall phone is pretty sleek and stylish', u'UserID': u'vzdwc52', u'ProductCategory': u'Smart Phone', u'ProductModelName': u'iPhone 6', u'UserAge': u'33', u'RetailerOnSale': u'Yes', u'ManufacturerName': u'Apple', u'ReviewRating': u'3', u'UserGender': u'Male', u'RetailerZip': u'60603', u'_id': ObjectId('592f27286cb48027a4cbf695'), u'RetailerCity': u'Chicago'}\n",
      "{u'RetailerName': u'Target', u'UserOccupation': u'Unknown', u'ProductPrice': u'269', u'RetailerState': u'IL', u'ManufacturerRebate': u'Yes', u'ReviewDate': u'1/15/2012', u'ReviewText': u'I am totally thrilled with this phone. We are doing more', u'UserID': u'tclxd35', u'ProductCategory': u'Smart Phone', u'ProductModelName': u'Galaxy S4', u'UserAge': u'39', u'RetailerOnSale': u'Yes', u'ManufacturerName': u'Samsung', u'ReviewRating': u'5', u'UserGender': u'Male', u'RetailerZip': u'60616', u'_id': ObjectId('592f27286cb48027a4cbf6a7'), u'RetailerCity': u'Chicago'}\n",
      "{u'RetailerName': u'Target', u'UserOccupation': u'Secratary', u'ProductPrice': u'390', u'RetailerState': u'MA', u'ManufacturerRebate': u'No', u'ReviewDate': u'11/10/14', u'ReviewText': u\"Love it. It has things on the s4 that the S2 did not have and I'm learning them quickly.\", u'UserID': u'qfppb44', u'ProductCategory': u'Smart Phone', u'ProductModelName': u'Galaxy S4', u'UserAge': u'52', u'RetailerOnSale': u'Yes', u'ManufacturerName': u'Samsung', u'ReviewRating': u'4', u'UserGender': u'Male', u'RetailerZip': u'2109', u'_id': ObjectId('592f27286cb48027a4cbf6b0'), u'RetailerCity': u'Boston'}\n",
      "{u'RetailerName': u'Target', u'UserOccupation': u'Manager', u'ProductPrice': u'2099', u'RetailerState': u'FL', u'ManufacturerRebate': u'No', u'ReviewDate': u'8/21/2014', u'ReviewText': u'it has a really nice picture. the sound is good. the color is excellent.', u'UserID': u'clmfq4', u'ProductCategory': u'TV', u'ProductModelName': u'Samsung TV 65 Curved', u'UserAge': u'28', u'RetailerOnSale': u'Yes', u'ManufacturerName': u'Samsung', u'ReviewRating': u'4', u'UserGender': u'Male', u'RetailerZip': u'33129', u'_id': ObjectId('592f27286cb48027a4cbf6c2'), u'RetailerCity': u'Miami'}\n",
      "{u'RetailerName': u'Target', u'UserOccupation': u'Manager', u'ProductPrice': u'449', u'RetailerState': u'IL', u'ManufacturerRebate': u'No', u'ReviewDate': u'6/21/2014', u'ReviewText': u'Really good price at Bestbuy for this new Dell model 7547', u'UserID': u'dvtld99', u'ProductCategory': u'Laptop', u'ProductModelName': u'Dell Ispiron 15.6', u'UserAge': u'32', u'RetailerOnSale': u'Yes', u'ManufacturerName': u'Dell', u'ReviewRating': u'5', u'UserGender': u'Male', u'RetailerZip': u'60616', u'_id': ObjectId('592f27286cb48027a4cbf6c5'), u'RetailerCity': u'Chicago'}\n",
      "{u'RetailerName': u'Target', u'UserOccupation': u'Programmer', u'ProductPrice': u'499', u'RetailerState': u'CA', u'ManufacturerRebate': u'No', u'ReviewDate': u'6/26/2014', u'ReviewText': u' I bought this for school use as an e-reader and browsing and so far', u'UserID': u'lvagk60', u'ProductCategory': u'Tablet', u'ProductModelName': u'iPad Air', u'UserAge': u'31', u'RetailerOnSale': u'No', u'ManufacturerName': u'Apple', u'ReviewRating': u'5', u'UserGender': u'Male', u'RetailerZip': u'94158', u'_id': ObjectId('592f27286cb48027a4cbf6c9'), u'RetailerCity': u'San Francisco'}\n",
      "{u'RetailerName': u'Target', u'UserOccupation': u'Programmer', u'ProductPrice': u'299', u'RetailerState': u'CA', u'ManufacturerRebate': u'Yes', u'ReviewDate': u'10/21/2014', u'ReviewText': u'speaker quality could be better. other then that its amazing love it', u'UserID': u'xbegq28', u'ProductCategory': u'Tablet', u'ProductModelName': u'iPad Air', u'UserAge': u'19', u'RetailerOnSale': u'Yes', u'ManufacturerName': u'Apple', u'ReviewRating': u'4', u'UserGender': u'Male', u'RetailerZip': u'90012', u'_id': ObjectId('592f27286cb48027a4cbf6de'), u'RetailerCity': u'Los Angeles'}\n",
      "{u'RetailerName': u'Target', u'UserOccupation': u'Manager', u'ProductPrice': u'925', u'RetailerState': u'IL', u'ManufacturerRebate': u'No', u'ReviewDate': u'12/20/2014', u'ReviewText': u' I really like my Surface', u'UserID': u'wsnna59', u'ProductCategory': u'Tablet', u'ProductModelName': u'Surface 3', u'UserAge': u'30', u'RetailerOnSale': u'No', u'ManufacturerName': u'Microsoft', u'ReviewRating': u'4', u'UserGender': u'Male', u'RetailerZip': u'60603', u'_id': ObjectId('592f27286cb48027a4cbf6e6'), u'RetailerCity': u'Chicago'}\n",
      "{u'RetailerName': u'Target', u'UserOccupation': u'Manager', u'ProductPrice': u'1900', u'RetailerState': u'OH', u'ManufacturerRebate': u'No', u'ReviewDate': u'9/20/2014', u'ReviewText': u' Would recomend this tv', u'UserID': u'tvrkt70', u'ProductCategory': u'TV', u'ProductModelName': u'Samsung TV 65 Curved', u'UserAge': u'40', u'RetailerOnSale': u'No', u'ManufacturerName': u'Samsung', u'ReviewRating': u'4', u'UserGender': u'Male', u'RetailerZip': u'44114', u'_id': ObjectId('592f27286cb48027a4cbf6fa'), u'RetailerCity': u'Cleveland'}\n",
      "{u'RetailerName': u'Target', u'UserOccupation': u'Accountant', u'ProductPrice': u'499', u'RetailerState': u'OH', u'ManufacturerRebate': u'No', u'ReviewDate': u'12/27/2014', u'ReviewText': u'No complaints from this purchase. Does exactly what I need.', u'UserID': u'xxmwj40', u'ProductCategory': u'Tablet', u'ProductModelName': u'iPad Air', u'UserAge': u'20', u'RetailerOnSale': u'No', u'ManufacturerName': u'Apple', u'ReviewRating': u'4', u'UserGender': u'Female', u'RetailerZip': u'44114', u'_id': ObjectId('592f27286cb48027a4cbf6fc'), u'RetailerCity': u'Cleveland'}\n",
      "{u'RetailerName': u'Target', u'UserOccupation': u'Accountant', u'ProductPrice': u'999', u'RetailerState': u'CA', u'ManufacturerRebate': u'No', u'ReviewDate': u'4/19/2014', u'ReviewText': u\"Horrible quality and picture but that's what I get for a cheap tv\", u'UserID': u'bxaoj2', u'ProductCategory': u'TV', u'ProductModelName': u'LG 65', u'UserAge': u'54', u'RetailerOnSale': u'No', u'ManufacturerName': u'LG', u'ReviewRating': u'1', u'UserGender': u'Male', u'RetailerZip': u'94158', u'_id': ObjectId('592f27286cb48027a4cbf6ff'), u'RetailerCity': u'San Francisco'}\n",
      "{u'RetailerName': u'Target', u'UserOccupation': u'Secratary', u'ProductPrice': u'298', u'RetailerState': u'CA', u'ManufacturerRebate': u'Yes', u'ReviewDate': u'7/23/2014', u'ReviewText': u'I love this computer I thought it would be hard to use but very easy', u'UserID': u'ybwme50', u'ProductCategory': u'Laptop', u'ProductModelName': u'HP PAVALION  15.6', u'UserAge': u'54', u'RetailerOnSale': u'Yes', u'ManufacturerName': u'HP', u'ReviewRating': u'5', u'UserGender': u'Female', u'RetailerZip': u'94158', u'_id': ObjectId('592f27286cb48027a4cbf716'), u'RetailerCity': u'San Francisco'}\n",
      "{u'RetailerName': u'Target', u'UserOccupation': u'Programmer', u'ProductPrice': u'899', u'RetailerState': u'CA', u'ManufacturerRebate': u'No', u'ReviewDate': u'5/19/2014', u'ReviewText': u'unable to turn on the tablet pc despite even plugging power cord in. ', u'UserID': u'xzorf61', u'ProductCategory': u'Tablet', u'ProductModelName': u'Surface 3', u'UserAge': u'41', u'RetailerOnSale': u'Yes', u'ManufacturerName': u'Microsoft', u'ReviewRating': u'3', u'UserGender': u'Male', u'RetailerZip': u'94158', u'_id': ObjectId('592f27286cb48027a4cbf727'), u'RetailerCity': u'San Francisco'}\n",
      "{u'RetailerName': u'Target', u'UserOccupation': u'Accountant', u'ProductPrice': u'299', u'RetailerState': u'IL', u'ManufacturerRebate': u'No', u'ReviewDate': u'5/19/2014', u'ReviewText': u'The tablet does everything I wanted it to do. It is a great buy and I would recommend it to any parent who is starting a pre-teen out with something small but useful.', u'UserID': u'miipt11', u'ProductCategory': u'Tablet', u'ProductModelName': u'Samsung Tab 4', u'UserAge': u'35', u'RetailerOnSale': u'Yes', u'ManufacturerName': u'Samsung', u'ReviewRating': u'5', u'UserGender': u'Male', u'RetailerZip': u'60616', u'_id': ObjectId('592f27286cb48027a4cbf72f'), u'RetailerCity': u'Chicago'}\n",
      "{u'RetailerName': u'Target', u'UserOccupation': u'Accountant', u'ProductPrice': u'999', u'RetailerState': u'CA', u'ManufacturerRebate': u'No', u'ReviewDate': u'8/21/2014', u'ReviewText': u' Very good TV', u'UserID': u'cbbru6', u'ProductCategory': u'TV', u'ProductModelName': u'LG 65', u'UserAge': u'52', u'RetailerOnSale': u'No', u'ManufacturerName': u'LG', u'ReviewRating': u'4', u'UserGender': u'Male', u'RetailerZip': u'94158', u'_id': ObjectId('592f27286cb48027a4cbf730'), u'RetailerCity': u'San Francisco'}\n",
      "{u'RetailerName': u'Target', u'UserOccupation': u'Programmer', u'ProductPrice': u'849', u'RetailerState': u'MA', u'ManufacturerRebate': u'Yes', u'ReviewDate': u'9/21/2014', u'ReviewText': u'Top quality at a bargain price.', u'UserID': u'hqhir37', u'ProductCategory': u'TV', u'ProductModelName': u'LG 65', u'UserAge': u'52', u'RetailerOnSale': u'Yes', u'ManufacturerName': u'LG', u'ReviewRating': u'5', u'UserGender': u'Male', u'RetailerZip': u'2110', u'_id': ObjectId('592f27286cb48027a4cbf733'), u'RetailerCity': u'Boston'}\n",
      "{u'RetailerName': u'Target', u'UserOccupation': u'Accountant', u'ProductPrice': u'399', u'RetailerState': u'FL', u'ManufacturerRebate': u'No', u'ReviewDate': u'2/15/2015', u'ReviewText': u'Had to exchange this one for another because the battery overheated and the phone would not power off or restart', u'UserID': u'swoja34', u'ProductCategory': u'Smart Phone', u'ProductModelName': u'Galaxy S4', u'UserAge': u'25', u'RetailerOnSale': u'No', u'ManufacturerName': u'Samsung', u'ReviewRating': u'3', u'UserGender': u'Female', u'RetailerZip': u'33130', u'_id': ObjectId('592f27286cb48027a4cbf736'), u'RetailerCity': u'Miami'}\n",
      "{u'RetailerName': u'Target', u'UserOccupation': u'Student', u'ProductPrice': u'2199', u'RetailerState': u'CA', u'ManufacturerRebate': u'No', u'ReviewDate': u'8/21/2014', u'ReviewText': u'Picture is great if only there were more 4k content', u'UserID': u'bmpnt90', u'ProductCategory': u'TV', u'ProductModelName': u'Samsung TV 65 Curved', u'UserAge': u'18', u'RetailerOnSale': u'No', u'ManufacturerName': u'Samsung', u'ReviewRating': u'5', u'UserGender': u'Male', u'RetailerZip': u'94158', u'_id': ObjectId('592f27286cb48027a4cbf746'), u'RetailerCity': u'San Francisco'}\n",
      "{u'RetailerName': u'Target', u'UserOccupation': u'Unknown', u'ProductPrice': u'2199', u'RetailerState': u'FL', u'ManufacturerRebate': u'No', u'ReviewDate': u'11/25/2014', u'ReviewText': u'Newer models look a little better in terms of the physical unit itself', u'UserID': u'cdhtc14', u'ProductCategory': u'TV', u'ProductModelName': u'Samsung TV 65 Curved', u'UserAge': u'36', u'RetailerOnSale': u'No', u'ManufacturerName': u'Samsung', u'ReviewRating': u'4', u'UserGender': u'Male', u'RetailerZip': u'33129', u'_id': ObjectId('592f27286cb48027a4cbf75f'), u'RetailerCity': u'Miami'}\n",
      "{u'RetailerName': u'Target', u'UserOccupation': u'Manager', u'ProductPrice': u'449', u'RetailerState': u'CA', u'ManufacturerRebate': u'No', u'ReviewDate': u'10/14/2014', u'ReviewText': u'Awesome laptop. Amazing features which my daughter appreciates when she does her projects using office.', u'UserID': u'bwrvq94', u'ProductCategory': u'Laptop', u'ProductModelName': u'Dell Ispiron 15.6', u'UserAge': u'54', u'RetailerOnSale': u'Yes', u'ManufacturerName': u'Dell', u'ReviewRating': u'5', u'UserGender': u'Male', u'RetailerZip': u'94102', u'_id': ObjectId('592f27286cb48027a4cbf762'), u'RetailerCity': u'San Francisco'}\n",
      "{u'RetailerName': u'Target', u'UserOccupation': u'Unknown', u'ProductPrice': u'999', u'RetailerState': u'CA', u'ManufacturerRebate': u'No', u'ReviewDate': u'08/01/14', u'ReviewText': u'I picked up this tv because it was a good deal and I needed a large tv for the living room that was HD but not necessarily 4k and not necessarily a smart tv.', u'UserID': u'mcmmu52', u'ProductCategory': u'TV', u'ProductModelName': u'LG 65', u'UserAge': u'50', u'RetailerOnSale': u'No', u'ManufacturerName': u'LG', u'ReviewRating': u'4', u'UserGender': u'Male', u'RetailerZip': u'90012', u'_id': ObjectId('592f27286cb48027a4cbf768'), u'RetailerCity': u'Los Angeles'}\n",
      "{u'RetailerName': u'Target', u'UserOccupation': u'Secratary', u'ProductPrice': u'1200', u'RetailerState': u'IL', u'ManufacturerRebate': u'No', u'ReviewDate': u'9/24/2014', u'ReviewText': u' The TV is great', u'UserID': u'ktdbs23', u'ProductCategory': u'TV', u'ProductModelName': u'Samsung TV 60 LED', u'UserAge': u'27', u'RetailerOnSale': u'No', u'ManufacturerName': u'Samsung', u'ReviewRating': u'3', u'UserGender': u'Female', u'RetailerZip': u'60603', u'_id': ObjectId('592f27286cb48027a4cbf76b'), u'RetailerCity': u'Chicago'}\n",
      "{u'RetailerName': u'Target', u'UserOccupation': u'Unknown', u'ProductPrice': u'299', u'RetailerState': u'IL', u'ManufacturerRebate': u'Yes', u'ReviewDate': u'5/25/2014', u'ReviewText': u' Amazing device that allows me to watch my shows', u'UserID': u'zlanw30', u'ProductCategory': u'Tablet', u'ProductModelName': u'iPad Air', u'UserAge': u'23', u'RetailerOnSale': u'Yes', u'ManufacturerName': u'Apple', u'ReviewRating': u'5', u'UserGender': u'Male', u'RetailerZip': u'60603', u'_id': ObjectId('592f27286cb48027a4cbf774'), u'RetailerCity': u'Chicago'}\n",
      "{u'RetailerName': u'Target', u'UserOccupation': u'Unknown', u'ProductPrice': u'849', u'RetailerState': u'IL', u'ManufacturerRebate': u'Yes', u'ReviewDate': u'12/10/14', u'ReviewText': u' I was looking for a good deal on a large   dumb   TV to connect to my media center.  ', u'UserID': u'egkcp55', u'ProductCategory': u'TV', u'ProductModelName': u'LG 65', u'UserAge': u'22', u'RetailerOnSale': u'Yes', u'ManufacturerName': u'LG', u'ReviewRating': u'3', u'UserGender': u'Male', u'RetailerZip': u'60603', u'_id': ObjectId('592f27286cb48027a4cbf778'), u'RetailerCity': u'Chicago'}\n",
      "{u'RetailerName': u'Target', u'UserOccupation': u'Student', u'ProductPrice': u'849', u'RetailerState': u'IL', u'ManufacturerRebate': u'Yes', u'ReviewDate': u'9/19/2013', u'ReviewText': u'This is my first flat screen tv that is this big in size I must say I AM VERY HAPPY WITH MY PURCHASE', u'UserID': u'uvpvz9', u'ProductCategory': u'TV', u'ProductModelName': u'LG 65', u'UserAge': u'53', u'RetailerOnSale': u'Yes', u'ManufacturerName': u'LG', u'ReviewRating': u'5', u'UserGender': u'Male', u'RetailerZip': u'60616', u'_id': ObjectId('592f27286cb48027a4cbf791'), u'RetailerCity': u'Chicago'}\n",
      "{u'RetailerName': u'Target', u'UserOccupation': u'Student', u'ProductPrice': u'1200', u'RetailerState': u'CA', u'ManufacturerRebate': u'No', u'ReviewDate': u'10/13/2013', u'ReviewText': u\"Was not really in the market for a 4K TV but Bestbuy had this for a good price. Blue Rays look awesome but 1080i content looks a little grainy. Can't wait for more 4K content in the future.\", u'UserID': u'yemrq81', u'ProductCategory': u'TV', u'ProductModelName': u'Samsung TV 60 LED', u'UserAge': u'51', u'RetailerOnSale': u'No', u'ManufacturerName': u'Samsung', u'ReviewRating': u'4', u'UserGender': u'Male', u'RetailerZip': u'94158', u'_id': ObjectId('592f27286cb48027a4cbf792'), u'RetailerCity': u'San Francisco'}\n",
      "{u'RetailerName': u'Target', u'UserOccupation': u'Student', u'ProductPrice': u'299', u'RetailerState': u'FL', u'ManufacturerRebate': u'Yes', u'ReviewDate': u'11/29/2014', u'ReviewText': u'Safari could not start because server would stop responding.', u'UserID': u'cukoa49', u'ProductCategory': u'Tablet', u'ProductModelName': u'iPad Air', u'UserAge': u'52', u'RetailerOnSale': u'Yes', u'ManufacturerName': u'Apple', u'ReviewRating': u'2', u'UserGender': u'Male', u'RetailerZip': u'33130', u'_id': ObjectId('592f27286cb48027a4cbf797'), u'RetailerCity': u'Miami'}\n",
      "{u'RetailerName': u'Target', u'UserOccupation': u'Secratary', u'ProductPrice': u'376', u'RetailerState': u'CA', u'ManufacturerRebate': u'No', u'ReviewDate': u'12/14/2014', u'ReviewText': u\"I am glad I spent the extra $100. it is a very nice computer with several nice features I wasn't looking for.\", u'UserID': u'typug2', u'ProductCategory': u'Laptop', u'ProductModelName': u'HP PAVALION  15.6', u'UserAge': u'53', u'RetailerOnSale': u'No', u'ManufacturerName': u'HP', u'ReviewRating': u'4', u'UserGender': u'Male', u'RetailerZip': u'94102', u'_id': ObjectId('592f27286cb48027a4cbf7b0'), u'RetailerCity': u'San Francisco'}\n",
      "{u'RetailerName': u'Target', u'UserOccupation': u'Unknown', u'ProductPrice': u'269', u'RetailerState': u'CA', u'ManufacturerRebate': u'Yes', u'ReviewDate': u'10/14/2014', u'ReviewText': u' My son loves his new phone. He got the Samsung Galaxy s4', u'UserID': u'ldbxb96', u'ProductCategory': u'Smart Phone', u'ProductModelName': u'Galaxy S4', u'UserAge': u'46', u'RetailerOnSale': u'Yes', u'ManufacturerName': u'Samsung', u'ReviewRating': u'5', u'UserGender': u'Male', u'RetailerZip': u'94102', u'_id': ObjectId('592f27286cb48027a4cbf7b4'), u'RetailerCity': u'San Francisco'}\n",
      "{u'RetailerName': u'Target', u'UserOccupation': u'Programmer', u'ProductPrice': u'402', u'RetailerState': u'MA', u'ManufacturerRebate': u'No', u'ReviewDate': u'5/25/2014', u'ReviewText': u'I would recommend this phone for anyone. Great Phone. Easy to use.', u'UserID': u'rekwk31', u'ProductCategory': u'Smart Phone', u'ProductModelName': u'Galaxy S4', u'UserAge': u'38', u'RetailerOnSale': u'No', u'ManufacturerName': u'Samsung', u'ReviewRating': u'4', u'UserGender': u'Male', u'RetailerZip': u'2108', u'_id': ObjectId('592f27286cb48027a4cbf7b9'), u'RetailerCity': u'Boston'}\n",
      "{u'RetailerName': u'Target', u'UserOccupation': u'Unknown', u'ProductPrice': u'1899', u'RetailerState': u'IL', u'ManufacturerRebate': u'Yes', u'ReviewDate': u'3/24/2014', u'ReviewText': u' I must make it very clear with the correct setup', u'UserID': u'gpsts82', u'ProductCategory': u'TV', u'ProductModelName': u'Samsung TV 65 Curved', u'UserAge': u'33', u'RetailerOnSale': u'Yes', u'ManufacturerName': u'Samsung', u'ReviewRating': u'4', u'UserGender': u'Male', u'RetailerZip': u'60616', u'_id': ObjectId('592f27286cb48027a4cbf7c1'), u'RetailerCity': u'Chicago'}\n",
      "{u'RetailerName': u'Target', u'UserOccupation': u'Unknown', u'ProductPrice': u'299', u'RetailerState': u'IL', u'ManufacturerRebate': u'No', u'ReviewDate': u'10/28/2014', u'ReviewText': u'Previously owned several Android devices and flipped to iPhone 4s last year which was a great phone and I highly anticipated the 6.', u'UserID': u'qlgrj32', u'ProductCategory': u'Smart Phone', u'ProductModelName': u'iPhone 6', u'UserAge': u'57', u'RetailerOnSale': u'Yes', u'ManufacturerName': u'Apple', u'ReviewRating': u'5', u'UserGender': u'Male', u'RetailerZip': u'60603', u'_id': ObjectId('592f27286cb48027a4cbf7c3'), u'RetailerCity': u'Chicago'}\n",
      "{u'RetailerName': u'Target', u'UserOccupation': u'Accountant', u'ProductPrice': u'299', u'RetailerState': u'CA', u'ManufacturerRebate': u'No', u'ReviewDate': u'12/10/14', u'ReviewText': u'I have been very pleased with my tablet. Great size and easy to use.', u'UserID': u'ztdpf52', u'ProductCategory': u'Tablet', u'ProductModelName': u'Samsung Tab 4', u'UserAge': u'27', u'RetailerOnSale': u'Yes', u'ManufacturerName': u'Samsung', u'ReviewRating': u'5', u'UserGender': u'Female', u'RetailerZip': u'90012', u'_id': ObjectId('592f27286cb48027a4cbf7d1'), u'RetailerCity': u'Los Angeles'}\n",
      "{u'RetailerName': u'Target', u'UserOccupation': u'Accountant', u'ProductPrice': u'425', u'RetailerState': u'MA', u'ManufacturerRebate': u'No', u'ReviewDate': u'10/10/13', u'ReviewText': u'Battery life is great. Picture is wonderful. I wish I purchased the LTE version so I could take it everywhere!', u'UserID': u'glzhw30', u'ProductCategory': u'Tablet', u'ProductModelName': u'iPad Air', u'UserAge': u'55', u'RetailerOnSale': u'Yes', u'ManufacturerName': u'Apple', u'ReviewRating': u'4', u'UserGender': u'Male', u'RetailerZip': u'2108', u'_id': ObjectId('592f27286cb48027a4cbf7dc'), u'RetailerCity': u'Boston'}\n",
      "{u'RetailerName': u'Target', u'UserOccupation': u'Manager', u'ProductPrice': u'269', u'RetailerState': u'IL', u'ManufacturerRebate': u'Yes', u'ReviewDate': u'12/10/14', u'ReviewText': u'It works should have got the newest Note in my opinion but sales rep convinced my the Galaxy 4 would be better.', u'UserID': u'rpmcf9', u'ProductCategory': u'Smart Phone', u'ProductModelName': u'Galaxy S4', u'UserAge': u'51', u'RetailerOnSale': u'Yes', u'ManufacturerName': u'Samsung', u'ReviewRating': u'3', u'UserGender': u'Male', u'RetailerZip': u'60616', u'_id': ObjectId('592f27286cb48027a4cbf7f0'), u'RetailerCity': u'Chicago'}\n",
      "{u'RetailerName': u'Target', u'UserOccupation': u'Programmer', u'ProductPrice': u'299', u'RetailerState': u'IL', u'ManufacturerRebate': u'No', u'ReviewDate': u'9/24/2014', u'ReviewText': u'It does everything she needs and has great battery life.Was able to buy it open box in perfect condition and got a nice discount.', u'UserID': u'jqtwo92', u'ProductCategory': u'Tablet', u'ProductModelName': u'Samsung Tab 4', u'UserAge': u'53', u'RetailerOnSale': u'Yes', u'ManufacturerName': u'Samsung', u'ReviewRating': u'5', u'UserGender': u'Male', u'RetailerZip': u'60603', u'_id': ObjectId('592f27286cb48027a4cbf7fe'), u'RetailerCity': u'Chicago'}\n",
      "{u'RetailerName': u'Target', u'UserOccupation': u'Manager', u'ProductPrice': u'425', u'RetailerState': u'IL', u'ManufacturerRebate': u'No', u'ReviewDate': u'6/21/2014', u'ReviewText': u'Time delivery and good product at a lower price options for delivery', u'UserID': u'fsjdc38', u'ProductCategory': u'Tablet', u'ProductModelName': u'iPad Air', u'UserAge': u'54', u'RetailerOnSale': u'Yes', u'ManufacturerName': u'Apple', u'ReviewRating': u'5', u'UserGender': u'Female', u'RetailerZip': u'60585', u'_id': ObjectId('592f27286cb48027a4cbf817'), u'RetailerCity': u'Naperville'}\n",
      "{u'RetailerName': u'Target', u'UserOccupation': u'Accountant', u'ProductPrice': u'1799', u'RetailerState': u'IL', u'ManufacturerRebate': u'Yes', u'ReviewDate': u'2/29/2015', u'ReviewText': u'This is the first Samsung product that I am seriously disappointed with.  Bad HDMI connection', u'UserID': u'kdbxc89', u'ProductCategory': u'TV', u'ProductModelName': u'Samsung TV 65 Curved', u'UserAge': u'27', u'RetailerOnSale': u'Yes', u'ManufacturerName': u'Samsung', u'ReviewRating': u'2', u'UserGender': u'Female', u'RetailerZip': u'60603', u'_id': ObjectId('592f27286cb48027a4cbf81c'), u'RetailerCity': u'Chicago'}\n",
      "{u'RetailerName': u'Target', u'UserOccupation': u'Accountant', u'ProductPrice': u'376', u'RetailerState': u'IL', u'ManufacturerRebate': u'No', u'ReviewDate': u'9/20/2014', u'ReviewText': u'works great only regret is it is not a two in one but that is on me', u'UserID': u'akmos61', u'ProductCategory': u'Laptop', u'ProductModelName': u'HP PAVALION  15.6', u'UserAge': u'38', u'RetailerOnSale': u'No', u'ManufacturerName': u'HP', u'ReviewRating': u'5', u'UserGender': u'Male', u'RetailerZip': u'60603', u'_id': ObjectId('592f27286cb48027a4cbf81e'), u'RetailerCity': u'Chicago'}\n",
      "{u'RetailerName': u'Target', u'UserOccupation': u'Student', u'ProductPrice': u'349', u'RetailerState': u'IL', u'ManufacturerRebate': u'No', u'ReviewDate': u'12/05/14', u'ReviewText': u'The galaxy tab 4 could have a better battery. It starts eating it up when you play games like real soccer baseball racing that take up alot graphics take alot of battery and that is the downside.', u'UserID': u'ljqoj64', u'ProductCategory': u'Tablet', u'ProductModelName': u'Samsung Tab 4', u'UserAge': u'29', u'RetailerOnSale': u'No', u'ManufacturerName': u'Samsung', u'ReviewRating': u'3', u'UserGender': u'Female', u'RetailerZip': u'60585', u'_id': ObjectId('592f27286cb48027a4cbf827'), u'RetailerCity': u'Naperville'}\n",
      "{u'RetailerName': u'Target', u'UserOccupation': u'Secratary', u'ProductPrice': u'402', u'RetailerState': u'CA', u'ManufacturerRebate': u'No', u'ReviewDate': u'4/19/2014', u'ReviewText': u'I take so many pictures and they are always so clear.', u'UserID': u'wqsql54', u'ProductCategory': u'Smart Phone', u'ProductModelName': u'Galaxy S4', u'UserAge': u'18', u'RetailerOnSale': u'No', u'ManufacturerName': u'Samsung', u'ReviewRating': u'4', u'UserGender': u'Male', u'RetailerZip': u'94102', u'_id': ObjectId('592f27286cb48027a4cbf828'), u'RetailerCity': u'San Francisco'}\n",
      "{u'RetailerName': u'Target', u'UserOccupation': u'Programmer', u'ProductPrice': u'449', u'RetailerState': u'OH', u'ManufacturerRebate': u'No', u'ReviewDate': u'11/25/2014', u'ReviewText': u'It is okay but the mouse pad is very slow.', u'UserID': u'qxbud80', u'ProductCategory': u'Laptop', u'ProductModelName': u'Dell Ispiron 15.6', u'UserAge': u'59', u'RetailerOnSale': u'Yes', u'ManufacturerName': u'Dell', u'ReviewRating': u'1', u'UserGender': u'Female', u'RetailerZip': u'44114', u'_id': ObjectId('592f27286cb48027a4cbf82d'), u'RetailerCity': u'Cleveland'}\n",
      "{u'RetailerName': u'Target', u'UserOccupation': u'Student', u'ProductPrice': u'969', u'RetailerState': u'IL', u'ManufacturerRebate': u'No', u'ReviewDate': u'6/21/2014', u'ReviewText': u'Very happy with the purchase of the surface pro 3', u'UserID': u'cznsk54', u'ProductCategory': u'Tablet', u'ProductModelName': u'Surface 3', u'UserAge': u'21', u'RetailerOnSale': u'No', u'ManufacturerName': u'Microsoft', u'ReviewRating': u'4', u'UserGender': u'Male', u'RetailerZip': u'60585', u'_id': ObjectId('592f27286cb48027a4cbf833'), u'RetailerCity': u'Naperville'}\n",
      "{u'RetailerName': u'Target', u'UserOccupation': u'Accountant', u'ProductPrice': u'1200', u'RetailerState': u'CA', u'ManufacturerRebate': u'No', u'ReviewDate': u'2/15/2015', u'ReviewText': u' Bestbuy is awesome', u'UserID': u'rwklu85', u'ProductCategory': u'TV', u'ProductModelName': u'Samsung TV 60 LED', u'UserAge': u'39', u'RetailerOnSale': u'No', u'ManufacturerName': u'Samsung', u'ReviewRating': u'1', u'UserGender': u'Male', u'RetailerZip': u'90033', u'_id': ObjectId('592f27286cb48027a4cbf836'), u'RetailerCity': u'Los Angeles'}\n",
      "{u'RetailerName': u'Target', u'UserOccupation': u'Accountant', u'ProductPrice': u'969', u'RetailerState': u'FL', u'ManufacturerRebate': u'No', u'ReviewDate': u'6/25/2014', u'ReviewText': u'this item was exactly what I wanted small and versitile', u'UserID': u'nftbd13', u'ProductCategory': u'Tablet', u'ProductModelName': u'Surface 3', u'UserAge': u'40', u'RetailerOnSale': u'No', u'ManufacturerName': u'Microsoft', u'ReviewRating': u'5', u'UserGender': u'Female', u'RetailerZip': u'33129', u'_id': ObjectId('592f27286cb48027a4cbf84c'), u'RetailerCity': u'Miami'}\n",
      "{u'RetailerName': u'Target', u'UserOccupation': u'Accountant', u'ProductPrice': u'1799', u'RetailerState': u'FL', u'ManufacturerRebate': u'Yes', u'ReviewDate': u'7/23/2014', u'ReviewText': u'l love this new TV. Great clarity easy to use. Lots of options.', u'UserID': u'virol43', u'ProductCategory': u'TV', u'ProductModelName': u'Samsung TV 65 Curved', u'UserAge': u'46', u'RetailerOnSale': u'Yes', u'ManufacturerName': u'Samsung', u'ReviewRating': u'5', u'UserGender': u'Female', u'RetailerZip': u'33130', u'_id': ObjectId('592f27286cb48027a4cbf851'), u'RetailerCity': u'Miami'}\n",
      "{u'RetailerName': u'Target', u'UserOccupation': u'Accountant', u'ProductPrice': u'999', u'RetailerState': u'CA', u'ManufacturerRebate': u'No', u'ReviewDate': u'3/24/2014', u'ReviewText': u'So far I have had very few issues with the laptop.', u'UserID': u'evpcr58', u'ProductCategory': u'Tablet', u'ProductModelName': u'Surface 3', u'UserAge': u'29', u'RetailerOnSale': u'No', u'ManufacturerName': u'Microsoft', u'ReviewRating': u'4', u'UserGender': u'Male', u'RetailerZip': u'90012', u'_id': ObjectId('592f27286cb48027a4cbf85c'), u'RetailerCity': u'Los Angeles'}\n",
      "{u'RetailerName': u'Target', u'UserOccupation': u'Manager', u'ProductPrice': u'589', u'RetailerState': u'CA', u'ManufacturerRebate': u'No', u'ReviewDate': u'9/20/2014', u'ReviewText': u\" The only reason I don't give this phone a 5 is because I find the screen is sometimes not as responsive\", u'UserID': u'vespd24', u'ProductCategory': u'Smart Phone', u'ProductModelName': u'iPhone 6', u'UserAge': u'40', u'RetailerOnSale': u'No', u'ManufacturerName': u'Apple', u'ReviewRating': u'4', u'UserGender': u'Male', u'RetailerZip': u'90033', u'_id': ObjectId('592f27286cb48027a4cbf863'), u'RetailerCity': u'Los Angeles'}\n",
      "{u'RetailerName': u'Target', u'UserOccupation': u'Secratary', u'ProductPrice': u'849', u'RetailerState': u'CA', u'ManufacturerRebate': u'Yes', u'ReviewDate': u'9/24/2014', u'ReviewText': u' This is a great tv', u'UserID': u'wvpjo22', u'ProductCategory': u'TV', u'ProductModelName': u'LG 65', u'UserAge': u'38', u'RetailerOnSale': u'Yes', u'ManufacturerName': u'LG', u'ReviewRating': u'5', u'UserGender': u'Female', u'RetailerZip': u'90033', u'_id': ObjectId('592f27286cb48027a4cbf86b'), u'RetailerCity': u'Los Angeles'}\n",
      "{u'RetailerName': u'Target', u'UserOccupation': u'Secratary', u'ProductPrice': u'999', u'RetailerState': u'IL', u'ManufacturerRebate': u'No', u'ReviewDate': u'6/26/2014', u'ReviewText': u'Purchased this as a gift for my husband. ', u'UserID': u'wmyqd91', u'ProductCategory': u'Tablet', u'ProductModelName': u'Surface 3', u'UserAge': u'51', u'RetailerOnSale': u'No', u'ManufacturerName': u'Microsoft', u'ReviewRating': u'5', u'UserGender': u'Male', u'RetailerZip': u'60585', u'_id': ObjectId('592f27286cb48027a4cbf878'), u'RetailerCity': u'Naperville'}\n",
      "{u'RetailerName': u'Target', u'UserOccupation': u'Unknown', u'ProductPrice': u'969', u'RetailerState': u'IL', u'ManufacturerRebate': u'No', u'ReviewDate': u'6/26/2014', u'ReviewText': u'I tried different surfaces and mouse pads and the effects are the same.', u'UserID': u'zaern68', u'ProductCategory': u'Tablet', u'ProductModelName': u'Surface 3', u'UserAge': u'44', u'RetailerOnSale': u'No', u'ManufacturerName': u'Microsoft', u'ReviewRating': u'1', u'UserGender': u'Female', u'RetailerZip': u'60585', u'_id': ObjectId('592f27286cb48027a4cbf883'), u'RetailerCity': u'Naperville'}\n",
      "{u'RetailerName': u'Target', u'UserOccupation': u'Unknown', u'ProductPrice': u'399', u'RetailerState': u'CA', u'ManufacturerRebate': u'No', u'ReviewDate': u'12/05/14', u'ReviewText': u' I got the phone after waiting for 3 hours and I really liked the phone. Its sleek', u'UserID': u'xjhce17', u'ProductCategory': u'Smart Phone', u'ProductModelName': u'iPhone 6', u'UserAge': u'19', u'RetailerOnSale': u'No', u'ManufacturerName': u'Apple', u'ReviewRating': u'5', u'UserGender': u'Male', u'RetailerZip': u'94102', u'_id': ObjectId('592f27286cb48027a4cbf88d'), u'RetailerCity': u'San Francisco'}\n",
      "{u'RetailerName': u'Target', u'UserOccupation': u'Student', u'ProductPrice': u'1100', u'RetailerState': u'CA', u'ManufacturerRebate': u'No', u'ReviewDate': u'7/19/2014', u'ReviewText': u' I purchased this   smart   TV based on numerous reviews that were good. What I found was a TV with terrible picture quality that had to be changed for every show I watched. No consistency in color or contrast. Sound quality was very poor. ', u'UserID': u'txeod71', u'ProductCategory': u'TV', u'ProductModelName': u'Samsung TV 60 LED', u'UserAge': u'23', u'RetailerOnSale': u'Yes', u'ManufacturerName': u'Samsung', u'ReviewRating': u'1', u'UserGender': u'Male', u'RetailerZip': u'90012', u'_id': ObjectId('592f27286cb48027a4cbf891'), u'RetailerCity': u'Los Angeles'}\n",
      "{u'RetailerName': u'Target', u'UserOccupation': u'Secratary', u'ProductPrice': u'349', u'RetailerState': u'IL', u'ManufacturerRebate': u'No', u'ReviewDate': u'5/15/2013', u'ReviewText': u'I brought this tablet f Ir myself and I love it. Great size. I live watching movies on it. Love the kids mode.', u'UserID': u'qpyrb12', u'ProductCategory': u'Tablet', u'ProductModelName': u'Samsung Tab 4', u'UserAge': u'29', u'RetailerOnSale': u'No', u'ManufacturerName': u'Samsung', u'ReviewRating': u'4', u'UserGender': u'Male', u'RetailerZip': u'60616', u'_id': ObjectId('592f27286cb48027a4cbf896'), u'RetailerCity': u'Chicago'}\n",
      "{u'RetailerName': u'Target', u'UserOccupation': u'Accountant', u'ProductPrice': u'1100', u'RetailerState': u'CA', u'ManufacturerRebate': u'No', u'ReviewDate': u'07/09/14', u'ReviewText': u\" What's not so great\", u'UserID': u'ldkal45', u'ProductCategory': u'TV', u'ProductModelName': u'Samsung TV 60 LED', u'UserAge': u'57', u'RetailerOnSale': u'Yes', u'ManufacturerName': u'Samsung', u'ReviewRating': u'3', u'UserGender': u'Male', u'RetailerZip': u'94102', u'_id': ObjectId('592f27286cb48027a4cbf89b'), u'RetailerCity': u'San Francisco'}\n",
      "{u'RetailerName': u'Target', u'UserOccupation': u'Programmer', u'ProductPrice': u'269', u'RetailerState': u'IL', u'ManufacturerRebate': u'Yes', u'ReviewDate': u'8/17/2014', u'ReviewText': u'I love the camera and all other neat things the phone can do. The motion features are cool and I really like the large screen', u'UserID': u'zzkcu71', u'ProductCategory': u'Smart Phone', u'ProductModelName': u'Galaxy S4', u'UserAge': u'39', u'RetailerOnSale': u'Yes', u'ManufacturerName': u'Samsung', u'ReviewRating': u'5', u'UserGender': u'Female', u'RetailerZip': u'60603', u'_id': ObjectId('592f27286cb48027a4cbf8b5'), u'RetailerCity': u'Chicago'}\n",
      "{u'RetailerName': u'Target', u'UserOccupation': u'Accountant', u'ProductPrice': u'1100', u'RetailerState': u'MA', u'ManufacturerRebate': u'No', u'ReviewDate': u'10/28/2014', u'ReviewText': u' Design is nice', u'UserID': u'qtlbd3', u'ProductCategory': u'TV', u'ProductModelName': u'Samsung TV 60 LED', u'UserAge': u'52', u'RetailerOnSale': u'Yes', u'ManufacturerName': u'Samsung', u'ReviewRating': u'4', u'UserGender': u'Male', u'RetailerZip': u'2110', u'_id': ObjectId('592f27286cb48027a4cbf8b7'), u'RetailerCity': u'Boston'}\n",
      "{u'RetailerName': u'Target', u'UserOccupation': u'Secratary', u'ProductPrice': u'499', u'RetailerState': u'FL', u'ManufacturerRebate': u'No', u'ReviewDate': u'2/15/2014', u'ReviewText': u\" I've bought several of these iPads to use in our business and they are very functional\", u'UserID': u'wowrs53', u'ProductCategory': u'Tablet', u'ProductModelName': u'iPad Air', u'UserAge': u'40', u'RetailerOnSale': u'No', u'ManufacturerName': u'Apple', u'ReviewRating': u'5', u'UserGender': u'Male', u'RetailerZip': u'33130', u'_id': ObjectId('592f27286cb48027a4cbf8b8'), u'RetailerCity': u'Miami'}\n",
      "{u'RetailerName': u'Target', u'UserOccupation': u'Accountant', u'ProductPrice': u'349', u'RetailerState': u'FL', u'ManufacturerRebate': u'No', u'ReviewDate': u'5/15/2013', u'ReviewText': u'Really hard to get used to 8.1.', u'UserID': u'kyuwv88', u'ProductCategory': u'Laptop', u'ProductModelName': u'Dell Ispiron 15.6', u'UserAge': u'58', u'RetailerOnSale': u'Yes', u'ManufacturerName': u'Dell', u'ReviewRating': u'3', u'UserGender': u'Male', u'RetailerZip': u'33129', u'_id': ObjectId('592f27286cb48027a4cbf8d2'), u'RetailerCity': u'Miami'}\n",
      "{u'RetailerName': u'Target', u'UserOccupation': u'Student', u'ProductPrice': u'399', u'RetailerState': u'CA', u'ManufacturerRebate': u'No', u'ReviewDate': u'11/29/2014', u'ReviewText': u\"Phone has alot of features that I'm still learning about. \", u'UserID': u'oxppk7', u'ProductCategory': u'Smart Phone', u'ProductModelName': u'Galaxy S4', u'UserAge': u'32', u'RetailerOnSale': u'No', u'ManufacturerName': u'Samsung', u'ReviewRating': u'5', u'UserGender': u'Male', u'RetailerZip': u'94158', u'_id': ObjectId('592f27286cb48027a4cbf8de'), u'RetailerCity': u'San Francisco'}\n",
      "{u'RetailerName': u'Target', u'UserOccupation': u'Secratary', u'ProductPrice': u'999', u'RetailerState': u'FL', u'ManufacturerRebate': u'No', u'ReviewDate': u'07/01/14', u'ReviewText': u'Great tablet and pc very easy to use! ', u'UserID': u'xiewb75', u'ProductCategory': u'Tablet', u'ProductModelName': u'Surface 3', u'UserAge': u'41', u'RetailerOnSale': u'No', u'ManufacturerName': u'Microsoft', u'ReviewRating': u'4', u'UserGender': u'Male', u'RetailerZip': u'33129', u'_id': ObjectId('592f27286cb48027a4cbf8e8'), u'RetailerCity': u'Miami'}\n",
      "{u'RetailerName': u'Target', u'UserOccupation': u'Student', u'ProductPrice': u'349', u'RetailerState': u'MA', u'ManufacturerRebate': u'No', u'ReviewDate': u'2/15/2015', u'ReviewText': u' noisy fan after it overheats', u'UserID': u'plxor58', u'ProductCategory': u'Laptop', u'ProductModelName': u'Dell Ispiron 15.6', u'UserAge': u'28', u'RetailerOnSale': u'Yes', u'ManufacturerName': u'Dell', u'ReviewRating': u'2', u'UserGender': u'Male', u'RetailerZip': u'2108', u'_id': ObjectId('592f27286cb48027a4cbf8ee'), u'RetailerCity': u'Boston'}\n",
      "{u'RetailerName': u'Target', u'UserOccupation': u'Secratary', u'ProductPrice': u'299', u'RetailerState': u'MA', u'ManufacturerRebate': u'Yes', u'ReviewDate': u'12/01/14', u'ReviewText': u'This iPad Air was the best birthday gift ever. The battery lasts a long time and it takes fantastic pictures.', u'UserID': u'laxwm76', u'ProductCategory': u'Tablet', u'ProductModelName': u'iPad Air', u'UserAge': u'21', u'RetailerOnSale': u'Yes', u'ManufacturerName': u'Apple', u'ReviewRating': u'5', u'UserGender': u'Male', u'RetailerZip': u'2110', u'_id': ObjectId('592f27286cb48027a4cbf8f3'), u'RetailerCity': u'Boston'}\n",
      "{u'RetailerName': u'Target', u'UserOccupation': u'Secratary', u'ProductPrice': u'299', u'RetailerState': u'IL', u'ManufacturerRebate': u'No', u'ReviewDate': u'6/25/2014', u'ReviewText': u'Great laptop for the price. Does everything you need for everyday computing.', u'UserID': u'efqku38', u'ProductCategory': u'Laptop', u'ProductModelName': u'HP PAVALION  15.6', u'UserAge': u'29', u'RetailerOnSale': u'Yes', u'ManufacturerName': u'HP', u'ReviewRating': u'4', u'UserGender': u'Male', u'RetailerZip': u'60616', u'_id': ObjectId('592f27286cb48027a4cbf8f6'), u'RetailerCity': u'Chicago'}\n",
      "{u'RetailerName': u'Target', u'UserOccupation': u'Secratary', u'ProductPrice': u'1200', u'RetailerState': u'FL', u'ManufacturerRebate': u'No', u'ReviewDate': u'10/10/13', u'ReviewText': u'This is the best you can get for a 2 BR apartment.', u'UserID': u'mvkmn1', u'ProductCategory': u'TV', u'ProductModelName': u'Samsung TV 60 LED', u'UserAge': u'41', u'RetailerOnSale': u'No', u'ManufacturerName': u'Samsung', u'ReviewRating': u'4', u'UserGender': u'Male', u'RetailerZip': u'33130', u'_id': ObjectId('592f27286cb48027a4cbf8fa'), u'RetailerCity': u'Miami'}\n",
      "{u'RetailerName': u'Target', u'UserOccupation': u'Programmer', u'ProductPrice': u'999', u'RetailerState': u'FL', u'ManufacturerRebate': u'No', u'ReviewDate': u'6/25/2014', u'ReviewText': u\"But overall I'm un satisfied with picture quality.\", u'UserID': u'vlaqw51', u'ProductCategory': u'TV', u'ProductModelName': u'LG 65', u'UserAge': u'47', u'RetailerOnSale': u'No', u'ManufacturerName': u'LG', u'ReviewRating': u'2', u'UserGender': u'Female', u'RetailerZip': u'33130', u'_id': ObjectId('592f27286cb48027a4cbf8fe'), u'RetailerCity': u'Miami'}\n",
      "{u'RetailerName': u'Target', u'UserOccupation': u'Secratary', u'ProductPrice': u'349', u'RetailerState': u'CA', u'ManufacturerRebate': u'No', u'ReviewDate': u'11/25/2014', u'ReviewText': u'Great Samsung Rep. at the Bestbuy Store. Helped out with getting familiarized with product. I did have issues though with the Owners Hub app.', u'UserID': u'sowso98', u'ProductCategory': u'Tablet', u'ProductModelName': u'Samsung Tab 4', u'UserAge': u'45', u'RetailerOnSale': u'No', u'ManufacturerName': u'Samsung', u'ReviewRating': u'4', u'UserGender': u'Female', u'RetailerZip': u'90012', u'_id': ObjectId('592f27286cb48027a4cbf8ff'), u'RetailerCity': u'Los Angeles'}\n",
      "{u'RetailerName': u'Target', u'UserOccupation': u'Secratary', u'ProductPrice': u'1100', u'RetailerState': u'IL', u'ManufacturerRebate': u'No', u'ReviewDate': u'12/01/14', u'ReviewText': u' Nice picture', u'UserID': u'ygdnl98', u'ProductCategory': u'TV', u'ProductModelName': u'Samsung TV 60 LED', u'UserAge': u'46', u'RetailerOnSale': u'Yes', u'ManufacturerName': u'Samsung', u'ReviewRating': u'4', u'UserGender': u'Male', u'RetailerZip': u'60616', u'_id': ObjectId('592f27286cb48027a4cbf906'), u'RetailerCity': u'Chicago'}\n",
      "{u'RetailerName': u'Target', u'UserOccupation': u'Programmer', u'ProductPrice': u'449', u'RetailerState': u'IL', u'ManufacturerRebate': u'No', u'ReviewDate': u'2/15/2015', u'ReviewText': u\"I've been using this computer for a few days now and haven't noticed anything wrong with it. Great keyboard & touchpad. Beautiful screen.\", u'UserID': u'blzcx54', u'ProductCategory': u'Laptop', u'ProductModelName': u'Dell Ispiron 15.6', u'UserAge': u'22', u'RetailerOnSale': u'Yes', u'ManufacturerName': u'Dell', u'ReviewRating': u'5', u'UserGender': u'Female', u'RetailerZip': u'60603', u'_id': ObjectId('592f27286cb48027a4cbf907'), u'RetailerCity': u'Chicago'}\n",
      "{u'RetailerName': u'Target', u'UserOccupation': u'Programmer', u'ProductPrice': u'1900', u'RetailerState': u'CA', u'ManufacturerRebate': u'No', u'ReviewDate': u'9/20/2014', u'ReviewText': u'Bottom line is I did not keep TV because with the lower refresh rate of this model I noticed blurring during action/sports. ', u'UserID': u'goxbh96', u'ProductCategory': u'TV', u'ProductModelName': u'Samsung TV 65 Curved', u'UserAge': u'18', u'RetailerOnSale': u'No', u'ManufacturerName': u'Samsung', u'ReviewRating': u'3', u'UserGender': u'Male', u'RetailerZip': u'94158', u'_id': ObjectId('592f27286cb48027a4cbf90d'), u'RetailerCity': u'San Francisco'}\n",
      "{u'RetailerName': u'Target', u'UserOccupation': u'Secratary', u'ProductPrice': u'849', u'RetailerState': u'FL', u'ManufacturerRebate': u'Yes', u'ReviewDate': u'10/25/2014', u'ReviewText': u' Great tv for the price', u'UserID': u'svjxv86', u'ProductCategory': u'TV', u'ProductModelName': u'LG 65', u'UserAge': u'37', u'RetailerOnSale': u'Yes', u'ManufacturerName': u'LG', u'ReviewRating': u'5', u'UserGender': u'Female', u'RetailerZip': u'33129', u'_id': ObjectId('592f27286cb48027a4cbf90e'), u'RetailerCity': u'Miami'}\n",
      "{u'RetailerName': u'Target', u'UserOccupation': u'Secratary', u'ProductPrice': u'1100', u'RetailerState': u'MA', u'ManufacturerRebate': u'No', u'ReviewDate': u'2/29/2015', u'ReviewText': u'Great TV and a great price. Easy to set up. We are very pleased with the picture and sound quality.', u'UserID': u'lvyxk20', u'ProductCategory': u'TV', u'ProductModelName': u'Samsung TV 60 LED', u'UserAge': u'32', u'RetailerOnSale': u'Yes', u'ManufacturerName': u'Samsung', u'ReviewRating': u'5', u'UserGender': u'Male', u'RetailerZip': u'2110', u'_id': ObjectId('592f27286cb48027a4cbf91c'), u'RetailerCity': u'Boston'}\n"
     ]
    }
   ],
   "source": [
    "for review in reviews.find({\"RetailerName\": \"Target\"}):\n",
    "    print review"
   ]
  },
  {
   "cell_type": "markdown",
   "metadata": {
    "deletable": true,
    "editable": true
   },
   "source": [
    "## Query 2: Print a list  of reviews where rating less than 3 and the list is sorted by ProductModelName"
   ]
  },
  {
   "cell_type": "code",
   "execution_count": 45,
   "metadata": {
    "collapsed": false,
    "deletable": true,
    "editable": true
   },
   "outputs": [
    {
     "name": "stdout",
     "output_type": "stream",
     "text": [
      "{u'RetailerName': u'hhgregg', u'UserOccupation': u'Programmer', u'ProductPrice': u'499', u'RetailerState': u'IL', u'ManufacturerRebate': u'No', u'ReviewDate': u'2/29/2015', u'ReviewText': u' Difficult to use', u'UserID': u'wydci21', u'ProductCategory': u'Laptop', u'ProductModelName': u'Dell Ispiron 15.6', u'UserAge': u'43', u'RetailerOnSale': u'No', u'ManufacturerName': u'Dell', u'ReviewRating': u'1', u'UserGender': u'Male', u'RetailerZip': u'60616', u'_id': ObjectId('592f27286cb48027a4cbf15f'), u'RetailerCity': u'Chicago'}\n",
      "{u'RetailerName': u'Target', u'UserOccupation': u'Secratary', u'ProductPrice': u'449', u'RetailerState': u'IL', u'ManufacturerRebate': u'No', u'ReviewDate': u'12/27/2014', u'ReviewText': u' I did not like the keyboard at all - it was difficult to use', u'UserID': u'rhgpc68', u'ProductCategory': u'Laptop', u'ProductModelName': u'Dell Ispiron 15.6', u'UserAge': u'23', u'RetailerOnSale': u'Yes', u'ManufacturerName': u'Dell', u'ReviewRating': u'1', u'UserGender': u'Male', u'RetailerZip': u'60603', u'_id': ObjectId('592f27286cb48027a4cbf160'), u'RetailerCity': u'Chicago'}\n",
      "{u'RetailerName': u'Target', u'UserOccupation': u'Manager', u'ProductPrice': u'349', u'RetailerState': u'OH', u'ManufacturerRebate': u'No', u'ReviewDate': u'2/29/2015', u'ReviewText': u'very noisy fan.', u'UserID': u'krzor99', u'ProductCategory': u'Laptop', u'ProductModelName': u'Dell Ispiron 15.6', u'UserAge': u'38', u'RetailerOnSale': u'Yes', u'ManufacturerName': u'Dell', u'ReviewRating': u'1', u'UserGender': u'Male', u'RetailerZip': u'44114', u'_id': ObjectId('592f27286cb48027a4cbf188'), u'RetailerCity': u'Cleveland'}\n",
      "{u'RetailerName': u'Frys', u'UserOccupation': u'Student', u'ProductPrice': u'499', u'RetailerState': u'IL', u'ManufacturerRebate': u'No', u'ReviewDate': u'5/25/2014', u'ReviewText': u'Features did not work on the computer. Not worth the money.', u'UserID': u'vaiqd29', u'ProductCategory': u'Laptop', u'ProductModelName': u'Dell Ispiron 15.6', u'UserAge': u'55', u'RetailerOnSale': u'No', u'ManufacturerName': u'Dell', u'ReviewRating': u'2', u'UserGender': u'Male', u'RetailerZip': u'60603', u'_id': ObjectId('592f27286cb48027a4cbf23f'), u'RetailerCity': u'Chicago'}\n",
      "{u'RetailerName': u'hhgregg', u'UserOccupation': u'Secratary', u'ProductPrice': u'499', u'RetailerState': u'CA', u'ManufacturerRebate': u'No', u'ReviewDate': u'5/15/2013', u'ReviewText': u'bad battery and noisy fan', u'UserID': u'dtmsz51', u'ProductCategory': u'Laptop', u'ProductModelName': u'Dell Ispiron 15.6', u'UserAge': u'23', u'RetailerOnSale': u'No', u'ManufacturerName': u'Dell', u'ReviewRating': u'1', u'UserGender': u'Male', u'RetailerZip': u'94102', u'_id': ObjectId('592f27286cb48027a4cbf287'), u'RetailerCity': u'San Francisco'}\n",
      "{u'RetailerName': u'Walmart', u'UserOccupation': u'Student', u'ProductPrice': u'499', u'RetailerState': u'MA', u'ManufacturerRebate': u'No', u'ReviewDate': u'12/01/14', u'ReviewText': u'noisy fan.', u'UserID': u'jnoku77', u'ProductCategory': u'Laptop', u'ProductModelName': u'Dell Ispiron 15.6', u'UserAge': u'30', u'RetailerOnSale': u'No', u'ManufacturerName': u'Dell', u'ReviewRating': u'2', u'UserGender': u'Female', u'RetailerZip': u'2110', u'_id': ObjectId('592f27286cb48027a4cbf2a6'), u'RetailerCity': u'Boston'}\n",
      "{u'RetailerName': u'Frys', u'UserOccupation': u'Secratary', u'ProductPrice': u'349', u'RetailerState': u'IL', u'ManufacturerRebate': u'No', u'ReviewDate': u'8/21/2014', u'ReviewText': u\"I paid $475 dollar for an extended warranty that oh by the way doesn't cover SOFTWARE troubleshooting\", u'UserID': u'iygsj70', u'ProductCategory': u'Laptop', u'ProductModelName': u'Dell Ispiron 15.6', u'UserAge': u'58', u'RetailerOnSale': u'Yes', u'ManufacturerName': u'Dell', u'ReviewRating': u'1', u'UserGender': u'Male', u'RetailerZip': u'60585', u'_id': ObjectId('592f27286cb48027a4cbf405'), u'RetailerCity': u'Naperville'}\n",
      "{u'RetailerName': u'Walmart', u'UserOccupation': u'Unknown', u'ProductPrice': u'449', u'RetailerState': u'CA', u'ManufacturerRebate': u'No', u'ReviewDate': u'12/01/14', u'ReviewText': u'Nice laptop with a horrible WiFi connection.', u'UserID': u'swvme43', u'ProductCategory': u'Laptop', u'ProductModelName': u'Dell Ispiron 15.6', u'UserAge': u'24', u'RetailerOnSale': u'Yes', u'ManufacturerName': u'Dell', u'ReviewRating': u'1', u'UserGender': u'Male', u'RetailerZip': u'94158', u'_id': ObjectId('592f27286cb48027a4cbf415'), u'RetailerCity': u'San Francisco'}\n",
      "{u'RetailerName': u'Walmart', u'UserOccupation': u'Secratary', u'ProductPrice': u'449', u'RetailerState': u'CA', u'ManufacturerRebate': u'No', u'ReviewDate': u'6/25/2014', u'ReviewText': u'Had to send to dell after 10 days of purchase.', u'UserID': u'fgbrc13', u'ProductCategory': u'Laptop', u'ProductModelName': u'Dell Ispiron 15.6', u'UserAge': u'59', u'RetailerOnSale': u'Yes', u'ManufacturerName': u'Dell', u'ReviewRating': u'1', u'UserGender': u'Female', u'RetailerZip': u'90012', u'_id': ObjectId('592f27286cb48027a4cbf49d'), u'RetailerCity': u'Los Angeles'}\n",
      "{u'RetailerName': u'Walmart', u'UserOccupation': u'Unknown', u'ProductPrice': u'449', u'RetailerState': u'FL', u'ManufacturerRebate': u'No', u'ReviewDate': u'3/24/2014', u'ReviewText': u'My network speed and my internet connect speed is only about half what I get with my old HP laptop.', u'UserID': u'dadsx72', u'ProductCategory': u'Laptop', u'ProductModelName': u'Dell Ispiron 15.6', u'UserAge': u'25', u'RetailerOnSale': u'Yes', u'ManufacturerName': u'Dell', u'ReviewRating': u'1', u'UserGender': u'Male', u'RetailerZip': u'33129', u'_id': ObjectId('592f27286cb48027a4cbf4c3'), u'RetailerCity': u'Miami'}\n",
      "{u'RetailerName': u'Frys', u'UserOccupation': u'Manager', u'ProductPrice': u'499', u'RetailerState': u'CA', u'ManufacturerRebate': u'No', u'ReviewDate': u'12/10/14', u'ReviewText': u' 25 days after purchase of the computer', u'UserID': u'dfbzr49', u'ProductCategory': u'Laptop', u'ProductModelName': u'Dell Ispiron 15.6', u'UserAge': u'46', u'RetailerOnSale': u'No', u'ManufacturerName': u'Dell', u'ReviewRating': u'1', u'UserGender': u'Male', u'RetailerZip': u'94158', u'_id': ObjectId('592f27286cb48027a4cbf4d2'), u'RetailerCity': u'San Francisco'}\n",
      "{u'RetailerName': u'Walmart', u'UserOccupation': u'Secratary', u'ProductPrice': u'349', u'RetailerState': u'MA', u'ManufacturerRebate': u'No', u'ReviewDate': u'11/29/2014', u'ReviewText': u' The Geek Squad person said', u'UserID': u'fmrjy13', u'ProductCategory': u'Laptop', u'ProductModelName': u'Dell Ispiron 15.6', u'UserAge': u'39', u'RetailerOnSale': u'Yes', u'ManufacturerName': u'Dell', u'ReviewRating': u'2', u'UserGender': u'Female', u'RetailerZip': u'2108', u'_id': ObjectId('592f27286cb48027a4cbf4d5'), u'RetailerCity': u'Boston'}\n",
      "{u'RetailerName': u'Walmart', u'UserOccupation': u'Accountant', u'ProductPrice': u'328', u'RetailerState': u'CA', u'ManufacturerRebate': u'Yes', u'ReviewDate': u'04/01/15', u'ReviewText': u'This Laptop no good for internet and wifi connection and touch pad at all.', u'UserID': u'jykzh65', u'ProductCategory': u'Laptop', u'ProductModelName': u'Dell Ispiron 15.6', u'UserAge': u'45', u'RetailerOnSale': u'Yes', u'ManufacturerName': u'Dell', u'ReviewRating': u'1', u'UserGender': u'Male', u'RetailerZip': u'94102', u'_id': ObjectId('592f27286cb48027a4cbf50d'), u'RetailerCity': u'San Francisco'}\n",
      "{u'RetailerName': u'hhgregg', u'UserOccupation': u'Secratary', u'ProductPrice': u'328', u'RetailerState': u'IL', u'ManufacturerRebate': u'Yes', u'ReviewDate': u'12/27/2014', u'ReviewText': u'Quality of Dell has gone down.', u'UserID': u'dkctw40', u'ProductCategory': u'Laptop', u'ProductModelName': u'Dell Ispiron 15.6', u'UserAge': u'52', u'RetailerOnSale': u'Yes', u'ManufacturerName': u'Dell', u'ReviewRating': u'1', u'UserGender': u'Male', u'RetailerZip': u'60585', u'_id': ObjectId('592f27286cb48027a4cbf558'), u'RetailerCity': u'Naperville'}\n",
      "{u'RetailerName': u'hhgregg', u'UserOccupation': u'Accountant', u'ProductPrice': u'349', u'RetailerState': u'FL', u'ManufacturerRebate': u'No', u'ReviewDate': u'10/25/2014', u'ReviewText': u'My Dell Inspiron CMOS battery died after only 1 year of use.', u'UserID': u'yrudr26', u'ProductCategory': u'Laptop', u'ProductModelName': u'Dell Ispiron 15.6', u'UserAge': u'20', u'RetailerOnSale': u'Yes', u'ManufacturerName': u'Dell', u'ReviewRating': u'1', u'UserGender': u'Male', u'RetailerZip': u'33129', u'_id': ObjectId('592f27286cb48027a4cbf582'), u'RetailerCity': u'Miami'}\n",
      "{u'RetailerName': u'Walmart', u'UserOccupation': u'Programmer', u'ProductPrice': u'449', u'RetailerState': u'MA', u'ManufacturerRebate': u'No', u'ReviewDate': u'12/27/2014', u'ReviewText': u' The Dell laptop computer is my favorite', u'UserID': u'edxea74', u'ProductCategory': u'Laptop', u'ProductModelName': u'Dell Ispiron 15.6', u'UserAge': u'50', u'RetailerOnSale': u'Yes', u'ManufacturerName': u'Dell', u'ReviewRating': u'2', u'UserGender': u'Male', u'RetailerZip': u'2110', u'_id': ObjectId('592f27286cb48027a4cbf5b1'), u'RetailerCity': u'Boston'}\n",
      "{u'RetailerName': u'Bestbuy', u'UserOccupation': u'Accountant', u'ProductPrice': u'349', u'RetailerState': u'CA', u'ManufacturerRebate': u'No', u'ReviewDate': u'6/18/2014', u'ReviewText': u'This laptop has a very bad wifi adapter makes the internet so much slower..', u'UserID': u'oyqum77', u'ProductCategory': u'Laptop', u'ProductModelName': u'Dell Ispiron 15.6', u'UserAge': u'56', u'RetailerOnSale': u'Yes', u'ManufacturerName': u'Dell', u'ReviewRating': u'1', u'UserGender': u'Female', u'RetailerZip': u'94158', u'_id': ObjectId('592f27286cb48027a4cbf60f'), u'RetailerCity': u'San Francisco'}\n",
      "{u'RetailerName': u'Bestbuy', u'UserOccupation': u'Programmer', u'ProductPrice': u'349', u'RetailerState': u'CA', u'ManufacturerRebate': u'No', u'ReviewDate': u'6/25/2014', u'ReviewText': u' This computer kept shutting off for no reason', u'UserID': u'xpand2', u'ProductCategory': u'Laptop', u'ProductModelName': u'Dell Ispiron 15.6', u'UserAge': u'23', u'RetailerOnSale': u'Yes', u'ManufacturerName': u'Dell', u'ReviewRating': u'1', u'UserGender': u'Female', u'RetailerZip': u'90033', u'_id': ObjectId('592f27286cb48027a4cbf627'), u'RetailerCity': u'Los Angeles'}\n",
      "{u'RetailerName': u'hhgregg', u'UserOccupation': u'Secratary', u'ProductPrice': u'328', u'RetailerState': u'IL', u'ManufacturerRebate': u'Yes', u'ReviewDate': u'12/20/2014', u'ReviewText': u'I expected a good solid product from Dell. This computer disappointed me.', u'UserID': u'nvrjm46', u'ProductCategory': u'Laptop', u'ProductModelName': u'Dell Ispiron 15.6', u'UserAge': u'52', u'RetailerOnSale': u'Yes', u'ManufacturerName': u'Dell', u'ReviewRating': u'2', u'UserGender': u'Male', u'RetailerZip': u'60616', u'_id': ObjectId('592f27286cb48027a4cbf737'), u'RetailerCity': u'Chicago'}\n",
      "{u'RetailerName': u'Target', u'UserOccupation': u'Programmer', u'ProductPrice': u'449', u'RetailerState': u'OH', u'ManufacturerRebate': u'No', u'ReviewDate': u'11/25/2014', u'ReviewText': u'It is okay but the mouse pad is very slow.', u'UserID': u'qxbud80', u'ProductCategory': u'Laptop', u'ProductModelName': u'Dell Ispiron 15.6', u'UserAge': u'59', u'RetailerOnSale': u'Yes', u'ManufacturerName': u'Dell', u'ReviewRating': u'1', u'UserGender': u'Female', u'RetailerZip': u'44114', u'_id': ObjectId('592f27286cb48027a4cbf82d'), u'RetailerCity': u'Cleveland'}\n",
      "{u'RetailerName': u'Target', u'UserOccupation': u'Student', u'ProductPrice': u'349', u'RetailerState': u'MA', u'ManufacturerRebate': u'No', u'ReviewDate': u'2/15/2015', u'ReviewText': u' noisy fan after it overheats', u'UserID': u'plxor58', u'ProductCategory': u'Laptop', u'ProductModelName': u'Dell Ispiron 15.6', u'UserAge': u'28', u'RetailerOnSale': u'Yes', u'ManufacturerName': u'Dell', u'ReviewRating': u'2', u'UserGender': u'Male', u'RetailerZip': u'2108', u'_id': ObjectId('592f27286cb48027a4cbf8ee'), u'RetailerCity': u'Boston'}\n",
      "{u'RetailerName': u'hhgregg', u'UserOccupation': u'Secratary', u'ProductPrice': u'402', u'RetailerState': u'MA', u'ManufacturerRebate': u'No', u'ReviewDate': u'5/23/2014', u'ReviewText': u\"Batter doesn't last more 3 hours when watching youtube\", u'UserID': u'tikgx18', u'ProductCategory': u'Smart Phone', u'ProductModelName': u'Galaxy S4', u'UserAge': u'48', u'RetailerOnSale': u'No', u'ManufacturerName': u'Samsung', u'ReviewRating': u'1', u'UserGender': u'Male', u'RetailerZip': u'2108', u'_id': ObjectId('592f27286cb48027a4cbf284'), u'RetailerCity': u'Boston'}\n",
      "{u'RetailerName': u'hhgregg', u'UserOccupation': u'Secratary', u'ProductPrice': u'402', u'RetailerState': u'MA', u'ManufacturerRebate': u'No', u'ReviewDate': u'2/15/2015', u'ReviewText': u' really snow when connecting through wifi', u'UserID': u'akmye33', u'ProductCategory': u'Smart Phone', u'ProductModelName': u'Galaxy S4', u'UserAge': u'21', u'RetailerOnSale': u'No', u'ManufacturerName': u'Samsung', u'ReviewRating': u'2', u'UserGender': u'Female', u'RetailerZip': u'2108', u'_id': ObjectId('592f27286cb48027a4cbf615'), u'RetailerCity': u'Boston'}\n",
      "{u'RetailerName': u'hhgregg', u'UserOccupation': u'Secratary', u'ProductPrice': u'399', u'RetailerState': u'CA', u'ManufacturerRebate': u'No', u'ReviewDate': u'6/21/2014', u'ReviewText': u'when watching movie , battery lasts less than 3 hours!', u'UserID': u'mfmnf53', u'ProductCategory': u'Smart Phone', u'ProductModelName': u'Galaxy S4', u'UserAge': u'51', u'RetailerOnSale': u'No', u'ManufacturerName': u'Samsung', u'ReviewRating': u'1', u'UserGender': u'Female', u'RetailerZip': u'90012', u'_id': ObjectId('592f27286cb48027a4cbf647'), u'RetailerCity': u'Los Angeles'}\n",
      "{u'RetailerName': u'Frys', u'UserOccupation': u'Unknown', u'ProductPrice': u'390', u'RetailerState': u'FL', u'ManufacturerRebate': u'No', u'ReviewDate': u'04/01/15', u'ReviewText': u'this phone has the worst battery I have ever seen. ', u'UserID': u'zcnxd50', u'ProductCategory': u'Smart Phone', u'ProductModelName': u'Galaxy S4', u'UserAge': u'36', u'RetailerOnSale': u'Yes', u'ManufacturerName': u'Samsung', u'ReviewRating': u'1', u'UserGender': u'Male', u'RetailerZip': u'33129', u'_id': ObjectId('592f27286cb48027a4cbf8ae'), u'RetailerCity': u'Miami'}\n",
      "{u'RetailerName': u'hhgregg', u'UserOccupation': u'Unknown', u'ProductPrice': u'269', u'RetailerState': u'IL', u'ManufacturerRebate': u'Yes', u'ReviewDate': u'2/15/2015', u'ReviewText': u' overheats after 3 hours', u'UserID': u'nfqyy81', u'ProductCategory': u'Smart Phone', u'ProductModelName': u'Galaxy S4', u'UserAge': u'26', u'RetailerOnSale': u'Yes', u'ManufacturerName': u'Samsung', u'ReviewRating': u'1', u'UserGender': u'Male', u'RetailerZip': u'60585', u'_id': ObjectId('592f27286cb48027a4cbf8dd'), u'RetailerCity': u'Naperville'}\n",
      "{u'RetailerName': u'Walmart', u'UserOccupation': u'Manager', u'ProductPrice': u'298', u'RetailerState': u'CA', u'ManufacturerRebate': u'Yes', u'ReviewDate': u'6/18/2014', u'ReviewText': u\"I don't like this lap top the bluetooth didn't work at all\", u'UserID': u'cylis38', u'ProductCategory': u'Laptop', u'ProductModelName': u'HP PAVALION  15.6', u'UserAge': u'19', u'RetailerOnSale': u'Yes', u'ManufacturerName': u'HP', u'ReviewRating': u'2', u'UserGender': u'Female', u'RetailerZip': u'94158', u'_id': ObjectId('592f27286cb48027a4cbf158'), u'RetailerCity': u'San Francisco'}\n",
      "{u'RetailerName': u'hhgregg', u'UserOccupation': u'Manager', u'ProductPrice': u'319', u'RetailerState': u'FL', u'ManufacturerRebate': u'No', u'ReviewDate': u'12/05/14', u'ReviewText': u'really noisy fan.', u'UserID': u'ewpag27', u'ProductCategory': u'Laptop', u'ProductModelName': u'HP PAVALION  15.6', u'UserAge': u'40', u'RetailerOnSale': u'No', u'ManufacturerName': u'HP', u'ReviewRating': u'2', u'UserGender': u'Female', u'RetailerZip': u'33129', u'_id': ObjectId('592f27286cb48027a4cbf16e'), u'RetailerCity': u'Miami'}\n",
      "{u'RetailerName': u'hhgregg', u'UserOccupation': u'Programmer', u'ProductPrice': u'319', u'RetailerState': u'CA', u'ManufacturerRebate': u'No', u'ReviewDate': u'11/29/2014', u'ReviewText': u'battery lasts for less than 2 hours.', u'UserID': u'diejc61', u'ProductCategory': u'Laptop', u'ProductModelName': u'HP PAVALION  15.6', u'UserAge': u'56', u'RetailerOnSale': u'No', u'ManufacturerName': u'HP', u'ReviewRating': u'1', u'UserGender': u'Male', u'RetailerZip': u'90033', u'_id': ObjectId('592f27286cb48027a4cbf1f2'), u'RetailerCity': u'Los Angeles'}\n",
      "{u'RetailerName': u'hhgregg', u'UserOccupation': u'Secratary', u'ProductPrice': u'319', u'RetailerState': u'IL', u'ManufacturerRebate': u'No', u'ReviewDate': u'10/25/2014', u'ReviewText': u'noisy fan.', u'UserID': u'vqvqy50', u'ProductCategory': u'Laptop', u'ProductModelName': u'HP PAVALION  15.6', u'UserAge': u'27', u'RetailerOnSale': u'No', u'ManufacturerName': u'HP', u'ReviewRating': u'2', u'UserGender': u'Male', u'RetailerZip': u'60585', u'_id': ObjectId('592f27286cb48027a4cbf293'), u'RetailerCity': u'Naperville'}\n",
      "{u'RetailerName': u'Frys', u'UserOccupation': u'Programmer', u'ProductPrice': u'376', u'RetailerState': u'MA', u'ManufacturerRebate': u'No', u'ReviewDate': u'10/10/13', u'ReviewText': u'battery is really bad; lasts less than 2 hours.', u'UserID': u'unjcg46', u'ProductCategory': u'Laptop', u'ProductModelName': u'HP PAVALION  15.6', u'UserAge': u'18', u'RetailerOnSale': u'No', u'ManufacturerName': u'HP', u'ReviewRating': u'2', u'UserGender': u'Female', u'RetailerZip': u'2108', u'_id': ObjectId('592f27286cb48027a4cbf453'), u'RetailerCity': u'Boston'}\n",
      "{u'RetailerName': u'hhgregg', u'UserOccupation': u'Accountant', u'ProductPrice': u'298', u'RetailerState': u'CA', u'ManufacturerRebate': u'Yes', u'ReviewDate': u'3/13/2014', u'ReviewText': u' the fan makes alot of noise when it overheats', u'UserID': u'auqos38', u'ProductCategory': u'Laptop', u'ProductModelName': u'HP PAVALION  15.6', u'UserAge': u'28', u'RetailerOnSale': u'Yes', u'ManufacturerName': u'HP', u'ReviewRating': u'1', u'UserGender': u'Male', u'RetailerZip': u'90033', u'_id': ObjectId('592f27286cb48027a4cbf769'), u'RetailerCity': u'Los Angeles'}\n",
      "{u'RetailerName': u'Frys', u'UserOccupation': u'Student', u'ProductPrice': u'999', u'RetailerState': u'IL', u'ManufacturerRebate': u'No', u'ReviewDate': u'11/29/2014', u'ReviewText': u'It does have 3 HDMI ports instead of two.', u'UserID': u'rakyc94', u'ProductCategory': u'TV', u'ProductModelName': u'LG 65', u'UserAge': u'43', u'RetailerOnSale': u'No', u'ManufacturerName': u'LG', u'ReviewRating': u'2', u'UserGender': u'Male', u'RetailerZip': u'60603', u'_id': ObjectId('592f27286cb48027a4cbf165'), u'RetailerCity': u'Chicago'}\n",
      "{u'RetailerName': u'hhgregg', u'UserOccupation': u'Unknown', u'ProductPrice': u'2250', u'RetailerState': u'FL', u'ManufacturerRebate': u'No', u'ReviewDate': u'9/20/2014', u'ReviewText': u\" I really wanted to like this TV it's a great size and decent price but after exchanging it Twice because of the   halo   on screen we had to give in and get a different brand.  \", u'UserID': u'bcteb90', u'ProductCategory': u'TV', u'ProductModelName': u'LG 65', u'UserAge': u'58', u'RetailerOnSale': u'No', u'ManufacturerName': u'LG', u'ReviewRating': u'2', u'UserGender': u'Male', u'RetailerZip': u'33129', u'_id': ObjectId('592f27286cb48027a4cbf18f'), u'RetailerCity': u'Miami'}\n",
      "{u'RetailerName': u'Frys', u'UserOccupation': u'Manager', u'ProductPrice': u'849', u'RetailerState': u'OH', u'ManufacturerRebate': u'Yes', u'ReviewDate': u'08/10/14', u'ReviewText': u\" This tv doesn't have all the bells and whistles\", u'UserID': u'tzirt9', u'ProductCategory': u'TV', u'ProductModelName': u'LG 65', u'UserAge': u'28', u'RetailerOnSale': u'Yes', u'ManufacturerName': u'LG', u'ReviewRating': u'2', u'UserGender': u'Male', u'RetailerZip': u'44114', u'_id': ObjectId('592f27286cb48027a4cbf1d8'), u'RetailerCity': u'Cleveland'}\n",
      "{u'RetailerName': u'Bestbuy', u'UserOccupation': u'Accountant', u'ProductPrice': u'2250', u'RetailerState': u'CA', u'ManufacturerRebate': u'No', u'ReviewDate': u'9/17/2014', u'ReviewText': u'Highly suggest you avoid this model', u'UserID': u'mfkpq78', u'ProductCategory': u'TV', u'ProductModelName': u'LG 65', u'UserAge': u'31', u'RetailerOnSale': u'No', u'ManufacturerName': u'LG', u'ReviewRating': u'1', u'UserGender': u'Male', u'RetailerZip': u'94102', u'_id': ObjectId('592f27286cb48027a4cbf1e8'), u'RetailerCity': u'San Francisco'}\n",
      "{u'RetailerName': u'hhgregg', u'UserOccupation': u'Student', u'ProductPrice': u'2250', u'RetailerState': u'CA', u'ManufacturerRebate': u'No', u'ReviewDate': u'5/25/2014', u'ReviewText': u'yello collor is green.', u'UserID': u'mvedk89', u'ProductCategory': u'TV', u'ProductModelName': u'LG 65', u'UserAge': u'46', u'RetailerOnSale': u'No', u'ManufacturerName': u'LG', u'ReviewRating': u'2', u'UserGender': u'Female', u'RetailerZip': u'90033', u'_id': ObjectId('592f27286cb48027a4cbf1fc'), u'RetailerCity': u'Los Angeles'}\n",
      "{u'RetailerName': u'Frys', u'UserOccupation': u'Unknown', u'ProductPrice': u'849', u'RetailerState': u'CA', u'ManufacturerRebate': u'Yes', u'ReviewDate': u'11/25/2014', u'ReviewText': u'Cheap price for the TV.', u'UserID': u'mfhsp66', u'ProductCategory': u'TV', u'ProductModelName': u'LG 65', u'UserAge': u'34', u'RetailerOnSale': u'Yes', u'ManufacturerName': u'LG', u'ReviewRating': u'2', u'UserGender': u'Male', u'RetailerZip': u'90012', u'_id': ObjectId('592f27286cb48027a4cbf216'), u'RetailerCity': u'Los Angeles'}\n",
      "{u'RetailerName': u'Walmart', u'UserOccupation': u'Secratary', u'ProductPrice': u'849', u'RetailerState': u'IL', u'ManufacturerRebate': u'Yes', u'ReviewDate': u'06/10/14', u'ReviewText': u'The colors are not that perfect. yello is green', u'UserID': u'dcwvu15', u'ProductCategory': u'TV', u'ProductModelName': u'LG 65', u'UserAge': u'36', u'RetailerOnSale': u'Yes', u'ManufacturerName': u'LG', u'ReviewRating': u'1', u'UserGender': u'Female', u'RetailerZip': u'60603', u'_id': ObjectId('592f27286cb48027a4cbf24e'), u'RetailerCity': u'Chicago'}\n",
      "{u'RetailerName': u'Bestbuy', u'UserOccupation': u'Manager', u'ProductPrice': u'2250', u'RetailerState': u'FL', u'ManufacturerRebate': u'No', u'ReviewDate': u'10/25/2014', u'ReviewText': u' Back light shines threw on dark screens', u'UserID': u'xctta14', u'ProductCategory': u'TV', u'ProductModelName': u'LG 65', u'UserAge': u'28', u'RetailerOnSale': u'No', u'ManufacturerName': u'LG', u'ReviewRating': u'2', u'UserGender': u'Female', u'RetailerZip': u'33129', u'_id': ObjectId('592f27286cb48027a4cbf31e'), u'RetailerCity': u'Miami'}\n",
      "{u'RetailerName': u'Walmart', u'UserOccupation': u'Unknown', u'ProductPrice': u'849', u'RetailerState': u'MA', u'ManufacturerRebate': u'Yes', u'ReviewDate': u'10/21/2014', u'ReviewText': u'Stay away from this TV', u'UserID': u'igcip6', u'ProductCategory': u'TV', u'ProductModelName': u'LG 65', u'UserAge': u'31', u'RetailerOnSale': u'Yes', u'ManufacturerName': u'LG', u'ReviewRating': u'1', u'UserGender': u'Female', u'RetailerZip': u'2110', u'_id': ObjectId('592f27286cb48027a4cbf326'), u'RetailerCity': u'Boston'}\n",
      "{u'RetailerName': u'hhgregg', u'UserOccupation': u'Programmer', u'ProductPrice': u'999', u'RetailerState': u'MA', u'ManufacturerRebate': u'No', u'ReviewDate': u'10/28/2014', u'ReviewText': u'I purchased this device sight unseen due to the high reviews.', u'UserID': u'avsea61', u'ProductCategory': u'TV', u'ProductModelName': u'LG 65', u'UserAge': u'58', u'RetailerOnSale': u'No', u'ManufacturerName': u'LG', u'ReviewRating': u'1', u'UserGender': u'Female', u'RetailerZip': u'2108', u'_id': ObjectId('592f27286cb48027a4cbf329'), u'RetailerCity': u'Boston'}\n",
      "{u'RetailerName': u'hhgregg', u'UserOccupation': u'Unknown', u'ProductPrice': u'849', u'RetailerState': u'IL', u'ManufacturerRebate': u'Yes', u'ReviewDate': u'12/27/2014', u'ReviewText': u\"LG didn't even bother to include an optical port to add a sound bar\", u'UserID': u'vsiob97', u'ProductCategory': u'TV', u'ProductModelName': u'LG 65', u'UserAge': u'40', u'RetailerOnSale': u'Yes', u'ManufacturerName': u'LG', u'ReviewRating': u'2', u'UserGender': u'Male', u'RetailerZip': u'60616', u'_id': ObjectId('592f27286cb48027a4cbf38c'), u'RetailerCity': u'Chicago'}\n",
      "{u'RetailerName': u'Bestbuy', u'UserOccupation': u'Programmer', u'ProductPrice': u'2250', u'RetailerState': u'CA', u'ManufacturerRebate': u'No', u'ReviewDate': u'8/21/2014', u'ReviewText': u'There are many great tvs at Bestbuy.', u'UserID': u'ngvwp86', u'ProductCategory': u'TV', u'ProductModelName': u'LG 65', u'UserAge': u'19', u'RetailerOnSale': u'No', u'ManufacturerName': u'LG', u'ReviewRating': u'1', u'UserGender': u'Male', u'RetailerZip': u'90033', u'_id': ObjectId('592f27286cb48027a4cbf3cc'), u'RetailerCity': u'Los Angeles'}\n",
      "{u'RetailerName': u'Walmart', u'UserOccupation': u'Accountant', u'ProductPrice': u'2250', u'RetailerState': u'CA', u'ManufacturerRebate': u'No', u'ReviewDate': u'12/05/14', u'ReviewText': u'Ive returned three of these horrible tvs', u'UserID': u'ssubd62', u'ProductCategory': u'TV', u'ProductModelName': u'LG 65', u'UserAge': u'22', u'RetailerOnSale': u'No', u'ManufacturerName': u'LG', u'ReviewRating': u'1', u'UserGender': u'Female', u'RetailerZip': u'90012', u'_id': ObjectId('592f27286cb48027a4cbf47b'), u'RetailerCity': u'Los Angeles'}\n",
      "{u'RetailerName': u'Frys', u'UserOccupation': u'Secratary', u'ProductPrice': u'2250', u'RetailerState': u'OH', u'ManufacturerRebate': u'No', u'ReviewDate': u'2/15/2015', u'ReviewText': u'The TV does not have an optical output or an HDMI ARC port.', u'UserID': u'cejze80', u'ProductCategory': u'TV', u'ProductModelName': u'LG 65', u'UserAge': u'47', u'RetailerOnSale': u'No', u'ManufacturerName': u'LG', u'ReviewRating': u'1', u'UserGender': u'Male', u'RetailerZip': u'44114', u'_id': ObjectId('592f27286cb48027a4cbf4af'), u'RetailerCity': u'Cleveland'}\n",
      "{u'RetailerName': u'Walmart', u'UserOccupation': u'Student', u'ProductPrice': u'849', u'RetailerState': u'IL', u'ManufacturerRebate': u'Yes', u'ReviewDate': u'6/21/2014', u'ReviewText': u'Terrible sound quality', u'UserID': u'mpyku22', u'ProductCategory': u'TV', u'ProductModelName': u'LG 65', u'UserAge': u'36', u'RetailerOnSale': u'Yes', u'ManufacturerName': u'LG', u'ReviewRating': u'2', u'UserGender': u'Male', u'RetailerZip': u'60585', u'_id': ObjectId('592f27286cb48027a4cbf4ef'), u'RetailerCity': u'Naperville'}\n",
      "{u'RetailerName': u'hhgregg', u'UserOccupation': u'Student', u'ProductPrice': u'999', u'RetailerState': u'CA', u'ManufacturerRebate': u'No', u'ReviewDate': u'7/19/2014', u'ReviewText': u'No white screen feature to clean ghost imaging', u'UserID': u'tdvno1', u'ProductCategory': u'TV', u'ProductModelName': u'LG 65', u'UserAge': u'40', u'RetailerOnSale': u'No', u'ManufacturerName': u'LG', u'ReviewRating': u'2', u'UserGender': u'Male', u'RetailerZip': u'94158', u'_id': ObjectId('592f27286cb48027a4cbf4f6'), u'RetailerCity': u'San Francisco'}\n",
      "{u'RetailerName': u'Frys', u'UserOccupation': u'Accountant', u'ProductPrice': u'849', u'RetailerState': u'IL', u'ManufacturerRebate': u'Yes', u'ReviewDate': u'05/12/14', u'ReviewText': u'good price for a huge TV but picture quality is not great.', u'UserID': u'zrppf54', u'ProductCategory': u'TV', u'ProductModelName': u'LG 65', u'UserAge': u'42', u'RetailerOnSale': u'Yes', u'ManufacturerName': u'LG', u'ReviewRating': u'2', u'UserGender': u'Male', u'RetailerZip': u'60585', u'_id': ObjectId('592f27286cb48027a4cbf52a'), u'RetailerCity': u'Naperville'}\n",
      "{u'RetailerName': u'Target', u'UserOccupation': u'Student', u'ProductPrice': u'849', u'RetailerState': u'IL', u'ManufacturerRebate': u'Yes', u'ReviewDate': u'02/01/13', u'ReviewText': u' slow wifi connection even with 15 ft.', u'UserID': u'sznqv55', u'ProductCategory': u'TV', u'ProductModelName': u'LG 65', u'UserAge': u'51', u'RetailerOnSale': u'Yes', u'ManufacturerName': u'LG', u'ReviewRating': u'1', u'UserGender': u'Male', u'RetailerZip': u'60616', u'_id': ObjectId('592f27286cb48027a4cbf5f4'), u'RetailerCity': u'Chicago'}\n",
      "{u'RetailerName': u'hhgregg', u'UserOccupation': u'Accountant', u'ProductPrice': u'2250', u'RetailerState': u'IL', u'ManufacturerRebate': u'No', u'ReviewDate': u'12/14/2014', u'ReviewText': u'This tv is junk. ', u'UserID': u'thxch37', u'ProductCategory': u'TV', u'ProductModelName': u'LG 65', u'UserAge': u'18', u'RetailerOnSale': u'No', u'ManufacturerName': u'LG', u'ReviewRating': u'1', u'UserGender': u'Female', u'RetailerZip': u'60603', u'_id': ObjectId('592f27286cb48027a4cbf621'), u'RetailerCity': u'Chicago'}\n",
      "{u'RetailerName': u'hhgregg', u'UserOccupation': u'Secratary', u'ProductPrice': u'849', u'RetailerState': u'IL', u'ManufacturerRebate': u'Yes', u'ReviewDate': u'1/14/2014', u'ReviewText': u'colors are bad on this tv for HD movies.', u'UserID': u'txiem98', u'ProductCategory': u'TV', u'ProductModelName': u'LG 65', u'UserAge': u'38', u'RetailerOnSale': u'Yes', u'ManufacturerName': u'LG', u'ReviewRating': u'1', u'UserGender': u'Male', u'RetailerZip': u'60616', u'_id': ObjectId('592f27286cb48027a4cbf6b9'), u'RetailerCity': u'Chicago'}\n",
      "{u'RetailerName': u'Frys', u'UserOccupation': u'Student', u'ProductPrice': u'2250', u'RetailerState': u'CA', u'ManufacturerRebate': u'No', u'ReviewDate': u'8/18/2014', u'ReviewText': u'But this one had a 2-inch line across the bottom of the screen', u'UserID': u'wceyr23', u'ProductCategory': u'TV', u'ProductModelName': u'LG 65', u'UserAge': u'32', u'RetailerOnSale': u'No', u'ManufacturerName': u'LG', u'ReviewRating': u'2', u'UserGender': u'Female', u'RetailerZip': u'94102', u'_id': ObjectId('592f27286cb48027a4cbf6c7'), u'RetailerCity': u'San Francisco'}\n",
      "{u'RetailerName': u'Target', u'UserOccupation': u'Accountant', u'ProductPrice': u'999', u'RetailerState': u'CA', u'ManufacturerRebate': u'No', u'ReviewDate': u'4/19/2014', u'ReviewText': u\"Horrible quality and picture but that's what I get for a cheap tv\", u'UserID': u'bxaoj2', u'ProductCategory': u'TV', u'ProductModelName': u'LG 65', u'UserAge': u'54', u'RetailerOnSale': u'No', u'ManufacturerName': u'LG', u'ReviewRating': u'1', u'UserGender': u'Male', u'RetailerZip': u'94158', u'_id': ObjectId('592f27286cb48027a4cbf6ff'), u'RetailerCity': u'San Francisco'}\n",
      "{u'RetailerName': u'Walmart', u'UserOccupation': u'Student', u'ProductPrice': u'849', u'RetailerState': u'FL', u'ManufacturerRebate': u'Yes', u'ReviewDate': u'10/10/13', u'ReviewText': u' Pro-big screen', u'UserID': u'cdvsh17', u'ProductCategory': u'TV', u'ProductModelName': u'LG 65', u'UserAge': u'53', u'RetailerOnSale': u'Yes', u'ManufacturerName': u'LG', u'ReviewRating': u'2', u'UserGender': u'Male', u'RetailerZip': u'33130', u'_id': ObjectId('592f27286cb48027a4cbf776'), u'RetailerCity': u'Miami'}\n",
      "{u'RetailerName': u'Walmart', u'UserOccupation': u'Accountant', u'ProductPrice': u'849', u'RetailerState': u'OH', u'ManufacturerRebate': u'Yes', u'ReviewDate': u'12/20/2014', u'ReviewText': u'The picture is OK but there is excessive flashlighting around the edge of the display which I can see on a dark blank screen.', u'UserID': u'jrwik39', u'ProductCategory': u'TV', u'ProductModelName': u'LG 65', u'UserAge': u'32', u'RetailerOnSale': u'Yes', u'ManufacturerName': u'LG', u'ReviewRating': u'2', u'UserGender': u'Male', u'RetailerZip': u'44114', u'_id': ObjectId('592f27286cb48027a4cbf7a6'), u'RetailerCity': u'Cleveland'}\n",
      "{u'RetailerName': u'hhgregg', u'UserOccupation': u'Manager', u'ProductPrice': u'2250', u'RetailerState': u'FL', u'ManufacturerRebate': u'No', u'ReviewDate': u'08/10/13', u'ReviewText': u' Great price for a 65 inch', u'UserID': u'tipfe75', u'ProductCategory': u'TV', u'ProductModelName': u'LG 65', u'UserAge': u'48', u'RetailerOnSale': u'No', u'ManufacturerName': u'LG', u'ReviewRating': u'1', u'UserGender': u'Female', u'RetailerZip': u'33129', u'_id': ObjectId('592f27286cb48027a4cbf8b9'), u'RetailerCity': u'Miami'}\n",
      "{u'RetailerName': u'Walmart', u'UserOccupation': u'Secratary', u'ProductPrice': u'2250', u'RetailerState': u'CA', u'ManufacturerRebate': u'No', u'ReviewDate': u'2/29/2015', u'ReviewText': u\"Blue ray is so bad there's blue spots on each corner. \", u'UserID': u'ngfxf38', u'ProductCategory': u'TV', u'ProductModelName': u'LG 65', u'UserAge': u'56', u'RetailerOnSale': u'No', u'ManufacturerName': u'LG', u'ReviewRating': u'2', u'UserGender': u'Male', u'RetailerZip': u'94102', u'_id': ObjectId('592f27286cb48027a4cbf8e2'), u'RetailerCity': u'San Francisco'}\n",
      "{u'RetailerName': u'Frys', u'UserOccupation': u'Secratary', u'ProductPrice': u'2250', u'RetailerState': u'IL', u'ManufacturerRebate': u'No', u'ReviewDate': u'5/15/2013', u'ReviewText': u'Problems arose after 2 days of owning the tv. White spots began appearing on my screen.', u'UserID': u'hpydo97', u'ProductCategory': u'TV', u'ProductModelName': u'LG 65', u'UserAge': u'55', u'RetailerOnSale': u'No', u'ManufacturerName': u'LG', u'ReviewRating': u'1', u'UserGender': u'Female', u'RetailerZip': u'60616', u'_id': ObjectId('592f27286cb48027a4cbf8f4'), u'RetailerCity': u'Chicago'}\n",
      "{u'RetailerName': u'Target', u'UserOccupation': u'Programmer', u'ProductPrice': u'999', u'RetailerState': u'FL', u'ManufacturerRebate': u'No', u'ReviewDate': u'6/25/2014', u'ReviewText': u\"But overall I'm un satisfied with picture quality.\", u'UserID': u'vlaqw51', u'ProductCategory': u'TV', u'ProductModelName': u'LG 65', u'UserAge': u'47', u'RetailerOnSale': u'No', u'ManufacturerName': u'LG', u'ReviewRating': u'2', u'UserGender': u'Female', u'RetailerZip': u'33130', u'_id': ObjectId('592f27286cb48027a4cbf8fe'), u'RetailerCity': u'Miami'}\n",
      "{u'RetailerName': u'Frys', u'UserOccupation': u'Student', u'ProductPrice': u'1200', u'RetailerState': u'FL', u'ManufacturerRebate': u'No', u'ReviewDate': u'8/21/2014', u'ReviewText': u\"O.K! We know Samsung are great TV's. But this afternoon I spent 3 1/2 hours on the phone with five people - all of whom could not speak English worth a darn. They kept shifting me back and forth and I honestly cannot believe I endured THREE AND ONE HALF HOURS of torture and torment! One hour was just on hold - REALLY!\", u'UserID': u'kikhs6', u'ProductCategory': u'TV', u'ProductModelName': u'Samsung TV 60 LED', u'UserAge': u'26', u'RetailerOnSale': u'No', u'ManufacturerName': u'Samsung', u'ReviewRating': u'2', u'UserGender': u'Male', u'RetailerZip': u'33129', u'_id': ObjectId('592f27286cb48027a4cbf175'), u'RetailerCity': u'Miami'}\n",
      "{u'RetailerName': u'hhgregg', u'UserOccupation': u'Programmer', u'ProductPrice': u'1200', u'RetailerState': u'CA', u'ManufacturerRebate': u'No', u'ReviewDate': u'6/18/2014', u'ReviewText': u\" What's not so great\", u'UserID': u'nozxz74', u'ProductCategory': u'TV', u'ProductModelName': u'Samsung TV 60 LED', u'UserAge': u'54', u'RetailerOnSale': u'No', u'ManufacturerName': u'Samsung', u'ReviewRating': u'2', u'UserGender': u'Male', u'RetailerZip': u'94158', u'_id': ObjectId('592f27286cb48027a4cbf1e6'), u'RetailerCity': u'San Francisco'}\n",
      "{u'RetailerName': u'Target', u'UserOccupation': u'Unknown', u'ProductPrice': u'1100', u'RetailerState': u'IL', u'ManufacturerRebate': u'No', u'ReviewDate': u'12/05/14', u'ReviewText': u'This tv is very hard to operate - the remote control is terrible and hard to use', u'UserID': u'jvuun2', u'ProductCategory': u'TV', u'ProductModelName': u'Samsung TV 60 LED', u'UserAge': u'27', u'RetailerOnSale': u'Yes', u'ManufacturerName': u'Samsung', u'ReviewRating': u'1', u'UserGender': u'Male', u'RetailerZip': u'60603', u'_id': ObjectId('592f27286cb48027a4cbf20b'), u'RetailerCity': u'Chicago'}\n",
      "{u'RetailerName': u'Walmart', u'UserOccupation': u'Student', u'ProductPrice': u'1200', u'RetailerState': u'CA', u'ManufacturerRebate': u'No', u'ReviewDate': u'4/29/2014', u'ReviewText': u'  did not work with my bluetooth sound system', u'UserID': u'jougn31', u'ProductCategory': u'TV', u'ProductModelName': u'Samsung TV 60 LED', u'UserAge': u'25', u'RetailerOnSale': u'No', u'ManufacturerName': u'Samsung', u'ReviewRating': u'2', u'UserGender': u'Female', u'RetailerZip': u'94158', u'_id': ObjectId('592f27286cb48027a4cbf297'), u'RetailerCity': u'San Francisco'}\n",
      "{u'RetailerName': u'Walmart', u'UserOccupation': u'Unknown', u'ProductPrice': u'1200', u'RetailerState': u'CA', u'ManufacturerRebate': u'No', u'ReviewDate': u'12/14/2014', u'ReviewText': u'I THOUGHT THAT SAMSUNG IS SUPPOSE TO BE TOP OF THE LINE BRAND. I BOUGHT THE TV 14 MONTHS AGO AND A GREEN LINE SHOWED UP ON THE SCREEN ALREADY. Bestbuy AND SAMSUNG WILL NOT DO ANYTHING BECAUSE WARRANTY IS ONLY FOR 1 YEAR. HORRIBLE...I', u'UserID': u'vvxjk45', u'ProductCategory': u'TV', u'ProductModelName': u'Samsung TV 60 LED', u'UserAge': u'57', u'RetailerOnSale': u'No', u'ManufacturerName': u'Samsung', u'ReviewRating': u'1', u'UserGender': u'Male', u'RetailerZip': u'94158', u'_id': ObjectId('592f27286cb48027a4cbf377'), u'RetailerCity': u'San Francisco'}\n",
      "{u'RetailerName': u'Frys', u'UserOccupation': u'Accountant', u'ProductPrice': u'1100', u'RetailerState': u'CA', u'ManufacturerRebate': u'No', u'ReviewDate': u'12/01/14', u'ReviewText': u\"I usually get Samsung products cause they are usually the best. However not even 24 hours after delivery the screen stopped functioning properly and started switching between different colors. Sound was still there buy couldn't get any picture.\", u'UserID': u'iwyvz0', u'ProductCategory': u'TV', u'ProductModelName': u'Samsung TV 60 LED', u'UserAge': u'26', u'RetailerOnSale': u'Yes', u'ManufacturerName': u'Samsung', u'ReviewRating': u'1', u'UserGender': u'Female', u'RetailerZip': u'94158', u'_id': ObjectId('592f27286cb48027a4cbf37a'), u'RetailerCity': u'San Francisco'}\n",
      "{u'RetailerName': u'hhgregg', u'UserOccupation': u'Programmer', u'ProductPrice': u'1100', u'RetailerState': u'FL', u'ManufacturerRebate': u'No', u'ReviewDate': u'3/24/2014', u'ReviewText': u'Pixels bounce around so now I have to go back in the store and do return/ exchange and then schedule an uninstall and another install! Spent this amount $$$$ for a headache! Very upset after being on phone w Geek Squad for 40 min then Bestbuy never answers! (On hold 3x)', u'UserID': u'yetsx61', u'ProductCategory': u'TV', u'ProductModelName': u'Samsung TV 60 LED', u'UserAge': u'18', u'RetailerOnSale': u'Yes', u'ManufacturerName': u'Samsung', u'ReviewRating': u'2', u'UserGender': u'Female', u'RetailerZip': u'33130', u'_id': ObjectId('592f27286cb48027a4cbf3a0'), u'RetailerCity': u'Miami'}\n",
      "{u'RetailerName': u'Bestbuy', u'UserOccupation': u'Student', u'ProductPrice': u'1200', u'RetailerState': u'OH', u'ManufacturerRebate': u'No', u'ReviewDate': u'08/10/13', u'ReviewText': u' bought this tv 1.5 yrs ago and from the very start there were nothing but problems.first of all it would not connect to my internet i contacted every tech savvy friend and relative i have', u'UserID': u'ejpvs63', u'ProductCategory': u'TV', u'ProductModelName': u'Samsung TV 60 LED', u'UserAge': u'18', u'RetailerOnSale': u'No', u'ManufacturerName': u'Samsung', u'ReviewRating': u'1', u'UserGender': u'Male', u'RetailerZip': u'44114', u'_id': ObjectId('592f27286cb48027a4cbf3bd'), u'RetailerCity': u'Cleveland'}\n",
      "{u'RetailerName': u'hhgregg', u'UserOccupation': u'Secratary', u'ProductPrice': u'1100', u'RetailerState': u'CA', u'ManufacturerRebate': u'No', u'ReviewDate': u'2/15/2015', u'ReviewText': u' I had troubles from the beginning with the Netflix app', u'UserID': u'jhquf43', u'ProductCategory': u'TV', u'ProductModelName': u'Samsung TV 60 LED', u'UserAge': u'56', u'RetailerOnSale': u'Yes', u'ManufacturerName': u'Samsung', u'ReviewRating': u'1', u'UserGender': u'Male', u'RetailerZip': u'94102', u'_id': ObjectId('592f27286cb48027a4cbf3dd'), u'RetailerCity': u'San Francisco'}\n",
      "{u'RetailerName': u'hhgregg', u'UserOccupation': u'Unknown', u'ProductPrice': u'1200', u'RetailerState': u'CA', u'ManufacturerRebate': u'No', u'ReviewDate': u'3/24/2014', u'ReviewText': u'connecting to wifi is really slow', u'UserID': u'jxfbz29', u'ProductCategory': u'TV', u'ProductModelName': u'Samsung TV 60 LED', u'UserAge': u'21', u'RetailerOnSale': u'No', u'ManufacturerName': u'Samsung', u'ReviewRating': u'1', u'UserGender': u'Female', u'RetailerZip': u'94158', u'_id': ObjectId('592f27286cb48027a4cbf450'), u'RetailerCity': u'San Francisco'}\n",
      "{u'RetailerName': u'Bestbuy', u'UserOccupation': u'Manager', u'ProductPrice': u'1100', u'RetailerState': u'CA', u'ManufacturerRebate': u'No', u'ReviewDate': u'9/14/2014', u'ReviewText': u' Samsung service is so bad. The tech supt', u'UserID': u'soqxf11', u'ProductCategory': u'TV', u'ProductModelName': u'Samsung TV 60 LED', u'UserAge': u'20', u'RetailerOnSale': u'Yes', u'ManufacturerName': u'Samsung', u'ReviewRating': u'1', u'UserGender': u'Female', u'RetailerZip': u'90012', u'_id': ObjectId('592f27286cb48027a4cbf50f'), u'RetailerCity': u'Los Angeles'}\n",
      "{u'RetailerName': u'Walmart', u'UserOccupation': u'Secratary', u'ProductPrice': u'1100', u'RetailerState': u'CA', u'ManufacturerRebate': u'No', u'ReviewDate': u'12/27/2014', u'ReviewText': u\"Remotes don't work half the time. Picture is nice straight on but at an angle picture becomes pail looking\", u'UserID': u'fynvr57', u'ProductCategory': u'TV', u'ProductModelName': u'Samsung TV 60 LED', u'UserAge': u'20', u'RetailerOnSale': u'Yes', u'ManufacturerName': u'Samsung', u'ReviewRating': u'2', u'UserGender': u'Male', u'RetailerZip': u'90033', u'_id': ObjectId('592f27286cb48027a4cbf554'), u'RetailerCity': u'Los Angeles'}\n",
      "{u'RetailerName': u'hhgregg', u'UserOccupation': u'Manager', u'ProductPrice': u'1100', u'RetailerState': u'CA', u'ManufacturerRebate': u'No', u'ReviewDate': u'9/20/2014', u'ReviewText': u'when watching the screen will go black for a second then resumes', u'UserID': u'ptqiz94', u'ProductCategory': u'TV', u'ProductModelName': u'Samsung TV 60 LED', u'UserAge': u'26', u'RetailerOnSale': u'Yes', u'ManufacturerName': u'Samsung', u'ReviewRating': u'1', u'UserGender': u'Male', u'RetailerZip': u'90012', u'_id': ObjectId('592f27286cb48027a4cbf55c'), u'RetailerCity': u'Los Angeles'}\n",
      "{u'RetailerName': u'Frys', u'UserOccupation': u'Unknown', u'ProductPrice': u'1200', u'RetailerState': u'CA', u'ManufacturerRebate': u'No', u'ReviewDate': u'6/21/2014', u'ReviewText': u\"Bought this tv three months ago. Last week a blue line showed up from top to bottom of the screen close to the middle of it. Going to call Samsung customer service to try to sort this out. Had Samsung tvs in the past with no issues but I can't yet recommend this to a friend\", u'UserID': u'axgbv64', u'ProductCategory': u'TV', u'ProductModelName': u'Samsung TV 60 LED', u'UserAge': u'39', u'RetailerOnSale': u'No', u'ManufacturerName': u'Samsung', u'ReviewRating': u'1', u'UserGender': u'Male', u'RetailerZip': u'90033', u'_id': ObjectId('592f27286cb48027a4cbf5a0'), u'RetailerCity': u'Los Angeles'}\n",
      "{u'RetailerName': u'Walmart', u'UserOccupation': u'Student', u'ProductPrice': u'1200', u'RetailerState': u'OH', u'ManufacturerRebate': u'No', u'ReviewDate': u'04/01/15', u'ReviewText': u'GREAT SIZE BAD PICTURE. DIDNT WORK RIGHT. BAD DESIGN', u'UserID': u'lofnc98', u'ProductCategory': u'TV', u'ProductModelName': u'Samsung TV 60 LED', u'UserAge': u'44', u'RetailerOnSale': u'No', u'ManufacturerName': u'Samsung', u'ReviewRating': u'1', u'UserGender': u'Female', u'RetailerZip': u'44114', u'_id': ObjectId('592f27286cb48027a4cbf5a6'), u'RetailerCity': u'Cleveland'}\n",
      "{u'RetailerName': u'Frys', u'UserOccupation': u'Accountant', u'ProductPrice': u'1100', u'RetailerState': u'FL', u'ManufacturerRebate': u'No', u'ReviewDate': u'05/12/14', u'ReviewText': u' I advise you measure the TV before you purchase. My TV is only 55  ', u'UserID': u'utulj67', u'ProductCategory': u'TV', u'ProductModelName': u'Samsung TV 60 LED', u'UserAge': u'26', u'RetailerOnSale': u'Yes', u'ManufacturerName': u'Samsung', u'ReviewRating': u'1', u'UserGender': u'Male', u'RetailerZip': u'33129', u'_id': ObjectId('592f27286cb48027a4cbf5cb'), u'RetailerCity': u'Miami'}\n",
      "{u'RetailerName': u'Target', u'UserOccupation': u'Accountant', u'ProductPrice': u'1200', u'RetailerState': u'CA', u'ManufacturerRebate': u'No', u'ReviewDate': u'08/10/13', u'ReviewText': u'slwo wifi when I stream Netflix', u'UserID': u'kzlfd39', u'ProductCategory': u'TV', u'ProductModelName': u'Samsung TV 60 LED', u'UserAge': u'57', u'RetailerOnSale': u'No', u'ManufacturerName': u'Samsung', u'ReviewRating': u'2', u'UserGender': u'Male', u'RetailerZip': u'90033', u'_id': ObjectId('592f27286cb48027a4cbf67d'), u'RetailerCity': u'Los Angeles'}\n",
      "{u'RetailerName': u'Walmart', u'UserOccupation': u'Manager', u'ProductPrice': u'1100', u'RetailerState': u'IL', u'ManufacturerRebate': u'No', u'ReviewDate': u'12/01/14', u'ReviewText': u' Purchased a 46   older model (Jan-2012', u'UserID': u'qzhpc20', u'ProductCategory': u'TV', u'ProductModelName': u'Samsung TV 60 LED', u'UserAge': u'27', u'RetailerOnSale': u'Yes', u'ManufacturerName': u'Samsung', u'ReviewRating': u'2', u'UserGender': u'Female', u'RetailerZip': u'60585', u'_id': ObjectId('592f27286cb48027a4cbf6d7'), u'RetailerCity': u'Naperville'}\n",
      "{u'RetailerName': u'Frys', u'UserOccupation': u'Manager', u'ProductPrice': u'1200', u'RetailerState': u'IL', u'ManufacturerRebate': u'No', u'ReviewDate': u'8/21/2014', u'ReviewText': u\"I'm on my 4th tech support chat with Samsung because my brand new UN60H7150AF TV is un-watchable. I have to unplug it and reboot once or twice a day to get anything on the smart hub to work. They keep having me do factory resets and telling me I'm too far away from my router.\", u'UserID': u'mofov77', u'ProductCategory': u'TV', u'ProductModelName': u'Samsung TV 60 LED', u'UserAge': u'18', u'RetailerOnSale': u'No', u'ManufacturerName': u'Samsung', u'ReviewRating': u'1', u'UserGender': u'Female', u'RetailerZip': u'60616', u'_id': ObjectId('592f27286cb48027a4cbf710'), u'RetailerCity': u'Chicago'}\n",
      "{u'RetailerName': u'Bestbuy', u'UserOccupation': u'Unknown', u'ProductPrice': u'1200', u'RetailerState': u'FL', u'ManufacturerRebate': u'No', u'ReviewDate': u'8/18/2014', u'ReviewText': u\"Have to turn the brightness all the way up. it's a nice tv but not sure it's supposed to do that.\", u'UserID': u'aljlt12', u'ProductCategory': u'TV', u'ProductModelName': u'Samsung TV 60 LED', u'UserAge': u'46', u'RetailerOnSale': u'No', u'ManufacturerName': u'Samsung', u'ReviewRating': u'1', u'UserGender': u'Male', u'RetailerZip': u'33130', u'_id': ObjectId('592f27286cb48027a4cbf738'), u'RetailerCity': u'Miami'}\n",
      "{u'RetailerName': u'Walmart', u'UserOccupation': u'Manager', u'ProductPrice': u'1100', u'RetailerState': u'FL', u'ManufacturerRebate': u'No', u'ReviewDate': u'5/19/2014', u'ReviewText': u' We are now on our 3rd version of this TV. The picture is great. We switched to internet only TV viewing', u'UserID': u'zbrjm28', u'ProductCategory': u'TV', u'ProductModelName': u'Samsung TV 60 LED', u'UserAge': u'48', u'RetailerOnSale': u'Yes', u'ManufacturerName': u'Samsung', u'ReviewRating': u'1', u'UserGender': u'Female', u'RetailerZip': u'33129', u'_id': ObjectId('592f27286cb48027a4cbf751'), u'RetailerCity': u'Miami'}\n",
      "{u'RetailerName': u'hhgregg', u'UserOccupation': u'Unknown', u'ProductPrice': u'1100', u'RetailerState': u'OH', u'ManufacturerRebate': u'No', u'ReviewDate': u'10/25/2014', u'ReviewText': u'GREAT SIZE BAD PICTURE. DIDNT WORK RIGHT. BAD DESIGN', u'UserID': u'kshdf83', u'ProductCategory': u'TV', u'ProductModelName': u'Samsung TV 60 LED', u'UserAge': u'32', u'RetailerOnSale': u'Yes', u'ManufacturerName': u'Samsung', u'ReviewRating': u'1', u'UserGender': u'Male', u'RetailerZip': u'44114', u'_id': ObjectId('592f27286cb48027a4cbf76d'), u'RetailerCity': u'Cleveland'}\n",
      "{u'RetailerName': u'hhgregg', u'UserOccupation': u'Manager', u'ProductPrice': u'1200', u'RetailerState': u'IL', u'ManufacturerRebate': u'No', u'ReviewDate': u'02/01/13', u'ReviewText': u'Buy the protection plan if you buy this TV. Samsung support is awful. Amazon and Netflix worked fine for a month; then failed.', u'UserID': u'zkocb79', u'ProductCategory': u'TV', u'ProductModelName': u'Samsung TV 60 LED', u'UserAge': u'25', u'RetailerOnSale': u'No', u'ManufacturerName': u'Samsung', u'ReviewRating': u'1', u'UserGender': u'Female', u'RetailerZip': u'60585', u'_id': ObjectId('592f27286cb48027a4cbf7c5'), u'RetailerCity': u'Naperville'}\n",
      "{u'RetailerName': u'Walmart', u'UserOccupation': u'Unknown', u'ProductPrice': u'1100', u'RetailerState': u'CA', u'ManufacturerRebate': u'No', u'ReviewDate': u'10/10/13', u'ReviewText': u'Delivery people pull up very late and spend 20 minutes on the phone while my husband unloaded the TV', u'UserID': u'cjgrk81', u'ProductCategory': u'TV', u'ProductModelName': u'Samsung TV 60 LED', u'UserAge': u'19', u'RetailerOnSale': u'Yes', u'ManufacturerName': u'Samsung', u'ReviewRating': u'1', u'UserGender': u'Male', u'RetailerZip': u'90033', u'_id': ObjectId('592f27286cb48027a4cbf7d5'), u'RetailerCity': u'Los Angeles'}\n",
      "{u'RetailerName': u'hhgregg', u'UserOccupation': u'Accountant', u'ProductPrice': u'1100', u'RetailerState': u'OH', u'ManufacturerRebate': u'No', u'ReviewDate': u'9/13/2013', u'ReviewText': u' This is the worst TV in the world! Smart Hub only works half the time', u'UserID': u'flpun97', u'ProductCategory': u'TV', u'ProductModelName': u'Samsung TV 60 LED', u'UserAge': u'20', u'RetailerOnSale': u'Yes', u'ManufacturerName': u'Samsung', u'ReviewRating': u'1', u'UserGender': u'Male', u'RetailerZip': u'44114', u'_id': ObjectId('592f27286cb48027a4cbf7e0'), u'RetailerCity': u'Cleveland'}\n",
      "{u'RetailerName': u'Frys', u'UserOccupation': u'Student', u'ProductPrice': u'1100', u'RetailerState': u'CA', u'ManufacturerRebate': u'No', u'ReviewDate': u'04/01/15', u'ReviewText': u' I was only able to work with the TV for about 3 hours before it crashed. The buying experience at Bestbuy was excellent', u'UserID': u'rkqlj49', u'ProductCategory': u'TV', u'ProductModelName': u'Samsung TV 60 LED', u'UserAge': u'37', u'RetailerOnSale': u'Yes', u'ManufacturerName': u'Samsung', u'ReviewRating': u'2', u'UserGender': u'Female', u'RetailerZip': u'94102', u'_id': ObjectId('592f27286cb48027a4cbf7e8'), u'RetailerCity': u'San Francisco'}\n",
      "{u'RetailerName': u'Target', u'UserOccupation': u'Accountant', u'ProductPrice': u'1200', u'RetailerState': u'CA', u'ManufacturerRebate': u'No', u'ReviewDate': u'2/15/2015', u'ReviewText': u' Bestbuy is awesome', u'UserID': u'rwklu85', u'ProductCategory': u'TV', u'ProductModelName': u'Samsung TV 60 LED', u'UserAge': u'39', u'RetailerOnSale': u'No', u'ManufacturerName': u'Samsung', u'ReviewRating': u'1', u'UserGender': u'Male', u'RetailerZip': u'90033', u'_id': ObjectId('592f27286cb48027a4cbf836'), u'RetailerCity': u'Los Angeles'}\n",
      "{u'RetailerName': u'Target', u'UserOccupation': u'Student', u'ProductPrice': u'1100', u'RetailerState': u'CA', u'ManufacturerRebate': u'No', u'ReviewDate': u'7/19/2014', u'ReviewText': u' I purchased this   smart   TV based on numerous reviews that were good. What I found was a TV with terrible picture quality that had to be changed for every show I watched. No consistency in color or contrast. Sound quality was very poor. ', u'UserID': u'txeod71', u'ProductCategory': u'TV', u'ProductModelName': u'Samsung TV 60 LED', u'UserAge': u'23', u'RetailerOnSale': u'Yes', u'ManufacturerName': u'Samsung', u'ReviewRating': u'1', u'UserGender': u'Male', u'RetailerZip': u'90012', u'_id': ObjectId('592f27286cb48027a4cbf891'), u'RetailerCity': u'Los Angeles'}\n",
      "{u'RetailerName': u'Frys', u'UserOccupation': u'Secratary', u'ProductPrice': u'1100', u'RetailerState': u'CA', u'ManufacturerRebate': u'No', u'ReviewDate': u'12/27/2014', u'ReviewText': u\" netflix wouldn't work; slow wifi connection\", u'UserID': u'bcafm18', u'ProductCategory': u'TV', u'ProductModelName': u'Samsung TV 60 LED', u'UserAge': u'21', u'RetailerOnSale': u'Yes', u'ManufacturerName': u'Samsung', u'ReviewRating': u'1', u'UserGender': u'Male', u'RetailerZip': u'90012', u'_id': ObjectId('592f27286cb48027a4cbf89f'), u'RetailerCity': u'Los Angeles'}\n",
      "{u'RetailerName': u'Frys', u'UserOccupation': u'Accountant', u'ProductPrice': u'1100', u'RetailerState': u'IL', u'ManufacturerRebate': u'No', u'ReviewDate': u'10/25/2014', u'ReviewText': u'streaming netflix on this TV is bad; slopw wifi.', u'UserID': u'abzpf7', u'ProductCategory': u'TV', u'ProductModelName': u'Samsung TV 60 LED', u'UserAge': u'25', u'RetailerOnSale': u'Yes', u'ManufacturerName': u'Samsung', u'ReviewRating': u'1', u'UserGender': u'Female', u'RetailerZip': u'60603', u'_id': ObjectId('592f27286cb48027a4cbf8cf'), u'RetailerCity': u'Chicago'}\n",
      "{u'RetailerName': u'hhgregg', u'UserOccupation': u'Secratary', u'ProductPrice': u'1100', u'RetailerState': u'CA', u'ManufacturerRebate': u'No', u'ReviewDate': u'12/10/14', u'ReviewText': u'Purchased 7150 model and returned it because of bad color and could not get it properly adjusted. Got a replacement and it is not much better.', u'UserID': u'bekzr2', u'ProductCategory': u'TV', u'ProductModelName': u'Samsung TV 60 LED', u'UserAge': u'34', u'RetailerOnSale': u'Yes', u'ManufacturerName': u'Samsung', u'ReviewRating': u'2', u'UserGender': u'Female', u'RetailerZip': u'90012', u'_id': ObjectId('592f27286cb48027a4cbf8f8'), u'RetailerCity': u'Los Angeles'}\n",
      "{u'RetailerName': u'Walmart', u'UserOccupation': u'Secratary', u'ProductPrice': u'1799', u'RetailerState': u'CA', u'ManufacturerRebate': u'Yes', u'ReviewDate': u'3/24/2014', u'ReviewText': u'Take it home and flex its muscles all you can.', u'UserID': u'unoyo25', u'ProductCategory': u'TV', u'ProductModelName': u'Samsung TV 65 Curved', u'UserAge': u'54', u'RetailerOnSale': u'Yes', u'ManufacturerName': u'Samsung', u'ReviewRating': u'2', u'UserGender': u'Female', u'RetailerZip': u'94158', u'_id': ObjectId('592f27286cb48027a4cbf1d5'), u'RetailerCity': u'San Francisco'}\n",
      "{u'RetailerName': u'hhgregg', u'UserOccupation': u'Unknown', u'ProductPrice': u'1899', u'RetailerState': u'CA', u'ManufacturerRebate': u'Yes', u'ReviewDate': u'12/20/2014', u'ReviewText': u'WE HAD DIFFICULTY WITH THE GLARE AND REFLECTION', u'UserID': u'ldzku77', u'ProductCategory': u'TV', u'ProductModelName': u'Samsung TV 65 Curved', u'UserAge': u'37', u'RetailerOnSale': u'Yes', u'ManufacturerName': u'Samsung', u'ReviewRating': u'2', u'UserGender': u'Female', u'RetailerZip': u'90012', u'_id': ObjectId('592f27286cb48027a4cbf2e3'), u'RetailerCity': u'Los Angeles'}\n",
      "{u'RetailerName': u'Walmart', u'UserOccupation': u'Unknown', u'ProductPrice': u'1799', u'RetailerState': u'CA', u'ManufacturerRebate': u'Yes', u'ReviewDate': u'7/19/2014', u'ReviewText': u' I bought it last weekend. It was delivered Tuesday.', u'UserID': u'ivour25', u'ProductCategory': u'TV', u'ProductModelName': u'Samsung TV 65 Curved', u'UserAge': u'54', u'RetailerOnSale': u'Yes', u'ManufacturerName': u'Samsung', u'ReviewRating': u'2', u'UserGender': u'Male', u'RetailerZip': u'94102', u'_id': ObjectId('592f27286cb48027a4cbf39f'), u'RetailerCity': u'San Francisco'}\n",
      "{u'RetailerName': u'Target', u'UserOccupation': u'Programmer', u'ProductPrice': u'1900', u'RetailerState': u'CA', u'ManufacturerRebate': u'No', u'ReviewDate': u'5/25/2014', u'ReviewText': u'Picture quality is ok. Inside Bestbuy stores TVs picture quality is great?', u'UserID': u'kagpj63', u'ProductCategory': u'TV', u'ProductModelName': u'Samsung TV 65 Curved', u'UserAge': u'59', u'RetailerOnSale': u'No', u'ManufacturerName': u'Samsung', u'ReviewRating': u'2', u'UserGender': u'Male', u'RetailerZip': u'90012', u'_id': ObjectId('592f27286cb48027a4cbf4d0'), u'RetailerCity': u'Los Angeles'}\n",
      "{u'RetailerName': u'Bestbuy', u'UserOccupation': u'Programmer', u'ProductPrice': u'1799', u'RetailerState': u'FL', u'ManufacturerRebate': u'Yes', u'ReviewDate': u'11/25/2014', u'ReviewText': u' The picture is great', u'UserID': u'eganz60', u'ProductCategory': u'TV', u'ProductModelName': u'Samsung TV 65 Curved', u'UserAge': u'52', u'RetailerOnSale': u'Yes', u'ManufacturerName': u'Samsung', u'ReviewRating': u'2', u'UserGender': u'Male', u'RetailerZip': u'33129', u'_id': ObjectId('592f27286cb48027a4cbf4d7'), u'RetailerCity': u'Miami'}\n",
      "{u'RetailerName': u'Frys', u'UserOccupation': u'Manager', u'ProductPrice': u'2199', u'RetailerState': u'CA', u'ManufacturerRebate': u'No', u'ReviewDate': u'2/15/2015', u'ReviewText': u\"couldn't watch netflix on it. slow wifi connection\", u'UserID': u'fuagm41', u'ProductCategory': u'TV', u'ProductModelName': u'Samsung TV 65 Curved', u'UserAge': u'22', u'RetailerOnSale': u'No', u'ManufacturerName': u'Samsung', u'ReviewRating': u'1', u'UserGender': u'Female', u'RetailerZip': u'90012', u'_id': ObjectId('592f27286cb48027a4cbf5d0'), u'RetailerCity': u'Los Angeles'}\n",
      "{u'RetailerName': u'hhgregg', u'UserOccupation': u'Programmer', u'ProductPrice': u'1900', u'RetailerState': u'IL', u'ManufacturerRebate': u'No', u'ReviewDate': u'8/18/2014', u'ReviewText': u\"Doesn't work will with comcast. \", u'UserID': u'pytcv56', u'ProductCategory': u'TV', u'ProductModelName': u'Samsung TV 65 Curved', u'UserAge': u'32', u'RetailerOnSale': u'No', u'ManufacturerName': u'Samsung', u'ReviewRating': u'2', u'UserGender': u'Male', u'RetailerZip': u'60616', u'_id': ObjectId('592f27286cb48027a4cbf60a'), u'RetailerCity': u'Chicago'}\n",
      "{u'RetailerName': u'hhgregg', u'UserOccupation': u'Secratary', u'ProductPrice': u'1899', u'RetailerState': u'CA', u'ManufacturerRebate': u'Yes', u'ReviewDate': u'10/25/2014', u'ReviewText': u' If hate mail was possible on this forum', u'UserID': u'wezzx76', u'ProductCategory': u'TV', u'ProductModelName': u'Samsung TV 65 Curved', u'UserAge': u'38', u'RetailerOnSale': u'Yes', u'ManufacturerName': u'Samsung', u'ReviewRating': u'2', u'UserGender': u'Male', u'RetailerZip': u'94158', u'_id': ObjectId('592f27286cb48027a4cbf65f'), u'RetailerCity': u'San Francisco'}\n",
      "{u'RetailerName': u'Walmart', u'UserOccupation': u'Programmer', u'ProductPrice': u'2099', u'RetailerState': u'CA', u'ManufacturerRebate': u'No', u'ReviewDate': u'11/29/2014', u'ReviewText': u'The tv was simple to initially set up.', u'UserID': u'ydwkq9', u'ProductCategory': u'TV', u'ProductModelName': u'Samsung TV 65 Curved', u'UserAge': u'24', u'RetailerOnSale': u'Yes', u'ManufacturerName': u'Samsung', u'ReviewRating': u'2', u'UserGender': u'Male', u'RetailerZip': u'90033', u'_id': ObjectId('592f27286cb48027a4cbf682'), u'RetailerCity': u'Los Angeles'}\n",
      "{u'RetailerName': u'Frys', u'UserOccupation': u'Unknown', u'ProductPrice': u'1899', u'RetailerState': u'MA', u'ManufacturerRebate': u'Yes', u'ReviewDate': u'6/18/2014', u'ReviewText': u'Have had nothing but problems with the volume.', u'UserID': u'nveph41', u'ProductCategory': u'TV', u'ProductModelName': u'Samsung TV 65 Curved', u'UserAge': u'47', u'RetailerOnSale': u'Yes', u'ManufacturerName': u'Samsung', u'ReviewRating': u'2', u'UserGender': u'Male', u'RetailerZip': u'2108', u'_id': ObjectId('592f27286cb48027a4cbf699'), u'RetailerCity': u'Boston'}\n",
      "{u'RetailerName': u'Walmart', u'UserOccupation': u'Accountant', u'ProductPrice': u'2099', u'RetailerState': u'IL', u'ManufacturerRebate': u'No', u'ReviewDate': u'6/25/2014', u'ReviewText': u'All features in tv not available in this region dvr 3d ect Which is OK', u'UserID': u'ryobt83', u'ProductCategory': u'TV', u'ProductModelName': u'Samsung TV 65 Curved', u'UserAge': u'28', u'RetailerOnSale': u'Yes', u'ManufacturerName': u'Samsung', u'ReviewRating': u'2', u'UserGender': u'Male', u'RetailerZip': u'60585', u'_id': ObjectId('592f27286cb48027a4cbf6b2'), u'RetailerCity': u'Naperville'}\n",
      "{u'RetailerName': u'Frys', u'UserOccupation': u'Programmer', u'ProductPrice': u'1900', u'RetailerState': u'CA', u'ManufacturerRebate': u'No', u'ReviewDate': u'6/21/2014', u'ReviewText': u' The curved design looks cool', u'UserID': u'rxkzv56', u'ProductCategory': u'TV', u'ProductModelName': u'Samsung TV 65 Curved', u'UserAge': u'39', u'RetailerOnSale': u'No', u'ManufacturerName': u'Samsung', u'ReviewRating': u'2', u'UserGender': u'Female', u'RetailerZip': u'94158', u'_id': ObjectId('592f27286cb48027a4cbf6f4'), u'RetailerCity': u'San Francisco'}\n",
      "{u'RetailerName': u'Frys', u'UserOccupation': u'Secratary', u'ProductPrice': u'1799', u'RetailerState': u'IL', u'ManufacturerRebate': u'Yes', u'ReviewDate': u'10/10/13', u'ReviewText': u'This is a fine looking tv. ', u'UserID': u'xismz59', u'ProductCategory': u'TV', u'ProductModelName': u'Samsung TV 65 Curved', u'UserAge': u'52', u'RetailerOnSale': u'Yes', u'ManufacturerName': u'Samsung', u'ReviewRating': u'2', u'UserGender': u'Male', u'RetailerZip': u'60603', u'_id': ObjectId('592f27286cb48027a4cbf782'), u'RetailerCity': u'Chicago'}\n",
      "{u'RetailerName': u'Bestbuy', u'UserOccupation': u'Secratary', u'ProductPrice': u'2199', u'RetailerState': u'OH', u'ManufacturerRebate': u'No', u'ReviewDate': u'12/27/2014', u'ReviewText': u'it is terrible from the side!', u'UserID': u'bfmsl39', u'ProductCategory': u'TV', u'ProductModelName': u'Samsung TV 65 Curved', u'UserAge': u'48', u'RetailerOnSale': u'No', u'ManufacturerName': u'Samsung', u'ReviewRating': u'2', u'UserGender': u'Female', u'RetailerZip': u'44114', u'_id': ObjectId('592f27286cb48027a4cbf7c0'), u'RetailerCity': u'Cleveland'}\n",
      "{u'RetailerName': u'hhgregg', u'UserOccupation': u'Manager', u'ProductPrice': u'2199', u'RetailerState': u'CA', u'ManufacturerRebate': u'No', u'ReviewDate': u'8/21/2014', u'ReviewText': u'You know how annoying it is when you have to use a computer with a defective mouse? ', u'UserID': u'ijgcw80', u'ProductCategory': u'TV', u'ProductModelName': u'Samsung TV 65 Curved', u'UserAge': u'50', u'RetailerOnSale': u'No', u'ManufacturerName': u'Samsung', u'ReviewRating': u'2', u'UserGender': u'Male', u'RetailerZip': u'94102', u'_id': ObjectId('592f27286cb48027a4cbf810'), u'RetailerCity': u'San Francisco'}\n",
      "{u'RetailerName': u'Target', u'UserOccupation': u'Accountant', u'ProductPrice': u'1799', u'RetailerState': u'IL', u'ManufacturerRebate': u'Yes', u'ReviewDate': u'2/29/2015', u'ReviewText': u'This is the first Samsung product that I am seriously disappointed with.  Bad HDMI connection', u'UserID': u'kdbxc89', u'ProductCategory': u'TV', u'ProductModelName': u'Samsung TV 65 Curved', u'UserAge': u'27', u'RetailerOnSale': u'Yes', u'ManufacturerName': u'Samsung', u'ReviewRating': u'2', u'UserGender': u'Female', u'RetailerZip': u'60603', u'_id': ObjectId('592f27286cb48027a4cbf81c'), u'RetailerCity': u'Chicago'}\n",
      "{u'RetailerName': u'Frys', u'UserOccupation': u'Accountant', u'ProductPrice': u'1799', u'RetailerState': u'CA', u'ManufacturerRebate': u'Yes', u'ReviewDate': u'02/01/13', u'ReviewText': u' Bad HDMI connection and power cable is funny', u'UserID': u'uzkyn58', u'ProductCategory': u'TV', u'ProductModelName': u'Samsung TV 65 Curved', u'UserAge': u'21', u'RetailerOnSale': u'Yes', u'ManufacturerName': u'Samsung', u'ReviewRating': u'1', u'UserGender': u'Male', u'RetailerZip': u'94158', u'_id': ObjectId('592f27286cb48027a4cbf832'), u'RetailerCity': u'San Francisco'}\n",
      "{u'RetailerName': u'Walmart', u'UserOccupation': u'Student', u'ProductPrice': u'1900', u'RetailerState': u'IL', u'ManufacturerRebate': u'No', u'ReviewDate': u'04/01/15', u'ReviewText': u' I am an IT guy', u'UserID': u'yzddh40', u'ProductCategory': u'TV', u'ProductModelName': u'Samsung TV 65 Curved', u'UserAge': u'32', u'RetailerOnSale': u'No', u'ManufacturerName': u'Samsung', u'ReviewRating': u'2', u'UserGender': u'Female', u'RetailerZip': u'60616', u'_id': ObjectId('592f27286cb48027a4cbf905'), u'RetailerCity': u'Chicago'}\n",
      "{u'RetailerName': u'hhgregg', u'UserOccupation': u'Secratary', u'ProductPrice': u'2099', u'RetailerState': u'MA', u'ManufacturerRebate': u'No', u'ReviewDate': u'12/01/14', u'ReviewText': u'Had bask luck the day we brought it home.', u'UserID': u'anpih0', u'ProductCategory': u'TV', u'ProductModelName': u'Samsung TV 65 Curved', u'UserAge': u'55', u'RetailerOnSale': u'Yes', u'ManufacturerName': u'Samsung', u'ReviewRating': u'2', u'UserGender': u'Female', u'RetailerZip': u'2110', u'_id': ObjectId('592f27286cb48027a4cbf909'), u'RetailerCity': u'Boston'}\n",
      "{u'RetailerName': u'Walmart', u'UserOccupation': u'Accountant', u'ProductPrice': u'299', u'RetailerState': u'IL', u'ManufacturerRebate': u'No', u'ReviewDate': u'6/25/2014', u'ReviewText': u'This was a good buy for my mother instead of buying an ipad', u'UserID': u'uupfc54', u'ProductCategory': u'Tablet', u'ProductModelName': u'Samsung Tab 4', u'UserAge': u'47', u'RetailerOnSale': u'Yes', u'ManufacturerName': u'Samsung', u'ReviewRating': u'2', u'UserGender': u'Male', u'RetailerZip': u'60585', u'_id': ObjectId('592f27286cb48027a4cbf174'), u'RetailerCity': u'Naperville'}\n",
      "{u'RetailerName': u'hhgregg', u'UserOccupation': u'Student', u'ProductPrice': u'349', u'RetailerState': u'IL', u'ManufacturerRebate': u'No', u'ReviewDate': u'5/15/2013', u'ReviewText': u'bad battery.', u'UserID': u'oaxmv27', u'ProductCategory': u'Tablet', u'ProductModelName': u'Samsung Tab 4', u'UserAge': u'40', u'RetailerOnSale': u'No', u'ManufacturerName': u'Samsung', u'ReviewRating': u'2', u'UserGender': u'Male', u'RetailerZip': u'60603', u'_id': ObjectId('592f27286cb48027a4cbf29e'), u'RetailerCity': u'Chicago'}\n",
      "{u'RetailerName': u'Walmart', u'UserOccupation': u'Manager', u'ProductPrice': u'299', u'RetailerState': u'CA', u'ManufacturerRebate': u'No', u'ReviewDate': u'11/25/2014', u'ReviewText': u'I purchased this to take with me on a trip to Japan. It did what it was supposed to do. But the camera sucks. Size was nice though. Ipad 1 weighs a ton.', u'UserID': u'visxl94', u'ProductCategory': u'Tablet', u'ProductModelName': u'Samsung Tab 4', u'UserAge': u'41', u'RetailerOnSale': u'Yes', u'ManufacturerName': u'Samsung', u'ReviewRating': u'2', u'UserGender': u'Male', u'RetailerZip': u'90012', u'_id': ObjectId('592f27286cb48027a4cbf2f5'), u'RetailerCity': u'Los Angeles'}\n",
      "{u'RetailerName': u'Bestbuy', u'UserOccupation': u'Student', u'ProductPrice': u'349', u'RetailerState': u'FL', u'ManufacturerRebate': u'No', u'ReviewDate': u'6/25/2014', u'ReviewText': u'In my opinion the LG G Pad is the better deal I have both tablets and use my G Pad way more than this one ...battery life sucks G Pad goes 4 days without charging', u'UserID': u'qmqgd12', u'ProductCategory': u'Tablet', u'ProductModelName': u'Samsung Tab 4', u'UserAge': u'19', u'RetailerOnSale': u'No', u'ManufacturerName': u'Samsung', u'ReviewRating': u'2', u'UserGender': u'Male', u'RetailerZip': u'33129', u'_id': ObjectId('592f27286cb48027a4cbf3cf'), u'RetailerCity': u'Miami'}\n",
      "{u'RetailerName': u'Bestbuy', u'UserOccupation': u'Secratary', u'ProductPrice': u'349', u'RetailerState': u'IL', u'ManufacturerRebate': u'No', u'ReviewDate': u'05/12/14', u'ReviewText': u'bad for watching movies on the go, battery dies really fast.', u'UserID': u'hihdz21', u'ProductCategory': u'Tablet', u'ProductModelName': u'Samsung Tab 4', u'UserAge': u'47', u'RetailerOnSale': u'No', u'ManufacturerName': u'Samsung', u'ReviewRating': u'1', u'UserGender': u'Female', u'RetailerZip': u'60585', u'_id': ObjectId('592f27286cb48027a4cbf441'), u'RetailerCity': u'Naperville'}\n",
      "{u'RetailerName': u'Target', u'UserOccupation': u'Accountant', u'ProductPrice': u'299', u'RetailerState': u'FL', u'ManufacturerRebate': u'No', u'ReviewDate': u'6/21/2014', u'ReviewText': u'Just much more cumbersome to use than an iPad. Freezes a lot.', u'UserID': u'oalzu45', u'ProductCategory': u'Tablet', u'ProductModelName': u'Samsung Tab 4', u'UserAge': u'29', u'RetailerOnSale': u'Yes', u'ManufacturerName': u'Samsung', u'ReviewRating': u'2', u'UserGender': u'Female', u'RetailerZip': u'33129', u'_id': ObjectId('592f27286cb48027a4cbf53a'), u'RetailerCity': u'Miami'}\n",
      "{u'RetailerName': u'Walmart', u'UserOccupation': u'Student', u'ProductPrice': u'299', u'RetailerState': u'CA', u'ManufacturerRebate': u'No', u'ReviewDate': u'8/18/2014', u'ReviewText': u' I have spent 11 hours on-line with the techs', u'UserID': u'eyauw76', u'ProductCategory': u'Tablet', u'ProductModelName': u'Samsung Tab 4', u'UserAge': u'53', u'RetailerOnSale': u'Yes', u'ManufacturerName': u'Samsung', u'ReviewRating': u'2', u'UserGender': u'Male', u'RetailerZip': u'94158', u'_id': ObjectId('592f27286cb48027a4cbf545'), u'RetailerCity': u'San Francisco'}\n",
      "{u'RetailerName': u'hhgregg', u'UserOccupation': u'Accountant', u'ProductPrice': u'299', u'RetailerState': u'IL', u'ManufacturerRebate': u'No', u'ReviewDate': u'11/29/2014', u'ReviewText': u' I like the tablet ok', u'UserID': u'yftto89', u'ProductCategory': u'Tablet', u'ProductModelName': u'Samsung Tab 4', u'UserAge': u'20', u'RetailerOnSale': u'Yes', u'ManufacturerName': u'Samsung', u'ReviewRating': u'2', u'UserGender': u'Male', u'RetailerZip': u'60603', u'_id': ObjectId('592f27286cb48027a4cbf57c'), u'RetailerCity': u'Chicago'}\n",
      "{u'RetailerName': u'Bestbuy', u'UserOccupation': u'Programmer', u'ProductPrice': u'349', u'RetailerState': u'IL', u'ManufacturerRebate': u'No', u'ReviewDate': u'7/19/2014', u'ReviewText': u'I love the Samsung tablet. It was easy to learn how to operate it. Good battery life.', u'UserID': u'wwquu91', u'ProductCategory': u'Tablet', u'ProductModelName': u'Samsung Tab 4', u'UserAge': u'42', u'RetailerOnSale': u'No', u'ManufacturerName': u'Samsung', u'ReviewRating': u'2', u'UserGender': u'Male', u'RetailerZip': u'60585', u'_id': ObjectId('592f27286cb48027a4cbf59a'), u'RetailerCity': u'Naperville'}\n",
      "{u'RetailerName': u'Walmart', u'UserOccupation': u'Unknown', u'ProductPrice': u'299', u'RetailerState': u'IL', u'ManufacturerRebate': u'No', u'ReviewDate': u'07/09/14', u'ReviewText': u' yellow color is green ', u'UserID': u'qtghi68', u'ProductCategory': u'Tablet', u'ProductModelName': u'Samsung Tab 4', u'UserAge': u'26', u'RetailerOnSale': u'Yes', u'ManufacturerName': u'Samsung', u'ReviewRating': u'1', u'UserGender': u'Male', u'RetailerZip': u'60585', u'_id': ObjectId('592f27286cb48027a4cbf6da'), u'RetailerCity': u'Naperville'}\n",
      "{u'RetailerName': u'Frys', u'UserOccupation': u'Accountant', u'ProductPrice': u'349', u'RetailerState': u'CA', u'ManufacturerRebate': u'No', u'ReviewDate': u'5/25/2014', u'ReviewText': u'The tablet is a bit smller than I expected. The functions very similar to a galaxy phone w/o 4g. We did not find anything special about this tablet.', u'UserID': u'fvtik61', u'ProductCategory': u'Tablet', u'ProductModelName': u'Samsung Tab 4', u'UserAge': u'34', u'RetailerOnSale': u'No', u'ManufacturerName': u'Samsung', u'ReviewRating': u'2', u'UserGender': u'Male', u'RetailerZip': u'90033', u'_id': ObjectId('592f27286cb48027a4cbf6e4'), u'RetailerCity': u'Los Angeles'}\n",
      "{u'RetailerName': u'Walmart', u'UserOccupation': u'Manager', u'ProductPrice': u'349', u'RetailerState': u'IL', u'ManufacturerRebate': u'No', u'ReviewDate': u'11/29/2014', u'ReviewText': u'slow wifi.', u'UserID': u'lkspl87', u'ProductCategory': u'Tablet', u'ProductModelName': u'Samsung Tab 4', u'UserAge': u'20', u'RetailerOnSale': u'No', u'ManufacturerName': u'Samsung', u'ReviewRating': u'1', u'UserGender': u'Male', u'RetailerZip': u'60603', u'_id': ObjectId('592f27286cb48027a4cbf720'), u'RetailerCity': u'Chicago'}\n",
      "{u'RetailerName': u'hhgregg', u'UserOccupation': u'Programmer', u'ProductPrice': u'349', u'RetailerState': u'CA', u'ManufacturerRebate': u'No', u'ReviewDate': u'10/25/2014', u'ReviewText': u'good for web activity and personal notes.good for checking e-mails and could have made text messages an option', u'UserID': u'mxwpn62', u'ProductCategory': u'Tablet', u'ProductModelName': u'Samsung Tab 4', u'UserAge': u'57', u'RetailerOnSale': u'No', u'ManufacturerName': u'Samsung', u'ReviewRating': u'2', u'UserGender': u'Male', u'RetailerZip': u'94158', u'_id': ObjectId('592f27286cb48027a4cbf846'), u'RetailerCity': u'San Francisco'}\n",
      "{u'RetailerName': u'hhgregg', u'UserOccupation': u'Manager', u'ProductPrice': u'349', u'RetailerState': u'OH', u'ManufacturerRebate': u'No', u'ReviewDate': u'12/20/2014', u'ReviewText': u\"Have difficulties learning new galaxy because I've use Mac most of my computer life. Can't even get the word documents to open. Nor the excel\", u'UserID': u'lhdbz70', u'ProductCategory': u'Tablet', u'ProductModelName': u'Samsung Tab 4', u'UserAge': u'36', u'RetailerOnSale': u'No', u'ManufacturerName': u'Samsung', u'ReviewRating': u'2', u'UserGender': u'Male', u'RetailerZip': u'44114', u'_id': ObjectId('592f27286cb48027a4cbf913'), u'RetailerCity': u'Cleveland'}\n",
      "{u'RetailerName': u'hhgregg', u'UserOccupation': u'Programmer', u'ProductPrice': u'925', u'RetailerState': u'FL', u'ManufacturerRebate': u'No', u'ReviewDate': u'6/18/2013', u'ReviewText': u'The mouse is very shaky. ', u'UserID': u'towlu32', u'ProductCategory': u'Tablet', u'ProductModelName': u'Surface 3', u'UserAge': u'18', u'RetailerOnSale': u'No', u'ManufacturerName': u'Microsoft', u'ReviewRating': u'1', u'UserGender': u'Female', u'RetailerZip': u'33129', u'_id': ObjectId('592f27286cb48027a4cbf197'), u'RetailerCity': u'Miami'}\n",
      "{u'RetailerName': u'Frys', u'UserOccupation': u'Unknown', u'ProductPrice': u'899', u'RetailerState': u'IL', u'ManufacturerRebate': u'No', u'ReviewDate': u'2/15/2014', u'ReviewText': u'overheated after 5 hours of use and stopped working', u'UserID': u'lzcqf22', u'ProductCategory': u'Tablet', u'ProductModelName': u'Surface 3', u'UserAge': u'30', u'RetailerOnSale': u'Yes', u'ManufacturerName': u'Microsoft', u'ReviewRating': u'1', u'UserGender': u'Female', u'RetailerZip': u'60616', u'_id': ObjectId('592f27286cb48027a4cbf1e0'), u'RetailerCity': u'Chicago'}\n",
      "{u'RetailerName': u'hhgregg', u'UserOccupation': u'Unknown', u'ProductPrice': u'925', u'RetailerState': u'MA', u'ManufacturerRebate': u'No', u'ReviewDate': u'7/16/2014', u'ReviewText': u'While it has great features (as a laptop) the battery life is OMG-horrible!.', u'UserID': u'xcyrd23', u'ProductCategory': u'Tablet', u'ProductModelName': u'Surface 3', u'UserAge': u'50', u'RetailerOnSale': u'No', u'ManufacturerName': u'Microsoft', u'ReviewRating': u'2', u'UserGender': u'Male', u'RetailerZip': u'2108', u'_id': ObjectId('592f27286cb48027a4cbf258'), u'RetailerCity': u'Boston'}\n",
      "{u'RetailerName': u'Target', u'UserOccupation': u'Manager', u'ProductPrice': u'969', u'RetailerState': u'IL', u'ManufacturerRebate': u'No', u'ReviewDate': u'03/10/15', u'ReviewText': u'The Surface Pro 3 is having a terrible time connecting to any wifi hub. ', u'UserID': u'jgfif74', u'ProductCategory': u'Tablet', u'ProductModelName': u'Surface 3', u'UserAge': u'31', u'RetailerOnSale': u'No', u'ManufacturerName': u'Microsoft', u'ReviewRating': u'2', u'UserGender': u'Male', u'RetailerZip': u'60616', u'_id': ObjectId('592f27286cb48027a4cbf291'), u'RetailerCity': u'Chicago'}\n",
      "{u'RetailerName': u'Walmart', u'UserOccupation': u'Secratary', u'ProductPrice': u'999', u'RetailerState': u'CA', u'ManufacturerRebate': u'No', u'ReviewDate': u'08/01/14', u'ReviewText': u' I need a computer - not a series of screw-ups', u'UserID': u'accme78', u'ProductCategory': u'Tablet', u'ProductModelName': u'Surface 3', u'UserAge': u'50', u'RetailerOnSale': u'No', u'ManufacturerName': u'Microsoft', u'ReviewRating': u'1', u'UserGender': u'Male', u'RetailerZip': u'90012', u'_id': ObjectId('592f27286cb48027a4cbf2d1'), u'RetailerCity': u'Los Angeles'}\n",
      "{u'RetailerName': u'Walmart', u'UserOccupation': u'Unknown', u'ProductPrice': u'925', u'RetailerState': u'CA', u'ManufacturerRebate': u'No', u'ReviewDate': u'4/19/2014', u'ReviewText': u'play a game and in 2 hours the battery dies', u'UserID': u'dlqia12', u'ProductCategory': u'Tablet', u'ProductModelName': u'Surface 3', u'UserAge': u'55', u'RetailerOnSale': u'No', u'ManufacturerName': u'Microsoft', u'ReviewRating': u'1', u'UserGender': u'Female', u'RetailerZip': u'90012', u'_id': ObjectId('592f27286cb48027a4cbf43b'), u'RetailerCity': u'Los Angeles'}\n",
      "{u'RetailerName': u'Walmart', u'UserOccupation': u'Programmer', u'ProductPrice': u'969', u'RetailerState': u'FL', u'ManufacturerRebate': u'No', u'ReviewDate': u'08/01/14', u'ReviewText': u\" The fact that this product proved to be faulty wouldn't upset me so much\", u'UserID': u'myeuz16', u'ProductCategory': u'Tablet', u'ProductModelName': u'Surface 3', u'UserAge': u'31', u'RetailerOnSale': u'No', u'ManufacturerName': u'Microsoft', u'ReviewRating': u'1', u'UserGender': u'Female', u'RetailerZip': u'33130', u'_id': ObjectId('592f27286cb48027a4cbf494'), u'RetailerCity': u'Miami'}\n",
      "{u'RetailerName': u'Frys', u'UserOccupation': u'Unknown', u'ProductPrice': u'969', u'RetailerState': u'OH', u'ManufacturerRebate': u'No', u'ReviewDate': u'08/10/14', u'ReviewText': u'I purchased this as a laptop replacement and I was extremely disappointed when I discovered that the USB port does not have enough power to connect an external dvd/bd drive or external hard drive.', u'UserID': u'mlnlz73', u'ProductCategory': u'Tablet', u'ProductModelName': u'Surface 3', u'UserAge': u'51', u'RetailerOnSale': u'No', u'ManufacturerName': u'Microsoft', u'ReviewRating': u'1', u'UserGender': u'Male', u'RetailerZip': u'44114', u'_id': ObjectId('592f27286cb48027a4cbf49f'), u'RetailerCity': u'Cleveland'}\n",
      "{u'RetailerName': u'Walmart', u'UserOccupation': u'Secratary', u'ProductPrice': u'969', u'RetailerState': u'IL', u'ManufacturerRebate': u'No', u'ReviewDate': u'06/10/14', u'ReviewText': u'If I move the pen to close to the edge while I write it then it makes a line expanding the writing area. ', u'UserID': u'uzctw97', u'ProductCategory': u'Tablet', u'ProductModelName': u'Surface 3', u'UserAge': u'58', u'RetailerOnSale': u'No', u'ManufacturerName': u'Microsoft', u'ReviewRating': u'1', u'UserGender': u'Male', u'RetailerZip': u'60616', u'_id': ObjectId('592f27286cb48027a4cbf4a8'), u'RetailerCity': u'Chicago'}\n",
      "{u'RetailerName': u'hhgregg', u'UserOccupation': u'Secratary', u'ProductPrice': u'925', u'RetailerState': u'IL', u'ManufacturerRebate': u'No', u'ReviewDate': u'10/14/2014', u'ReviewText': u' Even though I have the SP3 plugged in', u'UserID': u'coslo12', u'ProductCategory': u'Tablet', u'ProductModelName': u'Surface 3', u'UserAge': u'39', u'RetailerOnSale': u'No', u'ManufacturerName': u'Microsoft', u'ReviewRating': u'1', u'UserGender': u'Female', u'RetailerZip': u'60603', u'_id': ObjectId('592f27286cb48027a4cbf583'), u'RetailerCity': u'Chicago'}\n",
      "{u'RetailerName': u'hhgregg', u'UserOccupation': u'Unknown', u'ProductPrice': u'925', u'RetailerState': u'MA', u'ManufacturerRebate': u'No', u'ReviewDate': u'3/13/2014', u'ReviewText': u'Less then 2 month later and less then 20 uses the kickstand broke on the right side as I was opening it', u'UserID': u'jxvqb59', u'ProductCategory': u'Tablet', u'ProductModelName': u'Surface 3', u'UserAge': u'23', u'RetailerOnSale': u'No', u'ManufacturerName': u'Microsoft', u'ReviewRating': u'1', u'UserGender': u'Male', u'RetailerZip': u'2110', u'_id': ObjectId('592f27286cb48027a4cbf595'), u'RetailerCity': u'Boston'}\n",
      "{u'RetailerName': u'Walmart', u'UserOccupation': u'Unknown', u'ProductPrice': u'999', u'RetailerState': u'CA', u'ManufacturerRebate': u'No', u'ReviewDate': u'5/24/2014', u'ReviewText': u'The touch screen is sluggish and lacks sensitivity.', u'UserID': u'rwgxi82', u'ProductCategory': u'Tablet', u'ProductModelName': u'Surface 3', u'UserAge': u'38', u'RetailerOnSale': u'No', u'ManufacturerName': u'Microsoft', u'ReviewRating': u'1', u'UserGender': u'Male', u'RetailerZip': u'90033', u'_id': ObjectId('592f27286cb48027a4cbf59d'), u'RetailerCity': u'Los Angeles'}\n",
      "{u'RetailerName': u'Frys', u'UserOccupation': u'Unknown', u'ProductPrice': u'969', u'RetailerState': u'IL', u'ManufacturerRebate': u'No', u'ReviewDate': u'2/14/2014', u'ReviewText': u'Loud fan noise and it started randomly even you are not doing something heavy.', u'UserID': u'vydiv28', u'ProductCategory': u'Tablet', u'ProductModelName': u'Surface 3', u'UserAge': u'35', u'RetailerOnSale': u'No', u'ManufacturerName': u'Microsoft', u'ReviewRating': u'1', u'UserGender': u'Female', u'RetailerZip': u'60585', u'_id': ObjectId('592f27286cb48027a4cbf5bc'), u'RetailerCity': u'Naperville'}\n",
      "{u'RetailerName': u'Walmart', u'UserOccupation': u'Manager', u'ProductPrice': u'899', u'RetailerState': u'CA', u'ManufacturerRebate': u'No', u'ReviewDate': u'10/08/14', u'ReviewText': u' Guess what', u'UserID': u'usdbm86', u'ProductCategory': u'Tablet', u'ProductModelName': u'Surface 3', u'UserAge': u'23', u'RetailerOnSale': u'Yes', u'ManufacturerName': u'Microsoft', u'ReviewRating': u'1', u'UserGender': u'Female', u'RetailerZip': u'94102', u'_id': ObjectId('592f27286cb48027a4cbf5e9'), u'RetailerCity': u'San Francisco'}\n",
      "{u'RetailerName': u'Walmart', u'UserOccupation': u'Programmer', u'ProductPrice': u'999', u'RetailerState': u'OH', u'ManufacturerRebate': u'No', u'ReviewDate': u'5/23/2014', u'ReviewText': u'Now a comment about the added cost of the keyboard.', u'UserID': u'iohsk68', u'ProductCategory': u'Tablet', u'ProductModelName': u'Surface 3', u'UserAge': u'24', u'RetailerOnSale': u'No', u'ManufacturerName': u'Microsoft', u'ReviewRating': u'2', u'UserGender': u'Male', u'RetailerZip': u'44114', u'_id': ObjectId('592f27286cb48027a4cbf617'), u'RetailerCity': u'Cleveland'}\n",
      "{u'RetailerName': u'hhgregg', u'UserOccupation': u'Unknown', u'ProductPrice': u'925', u'RetailerState': u'CA', u'ManufacturerRebate': u'No', u'ReviewDate': u'08/10/14', u'ReviewText': u'Returned at the end of the week more due to the overall experience despite being a higher priced machine', u'UserID': u'uqjwv90', u'ProductCategory': u'Tablet', u'ProductModelName': u'Surface 3', u'UserAge': u'44', u'RetailerOnSale': u'No', u'ManufacturerName': u'Microsoft', u'ReviewRating': u'2', u'UserGender': u'Female', u'RetailerZip': u'90033', u'_id': ObjectId('592f27286cb48027a4cbf619'), u'RetailerCity': u'Los Angeles'}\n",
      "{u'RetailerName': u'hhgregg', u'UserOccupation': u'Programmer', u'ProductPrice': u'925', u'RetailerState': u'FL', u'ManufacturerRebate': u'No', u'ReviewDate': u'4/29/2014', u'ReviewText': u'I got the overheated one while just using it for watching youtube around 3 hours.', u'UserID': u'ekcoh54', u'ProductCategory': u'Tablet', u'ProductModelName': u'Surface 3', u'UserAge': u'19', u'RetailerOnSale': u'No', u'ManufacturerName': u'Microsoft', u'ReviewRating': u'1', u'UserGender': u'Male', u'RetailerZip': u'33129', u'_id': ObjectId('592f27286cb48027a4cbf672'), u'RetailerCity': u'Miami'}\n",
      "{u'RetailerName': u'Walmart', u'UserOccupation': u'Student', u'ProductPrice': u'999', u'RetailerState': u'CA', u'ManufacturerRebate': u'No', u'ReviewDate': u'11/10/14', u'ReviewText': u\"Probably it's biggest setback is Windows 8.\", u'UserID': u'hysej65', u'ProductCategory': u'Tablet', u'ProductModelName': u'Surface 3', u'UserAge': u'32', u'RetailerOnSale': u'No', u'ManufacturerName': u'Microsoft', u'ReviewRating': u'1', u'UserGender': u'Male', u'RetailerZip': u'94102', u'_id': ObjectId('592f27286cb48027a4cbf684'), u'RetailerCity': u'San Francisco'}\n",
      "{u'RetailerName': u'Target', u'UserOccupation': u'Accountant', u'ProductPrice': u'925', u'RetailerState': u'CA', u'ManufacturerRebate': u'No', u'ReviewDate': u'12/15/2013', u'ReviewText': u'It is NOT a laptop. I took it back the next day.', u'UserID': u'nuyls75', u'ProductCategory': u'Tablet', u'ProductModelName': u'Surface 3', u'UserAge': u'25', u'RetailerOnSale': u'No', u'ManufacturerName': u'Microsoft', u'ReviewRating': u'1', u'UserGender': u'Female', u'RetailerZip': u'94158', u'_id': ObjectId('592f27286cb48027a4cbf694'), u'RetailerCity': u'San Francisco'}\n",
      "{u'RetailerName': u'Bestbuy', u'UserOccupation': u'Unknown', u'ProductPrice': u'925', u'RetailerState': u'CA', u'ManufacturerRebate': u'No', u'ReviewDate': u'9/21/2014', u'ReviewText': u'The charger is cheap and the magnetic connection will disconnect with the slightest pull against it. Windows 8 just makes it that more aggravating.', u'UserID': u'fuhwq33', u'ProductCategory': u'Tablet', u'ProductModelName': u'Surface 3', u'UserAge': u'33', u'RetailerOnSale': u'No', u'ManufacturerName': u'Microsoft', u'ReviewRating': u'1', u'UserGender': u'Male', u'RetailerZip': u'90012', u'_id': ObjectId('592f27286cb48027a4cbf6c4'), u'RetailerCity': u'Los Angeles'}\n",
      "{u'RetailerName': u'Bestbuy', u'UserOccupation': u'Unknown', u'ProductPrice': u'899', u'RetailerState': u'IL', u'ManufacturerRebate': u'No', u'ReviewDate': u'9/13/2013', u'ReviewText': u' I hated the overall feel of it. It feels like it is trying to do too much', u'UserID': u'sfuam27', u'ProductCategory': u'Tablet', u'ProductModelName': u'Surface 3', u'UserAge': u'35', u'RetailerOnSale': u'Yes', u'ManufacturerName': u'Microsoft', u'ReviewRating': u'2', u'UserGender': u'Male', u'RetailerZip': u'60603', u'_id': ObjectId('592f27286cb48027a4cbf741'), u'RetailerCity': u'Chicago'}\n",
      "{u'RetailerName': u'Frys', u'UserOccupation': u'Programmer', u'ProductPrice': u'969', u'RetailerState': u'CA', u'ManufacturerRebate': u'No', u'ReviewDate': u'4/19/2014', u'ReviewText': u'However there are many typical problems that plague the device. ', u'UserID': u'oamxo38', u'ProductCategory': u'Tablet', u'ProductModelName': u'Surface 3', u'UserAge': u'48', u'RetailerOnSale': u'No', u'ManufacturerName': u'Microsoft', u'ReviewRating': u'2', u'UserGender': u'Female', u'RetailerZip': u'90012', u'_id': ObjectId('592f27286cb48027a4cbf75e'), u'RetailerCity': u'Los Angeles'}\n",
      "{u'RetailerName': u'Walmart', u'UserOccupation': u'Programmer', u'ProductPrice': u'969', u'RetailerState': u'IL', u'ManufacturerRebate': u'No', u'ReviewDate': u'2/15/2015', u'ReviewText': u\" screen doesn't react to my finger touch fast\", u'UserID': u'vbcir97', u'ProductCategory': u'Tablet', u'ProductModelName': u'Surface 3', u'UserAge': u'35', u'RetailerOnSale': u'No', u'ManufacturerName': u'Microsoft', u'ReviewRating': u'1', u'UserGender': u'Female', u'RetailerZip': u'60616', u'_id': ObjectId('592f27286cb48027a4cbf79a'), u'RetailerCity': u'Chicago'}\n",
      "{u'RetailerName': u'Bestbuy', u'UserOccupation': u'Unknown', u'ProductPrice': u'969', u'RetailerState': u'CA', u'ManufacturerRebate': u'No', u'ReviewDate': u'8/21/2014', u'ReviewText': u' The pen works well', u'UserID': u'eefyk11', u'ProductCategory': u'Tablet', u'ProductModelName': u'Surface 3', u'UserAge': u'26', u'RetailerOnSale': u'No', u'ManufacturerName': u'Microsoft', u'ReviewRating': u'1', u'UserGender': u'Female', u'RetailerZip': u'94158', u'_id': ObjectId('592f27286cb48027a4cbf7a9'), u'RetailerCity': u'San Francisco'}\n",
      "{u'RetailerName': u'Bestbuy', u'UserOccupation': u'Unknown', u'ProductPrice': u'899', u'RetailerState': u'CA', u'ManufacturerRebate': u'No', u'ReviewDate': u'2/26/2014', u'ReviewText': u\"when it needed to work as tablet screen didn't slide smoothly\", u'UserID': u'hrhuc68', u'ProductCategory': u'Tablet', u'ProductModelName': u'Surface 3', u'UserAge': u'56', u'RetailerOnSale': u'Yes', u'ManufacturerName': u'Microsoft', u'ReviewRating': u'1', u'UserGender': u'Male', u'RetailerZip': u'94158', u'_id': ObjectId('592f27286cb48027a4cbf7f9'), u'RetailerCity': u'San Francisco'}\n",
      "{u'RetailerName': u'Frys', u'UserOccupation': u'Programmer', u'ProductPrice': u'969', u'RetailerState': u'MA', u'ManufacturerRebate': u'No', u'ReviewDate': u'9/24/2014', u'ReviewText': u'The screen shot function in the pen does not work.', u'UserID': u'srqhn44', u'ProductCategory': u'Tablet', u'ProductModelName': u'Surface 3', u'UserAge': u'48', u'RetailerOnSale': u'No', u'ManufacturerName': u'Microsoft', u'ReviewRating': u'1', u'UserGender': u'Female', u'RetailerZip': u'2108', u'_id': ObjectId('592f27286cb48027a4cbf85d'), u'RetailerCity': u'Boston'}\n",
      "{u'RetailerName': u'hhgregg', u'UserOccupation': u'Manager', u'ProductPrice': u'999', u'RetailerState': u'IL', u'ManufacturerRebate': u'No', u'ReviewDate': u'9/19/2013', u'ReviewText': u'Was not happy at all with the Surface', u'UserID': u'xsbch67', u'ProductCategory': u'Tablet', u'ProductModelName': u'Surface 3', u'UserAge': u'28', u'RetailerOnSale': u'No', u'ManufacturerName': u'Microsoft', u'ReviewRating': u'1', u'UserGender': u'Male', u'RetailerZip': u'60616', u'_id': ObjectId('592f27286cb48027a4cbf860'), u'RetailerCity': u'Chicago'}\n",
      "{u'RetailerName': u'Target', u'UserOccupation': u'Unknown', u'ProductPrice': u'969', u'RetailerState': u'IL', u'ManufacturerRebate': u'No', u'ReviewDate': u'6/26/2014', u'ReviewText': u'I tried different surfaces and mouse pads and the effects are the same.', u'UserID': u'zaern68', u'ProductCategory': u'Tablet', u'ProductModelName': u'Surface 3', u'UserAge': u'44', u'RetailerOnSale': u'No', u'ManufacturerName': u'Microsoft', u'ReviewRating': u'1', u'UserGender': u'Female', u'RetailerZip': u'60585', u'_id': ObjectId('592f27286cb48027a4cbf883'), u'RetailerCity': u'Naperville'}\n",
      "{u'RetailerName': u'Walmart', u'UserOccupation': u'Student', u'ProductPrice': u'425', u'RetailerState': u'IL', u'ManufacturerRebate': u'No', u'ReviewDate': u'5/25/2014', u'ReviewText': u'Ipad just stops working. There is a delay where I have to wait til its ready to work. Very frustrating.', u'UserID': u'vrlnj33', u'ProductCategory': u'Tablet', u'ProductModelName': u'iPad Air', u'UserAge': u'43', u'RetailerOnSale': u'Yes', u'ManufacturerName': u'Apple', u'ReviewRating': u'2', u'UserGender': u'Male', u'RetailerZip': u'60585', u'_id': ObjectId('592f27286cb48027a4cbf187'), u'RetailerCity': u'Naperville'}\n",
      "{u'RetailerName': u'Frys', u'UserOccupation': u'Accountant', u'ProductPrice': u'425', u'RetailerState': u'IL', u'ManufacturerRebate': u'No', u'ReviewDate': u'12/05/14', u'ReviewText': u\" it didn't work with my bluetooth headset\", u'UserID': u'rhucg9', u'ProductCategory': u'Tablet', u'ProductModelName': u'iPad Air', u'UserAge': u'58', u'RetailerOnSale': u'Yes', u'ManufacturerName': u'Apple', u'ReviewRating': u'1', u'UserGender': u'Female', u'RetailerZip': u'60616', u'_id': ObjectId('592f27286cb48027a4cbf1ec'), u'RetailerCity': u'Chicago'}\n",
      "{u'RetailerName': u'Walmart', u'UserOccupation': u'Manager', u'ProductPrice': u'425', u'RetailerState': u'IL', u'ManufacturerRebate': u'No', u'ReviewDate': u'7/16/2014', u'ReviewText': u'under heavy use the batters lasts less than 2 hours.', u'UserID': u'qqcip57', u'ProductCategory': u'Tablet', u'ProductModelName': u'iPad Air', u'UserAge': u'27', u'RetailerOnSale': u'Yes', u'ManufacturerName': u'Apple', u'ReviewRating': u'1', u'UserGender': u'Male', u'RetailerZip': u'60616', u'_id': ObjectId('592f27286cb48027a4cbf282'), u'RetailerCity': u'Chicago'}\n",
      "{u'RetailerName': u'Walmart', u'UserOccupation': u'Accountant', u'ProductPrice': u'499', u'RetailerState': u'MA', u'ManufacturerRebate': u'No', u'ReviewDate': u'5/15/2013', u'ReviewText': u'when using youtube battery dies after 2 hours.', u'UserID': u'kopwr10', u'ProductCategory': u'Tablet', u'ProductModelName': u'iPad Air', u'UserAge': u'49', u'RetailerOnSale': u'No', u'ManufacturerName': u'Apple', u'ReviewRating': u'1', u'UserGender': u'Female', u'RetailerZip': u'2108', u'_id': ObjectId('592f27286cb48027a4cbf28c'), u'RetailerCity': u'Boston'}\n",
      "{u'RetailerName': u'hhgregg', u'UserOccupation': u'Programmer', u'ProductPrice': u'299', u'RetailerState': u'CA', u'ManufacturerRebate': u'Yes', u'ReviewDate': u'11/25/2014', u'ReviewText': u\" It's a very big disappointment\", u'UserID': u'driuv73', u'ProductCategory': u'Tablet', u'ProductModelName': u'iPad Air', u'UserAge': u'46', u'RetailerOnSale': u'Yes', u'ManufacturerName': u'Apple', u'ReviewRating': u'2', u'UserGender': u'Male', u'RetailerZip': u'94158', u'_id': ObjectId('592f27286cb48027a4cbf2a0'), u'RetailerCity': u'San Francisco'}\n",
      "{u'RetailerName': u'Frys', u'UserOccupation': u'Unknown', u'ProductPrice': u'299', u'RetailerState': u'IL', u'ManufacturerRebate': u'Yes', u'ReviewDate': u'6/18/2014', u'ReviewText': u'I have to return this product. It does not always turn on with the start button and frequently requires a hard reset. At least a multiple times a day.', u'UserID': u'mgvno57', u'ProductCategory': u'Tablet', u'ProductModelName': u'iPad Air', u'UserAge': u'51', u'RetailerOnSale': u'Yes', u'ManufacturerName': u'Apple', u'ReviewRating': u'2', u'UserGender': u'Male', u'RetailerZip': u'60603', u'_id': ObjectId('592f27286cb48027a4cbf30b'), u'RetailerCity': u'Chicago'}\n",
      "{u'RetailerName': u'Walmart', u'UserOccupation': u'Unknown', u'ProductPrice': u'299', u'RetailerState': u'OH', u'ManufacturerRebate': u'Yes', u'ReviewDate': u'04/01/15', u'ReviewText': u' It does what it advetised but', u'UserID': u'wvuyu13', u'ProductCategory': u'Tablet', u'ProductModelName': u'iPad Air', u'UserAge': u'48', u'RetailerOnSale': u'Yes', u'ManufacturerName': u'Apple', u'ReviewRating': u'2', u'UserGender': u'Female', u'RetailerZip': u'44114', u'_id': ObjectId('592f27286cb48027a4cbf314'), u'RetailerCity': u'Cleveland'}\n",
      "{u'RetailerName': u'Frys', u'UserOccupation': u'Student', u'ProductPrice': u'499', u'RetailerState': u'CA', u'ManufacturerRebate': u'No', u'ReviewDate': u'6/25/2014', u'ReviewText': u'Charges slow. Seems to run slow. In transit the buttons get pushed', u'UserID': u'jpiku16', u'ProductCategory': u'Tablet', u'ProductModelName': u'iPad Air', u'UserAge': u'21', u'RetailerOnSale': u'No', u'ManufacturerName': u'Apple', u'ReviewRating': u'2', u'UserGender': u'Female', u'RetailerZip': u'94102', u'_id': ObjectId('592f27286cb48027a4cbf327'), u'RetailerCity': u'San Francisco'}\n",
      "{u'RetailerName': u'Walmart', u'UserOccupation': u'Accountant', u'ProductPrice': u'425', u'RetailerState': u'MA', u'ManufacturerRebate': u'No', u'ReviewDate': u'6/25/2014', u'ReviewText': u' Powered itself off every time it went to standby', u'UserID': u'boqxj67', u'ProductCategory': u'Tablet', u'ProductModelName': u'iPad Air', u'UserAge': u'58', u'RetailerOnSale': u'Yes', u'ManufacturerName': u'Apple', u'ReviewRating': u'2', u'UserGender': u'Female', u'RetailerZip': u'2110', u'_id': ObjectId('592f27286cb48027a4cbf564'), u'RetailerCity': u'Boston'}\n",
      "{u'RetailerName': u'Target', u'UserOccupation': u'Programmer', u'ProductPrice': u'499', u'RetailerState': u'IL', u'ManufacturerRebate': u'No', u'ReviewDate': u'12/14/2014', u'ReviewText': u' breaks easily', u'UserID': u'pbxhr55', u'ProductCategory': u'Tablet', u'ProductModelName': u'iPad Air', u'UserAge': u'21', u'RetailerOnSale': u'No', u'ManufacturerName': u'Apple', u'ReviewRating': u'1', u'UserGender': u'Male', u'RetailerZip': u'60603', u'_id': ObjectId('592f27286cb48027a4cbf5e1'), u'RetailerCity': u'Chicago'}\n",
      "{u'RetailerName': u'Frys', u'UserOccupation': u'Secratary', u'ProductPrice': u'299', u'RetailerState': u'IL', u'ManufacturerRebate': u'Yes', u'ReviewDate': u'6/18/2013', u'ReviewText': u'watch a movie, and the battery dies in less than 2 hours.', u'UserID': u'ddqds21', u'ProductCategory': u'Tablet', u'ProductModelName': u'iPad Air', u'UserAge': u'29', u'RetailerOnSale': u'Yes', u'ManufacturerName': u'Apple', u'ReviewRating': u'1', u'UserGender': u'Male', u'RetailerZip': u'60585', u'_id': ObjectId('592f27286cb48027a4cbf66b'), u'RetailerCity': u'Naperville'}\n",
      "{u'RetailerName': u'hhgregg', u'UserOccupation': u'Accountant', u'ProductPrice': u'425', u'RetailerState': u'MA', u'ManufacturerRebate': u'No', u'ReviewDate': u'10/25/2014', u'ReviewText': u'It would not keep a charge. I had to return it. Now I am having a similar problem with this one!', u'UserID': u'johel72', u'ProductCategory': u'Tablet', u'ProductModelName': u'iPad Air', u'UserAge': u'29', u'RetailerOnSale': u'Yes', u'ManufacturerName': u'Apple', u'ReviewRating': u'2', u'UserGender': u'Male', u'RetailerZip': u'2108', u'_id': ObjectId('592f27286cb48027a4cbf687'), u'RetailerCity': u'Boston'}\n",
      "{u'RetailerName': u'Bestbuy', u'UserOccupation': u'Secratary', u'ProductPrice': u'499', u'RetailerState': u'FL', u'ManufacturerRebate': u'No', u'ReviewDate': u'12/20/2014', u'ReviewText': u'I had to exchange it the first week and the new one has browser issues. My iPad 2 was considerably more reliable.', u'UserID': u'mvlak63', u'ProductCategory': u'Tablet', u'ProductModelName': u'iPad Air', u'UserAge': u'52', u'RetailerOnSale': u'No', u'ManufacturerName': u'Apple', u'ReviewRating': u'2', u'UserGender': u'Male', u'RetailerZip': u'33129', u'_id': ObjectId('592f27286cb48027a4cbf743'), u'RetailerCity': u'Miami'}\n",
      "{u'RetailerName': u'Target', u'UserOccupation': u'Student', u'ProductPrice': u'299', u'RetailerState': u'FL', u'ManufacturerRebate': u'Yes', u'ReviewDate': u'11/29/2014', u'ReviewText': u'Safari could not start because server would stop responding.', u'UserID': u'cukoa49', u'ProductCategory': u'Tablet', u'ProductModelName': u'iPad Air', u'UserAge': u'52', u'RetailerOnSale': u'Yes', u'ManufacturerName': u'Apple', u'ReviewRating': u'2', u'UserGender': u'Male', u'RetailerZip': u'33130', u'_id': ObjectId('592f27286cb48027a4cbf797'), u'RetailerCity': u'Miami'}\n",
      "{u'RetailerName': u'Frys', u'UserOccupation': u'Student', u'ProductPrice': u'299', u'RetailerState': u'IL', u'ManufacturerRebate': u'Yes', u'ReviewDate': u'6/21/2014', u'ReviewText': u'I was very disappointed because the case was not reliable', u'UserID': u'nslgg22', u'ProductCategory': u'Tablet', u'ProductModelName': u'iPad Air', u'UserAge': u'49', u'RetailerOnSale': u'Yes', u'ManufacturerName': u'Apple', u'ReviewRating': u'2', u'UserGender': u'Male', u'RetailerZip': u'60616', u'_id': ObjectId('592f27286cb48027a4cbf7d7'), u'RetailerCity': u'Chicago'}\n",
      "{u'RetailerName': u'Frys', u'UserOccupation': u'Secratary', u'ProductPrice': u'425', u'RetailerState': u'CA', u'ManufacturerRebate': u'No', u'ReviewDate': u'12/15/2013', u'ReviewText': u'bad battery for watching a movie.', u'UserID': u'xksrr11', u'ProductCategory': u'Tablet', u'ProductModelName': u'iPad Air', u'UserAge': u'24', u'RetailerOnSale': u'Yes', u'ManufacturerName': u'Apple', u'ReviewRating': u'1', u'UserGender': u'Male', u'RetailerZip': u'94102', u'_id': ObjectId('592f27286cb48027a4cbf847'), u'RetailerCity': u'San Francisco'}\n",
      "{u'RetailerName': u'hhgregg', u'UserOccupation': u'Programmer', u'ProductPrice': u'499', u'RetailerState': u'CA', u'ManufacturerRebate': u'No', u'ReviewDate': u'2/29/2015', u'ReviewText': u'Apple hinders the product from being a great tablet.', u'UserID': u'pwdtb62', u'ProductCategory': u'Tablet', u'ProductModelName': u'iPad Air', u'UserAge': u'52', u'RetailerOnSale': u'No', u'ManufacturerName': u'Apple', u'ReviewRating': u'2', u'UserGender': u'Male', u'RetailerZip': u'90033', u'_id': ObjectId('592f27286cb48027a4cbf899'), u'RetailerCity': u'Los Angeles'}\n",
      "{u'RetailerName': u'Frys', u'UserOccupation': u'Secratary', u'ProductPrice': u'425', u'RetailerState': u'CA', u'ManufacturerRebate': u'No', u'ReviewDate': u'12/27/2014', u'ReviewText': u' bought a $499 16Gb model yesterday to see what the fuss was all about. Although I like the small size and the display', u'UserID': u'igysg90', u'ProductCategory': u'Tablet', u'ProductModelName': u'iPad Air', u'UserAge': u'57', u'RetailerOnSale': u'Yes', u'ManufacturerName': u'Apple', u'ReviewRating': u'2', u'UserGender': u'Female', u'RetailerZip': u'90012', u'_id': ObjectId('592f27286cb48027a4cbf8d7'), u'RetailerCity': u'Los Angeles'}\n",
      "{u'RetailerName': u'hhgregg', u'UserOccupation': u'Secratary', u'ProductPrice': u'399', u'RetailerState': u'IL', u'ManufacturerRebate': u'No', u'ReviewDate': u'2/15/2014', u'ReviewText': u'wifi connection is slow', u'UserID': u'ibrjv9', u'ProductCategory': u'Smart Phone', u'ProductModelName': u'iPhone 6', u'UserAge': u'34', u'RetailerOnSale': u'No', u'ManufacturerName': u'Apple', u'ReviewRating': u'1', u'UserGender': u'Male', u'RetailerZip': u'60585', u'_id': ObjectId('592f27286cb48027a4cbf5d3'), u'RetailerCity': u'Naperville'}\n",
      "{u'RetailerName': u'hhgregg', u'UserOccupation': u'Student', u'ProductPrice': u'960', u'RetailerState': u'IL', u'ManufacturerRebate': u'No', u'ReviewDate': u'2/29/2015', u'ReviewText': u'really bad battery', u'UserID': u'ehqnv46', u'ProductCategory': u'Smart Phone', u'ProductModelName': u'iPhone 6', u'UserAge': u'21', u'RetailerOnSale': u'No', u'ManufacturerName': u'Apple', u'ReviewRating': u'1', u'UserGender': u'Male', u'RetailerZip': u'60585', u'_id': ObjectId('592f27286cb48027a4cbf633'), u'RetailerCity': u'Naperville'}\n"
     ]
    }
   ],
   "source": [
    "# import re when  you want to do regex query\n",
    "import re\n",
    "\n",
    "for review in reviews.find({ 'ReviewRating': {'$lt': '3'}} ).sort('ProductModelName') :\n",
    "    print review\n",
    "    "
   ]
  },
  {
   "cell_type": "markdown",
   "metadata": {
    "deletable": true,
    "editable": true
   },
   "source": [
    "# Query 3: Get a list of reviews where reviewer age greater than 50  and the list is sorted by age "
   ]
  },
  {
   "cell_type": "code",
   "execution_count": 46,
   "metadata": {
    "collapsed": false,
    "deletable": true,
    "editable": true
   },
   "outputs": [
    {
     "name": "stdout",
     "output_type": "stream",
     "text": [
      "{u'RetailerName': u'Bestbuy', u'UserOccupation': u'Unknown', u'ProductPrice': u'1899', u'RetailerState': u'IL', u'ManufacturerRebate': u'Yes', u'ReviewDate': u'12/05/14', u'ReviewText': u'The TV is great with superb picture quality.', u'UserID': u'xzwef40', u'ProductCategory': u'TV', u'ProductModelName': u'Samsung TV 65 Curved', u'UserAge': u'51', u'RetailerOnSale': u'Yes', u'ManufacturerName': u'Samsung', u'ReviewRating': u'4', u'UserGender': u'Male', u'RetailerZip': u'60585', u'_id': ObjectId('592f27286cb48027a4cbf153'), u'RetailerCity': u'Naperville'}\n",
      "{u'RetailerName': u'Bestbuy', u'UserOccupation': u'Accountant', u'ProductPrice': u'299', u'RetailerState': u'CA', u'ManufacturerRebate': u'No', u'ReviewDate': u'9/17/2014', u'ReviewText': u\"It is a bit jerky when moving from page to page and overly sensitive as I don't have to touch the screen for it to register a choice which can be frustrating.\", u'UserID': u'inrne72', u'ProductCategory': u'Tablet', u'ProductModelName': u'Samsung Tab 4', u'UserAge': u'51', u'RetailerOnSale': u'Yes', u'ManufacturerName': u'Samsung', u'ReviewRating': u'4', u'UserGender': u'Female', u'RetailerZip': u'94102', u'_id': ObjectId('592f27286cb48027a4cbf16d'), u'RetailerCity': u'San Francisco'}\n",
      "{u'RetailerName': u'Walmart', u'UserOccupation': u'Manager', u'ProductPrice': u'299', u'RetailerState': u'FL', u'ManufacturerRebate': u'No', u'ReviewDate': u'9/20/2014', u'ReviewText': u'Great laptop for not a lot of money. Would recommend', u'UserID': u'jeywt24', u'ProductCategory': u'Laptop', u'ProductModelName': u'HP PAVALION  15.6', u'UserAge': u'51', u'RetailerOnSale': u'Yes', u'ManufacturerName': u'HP', u'ReviewRating': u'3', u'UserGender': u'Female', u'RetailerZip': u'33129', u'_id': ObjectId('592f27286cb48027a4cbf19a'), u'RetailerCity': u'Miami'}\n",
      "{u'RetailerName': u'Frys', u'UserOccupation': u'Manager', u'ProductPrice': u'298', u'RetailerState': u'CA', u'ManufacturerRebate': u'Yes', u'ReviewDate': u'7/16/2014', u'ReviewText': u' This laptop is great. The one I replaced was about 5 yrs old & had Vista', u'UserID': u'btxwk63', u'ProductCategory': u'Laptop', u'ProductModelName': u'HP PAVALION  15.6', u'UserAge': u'51', u'RetailerOnSale': u'Yes', u'ManufacturerName': u'HP', u'ReviewRating': u'5', u'UserGender': u'Female', u'RetailerZip': u'94158', u'_id': ObjectId('592f27286cb48027a4cbf1b9'), u'RetailerCity': u'San Francisco'}\n",
      "{u'RetailerName': u'hhgregg', u'UserOccupation': u'Unknown', u'ProductPrice': u'1900', u'RetailerState': u'MA', u'ManufacturerRebate': u'No', u'ReviewDate': u'4/19/2014', u'ReviewText': u' I originally bought the 55   TV and within a couple of weeks', u'UserID': u'biruh34', u'ProductCategory': u'TV', u'ProductModelName': u'Samsung TV 65 Curved', u'UserAge': u'51', u'RetailerOnSale': u'No', u'ManufacturerName': u'Samsung', u'ReviewRating': u'5', u'UserGender': u'Female', u'RetailerZip': u'2108', u'_id': ObjectId('592f27286cb48027a4cbf1d9'), u'RetailerCity': u'Boston'}\n",
      "{u'RetailerName': u'Target', u'UserOccupation': u'Manager', u'ProductPrice': u'399', u'RetailerState': u'CA', u'ManufacturerRebate': u'No', u'ReviewDate': u'8/18/2014', u'ReviewText': u' I absolutely love this phone', u'UserID': u'lbqks30', u'ProductCategory': u'Smart Phone', u'ProductModelName': u'Galaxy S4', u'UserAge': u'51', u'RetailerOnSale': u'No', u'ManufacturerName': u'Samsung', u'ReviewRating': u'5', u'UserGender': u'Male', u'RetailerZip': u'90012', u'_id': ObjectId('592f27286cb48027a4cbf1e4'), u'RetailerCity': u'Los Angeles'}\n",
      "{u'RetailerName': u'hhgregg', u'UserOccupation': u'Accountant', u'ProductPrice': u'390', u'RetailerState': u'GA', u'ManufacturerRebate': u'No', u'ReviewDate': u'8/18/2014', u'ReviewText': u'This is an awesome phone. I went from the galaxy note to this and I love it.', u'UserID': u'mzucn76', u'ProductCategory': u'Smart Phone', u'ProductModelName': u'Galaxy S4', u'UserAge': u'51', u'RetailerOnSale': u'Yes', u'ManufacturerName': u'Samsung', u'ReviewRating': u'5', u'UserGender': u'Male', u'RetailerZip': u'30303', u'_id': ObjectId('592f27286cb48027a4cbf1fb'), u'RetailerCity': u'Atlanta'}\n",
      "{u'RetailerName': u'Bestbuy', u'UserOccupation': u'Unknown', u'ProductPrice': u'589', u'RetailerState': u'IL', u'ManufacturerRebate': u'No', u'ReviewDate': u'04/01/15', u'ReviewText': u\" I love the speed of the '6\", u'UserID': u'gbjmp88', u'ProductCategory': u'Smart Phone', u'ProductModelName': u'iPhone 6', u'UserAge': u'51', u'RetailerOnSale': u'No', u'ManufacturerName': u'Apple', u'ReviewRating': u'4', u'UserGender': u'Male', u'RetailerZip': u'60616', u'_id': ObjectId('592f27286cb48027a4cbf202'), u'RetailerCity': u'Chicago'}\n",
      "{u'RetailerName': u'Target', u'UserOccupation': u'Programmer', u'ProductPrice': u'402', u'RetailerState': u'FL', u'ManufacturerRebate': u'No', u'ReviewDate': u'10/14/2014', u'ReviewText': u'was a iphone user but now will not go back it is easy to use easier than iphone', u'UserID': u'wxttl78', u'ProductCategory': u'Smart Phone', u'ProductModelName': u'Galaxy S4', u'UserAge': u'51', u'RetailerOnSale': u'No', u'ManufacturerName': u'Samsung', u'ReviewRating': u'4', u'UserGender': u'Female', u'RetailerZip': u'33130', u'_id': ObjectId('592f27286cb48027a4cbf20c'), u'RetailerCity': u'Miami'}\n",
      "{u'RetailerName': u'hhgregg', u'UserOccupation': u'Unknown', u'ProductPrice': u'999', u'RetailerState': u'MA', u'ManufacturerRebate': u'No', u'ReviewDate': u'3/13/2014', u'ReviewText': u'This TV has a very good picture but the sound could be better.', u'UserID': u'cnjho10', u'ProductCategory': u'TV', u'ProductModelName': u'LG 65', u'UserAge': u'51', u'RetailerOnSale': u'No', u'ManufacturerName': u'LG', u'ReviewRating': u'4', u'UserGender': u'Male', u'RetailerZip': u'2110', u'_id': ObjectId('592f27286cb48027a4cbf20d'), u'RetailerCity': u'Boston'}\n",
      "{u'RetailerName': u'Bestbuy', u'UserOccupation': u'Student', u'ProductPrice': u'402', u'RetailerState': u'MA', u'ManufacturerRebate': u'No', u'ReviewDate': u'3/13/2014', u'ReviewText': u' This is my first   smartphone  ', u'UserID': u'ikvgh8', u'ProductCategory': u'Smart Phone', u'ProductModelName': u'Galaxy S4', u'UserAge': u'51', u'RetailerOnSale': u'No', u'ManufacturerName': u'Samsung', u'ReviewRating': u'4', u'UserGender': u'Male', u'RetailerZip': u'2110', u'_id': ObjectId('592f27286cb48027a4cbf22e'), u'RetailerCity': u'Boston'}\n",
      "{u'RetailerName': u'Walmart', u'UserOccupation': u'Unknown', u'ProductPrice': u'960', u'RetailerState': u'FL', u'ManufacturerRebate': u'No', u'ReviewDate': u'12/27/2014', u'ReviewText': u' I personally have to get used to the larger screen', u'UserID': u'bqecy96', u'ProductCategory': u'Smart Phone', u'ProductModelName': u'iPhone 6', u'UserAge': u'51', u'RetailerOnSale': u'No', u'ManufacturerName': u'Apple', u'ReviewRating': u'5', u'UserGender': u'Male', u'RetailerZip': u'33129', u'_id': ObjectId('592f27286cb48027a4cbf268'), u'RetailerCity': u'Miami'}\n",
      "{u'RetailerName': u'Walmart', u'UserOccupation': u'Unknown', u'ProductPrice': u'1899', u'RetailerState': u'FL', u'ManufacturerRebate': u'Yes', u'ReviewDate': u'12/27/2014', u'ReviewText': u'Excellent TV all the bells and whistles you could expect .', u'UserID': u'nlrys92', u'ProductCategory': u'TV', u'ProductModelName': u'Samsung TV 65 Curved', u'UserAge': u'51', u'RetailerOnSale': u'Yes', u'ManufacturerName': u'Samsung', u'ReviewRating': u'5', u'UserGender': u'Male', u'RetailerZip': u'33130', u'_id': ObjectId('592f27286cb48027a4cbf27a'), u'RetailerCity': u'Miami'}\n",
      "{u'RetailerName': u'hhgregg', u'UserOccupation': u'Secratary', u'ProductPrice': u'1900', u'RetailerState': u'MA', u'ManufacturerRebate': u'No', u'ReviewDate': u'6/25/2014', u'ReviewText': u'I love the TV I just wish there was more programming available as I have only seen a few things actually on my TV in 4k and none of them looked as good as it did in the store.', u'UserID': u'crjsd29', u'ProductCategory': u'TV', u'ProductModelName': u'Samsung TV 65 Curved', u'UserAge': u'51', u'RetailerOnSale': u'No', u'ManufacturerName': u'Samsung', u'ReviewRating': u'4', u'UserGender': u'Female', u'RetailerZip': u'2108', u'_id': ObjectId('592f27286cb48027a4cbf2ef'), u'RetailerCity': u'Boston'}\n",
      "{u'RetailerName': u'Walmart', u'UserOccupation': u'Student', u'ProductPrice': u'999', u'RetailerState': u'IL', u'ManufacturerRebate': u'No', u'ReviewDate': u'7/21/2014', u'ReviewText': u\"I'm in love with it.\", u'UserID': u'yepoe7', u'ProductCategory': u'Tablet', u'ProductModelName': u'Surface 3', u'UserAge': u'51', u'RetailerOnSale': u'No', u'ManufacturerName': u'Microsoft', u'ReviewRating': u'5', u'UserGender': u'Female', u'RetailerZip': u'60603', u'_id': ObjectId('592f27286cb48027a4cbf2fa'), u'RetailerCity': u'Chicago'}\n",
      "{u'RetailerName': u'hhgregg', u'UserOccupation': u'Programmer', u'ProductPrice': u'849', u'RetailerState': u'IL', u'ManufacturerRebate': u'Yes', u'ReviewDate': u'02/01/15', u'ReviewText': u'Price and picture are good on this but if you plan to use a sound bar or surround system that requires optical out this not the TV for you.', u'UserID': u'hoeli6', u'ProductCategory': u'TV', u'ProductModelName': u'LG 65', u'UserAge': u'51', u'RetailerOnSale': u'Yes', u'ManufacturerName': u'LG', u'ReviewRating': u'3', u'UserGender': u'Female', u'RetailerZip': u'60616', u'_id': ObjectId('592f27286cb48027a4cbf303'), u'RetailerCity': u'Chicago'}\n",
      "{u'RetailerName': u'Frys', u'UserOccupation': u'Unknown', u'ProductPrice': u'299', u'RetailerState': u'IL', u'ManufacturerRebate': u'Yes', u'ReviewDate': u'6/18/2014', u'ReviewText': u'I have to return this product. It does not always turn on with the start button and frequently requires a hard reset. At least a multiple times a day.', u'UserID': u'mgvno57', u'ProductCategory': u'Tablet', u'ProductModelName': u'iPad Air', u'UserAge': u'51', u'RetailerOnSale': u'Yes', u'ManufacturerName': u'Apple', u'ReviewRating': u'2', u'UserGender': u'Male', u'RetailerZip': u'60603', u'_id': ObjectId('592f27286cb48027a4cbf30b'), u'RetailerCity': u'Chicago'}\n",
      "{u'RetailerName': u'Frys', u'UserOccupation': u'Student', u'ProductPrice': u'399', u'RetailerState': u'CA', u'ManufacturerRebate': u'No', u'ReviewDate': u'9/19/2013', u'ReviewText': u' I am very pleased with this phone', u'UserID': u'juspq28', u'ProductCategory': u'Smart Phone', u'ProductModelName': u'Galaxy S4', u'UserAge': u'51', u'RetailerOnSale': u'No', u'ManufacturerName': u'Samsung', u'ReviewRating': u'5', u'UserGender': u'Male', u'RetailerZip': u'94158', u'_id': ObjectId('592f27286cb48027a4cbf32c'), u'RetailerCity': u'San Francisco'}\n",
      "{u'RetailerName': u'Target', u'UserOccupation': u'Accountant', u'ProductPrice': u'499', u'RetailerState': u'MA', u'ManufacturerRebate': u'No', u'ReviewDate': u'5/25/2014', u'ReviewText': u\"I'm happy with my iPad I manly use it for watching movies surf the web etc... The only thing I don't like it's that in the camera there is no flash\", u'UserID': u'bghgd9', u'ProductCategory': u'Tablet', u'ProductModelName': u'iPad Air', u'UserAge': u'51', u'RetailerOnSale': u'No', u'ManufacturerName': u'Apple', u'ReviewRating': u'4', u'UserGender': u'Female', u'RetailerZip': u'2110', u'_id': ObjectId('592f27286cb48027a4cbf350'), u'RetailerCity': u'Boston'}\n",
      "{u'RetailerName': u'Frys', u'UserOccupation': u'Programmer', u'ProductPrice': u'399', u'RetailerState': u'CA', u'ManufacturerRebate': u'No', u'ReviewDate': u'3/24/2014', u'ReviewText': u'Picture quality is outstanding.', u'UserID': u'lqkvi42', u'ProductCategory': u'Smart Phone', u'ProductModelName': u'iPhone 6', u'UserAge': u'51', u'RetailerOnSale': u'No', u'ManufacturerName': u'Apple', u'ReviewRating': u'4', u'UserGender': u'Male', u'RetailerZip': u'94158', u'_id': ObjectId('592f27286cb48027a4cbf35c'), u'RetailerCity': u'San Francisco'}\n",
      "{u'RetailerName': u'Frys', u'UserOccupation': u'Manager', u'ProductPrice': u'376', u'RetailerState': u'IL', u'ManufacturerRebate': u'No', u'ReviewDate': u'08/10/13', u'ReviewText': u'I love all the things you can do with easy access.', u'UserID': u'ftcoj70', u'ProductCategory': u'Laptop', u'ProductModelName': u'HP PAVALION  15.6', u'UserAge': u'51', u'RetailerOnSale': u'No', u'ManufacturerName': u'HP', u'ReviewRating': u'5', u'UserGender': u'Male', u'RetailerZip': u'60585', u'_id': ObjectId('592f27286cb48027a4cbf396'), u'RetailerCity': u'Naperville'}\n",
      "{u'RetailerName': u'Walmart', u'UserOccupation': u'Student', u'ProductPrice': u'402', u'RetailerState': u'OH', u'ManufacturerRebate': u'No', u'ReviewDate': u'10/08/14', u'ReviewText': u'Undoubtedly the most significant phone ever released - iPhone who?!', u'UserID': u'yomdb11', u'ProductCategory': u'Smart Phone', u'ProductModelName': u'Galaxy S4', u'UserAge': u'51', u'RetailerOnSale': u'No', u'ManufacturerName': u'Samsung', u'ReviewRating': u'5', u'UserGender': u'Male', u'RetailerZip': u'44114', u'_id': ObjectId('592f27286cb48027a4cbf39a'), u'RetailerCity': u'Cleveland'}\n",
      "{u'RetailerName': u'Bestbuy', u'UserOccupation': u'Accountant', u'ProductPrice': u'960', u'RetailerState': u'MA', u'ManufacturerRebate': u'No', u'ReviewDate': u'04/01/15', u'ReviewText': u'This is my 3rd iPhone and they just keep getting better!', u'UserID': u'atxju87', u'ProductCategory': u'Smart Phone', u'ProductModelName': u'iPhone 6', u'UserAge': u'51', u'RetailerOnSale': u'No', u'ManufacturerName': u'Apple', u'ReviewRating': u'5', u'UserGender': u'Male', u'RetailerZip': u'2110', u'_id': ObjectId('592f27286cb48027a4cbf3eb'), u'RetailerCity': u'Boston'}\n",
      "{u'RetailerName': u'Walmart', u'UserOccupation': u'Secratary', u'ProductPrice': u'999', u'RetailerState': u'IL', u'ManufacturerRebate': u'No', u'ReviewDate': u'3/24/2014', u'ReviewText': u'MS finally got it right with the Surface line.', u'UserID': u'yefrv53', u'ProductCategory': u'Tablet', u'ProductModelName': u'Surface 3', u'UserAge': u'51', u'RetailerOnSale': u'No', u'ManufacturerName': u'Microsoft', u'ReviewRating': u'5', u'UserGender': u'Female', u'RetailerZip': u'60616', u'_id': ObjectId('592f27286cb48027a4cbf40a'), u'RetailerCity': u'Chicago'}\n",
      "{u'RetailerName': u'hhgregg', u'UserOccupation': u'Unknown', u'ProductPrice': u'499', u'RetailerState': u'CA', u'ManufacturerRebate': u'No', u'ReviewDate': u'6/21/2014', u'ReviewText': u\"It's light weight convenient. Wifi ready easy to transport and is comparable with my iPhone. More user friendly than android models and Google models. I live the camera too\", u'UserID': u'vqhdo69', u'ProductCategory': u'Tablet', u'ProductModelName': u'iPad Air', u'UserAge': u'51', u'RetailerOnSale': u'No', u'ManufacturerName': u'Apple', u'ReviewRating': u'4', u'UserGender': u'Male', u'RetailerZip': u'94102', u'_id': ObjectId('592f27286cb48027a4cbf426'), u'RetailerCity': u'San Francisco'}\n",
      "{u'RetailerName': u'hhgregg', u'UserOccupation': u'Student', u'ProductPrice': u'402', u'RetailerState': u'CA', u'ManufacturerRebate': u'No', u'ReviewDate': u'05/12/14', u'ReviewText': u'Great pocket computer. Get the samsung flip cover case...very useful window on the cover and protects the screen.', u'UserID': u'xcnht28', u'ProductCategory': u'Smart Phone', u'ProductModelName': u'Galaxy S4', u'UserAge': u'51', u'RetailerOnSale': u'No', u'ManufacturerName': u'Samsung', u'ReviewRating': u'5', u'UserGender': u'Male', u'RetailerZip': u'94158', u'_id': ObjectId('592f27286cb48027a4cbf446'), u'RetailerCity': u'San Francisco'}\n",
      "{u'RetailerName': u'Frys', u'UserOccupation': u'Unknown', u'ProductPrice': u'969', u'RetailerState': u'OH', u'ManufacturerRebate': u'No', u'ReviewDate': u'08/10/14', u'ReviewText': u'I purchased this as a laptop replacement and I was extremely disappointed when I discovered that the USB port does not have enough power to connect an external dvd/bd drive or external hard drive.', u'UserID': u'mlnlz73', u'ProductCategory': u'Tablet', u'ProductModelName': u'Surface 3', u'UserAge': u'51', u'RetailerOnSale': u'No', u'ManufacturerName': u'Microsoft', u'ReviewRating': u'1', u'UserGender': u'Male', u'RetailerZip': u'44114', u'_id': ObjectId('592f27286cb48027a4cbf49f'), u'RetailerCity': u'Cleveland'}\n",
      "{u'RetailerName': u'Frys', u'UserOccupation': u'Accountant', u'ProductPrice': u'299', u'RetailerState': u'IL', u'ManufacturerRebate': u'Yes', u'ReviewDate': u'9/24/2014', u'ReviewText': u\" I loved it. It's very handy\", u'UserID': u'wtcid40', u'ProductCategory': u'Tablet', u'ProductModelName': u'iPad Air', u'UserAge': u'51', u'RetailerOnSale': u'Yes', u'ManufacturerName': u'Apple', u'ReviewRating': u'5', u'UserGender': u'Female', u'RetailerZip': u'60603', u'_id': ObjectId('592f27286cb48027a4cbf4a1'), u'RetailerCity': u'Chicago'}\n",
      "{u'RetailerName': u'Walmart', u'UserOccupation': u'Accountant', u'ProductPrice': u'299', u'RetailerState': u'FL', u'ManufacturerRebate': u'No', u'ReviewDate': u'8/21/2014', u'ReviewText': u'I was looking for a laptop at home for normal internet and home use.', u'UserID': u'mezsz19', u'ProductCategory': u'Laptop', u'ProductModelName': u'HP PAVALION  15.6', u'UserAge': u'51', u'RetailerOnSale': u'Yes', u'ManufacturerName': u'HP', u'ReviewRating': u'5', u'UserGender': u'Male', u'RetailerZip': u'33130', u'_id': ObjectId('592f27286cb48027a4cbf4eb'), u'RetailerCity': u'Miami'}\n",
      "{u'RetailerName': u'Walmart', u'UserOccupation': u'Secratary', u'ProductPrice': u'449', u'RetailerState': u'CA', u'ManufacturerRebate': u'No', u'ReviewDate': u'6/25/2014', u'ReviewText': u'8GB RAM is more than ample for every day use', u'UserID': u'pcvmg86', u'ProductCategory': u'Laptop', u'ProductModelName': u'Dell Ispiron 15.6', u'UserAge': u'51', u'RetailerOnSale': u'Yes', u'ManufacturerName': u'Dell', u'ReviewRating': u'4', u'UserGender': u'Female', u'RetailerZip': u'94158', u'_id': ObjectId('592f27286cb48027a4cbf514'), u'RetailerCity': u'San Francisco'}\n",
      "{u'RetailerName': u'hhgregg', u'UserOccupation': u'Manager', u'ProductPrice': u'299', u'RetailerState': u'FL', u'ManufacturerRebate': u'No', u'ReviewDate': u'8/21/2014', u'ReviewText': u' If I had it to do all over', u'UserID': u'twzxi9', u'ProductCategory': u'Tablet', u'ProductModelName': u'Samsung Tab 4', u'UserAge': u'51', u'RetailerOnSale': u'Yes', u'ManufacturerName': u'Samsung', u'ReviewRating': u'3', u'UserGender': u'Male', u'RetailerZip': u'33129', u'_id': ObjectId('592f27286cb48027a4cbf535'), u'RetailerCity': u'Miami'}\n",
      "{u'RetailerName': u'hhgregg', u'UserOccupation': u'Manager', u'ProductPrice': u'849', u'RetailerState': u'FL', u'ManufacturerRebate': u'Yes', u'ReviewDate': u'7/21/2014', u'ReviewText': u'When I purchased the tv it was all about size.', u'UserID': u'ecbfl66', u'ProductCategory': u'TV', u'ProductModelName': u'LG 65', u'UserAge': u'51', u'RetailerOnSale': u'Yes', u'ManufacturerName': u'LG', u'ReviewRating': u'4', u'UserGender': u'Male', u'RetailerZip': u'33129', u'_id': ObjectId('592f27286cb48027a4cbf54a'), u'RetailerCity': u'Miami'}\n",
      "{u'RetailerName': u'hhgregg', u'UserOccupation': u'Manager', u'ProductPrice': u'390', u'RetailerState': u'IL', u'ManufacturerRebate': u'No', u'ReviewDate': u'2/14/2014', u'ReviewText': u' I like the phone', u'UserID': u'yzzzx6', u'ProductCategory': u'Smart Phone', u'ProductModelName': u'Galaxy S4', u'UserAge': u'51', u'RetailerOnSale': u'Yes', u'ManufacturerName': u'Samsung', u'ReviewRating': u'4', u'UserGender': u'Male', u'RetailerZip': u'60616', u'_id': ObjectId('592f27286cb48027a4cbf555'), u'RetailerCity': u'Chicago'}\n",
      "{u'RetailerName': u'Frys', u'UserOccupation': u'Accountant', u'ProductPrice': u'925', u'RetailerState': u'CA', u'ManufacturerRebate': u'No', u'ReviewDate': u'11/29/2014', u'ReviewText': u' Not a bad tablet', u'UserID': u'jpyaz82', u'ProductCategory': u'Tablet', u'ProductModelName': u'Surface 3', u'UserAge': u'51', u'RetailerOnSale': u'No', u'ManufacturerName': u'Microsoft', u'ReviewRating': u'4', u'UserGender': u'Male', u'RetailerZip': u'90033', u'_id': ObjectId('592f27286cb48027a4cbf5bd'), u'RetailerCity': u'Los Angeles'}\n",
      "{u'RetailerName': u'Bestbuy', u'UserOccupation': u'Secratary', u'ProductPrice': u'960', u'RetailerState': u'MA', u'ManufacturerRebate': u'No', u'ReviewDate': u'12/01/14', u'ReviewText': u\"Camera is clear (I'm still looking for a faster way to focus though)\", u'UserID': u'vssnh78', u'ProductCategory': u'Smart Phone', u'ProductModelName': u'iPhone 6', u'UserAge': u'51', u'RetailerOnSale': u'No', u'ManufacturerName': u'Apple', u'ReviewRating': u'4', u'UserGender': u'Male', u'RetailerZip': u'2110', u'_id': ObjectId('592f27286cb48027a4cbf5c1'), u'RetailerCity': u'Boston'}\n",
      "{u'RetailerName': u'Target', u'UserOccupation': u'Student', u'ProductPrice': u'849', u'RetailerState': u'IL', u'ManufacturerRebate': u'Yes', u'ReviewDate': u'02/01/13', u'ReviewText': u' slow wifi connection even with 15 ft.', u'UserID': u'sznqv55', u'ProductCategory': u'TV', u'ProductModelName': u'LG 65', u'UserAge': u'51', u'RetailerOnSale': u'Yes', u'ManufacturerName': u'LG', u'ReviewRating': u'1', u'UserGender': u'Male', u'RetailerZip': u'60616', u'_id': ObjectId('592f27286cb48027a4cbf5f4'), u'RetailerCity': u'Chicago'}\n",
      "{u'RetailerName': u'hhgregg', u'UserOccupation': u'Accountant', u'ProductPrice': u'390', u'RetailerState': u'FL', u'ManufacturerRebate': u'No', u'ReviewDate': u'8/18/2014', u'ReviewText': u'An overall great device. I would like for the battery power to last longer.', u'UserID': u'ylstg89', u'ProductCategory': u'Smart Phone', u'ProductModelName': u'Galaxy S4', u'UserAge': u'51', u'RetailerOnSale': u'Yes', u'ManufacturerName': u'Samsung', u'ReviewRating': u'4', u'UserGender': u'Female', u'RetailerZip': u'33129', u'_id': ObjectId('592f27286cb48027a4cbf5fe'), u'RetailerCity': u'Miami'}\n",
      "{u'RetailerName': u'hhgregg', u'UserOccupation': u'Secratary', u'ProductPrice': u'399', u'RetailerState': u'CA', u'ManufacturerRebate': u'No', u'ReviewDate': u'6/21/2014', u'ReviewText': u'when watching movie , battery lasts less than 3 hours!', u'UserID': u'mfmnf53', u'ProductCategory': u'Smart Phone', u'ProductModelName': u'Galaxy S4', u'UserAge': u'51', u'RetailerOnSale': u'No', u'ManufacturerName': u'Samsung', u'ReviewRating': u'1', u'UserGender': u'Female', u'RetailerZip': u'90012', u'_id': ObjectId('592f27286cb48027a4cbf647'), u'RetailerCity': u'Los Angeles'}\n",
      "{u'RetailerName': u'Frys', u'UserOccupation': u'Programmer', u'ProductPrice': u'849', u'RetailerState': u'CA', u'ManufacturerRebate': u'Yes', u'ReviewDate': u'2/29/2015', u'ReviewText': u'I had to get it especially since it is LG. ', u'UserID': u'qepva67', u'ProductCategory': u'TV', u'ProductModelName': u'LG 65', u'UserAge': u'51', u'RetailerOnSale': u'Yes', u'ManufacturerName': u'LG', u'ReviewRating': u'4', u'UserGender': u'Male', u'RetailerZip': u'94102', u'_id': ObjectId('592f27286cb48027a4cbf663'), u'RetailerCity': u'San Francisco'}\n",
      "{u'RetailerName': u'hhgregg', u'UserOccupation': u'Unknown', u'ProductPrice': u'299', u'RetailerState': u'FL', u'ManufacturerRebate': u'No', u'ReviewDate': u'3/24/2014', u'ReviewText': u'Great performance on this laptop and has great graphics and good things great quality', u'UserID': u'hgyqd64', u'ProductCategory': u'Laptop', u'ProductModelName': u'HP PAVALION  15.6', u'UserAge': u'51', u'RetailerOnSale': u'Yes', u'ManufacturerName': u'HP', u'ReviewRating': u'5', u'UserGender': u'Male', u'RetailerZip': u'33129', u'_id': ObjectId('592f27286cb48027a4cbf671'), u'RetailerCity': u'Miami'}\n",
      "{u'RetailerName': u'hhgregg', u'UserOccupation': u'Unknown', u'ProductPrice': u'589', u'RetailerState': u'MA', u'ManufacturerRebate': u'No', u'ReviewDate': u'4/19/2014', u'ReviewText': u'The camera on this phone is awesome. The new bigger screen size is so much nicer.', u'UserID': u'dgssg64', u'ProductCategory': u'Smart Phone', u'ProductModelName': u'iPhone 6', u'UserAge': u'51', u'RetailerOnSale': u'No', u'ManufacturerName': u'Apple', u'ReviewRating': u'5', u'UserGender': u'Male', u'RetailerZip': u'2108', u'_id': ObjectId('592f27286cb48027a4cbf68b'), u'RetailerCity': u'Boston'}\n",
      "{u'RetailerName': u'Frys', u'UserOccupation': u'Unknown', u'ProductPrice': u'390', u'RetailerState': u'CA', u'ManufacturerRebate': u'No', u'ReviewDate': u'8/21/2014', u'ReviewText': u'This is my first smart phone. ', u'UserID': u'lgfvj69', u'ProductCategory': u'Smart Phone', u'ProductModelName': u'Galaxy S4', u'UserAge': u'51', u'RetailerOnSale': u'Yes', u'ManufacturerName': u'Samsung', u'ReviewRating': u'4', u'UserGender': u'Female', u'RetailerZip': u'94158', u'_id': ObjectId('592f27286cb48027a4cbf6eb'), u'RetailerCity': u'San Francisco'}\n",
      "{u'RetailerName': u'Bestbuy', u'UserOccupation': u'Unknown', u'ProductPrice': u'299', u'RetailerState': u'FL', u'ManufacturerRebate': u'Yes', u'ReviewDate': u'9/17/2014', u'ReviewText': u\" reat apple device to use whether it's for school\", u'UserID': u'igqac32', u'ProductCategory': u'Tablet', u'ProductModelName': u'iPad Air', u'UserAge': u'51', u'RetailerOnSale': u'Yes', u'ManufacturerName': u'Apple', u'ReviewRating': u'5', u'UserGender': u'Male', u'RetailerZip': u'33129', u'_id': ObjectId('592f27286cb48027a4cbf6fd'), u'RetailerCity': u'Miami'}\n",
      "{u'RetailerName': u'hhgregg', u'UserOccupation': u'Manager', u'ProductPrice': u'402', u'RetailerState': u'CA', u'ManufacturerRebate': u'No', u'ReviewDate': u'08/10/13', u'ReviewText': u'I love everything but it has a poor battery life and also has issues connecting to certain wifi networks unless I manually add the network.', u'UserID': u'esanh4', u'ProductCategory': u'Smart Phone', u'ProductModelName': u'Galaxy S4', u'UserAge': u'51', u'RetailerOnSale': u'No', u'ManufacturerName': u'Samsung', u'ReviewRating': u'3', u'UserGender': u'Male', u'RetailerZip': u'94158', u'_id': ObjectId('592f27286cb48027a4cbf72e'), u'RetailerCity': u'San Francisco'}\n",
      "{u'RetailerName': u'Walmart', u'UserOccupation': u'Unknown', u'ProductPrice': u'499', u'RetailerState': u'IL', u'ManufacturerRebate': u'No', u'ReviewDate': u'10/21/2014', u'ReviewText': u'I love my new iPad. The screen is very clear and I can do all of the things that I usually do on my iPhone', u'UserID': u'dhtlj7', u'ProductCategory': u'Tablet', u'ProductModelName': u'iPad Air', u'UserAge': u'51', u'RetailerOnSale': u'No', u'ManufacturerName': u'Apple', u'ReviewRating': u'5', u'UserGender': u'Male', u'RetailerZip': u'60585', u'_id': ObjectId('592f27286cb48027a4cbf76f'), u'RetailerCity': u'Naperville'}\n",
      "{u'RetailerName': u'Frys', u'UserOccupation': u'Secratary', u'ProductPrice': u'1100', u'RetailerState': u'CA', u'ManufacturerRebate': u'No', u'ReviewDate': u'6/21/2014', u'ReviewText': u'Easy to install and set up. Great 3D experience. I would recommend getting the rechargeable glasses as they seem to go through batteries rather quickly.', u'UserID': u'olmfm87', u'ProductCategory': u'TV', u'ProductModelName': u'Samsung TV 60 LED', u'UserAge': u'51', u'RetailerOnSale': u'Yes', u'ManufacturerName': u'Samsung', u'ReviewRating': u'5', u'UserGender': u'Female', u'RetailerZip': u'94158', u'_id': ObjectId('592f27286cb48027a4cbf784'), u'RetailerCity': u'San Francisco'}\n",
      "{u'RetailerName': u'hhgregg', u'UserOccupation': u'Student', u'ProductPrice': u'1900', u'RetailerState': u'CA', u'ManufacturerRebate': u'No', u'ReviewDate': u'5/19/2014', u'ReviewText': u' Easy set up', u'UserID': u'asboa21', u'ProductCategory': u'TV', u'ProductModelName': u'Samsung TV 65 Curved', u'UserAge': u'51', u'RetailerOnSale': u'No', u'ManufacturerName': u'Samsung', u'ReviewRating': u'5', u'UserGender': u'Male', u'RetailerZip': u'94158', u'_id': ObjectId('592f27286cb48027a4cbf787'), u'RetailerCity': u'San Francisco'}\n",
      "{u'RetailerName': u'Target', u'UserOccupation': u'Student', u'ProductPrice': u'1200', u'RetailerState': u'CA', u'ManufacturerRebate': u'No', u'ReviewDate': u'10/13/2013', u'ReviewText': u\"Was not really in the market for a 4K TV but Bestbuy had this for a good price. Blue Rays look awesome but 1080i content looks a little grainy. Can't wait for more 4K content in the future.\", u'UserID': u'yemrq81', u'ProductCategory': u'TV', u'ProductModelName': u'Samsung TV 60 LED', u'UserAge': u'51', u'RetailerOnSale': u'No', u'ManufacturerName': u'Samsung', u'ReviewRating': u'4', u'UserGender': u'Male', u'RetailerZip': u'94158', u'_id': ObjectId('592f27286cb48027a4cbf792'), u'RetailerCity': u'San Francisco'}\n",
      "{u'RetailerName': u'Frys', u'UserOccupation': u'Unknown', u'ProductPrice': u'1900', u'RetailerState': u'CA', u'ManufacturerRebate': u'No', u'ReviewDate': u'6/26/2014', u'ReviewText': u'Great picture -still learning everything it can do.', u'UserID': u'qclbd46', u'ProductCategory': u'TV', u'ProductModelName': u'Samsung TV 65 Curved', u'UserAge': u'51', u'RetailerOnSale': u'No', u'ManufacturerName': u'Samsung', u'ReviewRating': u'5', u'UserGender': u'Female', u'RetailerZip': u'94102', u'_id': ObjectId('592f27286cb48027a4cbf796'), u'RetailerCity': u'San Francisco'}\n",
      "{u'RetailerName': u'Target', u'UserOccupation': u'Manager', u'ProductPrice': u'269', u'RetailerState': u'IL', u'ManufacturerRebate': u'Yes', u'ReviewDate': u'12/10/14', u'ReviewText': u'It works should have got the newest Note in my opinion but sales rep convinced my the Galaxy 4 would be better.', u'UserID': u'rpmcf9', u'ProductCategory': u'Smart Phone', u'ProductModelName': u'Galaxy S4', u'UserAge': u'51', u'RetailerOnSale': u'Yes', u'ManufacturerName': u'Samsung', u'ReviewRating': u'3', u'UserGender': u'Male', u'RetailerZip': u'60616', u'_id': ObjectId('592f27286cb48027a4cbf7f0'), u'RetailerCity': u'Chicago'}\n",
      "{u'RetailerName': u'Walmart', u'UserOccupation': u'Manager', u'ProductPrice': u'849', u'RetailerState': u'CA', u'ManufacturerRebate': u'Yes', u'ReviewDate': u'8/18/2014', u'ReviewText': u'The TV works great and the picture is terrific!', u'UserID': u'olncs24', u'ProductCategory': u'TV', u'ProductModelName': u'LG 65', u'UserAge': u'51', u'RetailerOnSale': u'Yes', u'ManufacturerName': u'LG', u'ReviewRating': u'5', u'UserGender': u'Male', u'RetailerZip': u'94102', u'_id': ObjectId('592f27286cb48027a4cbf806'), u'RetailerCity': u'San Francisco'}\n",
      "{u'RetailerName': u'Walmart', u'UserOccupation': u'Accountant', u'ProductPrice': u'299', u'RetailerState': u'FL', u'ManufacturerRebate': u'Yes', u'ReviewDate': u'10/28/2014', u'ReviewText': u'This iPad Air is very functional for my uses.', u'UserID': u'usyvl17', u'ProductCategory': u'Tablet', u'ProductModelName': u'iPad Air', u'UserAge': u'51', u'RetailerOnSale': u'Yes', u'ManufacturerName': u'Apple', u'ReviewRating': u'5', u'UserGender': u'Female', u'RetailerZip': u'33130', u'_id': ObjectId('592f27286cb48027a4cbf81a'), u'RetailerCity': u'Miami'}\n",
      "{u'RetailerName': u'Target', u'UserOccupation': u'Secratary', u'ProductPrice': u'999', u'RetailerState': u'IL', u'ManufacturerRebate': u'No', u'ReviewDate': u'6/26/2014', u'ReviewText': u'Purchased this as a gift for my husband. ', u'UserID': u'wmyqd91', u'ProductCategory': u'Tablet', u'ProductModelName': u'Surface 3', u'UserAge': u'51', u'RetailerOnSale': u'No', u'ManufacturerName': u'Microsoft', u'ReviewRating': u'5', u'UserGender': u'Male', u'RetailerZip': u'60585', u'_id': ObjectId('592f27286cb48027a4cbf878'), u'RetailerCity': u'Naperville'}\n",
      "{u'RetailerName': u'hhgregg', u'UserOccupation': u'Accountant', u'ProductPrice': u'1100', u'RetailerState': u'IL', u'ManufacturerRebate': u'No', u'ReviewDate': u'8/21/2014', u'ReviewText': u'Love the picture.', u'UserID': u'oazyq34', u'ProductCategory': u'TV', u'ProductModelName': u'Samsung TV 60 LED', u'UserAge': u'51', u'RetailerOnSale': u'Yes', u'ManufacturerName': u'Samsung', u'ReviewRating': u'4', u'UserGender': u'Male', u'RetailerZip': u'60603', u'_id': ObjectId('592f27286cb48027a4cbf8ce'), u'RetailerCity': u'Chicago'}\n",
      "{u'RetailerName': u'Frys', u'UserOccupation': u'Unknown', u'ProductPrice': u'1200', u'RetailerState': u'CA', u'ManufacturerRebate': u'No', u'ReviewDate': u'08/10/14', u'ReviewText': u'I like everything about this TV except for the issues I had with using external sound system with it. There was also an unnecessary issue with playing media from a thumb drive into the USB PORTS. I still have not resolved these issues and the help line with Samsung was virtually useless.', u'UserID': u'qzfcw23', u'ProductCategory': u'TV', u'ProductModelName': u'Samsung TV 60 LED', u'UserAge': u'51', u'RetailerOnSale': u'No', u'ManufacturerName': u'Samsung', u'ReviewRating': u'3', u'UserGender': u'Male', u'RetailerZip': u'94102', u'_id': ObjectId('592f27286cb48027a4cbf8ed'), u'RetailerCity': u'San Francisco'}\n",
      "{u'RetailerName': u'Walmart', u'UserOccupation': u'Programmer', u'ProductPrice': u'2250', u'RetailerState': u'FL', u'ManufacturerRebate': u'No', u'ReviewDate': u'08/01/14', u'ReviewText': u'Free delivery. Free initial setup.', u'UserID': u'gngvg53', u'ProductCategory': u'TV', u'ProductModelName': u'LG 65', u'UserAge': u'52', u'RetailerOnSale': u'No', u'ManufacturerName': u'LG', u'ReviewRating': u'5', u'UserGender': u'Male', u'RetailerZip': u'33129', u'_id': ObjectId('592f27286cb48027a4cbf169'), u'RetailerCity': u'Miami'}\n",
      "{u'RetailerName': u'Frys', u'UserOccupation': u'Unknown', u'ProductPrice': u'299', u'RetailerState': u'IL', u'ManufacturerRebate': u'No', u'ReviewDate': u'5/15/2013', u'ReviewText': u'It has been great experience thus far. I use this computer for school and personal use and it does everything I need.', u'UserID': u'gpimd15', u'ProductCategory': u'Laptop', u'ProductModelName': u'HP PAVALION  15.6', u'UserAge': u'52', u'RetailerOnSale': u'Yes', u'ManufacturerName': u'HP', u'ReviewRating': u'4', u'UserGender': u'Male', u'RetailerZip': u'60616', u'_id': ObjectId('592f27286cb48027a4cbf185'), u'RetailerCity': u'Chicago'}\n",
      "{u'RetailerName': u'hhgregg', u'UserOccupation': u'Secratary', u'ProductPrice': u'999', u'RetailerState': u'FL', u'ManufacturerRebate': u'No', u'ReviewDate': u'10/17/2014', u'ReviewText': u'Awesome HDTV for the price.', u'UserID': u'pmmhg97', u'ProductCategory': u'TV', u'ProductModelName': u'LG 65', u'UserAge': u'52', u'RetailerOnSale': u'No', u'ManufacturerName': u'LG', u'ReviewRating': u'5', u'UserGender': u'Male', u'RetailerZip': u'33129', u'_id': ObjectId('592f27286cb48027a4cbf1c1'), u'RetailerCity': u'Miami'}\n",
      "{u'RetailerName': u'hhgregg', u'UserOccupation': u'Student', u'ProductPrice': u'399', u'RetailerState': u'MA', u'ManufacturerRebate': u'No', u'ReviewDate': u'12/14/2014', u'ReviewText': u'All the pros of an iphone - great storage and speed.', u'UserID': u'shrqt58', u'ProductCategory': u'Smart Phone', u'ProductModelName': u'iPhone 6', u'UserAge': u'52', u'RetailerOnSale': u'No', u'ManufacturerName': u'Apple', u'ReviewRating': u'4', u'UserGender': u'Male', u'RetailerZip': u'2110', u'_id': ObjectId('592f27286cb48027a4cbf206'), u'RetailerCity': u'Boston'}\n",
      "{u'RetailerName': u'Frys', u'UserOccupation': u'Secratary', u'ProductPrice': u'349', u'RetailerState': u'CA', u'ManufacturerRebate': u'No', u'ReviewDate': u'7/19/2014', u'ReviewText': u'Great for gaming. Reading. facebook all easily accesible', u'UserID': u'jzmby53', u'ProductCategory': u'Tablet', u'ProductModelName': u'Samsung Tab 4', u'UserAge': u'52', u'RetailerOnSale': u'No', u'ManufacturerName': u'Samsung', u'ReviewRating': u'4', u'UserGender': u'Female', u'RetailerZip': u'94158', u'_id': ObjectId('592f27286cb48027a4cbf233'), u'RetailerCity': u'San Francisco'}\n",
      "{u'RetailerName': u'hhgregg', u'UserOccupation': u'Accountant', u'ProductPrice': u'925', u'RetailerState': u'OH', u'ManufacturerRebate': u'No', u'ReviewDate': u'06/10/14', u'ReviewText': u'Makes my daughters taking it to and from school makes doing her homework she loves it so much', u'UserID': u'tijlp17', u'ProductCategory': u'Tablet', u'ProductModelName': u'Surface 3', u'UserAge': u'52', u'RetailerOnSale': u'No', u'ManufacturerName': u'Microsoft', u'ReviewRating': u'5', u'UserGender': u'Male', u'RetailerZip': u'44114', u'_id': ObjectId('592f27286cb48027a4cbf253'), u'RetailerCity': u'Cleveland'}\n",
      "{u'RetailerName': u'Bestbuy', u'UserOccupation': u'Accountant', u'ProductPrice': u'299', u'RetailerState': u'OH', u'ManufacturerRebate': u'No', u'ReviewDate': u'6/21/2014', u'ReviewText': u'This laptop is the best and the windows 8.1 is awesome.', u'UserID': u'yjpdm26', u'ProductCategory': u'Laptop', u'ProductModelName': u'HP PAVALION  15.6', u'UserAge': u'52', u'RetailerOnSale': u'Yes', u'ManufacturerName': u'HP', u'ReviewRating': u'3', u'UserGender': u'Female', u'RetailerZip': u'44114', u'_id': ObjectId('592f27286cb48027a4cbf267'), u'RetailerCity': u'Cleveland'}\n",
      "{u'RetailerName': u'Walmart', u'UserOccupation': u'Secratary', u'ProductPrice': u'2250', u'RetailerState': u'IL', u'ManufacturerRebate': u'No', u'ReviewDate': u'12/05/14', u'ReviewText': u' good tv for the price', u'UserID': u'ovuei17', u'ProductCategory': u'TV', u'ProductModelName': u'LG 65', u'UserAge': u'52', u'RetailerOnSale': u'No', u'ManufacturerName': u'LG', u'ReviewRating': u'4', u'UserGender': u'Male', u'RetailerZip': u'60616', u'_id': ObjectId('592f27286cb48027a4cbf2ca'), u'RetailerCity': u'Chicago'}\n",
      "{u'RetailerName': u'Target', u'UserOccupation': u'Unknown', u'ProductPrice': u'349', u'RetailerState': u'FL', u'ManufacturerRebate': u'No', u'ReviewDate': u'8/17/2014', u'ReviewText': u'Bought this laptop for work and going back to school. The touch screen is something I thought I would hate but I actually love it.', u'UserID': u'symny52', u'ProductCategory': u'Laptop', u'ProductModelName': u'Dell Ispiron 15.6', u'UserAge': u'52', u'RetailerOnSale': u'Yes', u'ManufacturerName': u'Dell', u'ReviewRating': u'5', u'UserGender': u'Male', u'RetailerZip': u'33130', u'_id': ObjectId('592f27286cb48027a4cbf33a'), u'RetailerCity': u'Miami'}\n",
      "{u'RetailerName': u'Bestbuy', u'UserOccupation': u'Accountant', u'ProductPrice': u'1799', u'RetailerState': u'CA', u'ManufacturerRebate': u'Yes', u'ReviewDate': u'05/12/14', u'ReviewText': u' Overall great TV ', u'UserID': u'onryq64', u'ProductCategory': u'TV', u'ProductModelName': u'Samsung TV 65 Curved', u'UserAge': u'52', u'RetailerOnSale': u'Yes', u'ManufacturerName': u'Samsung', u'ReviewRating': u'4', u'UserGender': u'Male', u'RetailerZip': u'90033', u'_id': ObjectId('592f27286cb48027a4cbf3a1'), u'RetailerCity': u'Los Angeles'}\n",
      "{u'RetailerName': u'Bestbuy', u'UserOccupation': u'Unknown', u'ProductPrice': u'376', u'RetailerState': u'FL', u'ManufacturerRebate': u'No', u'ReviewDate': u'10/21/2014', u'ReviewText': u' i needed an inexpensive laptop to play World of Warcraft on', u'UserID': u'aewif93', u'ProductCategory': u'Laptop', u'ProductModelName': u'HP PAVALION  15.6', u'UserAge': u'52', u'RetailerOnSale': u'No', u'ManufacturerName': u'HP', u'ReviewRating': u'3', u'UserGender': u'Male', u'RetailerZip': u'33130', u'_id': ObjectId('592f27286cb48027a4cbf3a2'), u'RetailerCity': u'Miami'}\n",
      "{u'RetailerName': u'hhgregg', u'UserOccupation': u'Manager', u'ProductPrice': u'449', u'RetailerState': u'IL', u'ManufacturerRebate': u'No', u'ReviewDate': u'04/01/15', u'ReviewText': u' This laptop is very fast. I enjoy it very much for Internet browsing', u'UserID': u'fomrc53', u'ProductCategory': u'Laptop', u'ProductModelName': u'Dell Ispiron 15.6', u'UserAge': u'52', u'RetailerOnSale': u'Yes', u'ManufacturerName': u'Dell', u'ReviewRating': u'5', u'UserGender': u'Male', u'RetailerZip': u'60603', u'_id': ObjectId('592f27286cb48027a4cbf3db'), u'RetailerCity': u'Chicago'}\n",
      "{u'RetailerName': u'hhgregg', u'UserOccupation': u'Unknown', u'ProductPrice': u'999', u'RetailerState': u'IL', u'ManufacturerRebate': u'No', u'ReviewDate': u'12/20/2014', u'ReviewText': u' Easy hook up', u'UserID': u'obymj55', u'ProductCategory': u'TV', u'ProductModelName': u'LG 65', u'UserAge': u'52', u'RetailerOnSale': u'No', u'ManufacturerName': u'LG', u'ReviewRating': u'4', u'UserGender': u'Male', u'RetailerZip': u'60585', u'_id': ObjectId('592f27286cb48027a4cbf409'), u'RetailerCity': u'Naperville'}\n",
      "{u'RetailerName': u'Walmart', u'UserOccupation': u'Programmer', u'ProductPrice': u'499', u'RetailerState': u'FL', u'ManufacturerRebate': u'No', u'ReviewDate': u'12/27/2014', u'ReviewText': u\"I wasn't looking for a touchscreen laptop but after getting this one I love that feature.\", u'UserID': u'tcpoe39', u'ProductCategory': u'Laptop', u'ProductModelName': u'Dell Ispiron 15.6', u'UserAge': u'52', u'RetailerOnSale': u'No', u'ManufacturerName': u'Dell', u'ReviewRating': u'5', u'UserGender': u'Male', u'RetailerZip': u'33129', u'_id': ObjectId('592f27286cb48027a4cbf432'), u'RetailerCity': u'Miami'}\n",
      "{u'RetailerName': u'Target', u'UserOccupation': u'Accountant', u'ProductPrice': u'399', u'RetailerState': u'FL', u'ManufacturerRebate': u'No', u'ReviewDate': u'5/25/2014', u'ReviewText': u'I love my new phone and all the new features it offers', u'UserID': u'pnseg9', u'ProductCategory': u'Smart Phone', u'ProductModelName': u'iPhone 6', u'UserAge': u'52', u'RetailerOnSale': u'No', u'ManufacturerName': u'Apple', u'ReviewRating': u'4', u'UserGender': u'Male', u'RetailerZip': u'33129', u'_id': ObjectId('592f27286cb48027a4cbf44f'), u'RetailerCity': u'Miami'}\n",
      "{u'RetailerName': u'Target', u'UserOccupation': u'Student', u'ProductPrice': u'319', u'RetailerState': u'CA', u'ManufacturerRebate': u'No', u'ReviewDate': u'5/25/2014', u'ReviewText': u' This is my first touch screen', u'UserID': u'lwhoj94', u'ProductCategory': u'Laptop', u'ProductModelName': u'HP PAVALION  15.6', u'UserAge': u'52', u'RetailerOnSale': u'No', u'ManufacturerName': u'HP', u'ReviewRating': u'5', u'UserGender': u'Male', u'RetailerZip': u'90012', u'_id': ObjectId('592f27286cb48027a4cbf454'), u'RetailerCity': u'Los Angeles'}\n",
      "{u'RetailerName': u'Walmart', u'UserOccupation': u'Unknown', u'ProductPrice': u'349', u'RetailerState': u'CA', u'ManufacturerRebate': u'No', u'ReviewDate': u'5/15/2013', u'ReviewText': u'this is my first time using DELL but this PC has been giving me some weakness sign.', u'UserID': u'wbazf12', u'ProductCategory': u'Laptop', u'ProductModelName': u'Dell Ispiron 15.6', u'UserAge': u'52', u'RetailerOnSale': u'Yes', u'ManufacturerName': u'Dell', u'ReviewRating': u'3', u'UserGender': u'Male', u'RetailerZip': u'90033', u'_id': ObjectId('592f27286cb48027a4cbf45c'), u'RetailerCity': u'Los Angeles'}\n",
      "{u'RetailerName': u'hhgregg', u'UserOccupation': u'Accountant', u'ProductPrice': u'849', u'RetailerState': u'IL', u'ManufacturerRebate': u'Yes', u'ReviewDate': u'4/29/2014', u'ReviewText': u' Overall', u'UserID': u'yuxet7', u'ProductCategory': u'TV', u'ProductModelName': u'LG 65', u'UserAge': u'52', u'RetailerOnSale': u'Yes', u'ManufacturerName': u'LG', u'ReviewRating': u'5', u'UserGender': u'Male', u'RetailerZip': u'60585', u'_id': ObjectId('592f27286cb48027a4cbf46e'), u'RetailerCity': u'Naperville'}\n",
      "{u'RetailerName': u'Target', u'UserOccupation': u'Manager', u'ProductPrice': u'925', u'RetailerState': u'MA', u'ManufacturerRebate': u'No', u'ReviewDate': u'02/01/13', u'ReviewText': u'Battery life could be better but it just depends on what your using it for.', u'UserID': u'gvtfg51', u'ProductCategory': u'Tablet', u'ProductModelName': u'Surface 3', u'UserAge': u'52', u'RetailerOnSale': u'No', u'ManufacturerName': u'Microsoft', u'ReviewRating': u'5', u'UserGender': u'Female', u'RetailerZip': u'2108', u'_id': ObjectId('592f27286cb48027a4cbf48c'), u'RetailerCity': u'Boston'}\n",
      "{u'RetailerName': u'hhgregg', u'UserOccupation': u'Manager', u'ProductPrice': u'299', u'RetailerState': u'IL', u'ManufacturerRebate': u'No', u'ReviewDate': u'6/21/2014', u'ReviewText': u' I love samsung products', u'UserID': u'oshnk39', u'ProductCategory': u'Tablet', u'ProductModelName': u'Samsung Tab 4', u'UserAge': u'52', u'RetailerOnSale': u'Yes', u'ManufacturerName': u'Samsung', u'ReviewRating': u'4', u'UserGender': u'Male', u'RetailerZip': u'60585', u'_id': ObjectId('592f27286cb48027a4cbf4b0'), u'RetailerCity': u'Naperville'}\n",
      "{u'RetailerName': u'hhgregg', u'UserOccupation': u'Secratary', u'ProductPrice': u'849', u'RetailerState': u'IL', u'ManufacturerRebate': u'Yes', u'ReviewDate': u'02/01/15', u'ReviewText': u'Picture is great and operation is simple.', u'UserID': u'dcgdd18', u'ProductCategory': u'TV', u'ProductModelName': u'LG 65', u'UserAge': u'52', u'RetailerOnSale': u'Yes', u'ManufacturerName': u'LG', u'ReviewRating': u'4', u'UserGender': u'Female', u'RetailerZip': u'60603', u'_id': ObjectId('592f27286cb48027a4cbf4d6'), u'RetailerCity': u'Chicago'}\n",
      "{u'RetailerName': u'Bestbuy', u'UserOccupation': u'Programmer', u'ProductPrice': u'1799', u'RetailerState': u'FL', u'ManufacturerRebate': u'Yes', u'ReviewDate': u'11/25/2014', u'ReviewText': u' The picture is great', u'UserID': u'eganz60', u'ProductCategory': u'TV', u'ProductModelName': u'Samsung TV 65 Curved', u'UserAge': u'52', u'RetailerOnSale': u'Yes', u'ManufacturerName': u'Samsung', u'ReviewRating': u'2', u'UserGender': u'Male', u'RetailerZip': u'33129', u'_id': ObjectId('592f27286cb48027a4cbf4d7'), u'RetailerCity': u'Miami'}\n",
      "{u'RetailerName': u'Walmart', u'UserOccupation': u'Secratary', u'ProductPrice': u'849', u'RetailerState': u'FL', u'ManufacturerRebate': u'Yes', u'ReviewDate': u'10/14/2014', u'ReviewText': u'I am happy after exchanging it for a new one for a small difference in pay.', u'UserID': u'ihtmi3', u'ProductCategory': u'TV', u'ProductModelName': u'LG 65', u'UserAge': u'52', u'RetailerOnSale': u'Yes', u'ManufacturerName': u'LG', u'ReviewRating': u'5', u'UserGender': u'Female', u'RetailerZip': u'33130', u'_id': ObjectId('592f27286cb48027a4cbf4e0'), u'RetailerCity': u'Miami'}\n",
      "{u'RetailerName': u'hhgregg', u'UserOccupation': u'Programmer', u'ProductPrice': u'376', u'RetailerState': u'CA', u'ManufacturerRebate': u'No', u'ReviewDate': u'06/10/14', u'ReviewText': u'This computer is nice and fast. I highly recommend this computer.', u'UserID': u'taxue49', u'ProductCategory': u'Laptop', u'ProductModelName': u'HP PAVALION  15.6', u'UserAge': u'52', u'RetailerOnSale': u'No', u'ManufacturerName': u'HP', u'ReviewRating': u'5', u'UserGender': u'Male', u'RetailerZip': u'94158', u'_id': ObjectId('592f27286cb48027a4cbf4f9'), u'RetailerCity': u'San Francisco'}\n",
      "{u'RetailerName': u'Frys', u'UserOccupation': u'Manager', u'ProductPrice': u'999', u'RetailerState': u'MA', u'ManufacturerRebate': u'No', u'ReviewDate': u'8/18/2012', u'ReviewText': u'The picture is so bright', u'UserID': u'becfe12', u'ProductCategory': u'TV', u'ProductModelName': u'LG 65', u'UserAge': u'52', u'RetailerOnSale': u'No', u'ManufacturerName': u'LG', u'ReviewRating': u'5', u'UserGender': u'Male', u'RetailerZip': u'2110', u'_id': ObjectId('592f27286cb48027a4cbf533'), u'RetailerCity': u'Boston'}\n",
      "{u'RetailerName': u'hhgregg', u'UserOccupation': u'Secratary', u'ProductPrice': u'328', u'RetailerState': u'IL', u'ManufacturerRebate': u'Yes', u'ReviewDate': u'12/27/2014', u'ReviewText': u'Quality of Dell has gone down.', u'UserID': u'dkctw40', u'ProductCategory': u'Laptop', u'ProductModelName': u'Dell Ispiron 15.6', u'UserAge': u'52', u'RetailerOnSale': u'Yes', u'ManufacturerName': u'Dell', u'ReviewRating': u'1', u'UserGender': u'Male', u'RetailerZip': u'60585', u'_id': ObjectId('592f27286cb48027a4cbf558'), u'RetailerCity': u'Naperville'}\n",
      "{u'RetailerName': u'hhgregg', u'UserOccupation': u'Manager', u'ProductPrice': u'298', u'RetailerState': u'IL', u'ManufacturerRebate': u'Yes', u'ReviewDate': u'8/21/2014', u'ReviewText': u'Great everyday computer with a lot of features for the price. Good deal too at $329.99.', u'UserID': u'jfunq43', u'ProductCategory': u'Laptop', u'ProductModelName': u'HP PAVALION  15.6', u'UserAge': u'52', u'RetailerOnSale': u'Yes', u'ManufacturerName': u'HP', u'ReviewRating': u'5', u'UserGender': u'Male', u'RetailerZip': u'60603', u'_id': ObjectId('592f27286cb48027a4cbf5c7'), u'RetailerCity': u'Chicago'}\n",
      "{u'RetailerName': u'Walmart', u'UserOccupation': u'Accountant', u'ProductPrice': u'319', u'RetailerState': u'IL', u'ManufacturerRebate': u'No', u'ReviewDate': u'12/14/2014', u'ReviewText': u'This computer does everything!!! Awesome hardware!', u'UserID': u'pfqbl50', u'ProductCategory': u'Laptop', u'ProductModelName': u'HP PAVALION  15.6', u'UserAge': u'52', u'RetailerOnSale': u'No', u'ManufacturerName': u'HP', u'ReviewRating': u'4', u'UserGender': u'Male', u'RetailerZip': u'60603', u'_id': ObjectId('592f27286cb48027a4cbf607'), u'RetailerCity': u'Chicago'}\n",
      "{u'RetailerName': u'hhgregg', u'UserOccupation': u'Unknown', u'ProductPrice': u'298', u'RetailerState': u'OH', u'ManufacturerRebate': u'Yes', u'ReviewDate': u'6/21/2014', u'ReviewText': u\"Great for someone that does not like to type a lot then the keyboard can be placed on the screen so don't have to look down. I love it!\", u'UserID': u'awqzz95', u'ProductCategory': u'Laptop', u'ProductModelName': u'HP PAVALION  15.6', u'UserAge': u'52', u'RetailerOnSale': u'Yes', u'ManufacturerName': u'HP', u'ReviewRating': u'5', u'UserGender': u'Female', u'RetailerZip': u'44114', u'_id': ObjectId('592f27286cb48027a4cbf608'), u'RetailerCity': u'Cleveland'}\n",
      "{u'RetailerName': u'Walmart', u'UserOccupation': u'Manager', u'ProductPrice': u'1100', u'RetailerState': u'IL', u'ManufacturerRebate': u'No', u'ReviewDate': u'7/21/2014', u'ReviewText': u\" I won't go into the picture quality or the 3D ability as most people love it for the basic functions of a 3D capable LED television. Unfortunately\", u'UserID': u'kbwoa29', u'ProductCategory': u'TV', u'ProductModelName': u'Samsung TV 60 LED', u'UserAge': u'52', u'RetailerOnSale': u'Yes', u'ManufacturerName': u'Samsung', u'ReviewRating': u'3', u'UserGender': u'Male', u'RetailerZip': u'60585', u'_id': ObjectId('592f27286cb48027a4cbf62c'), u'RetailerCity': u'Naperville'}\n",
      "{u'RetailerName': u'Walmart', u'UserOccupation': u'Student', u'ProductPrice': u'299', u'RetailerState': u'CA', u'ManufacturerRebate': u'Yes', u'ReviewDate': u'2/15/2015', u'ReviewText': u'No flaw. Just good as ever. Somewhat costly as there no much improvement from iPad Air 1', u'UserID': u'cdlpp69', u'ProductCategory': u'Tablet', u'ProductModelName': u'iPad Air', u'UserAge': u'52', u'RetailerOnSale': u'Yes', u'ManufacturerName': u'Apple', u'ReviewRating': u'5', u'UserGender': u'Male', u'RetailerZip': u'94158', u'_id': ObjectId('592f27286cb48027a4cbf64f'), u'RetailerCity': u'San Francisco'}\n",
      "{u'RetailerName': u'Bestbuy', u'UserOccupation': u'Accountant', u'ProductPrice': u'425', u'RetailerState': u'OH', u'ManufacturerRebate': u'No', u'ReviewDate': u'8/21/2014', u'ReviewText': u'Bought item as a gift. No regrets . Very lightweight', u'UserID': u'bxopy44', u'ProductCategory': u'Tablet', u'ProductModelName': u'iPad Air', u'UserAge': u'52', u'RetailerOnSale': u'Yes', u'ManufacturerName': u'Apple', u'ReviewRating': u'5', u'UserGender': u'Female', u'RetailerZip': u'44114', u'_id': ObjectId('592f27286cb48027a4cbf66c'), u'RetailerCity': u'Cleveland'}\n",
      "{u'RetailerName': u'Target', u'UserOccupation': u'Secratary', u'ProductPrice': u'390', u'RetailerState': u'MA', u'ManufacturerRebate': u'No', u'ReviewDate': u'11/10/14', u'ReviewText': u\"Love it. It has things on the s4 that the S2 did not have and I'm learning them quickly.\", u'UserID': u'qfppb44', u'ProductCategory': u'Smart Phone', u'ProductModelName': u'Galaxy S4', u'UserAge': u'52', u'RetailerOnSale': u'Yes', u'ManufacturerName': u'Samsung', u'ReviewRating': u'4', u'UserGender': u'Male', u'RetailerZip': u'2109', u'_id': ObjectId('592f27286cb48027a4cbf6b0'), u'RetailerCity': u'Boston'}\n",
      "{u'RetailerName': u'hhgregg', u'UserOccupation': u'Student', u'ProductPrice': u'969', u'RetailerState': u'CA', u'ManufacturerRebate': u'No', u'ReviewDate': u'08/01/14', u'ReviewText': u' Does what I need it to do', u'UserID': u'kchij12', u'ProductCategory': u'Tablet', u'ProductModelName': u'Surface 3', u'UserAge': u'52', u'RetailerOnSale': u'No', u'ManufacturerName': u'Microsoft', u'ReviewRating': u'5', u'UserGender': u'Male', u'RetailerZip': u'90012', u'_id': ObjectId('592f27286cb48027a4cbf726'), u'RetailerCity': u'Los Angeles'}\n",
      "{u'RetailerName': u'Target', u'UserOccupation': u'Accountant', u'ProductPrice': u'999', u'RetailerState': u'CA', u'ManufacturerRebate': u'No', u'ReviewDate': u'8/21/2014', u'ReviewText': u' Very good TV', u'UserID': u'cbbru6', u'ProductCategory': u'TV', u'ProductModelName': u'LG 65', u'UserAge': u'52', u'RetailerOnSale': u'No', u'ManufacturerName': u'LG', u'ReviewRating': u'4', u'UserGender': u'Male', u'RetailerZip': u'94158', u'_id': ObjectId('592f27286cb48027a4cbf730'), u'RetailerCity': u'San Francisco'}\n",
      "{u'RetailerName': u'Target', u'UserOccupation': u'Programmer', u'ProductPrice': u'849', u'RetailerState': u'MA', u'ManufacturerRebate': u'Yes', u'ReviewDate': u'9/21/2014', u'ReviewText': u'Top quality at a bargain price.', u'UserID': u'hqhir37', u'ProductCategory': u'TV', u'ProductModelName': u'LG 65', u'UserAge': u'52', u'RetailerOnSale': u'Yes', u'ManufacturerName': u'LG', u'ReviewRating': u'5', u'UserGender': u'Male', u'RetailerZip': u'2110', u'_id': ObjectId('592f27286cb48027a4cbf733'), u'RetailerCity': u'Boston'}\n",
      "{u'RetailerName': u'hhgregg', u'UserOccupation': u'Secratary', u'ProductPrice': u'328', u'RetailerState': u'IL', u'ManufacturerRebate': u'Yes', u'ReviewDate': u'12/20/2014', u'ReviewText': u'I expected a good solid product from Dell. This computer disappointed me.', u'UserID': u'nvrjm46', u'ProductCategory': u'Laptop', u'ProductModelName': u'Dell Ispiron 15.6', u'UserAge': u'52', u'RetailerOnSale': u'Yes', u'ManufacturerName': u'Dell', u'ReviewRating': u'2', u'UserGender': u'Male', u'RetailerZip': u'60616', u'_id': ObjectId('592f27286cb48027a4cbf737'), u'RetailerCity': u'Chicago'}\n",
      "{u'RetailerName': u'Bestbuy', u'UserOccupation': u'Secratary', u'ProductPrice': u'499', u'RetailerState': u'FL', u'ManufacturerRebate': u'No', u'ReviewDate': u'12/20/2014', u'ReviewText': u'I had to exchange it the first week and the new one has browser issues. My iPad 2 was considerably more reliable.', u'UserID': u'mvlak63', u'ProductCategory': u'Tablet', u'ProductModelName': u'iPad Air', u'UserAge': u'52', u'RetailerOnSale': u'No', u'ManufacturerName': u'Apple', u'ReviewRating': u'2', u'UserGender': u'Male', u'RetailerZip': u'33129', u'_id': ObjectId('592f27286cb48027a4cbf743'), u'RetailerCity': u'Miami'}\n",
      "{u'RetailerName': u'Frys', u'UserOccupation': u'Secratary', u'ProductPrice': u'2199', u'RetailerState': u'FL', u'ManufacturerRebate': u'No', u'ReviewDate': u'10/25/2014', u'ReviewText': u' Great Picture', u'UserID': u'xizpd10', u'ProductCategory': u'TV', u'ProductModelName': u'Samsung TV 65 Curved', u'UserAge': u'52', u'RetailerOnSale': u'No', u'ManufacturerName': u'Samsung', u'ReviewRating': u'4', u'UserGender': u'Male', u'RetailerZip': u'33129', u'_id': ObjectId('592f27286cb48027a4cbf74a'), u'RetailerCity': u'Miami'}\n",
      "{u'RetailerName': u'Walmart', u'UserOccupation': u'Secratary', u'ProductPrice': u'299', u'RetailerState': u'IL', u'ManufacturerRebate': u'No', u'ReviewDate': u'08/01/14', u'ReviewText': u\" This tablet is the perfect size for anyone that is mobile. Great for a purse. I've used it many times on a plane\", u'UserID': u'uyidq0', u'ProductCategory': u'Tablet', u'ProductModelName': u'Samsung Tab 4', u'UserAge': u'52', u'RetailerOnSale': u'Yes', u'ManufacturerName': u'Samsung', u'ReviewRating': u'5', u'UserGender': u'Male', u'RetailerZip': u'60585', u'_id': ObjectId('592f27286cb48027a4cbf74d'), u'RetailerCity': u'Naperville'}\n",
      "{u'RetailerName': u'Frys', u'UserOccupation': u'Unknown', u'ProductPrice': u'999', u'RetailerState': u'OH', u'ManufacturerRebate': u'No', u'ReviewDate': u'12/27/2014', u'ReviewText': u'TV works fine and has all of the basic features.', u'UserID': u'ywoau50', u'ProductCategory': u'TV', u'ProductModelName': u'LG 65', u'UserAge': u'52', u'RetailerOnSale': u'No', u'ManufacturerName': u'LG', u'ReviewRating': u'4', u'UserGender': u'Male', u'RetailerZip': u'44114', u'_id': ObjectId('592f27286cb48027a4cbf756'), u'RetailerCity': u'Cleveland'}\n",
      "{u'RetailerName': u'Frys', u'UserOccupation': u'Secratary', u'ProductPrice': u'1799', u'RetailerState': u'IL', u'ManufacturerRebate': u'Yes', u'ReviewDate': u'10/10/13', u'ReviewText': u'This is a fine looking tv. ', u'UserID': u'xismz59', u'ProductCategory': u'TV', u'ProductModelName': u'Samsung TV 65 Curved', u'UserAge': u'52', u'RetailerOnSale': u'Yes', u'ManufacturerName': u'Samsung', u'ReviewRating': u'2', u'UserGender': u'Male', u'RetailerZip': u'60603', u'_id': ObjectId('592f27286cb48027a4cbf782'), u'RetailerCity': u'Chicago'}\n",
      "{u'RetailerName': u'Target', u'UserOccupation': u'Student', u'ProductPrice': u'299', u'RetailerState': u'FL', u'ManufacturerRebate': u'Yes', u'ReviewDate': u'11/29/2014', u'ReviewText': u'Safari could not start because server would stop responding.', u'UserID': u'cukoa49', u'ProductCategory': u'Tablet', u'ProductModelName': u'iPad Air', u'UserAge': u'52', u'RetailerOnSale': u'Yes', u'ManufacturerName': u'Apple', u'ReviewRating': u'2', u'UserGender': u'Male', u'RetailerZip': u'33130', u'_id': ObjectId('592f27286cb48027a4cbf797'), u'RetailerCity': u'Miami'}\n",
      "{u'RetailerName': u'Frys', u'UserOccupation': u'Manager', u'ProductPrice': u'999', u'RetailerState': u'CA', u'ManufacturerRebate': u'No', u'ReviewDate': u'2/14/2014', u'ReviewText': u'I looked at several TVs before making this purchase.', u'UserID': u'xbisw93', u'ProductCategory': u'TV', u'ProductModelName': u'LG 65', u'UserAge': u'52', u'RetailerOnSale': u'No', u'ManufacturerName': u'LG', u'ReviewRating': u'5', u'UserGender': u'Female', u'RetailerZip': u'94158', u'_id': ObjectId('592f27286cb48027a4cbf82a'), u'RetailerCity': u'San Francisco'}\n",
      "{u'RetailerName': u'Frys', u'UserOccupation': u'Student', u'ProductPrice': u'925', u'RetailerState': u'CA', u'ManufacturerRebate': u'No', u'ReviewDate': u'11/29/2014', u'ReviewText': u'I was looking for a light weight powerful computer that I can travel with.', u'UserID': u'lkrea21', u'ProductCategory': u'Tablet', u'ProductModelName': u'Surface 3', u'UserAge': u'52', u'RetailerOnSale': u'No', u'ManufacturerName': u'Microsoft', u'ReviewRating': u'4', u'UserGender': u'Male', u'RetailerZip': u'90012', u'_id': ObjectId('592f27286cb48027a4cbf84b'), u'RetailerCity': u'Los Angeles'}\n",
      "{u'RetailerName': u'hhgregg', u'UserOccupation': u'Secratary', u'ProductPrice': u'499', u'RetailerState': u'CA', u'ManufacturerRebate': u'No', u'ReviewDate': u'04/01/15', u'ReviewText': u'This one in way lighter than the. Other iPads faster and easier too use.', u'UserID': u'hdfen43', u'ProductCategory': u'Tablet', u'ProductModelName': u'iPad Air', u'UserAge': u'52', u'RetailerOnSale': u'No', u'ManufacturerName': u'Apple', u'ReviewRating': u'5', u'UserGender': u'Female', u'RetailerZip': u'94158', u'_id': ObjectId('592f27286cb48027a4cbf87f'), u'RetailerCity': u'San Francisco'}\n",
      "{u'RetailerName': u'hhgregg', u'UserOccupation': u'Programmer', u'ProductPrice': u'499', u'RetailerState': u'CA', u'ManufacturerRebate': u'No', u'ReviewDate': u'2/29/2015', u'ReviewText': u'Apple hinders the product from being a great tablet.', u'UserID': u'pwdtb62', u'ProductCategory': u'Tablet', u'ProductModelName': u'iPad Air', u'UserAge': u'52', u'RetailerOnSale': u'No', u'ManufacturerName': u'Apple', u'ReviewRating': u'2', u'UserGender': u'Male', u'RetailerZip': u'90033', u'_id': ObjectId('592f27286cb48027a4cbf899'), u'RetailerCity': u'Los Angeles'}\n",
      "{u'RetailerName': u'Target', u'UserOccupation': u'Accountant', u'ProductPrice': u'1100', u'RetailerState': u'MA', u'ManufacturerRebate': u'No', u'ReviewDate': u'10/28/2014', u'ReviewText': u' Design is nice', u'UserID': u'qtlbd3', u'ProductCategory': u'TV', u'ProductModelName': u'Samsung TV 60 LED', u'UserAge': u'52', u'RetailerOnSale': u'Yes', u'ManufacturerName': u'Samsung', u'ReviewRating': u'4', u'UserGender': u'Male', u'RetailerZip': u'2110', u'_id': ObjectId('592f27286cb48027a4cbf8b7'), u'RetailerCity': u'Boston'}\n",
      "{u'RetailerName': u'Frys', u'UserOccupation': u'Student', u'ProductPrice': u'2199', u'RetailerState': u'IL', u'ManufacturerRebate': u'No', u'ReviewDate': u'10/28/2014', u'ReviewText': u'Great television but required an upgrade from DIRECTV to get true 4K Ultra HD.', u'UserID': u'ikwqq28', u'ProductCategory': u'TV', u'ProductModelName': u'Samsung TV 65 Curved', u'UserAge': u'52', u'RetailerOnSale': u'No', u'ManufacturerName': u'Samsung', u'ReviewRating': u'4', u'UserGender': u'Male', u'RetailerZip': u'60603', u'_id': ObjectId('592f27286cb48027a4cbf914'), u'RetailerCity': u'Chicago'}\n",
      "{u'RetailerName': u'Bestbuy', u'UserOccupation': u'Programmer', u'ProductPrice': u'849', u'RetailerState': u'OH', u'ManufacturerRebate': u'Yes', u'ReviewDate': u'8/21/2014', u'ReviewText': u'This is a wonderful addition to our living space. ', u'UserID': u'oaksv27', u'ProductCategory': u'TV', u'ProductModelName': u'LG 65', u'UserAge': u'53', u'RetailerOnSale': u'Yes', u'ManufacturerName': u'LG', u'ReviewRating': u'5', u'UserGender': u'Male', u'RetailerZip': u'44114', u'_id': ObjectId('592f27286cb48027a4cbf171'), u'RetailerCity': u'Cleveland'}\n",
      "{u'RetailerName': u'Frys', u'UserOccupation': u'Secratary', u'ProductPrice': u'999', u'RetailerState': u'OH', u'ManufacturerRebate': u'No', u'ReviewDate': u'5/23/2014', u'ReviewText': u'This has a great picture and for the price it was an excellent purchase!', u'UserID': u'juwcl29', u'ProductCategory': u'TV', u'ProductModelName': u'LG 65', u'UserAge': u'53', u'RetailerOnSale': u'No', u'ManufacturerName': u'LG', u'ReviewRating': u'5', u'UserGender': u'Male', u'RetailerZip': u'44114', u'_id': ObjectId('592f27286cb48027a4cbf1ac'), u'RetailerCity': u'Cleveland'}\n",
      "{u'RetailerName': u'Frys', u'UserOccupation': u'Accountant', u'ProductPrice': u'299', u'RetailerState': u'CA', u'ManufacturerRebate': u'Yes', u'ReviewDate': u'5/24/2014', u'ReviewText': u'Upgraded from iPad first generation! Wow! Totally worth the upgrade! Super fast and plentiful space for apps!', u'UserID': u'fhilw17', u'ProductCategory': u'Tablet', u'ProductModelName': u'iPad Air', u'UserAge': u'53', u'RetailerOnSale': u'Yes', u'ManufacturerName': u'Apple', u'ReviewRating': u'5', u'UserGender': u'Male', u'RetailerZip': u'90033', u'_id': ObjectId('592f27286cb48027a4cbf1d6'), u'RetailerCity': u'Los Angeles'}\n",
      "{u'RetailerName': u'Walmart', u'UserOccupation': u'Programmer', u'ProductPrice': u'999', u'RetailerState': u'MA', u'ManufacturerRebate': u'No', u'ReviewDate': u'12/05/14', u'ReviewText': u'It will Not play video files off the usb', u'UserID': u'iqtpr88', u'ProductCategory': u'TV', u'ProductModelName': u'LG 65', u'UserAge': u'53', u'RetailerOnSale': u'No', u'ManufacturerName': u'LG', u'ReviewRating': u'3', u'UserGender': u'Male', u'RetailerZip': u'2110', u'_id': ObjectId('592f27286cb48027a4cbf20e'), u'RetailerCity': u'Boston'}\n",
      "{u'RetailerName': u'hhgregg', u'UserOccupation': u'Programmer', u'ProductPrice': u'299', u'RetailerState': u'MA', u'ManufacturerRebate': u'No', u'ReviewDate': u'4/19/2014', u'ReviewText': u'Seems to have better reception than the 5 series and longer battery life', u'UserID': u'kbmnn41', u'ProductCategory': u'Smart Phone', u'ProductModelName': u'iPhone 6', u'UserAge': u'53', u'RetailerOnSale': u'Yes', u'ManufacturerName': u'Apple', u'ReviewRating': u'5', u'UserGender': u'Male', u'RetailerZip': u'2110', u'_id': ObjectId('592f27286cb48027a4cbf215'), u'RetailerCity': u'Boston'}\n",
      "{u'RetailerName': u'hhgregg', u'UserOccupation': u'Accountant', u'ProductPrice': u'1100', u'RetailerState': u'CA', u'ManufacturerRebate': u'No', u'ReviewDate': u'3/24/2014', u'ReviewText': u'The reason I am giving it a 4 is because of te price match that Bestbuy does... Or doesnt... So if you find it cheaper on this pre-approved list then great.', u'UserID': u'tzyvn44', u'ProductCategory': u'TV', u'ProductModelName': u'Samsung TV 60 LED', u'UserAge': u'53', u'RetailerOnSale': u'Yes', u'ManufacturerName': u'Samsung', u'ReviewRating': u'4', u'UserGender': u'Male', u'RetailerZip': u'94158', u'_id': ObjectId('592f27286cb48027a4cbf241'), u'RetailerCity': u'San Francisco'}\n",
      "{u'RetailerName': u'Bestbuy', u'UserOccupation': u'Programmer', u'ProductPrice': u'499', u'RetailerState': u'CA', u'ManufacturerRebate': u'No', u'ReviewDate': u'11/29/2014', u'ReviewText': u'This is a great computer for the value.', u'UserID': u'xaaml69', u'ProductCategory': u'Laptop', u'ProductModelName': u'Dell Ispiron 15.6', u'UserAge': u'53', u'RetailerOnSale': u'No', u'ManufacturerName': u'Dell', u'ReviewRating': u'4', u'UserGender': u'Male', u'RetailerZip': u'90012', u'_id': ObjectId('592f27286cb48027a4cbf299'), u'RetailerCity': u'Los Angeles'}\n",
      "{u'RetailerName': u'Frys', u'UserOccupation': u'Programmer', u'ProductPrice': u'299', u'RetailerState': u'FL', u'ManufacturerRebate': u'No', u'ReviewDate': u'10/25/2014', u'ReviewText': u'I like this one playing games and over all looks better and wroth of money', u'UserID': u'pxeka52', u'ProductCategory': u'Tablet', u'ProductModelName': u'Samsung Tab 4', u'UserAge': u'53', u'RetailerOnSale': u'Yes', u'ManufacturerName': u'Samsung', u'ReviewRating': u'4', u'UserGender': u'Female', u'RetailerZip': u'33129', u'_id': ObjectId('592f27286cb48027a4cbf2b4'), u'RetailerCity': u'Miami'}\n",
      "{u'RetailerName': u'Walmart', u'UserOccupation': u'Programmer', u'ProductPrice': u'499', u'RetailerState': u'IL', u'ManufacturerRebate': u'No', u'ReviewDate': u'03/10/15', u'ReviewText': u\"I got this for my wife and she love it. I would recommend you'll love it.\", u'UserID': u'qrucp30', u'ProductCategory': u'Laptop', u'ProductModelName': u'Dell Ispiron 15.6', u'UserAge': u'53', u'RetailerOnSale': u'No', u'ManufacturerName': u'Dell', u'ReviewRating': u'5', u'UserGender': u'Male', u'RetailerZip': u'60603', u'_id': ObjectId('592f27286cb48027a4cbf2bc'), u'RetailerCity': u'Chicago'}\n",
      "{u'RetailerName': u'Bestbuy', u'UserOccupation': u'Secratary', u'ProductPrice': u'589', u'RetailerState': u'IL', u'ManufacturerRebate': u'No', u'ReviewDate': u'10/08/14', u'ReviewText': u'So far so good! Apple products have been good to me so far.', u'UserID': u'dlftj93', u'ProductCategory': u'Smart Phone', u'ProductModelName': u'iPhone 6', u'UserAge': u'53', u'RetailerOnSale': u'No', u'ManufacturerName': u'Apple', u'ReviewRating': u'5', u'UserGender': u'Male', u'RetailerZip': u'60616', u'_id': ObjectId('592f27286cb48027a4cbf2e8'), u'RetailerCity': u'Chicago'}\n",
      "{u'RetailerName': u'Frys', u'UserOccupation': u'Secratary', u'ProductPrice': u'1799', u'RetailerState': u'CA', u'ManufacturerRebate': u'Yes', u'ReviewDate': u'04/01/15', u'ReviewText': u'We enjoy the TV programs and especially the sporting events.', u'UserID': u'hwgsy22', u'ProductCategory': u'TV', u'ProductModelName': u'Samsung TV 65 Curved', u'UserAge': u'53', u'RetailerOnSale': u'Yes', u'ManufacturerName': u'Samsung', u'ReviewRating': u'5', u'UserGender': u'Female', u'RetailerZip': u'90033', u'_id': ObjectId('592f27286cb48027a4cbf2f0'), u'RetailerCity': u'Los Angeles'}\n",
      "{u'RetailerName': u'Target', u'UserOccupation': u'Accountant', u'ProductPrice': u'899', u'RetailerState': u'MA', u'ManufacturerRebate': u'No', u'ReviewDate': u'1/15/2012', u'ReviewText': u'The unit really could use one more USB port and another video connection option.', u'UserID': u'sfupc49', u'ProductCategory': u'Tablet', u'ProductModelName': u'Surface 3', u'UserAge': u'53', u'RetailerOnSale': u'Yes', u'ManufacturerName': u'Microsoft', u'ReviewRating': u'3', u'UserGender': u'Male', u'RetailerZip': u'2110', u'_id': ObjectId('592f27286cb48027a4cbf351'), u'RetailerCity': u'Boston'}\n",
      "{u'RetailerName': u'Frys', u'UserOccupation': u'Programmer', u'ProductPrice': u'299', u'RetailerState': u'CA', u'ManufacturerRebate': u'No', u'ReviewDate': u'5/15/2013', u'ReviewText': u' I bought this for my wife. She was not all for having a smart phone. After a month of using it', u'UserID': u'pjuaf67', u'ProductCategory': u'Smart Phone', u'ProductModelName': u'iPhone 6', u'UserAge': u'53', u'RetailerOnSale': u'Yes', u'ManufacturerName': u'Apple', u'ReviewRating': u'5', u'UserGender': u'Female', u'RetailerZip': u'90033', u'_id': ObjectId('592f27286cb48027a4cbf37b'), u'RetailerCity': u'Los Angeles'}\n",
      "{u'RetailerName': u'Bestbuy', u'UserOccupation': u'Accountant', u'ProductPrice': u'390', u'RetailerState': u'GA', u'ManufacturerRebate': u'No', u'ReviewDate': u'08/10/14', u'ReviewText': u'The young nan was very helpeful and knowledgeable. Will definitely recommend', u'UserID': u'ctbfn38', u'ProductCategory': u'Smart Phone', u'ProductModelName': u'Galaxy S4', u'UserAge': u'53', u'RetailerOnSale': u'Yes', u'ManufacturerName': u'Samsung', u'ReviewRating': u'5', u'UserGender': u'Male', u'RetailerZip': u'30303', u'_id': ObjectId('592f27286cb48027a4cbf3af'), u'RetailerCity': u'Atlanta'}\n",
      "{u'RetailerName': u'Bestbuy', u'UserOccupation': u'Student', u'ProductPrice': u'1799', u'RetailerState': u'CA', u'ManufacturerRebate': u'Yes', u'ReviewDate': u'06/10/14', u'ReviewText': u\" It's a great television\", u'UserID': u'bmwno37', u'ProductCategory': u'TV', u'ProductModelName': u'Samsung TV 65 Curved', u'UserAge': u'53', u'RetailerOnSale': u'Yes', u'ManufacturerName': u'Samsung', u'ReviewRating': u'5', u'UserGender': u'Male', u'RetailerZip': u'90012', u'_id': ObjectId('592f27286cb48027a4cbf3bc'), u'RetailerCity': u'Los Angeles'}\n",
      "{u'RetailerName': u'Walmart', u'UserOccupation': u'Programmer', u'ProductPrice': u'1100', u'RetailerState': u'IL', u'ManufacturerRebate': u'No', u'ReviewDate': u'9/17/2014', u'ReviewText': u'The Tv has been great. upgraded from a 47 inch samsung and noticed an improvement in the color enrichment and the detail in the picture. Game of Thrones looks even better now', u'UserID': u'hmxdm85', u'ProductCategory': u'TV', u'ProductModelName': u'Samsung TV 60 LED', u'UserAge': u'53', u'RetailerOnSale': u'Yes', u'ManufacturerName': u'Samsung', u'ReviewRating': u'5', u'UserGender': u'Male', u'RetailerZip': u'60585', u'_id': ObjectId('592f27286cb48027a4cbf437'), u'RetailerCity': u'Naperville'}\n",
      "{u'RetailerName': u'Walmart', u'UserOccupation': u'Secratary', u'ProductPrice': u'899', u'RetailerState': u'CA', u'ManufacturerRebate': u'No', u'ReviewDate': u'12/27/2014', u'ReviewText': u\"It's easy to carry around and the add-on keyboard makes it great to take to meetings and while traveling.\", u'UserID': u'eockw69', u'ProductCategory': u'Tablet', u'ProductModelName': u'Surface 3', u'UserAge': u'53', u'RetailerOnSale': u'Yes', u'ManufacturerName': u'Microsoft', u'ReviewRating': u'5', u'UserGender': u'Male', u'RetailerZip': u'90012', u'_id': ObjectId('592f27286cb48027a4cbf46f'), u'RetailerCity': u'Los Angeles'}\n",
      "{u'RetailerName': u'Target', u'UserOccupation': u'Manager', u'ProductPrice': u'960', u'RetailerState': u'CA', u'ManufacturerRebate': u'No', u'ReviewDate': u'12/27/2014', u'ReviewText': u'Great hardware but the software need some work the bugs in the take away from the level of refinement associated with Apple products .', u'UserID': u'goyzk65', u'ProductCategory': u'Smart Phone', u'ProductModelName': u'iPhone 6', u'UserAge': u'53', u'RetailerOnSale': u'No', u'ManufacturerName': u'Apple', u'ReviewRating': u'4', u'UserGender': u'Male', u'RetailerZip': u'90012', u'_id': ObjectId('592f27286cb48027a4cbf4a5'), u'RetailerCity': u'Los Angeles'}\n",
      "{u'RetailerName': u'Walmart', u'UserOccupation': u'Manager', u'ProductPrice': u'319', u'RetailerState': u'CA', u'ManufacturerRebate': u'No', u'ReviewDate': u'6/25/2014', u'ReviewText': u'Good price for what I needed. Super slim. I bought this laptop for some business and home use. Geek squad set it up for me the same day!', u'UserID': u'liqww68', u'ProductCategory': u'Laptop', u'ProductModelName': u'HP PAVALION  15.6', u'UserAge': u'53', u'RetailerOnSale': u'No', u'ManufacturerName': u'HP', u'ReviewRating': u'3', u'UserGender': u'Male', u'RetailerZip': u'94102', u'_id': ObjectId('592f27286cb48027a4cbf4be'), u'RetailerCity': u'San Francisco'}\n",
      "{u'RetailerName': u'Bestbuy', u'UserOccupation': u'Unknown', u'ProductPrice': u'960', u'RetailerState': u'IL', u'ManufacturerRebate': u'No', u'ReviewDate': u'6/25/2014', u'ReviewText': u\"I've always been a fan of Apple and this phone keeps on carrying the torch. Keep up the good work Apple!\", u'UserID': u'zlzzw23', u'ProductCategory': u'Smart Phone', u'ProductModelName': u'iPhone 6', u'UserAge': u'53', u'RetailerOnSale': u'No', u'ManufacturerName': u'Apple', u'ReviewRating': u'5', u'UserGender': u'Male', u'RetailerZip': u'60603', u'_id': ObjectId('592f27286cb48027a4cbf4e7'), u'RetailerCity': u'Chicago'}\n",
      "{u'RetailerName': u'Walmart', u'UserOccupation': u'Student', u'ProductPrice': u'299', u'RetailerState': u'CA', u'ManufacturerRebate': u'No', u'ReviewDate': u'8/18/2014', u'ReviewText': u' I have spent 11 hours on-line with the techs', u'UserID': u'eyauw76', u'ProductCategory': u'Tablet', u'ProductModelName': u'Samsung Tab 4', u'UserAge': u'53', u'RetailerOnSale': u'Yes', u'ManufacturerName': u'Samsung', u'ReviewRating': u'2', u'UserGender': u'Male', u'RetailerZip': u'94158', u'_id': ObjectId('592f27286cb48027a4cbf545'), u'RetailerCity': u'San Francisco'}\n",
      "{u'RetailerName': u'Bestbuy', u'UserOccupation': u'Programmer', u'ProductPrice': u'299', u'RetailerState': u'CA', u'ManufacturerRebate': u'No', u'ReviewDate': u'12/10/14', u'ReviewText': u'Touchscreen is awesome. Fast and lightweight. Perfect for work on the go.', u'UserID': u'wkhcw45', u'ProductCategory': u'Laptop', u'ProductModelName': u'HP PAVALION  15.6', u'UserAge': u'53', u'RetailerOnSale': u'Yes', u'ManufacturerName': u'HP', u'ReviewRating': u'5', u'UserGender': u'Female', u'RetailerZip': u'94102', u'_id': ObjectId('592f27286cb48027a4cbf562'), u'RetailerCity': u'San Francisco'}\n",
      "{u'RetailerName': u'Frys', u'UserOccupation': u'Programmer', u'ProductPrice': u'849', u'RetailerState': u'IL', u'ManufacturerRebate': u'Yes', u'ReviewDate': u'6/18/2014', u'ReviewText': u\"The Tv is great for the money and the MCI 480 is pretty good but the pictures isn't is as bright as the Samsung. \", u'UserID': u'hpalo72', u'ProductCategory': u'TV', u'ProductModelName': u'LG 65', u'UserAge': u'53', u'RetailerOnSale': u'Yes', u'ManufacturerName': u'LG', u'ReviewRating': u'4', u'UserGender': u'Male', u'RetailerZip': u'60585', u'_id': ObjectId('592f27286cb48027a4cbf5a4'), u'RetailerCity': u'Naperville'}\n",
      "{u'RetailerName': u'Walmart', u'UserOccupation': u'Student', u'ProductPrice': u'402', u'RetailerState': u'CA', u'ManufacturerRebate': u'No', u'ReviewDate': u'2/15/2014', u'ReviewText': u' Love this phone! User friendliness ', u'UserID': u'hxfmb67', u'ProductCategory': u'Smart Phone', u'ProductModelName': u'Galaxy S4', u'UserAge': u'53', u'RetailerOnSale': u'No', u'ManufacturerName': u'Samsung', u'ReviewRating': u'5', u'UserGender': u'Male', u'RetailerZip': u'90033', u'_id': ObjectId('592f27286cb48027a4cbf5ac'), u'RetailerCity': u'Los Angeles'}\n",
      "{u'RetailerName': u'hhgregg', u'UserOccupation': u'Manager', u'ProductPrice': u'376', u'RetailerState': u'IL', u'ManufacturerRebate': u'No', u'ReviewDate': u'10/25/2014', u'ReviewText': u' The speed of the computer is nice and runs smooth', u'UserID': u'olxsy69', u'ProductCategory': u'Laptop', u'ProductModelName': u'HP PAVALION  15.6', u'UserAge': u'53', u'RetailerOnSale': u'No', u'ManufacturerName': u'HP', u'ReviewRating': u'5', u'UserGender': u'Male', u'RetailerZip': u'60585', u'_id': ObjectId('592f27286cb48027a4cbf5d7'), u'RetailerCity': u'Naperville'}\n",
      "{u'RetailerName': u'Bestbuy', u'UserOccupation': u'Secratary', u'ProductPrice': u'449', u'RetailerState': u'CA', u'ManufacturerRebate': u'No', u'ReviewDate': u'10/28/2014', u'ReviewText': u'I went in with the thought of just looking and seeing what might be available. ', u'UserID': u'hzmze94', u'ProductCategory': u'Laptop', u'ProductModelName': u'Dell Ispiron 15.6', u'UserAge': u'53', u'RetailerOnSale': u'Yes', u'ManufacturerName': u'Dell', u'ReviewRating': u'5', u'UserGender': u'Male', u'RetailerZip': u'90012', u'_id': ObjectId('592f27286cb48027a4cbf5e2'), u'RetailerCity': u'Los Angeles'}\n",
      "{u'RetailerName': u'Walmart', u'UserOccupation': u'Secratary', u'ProductPrice': u'402', u'RetailerState': u'CA', u'ManufacturerRebate': u'No', u'ReviewDate': u'4/29/2014', u'ReviewText': u'made the switch from iphone and couldnt be happier', u'UserID': u'cgntx21', u'ProductCategory': u'Smart Phone', u'ProductModelName': u'Galaxy S4', u'UserAge': u'53', u'RetailerOnSale': u'No', u'ManufacturerName': u'Samsung', u'ReviewRating': u'5', u'UserGender': u'Male', u'RetailerZip': u'90033', u'_id': ObjectId('592f27286cb48027a4cbf60c'), u'RetailerCity': u'Los Angeles'}\n",
      "{u'RetailerName': u'Bestbuy', u'UserOccupation': u'Manager', u'ProductPrice': u'1100', u'RetailerState': u'IL', u'ManufacturerRebate': u'No', u'ReviewDate': u'8/13/2014', u'ReviewText': u'Only downside.........wish it were bigger! BestBuy makes this easy', u'UserID': u'xojhh68', u'ProductCategory': u'TV', u'ProductModelName': u'Samsung TV 60 LED', u'UserAge': u'53', u'RetailerOnSale': u'Yes', u'ManufacturerName': u'Samsung', u'ReviewRating': u'4', u'UserGender': u'Male', u'RetailerZip': u'60616', u'_id': ObjectId('592f27286cb48027a4cbf64e'), u'RetailerCity': u'Chicago'}\n",
      "{u'RetailerName': u'Target', u'UserOccupation': u'Manager', u'ProductPrice': u'425', u'RetailerState': u'CA', u'ManufacturerRebate': u'No', u'ReviewDate': u'5/23/2014', u'ReviewText': u' I got this for my 92 yr old mother in law', u'UserID': u'dillc90', u'ProductCategory': u'Tablet', u'ProductModelName': u'iPad Air', u'UserAge': u'53', u'RetailerOnSale': u'Yes', u'ManufacturerName': u'Apple', u'ReviewRating': u'5', u'UserGender': u'Male', u'RetailerZip': u'90033', u'_id': ObjectId('592f27286cb48027a4cbf67a'), u'RetailerCity': u'Los Angeles'}\n",
      "{u'RetailerName': u'hhgregg', u'UserOccupation': u'Student', u'ProductPrice': u'1200', u'RetailerState': u'FL', u'ManufacturerRebate': u'No', u'ReviewDate': u'12/20/2014', u'ReviewText': u'My previous TV was a 1080P DLP. I knew the 4K picture would be a noticeable upgrade', u'UserID': u'djpuw22', u'ProductCategory': u'TV', u'ProductModelName': u'Samsung TV 60 LED', u'UserAge': u'53', u'RetailerOnSale': u'No', u'ManufacturerName': u'Samsung', u'ReviewRating': u'4', u'UserGender': u'Female', u'RetailerZip': u'33129', u'_id': ObjectId('592f27286cb48027a4cbf6a8'), u'RetailerCity': u'Miami'}\n",
      "{u'RetailerName': u'hhgregg', u'UserOccupation': u'Manager', u'ProductPrice': u'390', u'RetailerState': u'FL', u'ManufacturerRebate': u'No', u'ReviewDate': u'10/25/2014', u'ReviewText': u\"It came down to the HTC One and the Samsung Galaxy S4 and I'm glad I went with the S4.\", u'UserID': u'irqrm59', u'ProductCategory': u'Smart Phone', u'ProductModelName': u'Galaxy S4', u'UserAge': u'53', u'RetailerOnSale': u'Yes', u'ManufacturerName': u'Samsung', u'ReviewRating': u'4', u'UserGender': u'Male', u'RetailerZip': u'33130', u'_id': ObjectId('592f27286cb48027a4cbf6ce'), u'RetailerCity': u'Miami'}\n",
      "{u'RetailerName': u'Frys', u'UserOccupation': u'Programmer', u'ProductPrice': u'499', u'RetailerState': u'FL', u'ManufacturerRebate': u'No', u'ReviewDate': u'10/25/2014', u'ReviewText': u' Lighter', u'UserID': u'yrtof6', u'ProductCategory': u'Tablet', u'ProductModelName': u'iPad Air', u'UserAge': u'53', u'RetailerOnSale': u'No', u'ManufacturerName': u'Apple', u'ReviewRating': u'5', u'UserGender': u'Female', u'RetailerZip': u'33129', u'_id': ObjectId('592f27286cb48027a4cbf6e5'), u'RetailerCity': u'Miami'}\n",
      "{u'RetailerName': u'Frys', u'UserOccupation': u'Secratary', u'ProductPrice': u'849', u'RetailerState': u'IL', u'ManufacturerRebate': u'Yes', u'ReviewDate': u'5/19/2014', u'ReviewText': u'I decided to get this after being impresed with the floor model. ', u'UserID': u'islax44', u'ProductCategory': u'TV', u'ProductModelName': u'LG 65', u'UserAge': u'53', u'RetailerOnSale': u'Yes', u'ManufacturerName': u'LG', u'ReviewRating': u'4', u'UserGender': u'Female', u'RetailerZip': u'60585', u'_id': ObjectId('592f27286cb48027a4cbf6ee'), u'RetailerCity': u'Naperville'}\n",
      "{u'RetailerName': u'Walmart', u'UserOccupation': u'Student', u'ProductPrice': u'849', u'RetailerState': u'FL', u'ManufacturerRebate': u'Yes', u'ReviewDate': u'10/10/13', u'ReviewText': u' Pro-big screen', u'UserID': u'cdvsh17', u'ProductCategory': u'TV', u'ProductModelName': u'LG 65', u'UserAge': u'53', u'RetailerOnSale': u'Yes', u'ManufacturerName': u'LG', u'ReviewRating': u'2', u'UserGender': u'Male', u'RetailerZip': u'33130', u'_id': ObjectId('592f27286cb48027a4cbf776'), u'RetailerCity': u'Miami'}\n",
      "{u'RetailerName': u'Target', u'UserOccupation': u'Student', u'ProductPrice': u'849', u'RetailerState': u'IL', u'ManufacturerRebate': u'Yes', u'ReviewDate': u'9/19/2013', u'ReviewText': u'This is my first flat screen tv that is this big in size I must say I AM VERY HAPPY WITH MY PURCHASE', u'UserID': u'uvpvz9', u'ProductCategory': u'TV', u'ProductModelName': u'LG 65', u'UserAge': u'53', u'RetailerOnSale': u'Yes', u'ManufacturerName': u'LG', u'ReviewRating': u'5', u'UserGender': u'Male', u'RetailerZip': u'60616', u'_id': ObjectId('592f27286cb48027a4cbf791'), u'RetailerCity': u'Chicago'}\n",
      "{u'RetailerName': u'Target', u'UserOccupation': u'Secratary', u'ProductPrice': u'376', u'RetailerState': u'CA', u'ManufacturerRebate': u'No', u'ReviewDate': u'12/14/2014', u'ReviewText': u\"I am glad I spent the extra $100. it is a very nice computer with several nice features I wasn't looking for.\", u'UserID': u'typug2', u'ProductCategory': u'Laptop', u'ProductModelName': u'HP PAVALION  15.6', u'UserAge': u'53', u'RetailerOnSale': u'No', u'ManufacturerName': u'HP', u'ReviewRating': u'4', u'UserGender': u'Male', u'RetailerZip': u'94102', u'_id': ObjectId('592f27286cb48027a4cbf7b0'), u'RetailerCity': u'San Francisco'}\n",
      "{u'RetailerName': u'Frys', u'UserOccupation': u'Secratary', u'ProductPrice': u'499', u'RetailerState': u'CA', u'ManufacturerRebate': u'No', u'ReviewDate': u'8/21/2014', u'ReviewText': u'This is my first venture into Windows 8.1. Having the touch screen makes it so easy!', u'UserID': u'gbpsp37', u'ProductCategory': u'Laptop', u'ProductModelName': u'Dell Ispiron 15.6', u'UserAge': u'53', u'RetailerOnSale': u'No', u'ManufacturerName': u'Dell', u'ReviewRating': u'5', u'UserGender': u'Male', u'RetailerZip': u'94158', u'_id': ObjectId('592f27286cb48027a4cbf7c6'), u'RetailerCity': u'San Francisco'}\n",
      "{u'RetailerName': u'Target', u'UserOccupation': u'Programmer', u'ProductPrice': u'299', u'RetailerState': u'IL', u'ManufacturerRebate': u'No', u'ReviewDate': u'9/24/2014', u'ReviewText': u'It does everything she needs and has great battery life.Was able to buy it open box in perfect condition and got a nice discount.', u'UserID': u'jqtwo92', u'ProductCategory': u'Tablet', u'ProductModelName': u'Samsung Tab 4', u'UserAge': u'53', u'RetailerOnSale': u'Yes', u'ManufacturerName': u'Samsung', u'ReviewRating': u'5', u'UserGender': u'Male', u'RetailerZip': u'60603', u'_id': ObjectId('592f27286cb48027a4cbf7fe'), u'RetailerCity': u'Chicago'}\n",
      "{u'RetailerName': u'Walmart', u'UserOccupation': u'Programmer', u'ProductPrice': u'298', u'RetailerState': u'CA', u'ManufacturerRebate': u'Yes', u'ReviewDate': u'02/01/13', u'ReviewText': u' It is very easy to use', u'UserID': u'oywnn79', u'ProductCategory': u'Laptop', u'ProductModelName': u'HP PAVALION  15.6', u'UserAge': u'53', u'RetailerOnSale': u'Yes', u'ManufacturerName': u'HP', u'ReviewRating': u'5', u'UserGender': u'Male', u'RetailerZip': u'94102', u'_id': ObjectId('592f27286cb48027a4cbf807'), u'RetailerCity': u'San Francisco'}\n",
      "{u'RetailerName': u'hhgregg', u'UserOccupation': u'Manager', u'ProductPrice': u'402', u'RetailerState': u'FL', u'ManufacturerRebate': u'No', u'ReviewDate': u'2/29/2015', u'ReviewText': u'MY BOYFRIEND AND I BOTH PURCHASED THIS PHONE AND WE BOTH LOVE IT', u'UserID': u'mwouc9', u'ProductCategory': u'Smart Phone', u'ProductModelName': u'Galaxy S4', u'UserAge': u'53', u'RetailerOnSale': u'No', u'ManufacturerName': u'Samsung', u'ReviewRating': u'5', u'UserGender': u'Male', u'RetailerZip': u'33129', u'_id': ObjectId('592f27286cb48027a4cbf862'), u'RetailerCity': u'Miami'}\n",
      "{u'RetailerName': u'Frys', u'UserOccupation': u'Accountant', u'ProductPrice': u'1100', u'RetailerState': u'CA', u'ManufacturerRebate': u'No', u'ReviewDate': u'8/18/2014', u'ReviewText': u' Before this TV purchase we had a 6 year old 50 in Samsung that we loved', u'UserID': u'sdwvu96', u'ProductCategory': u'TV', u'ProductModelName': u'Samsung TV 60 LED', u'UserAge': u'53', u'RetailerOnSale': u'Yes', u'ManufacturerName': u'Samsung', u'ReviewRating': u'3', u'UserGender': u'Male', u'RetailerZip': u'94158', u'_id': ObjectId('592f27286cb48027a4cbf869'), u'RetailerCity': u'San Francisco'}\n",
      "{u'RetailerName': u'hhgregg', u'UserOccupation': u'Student', u'ProductPrice': u'499', u'RetailerState': u'IL', u'ManufacturerRebate': u'No', u'ReviewDate': u'2/15/2014', u'ReviewText': u' I am a college student and this laptop is really helpful and it works great for school work and stuff. Just wish the webcam had a better quality when taking pictures and such. But in overall', u'UserID': u'wyaxy38', u'ProductCategory': u'Laptop', u'ProductModelName': u'Dell Ispiron 15.6', u'UserAge': u'53', u'RetailerOnSale': u'No', u'ManufacturerName': u'Dell', u'ReviewRating': u'5', u'UserGender': u'Female', u'RetailerZip': u'60603', u'_id': ObjectId('592f27286cb48027a4cbf8ab'), u'RetailerCity': u'Chicago'}\n",
      "{u'RetailerName': u'hhgregg', u'UserOccupation': u'Unknown', u'ProductPrice': u'349', u'RetailerState': u'IL', u'ManufacturerRebate': u'No', u'ReviewDate': u'11/10/14', u'ReviewText': u'Great product . The core i5 fast for my purposes (no gaming). Quick boot up. Great touch screen. Priced right.', u'UserID': u'spocb38', u'ProductCategory': u'Laptop', u'ProductModelName': u'Dell Ispiron 15.6', u'UserAge': u'53', u'RetailerOnSale': u'Yes', u'ManufacturerName': u'Dell', u'ReviewRating': u'5', u'UserGender': u'Female', u'RetailerZip': u'60585', u'_id': ObjectId('592f27286cb48027a4cbf8f5'), u'RetailerCity': u'Naperville'}\n",
      "{u'RetailerName': u'Walmart', u'UserOccupation': u'Secratary', u'ProductPrice': u'2099', u'RetailerState': u'CA', u'ManufacturerRebate': u'No', u'ReviewDate': u'12/27/2014', u'ReviewText': u'cost me a fortune to update my smplifier', u'UserID': u'tkwqj81', u'ProductCategory': u'TV', u'ProductModelName': u'Samsung TV 65 Curved', u'UserAge': u'53', u'RetailerOnSale': u'Yes', u'ManufacturerName': u'Samsung', u'ReviewRating': u'5', u'UserGender': u'Female', u'RetailerZip': u'94158', u'_id': ObjectId('592f27286cb48027a4cbf904'), u'RetailerCity': u'San Francisco'}\n",
      "{u'RetailerName': u'Walmart', u'UserOccupation': u'Unknown', u'ProductPrice': u'499', u'RetailerState': u'IL', u'ManufacturerRebate': u'No', u'ReviewDate': u'6/18/2014', u'ReviewText': u'My old iPad was wearing out. Transfer from my old to the new was easy.', u'UserID': u'aqqbz54', u'ProductCategory': u'Tablet', u'ProductModelName': u'iPad Air', u'UserAge': u'54', u'RetailerOnSale': u'No', u'ManufacturerName': u'Apple', u'ReviewRating': u'4', u'UserGender': u'Female', u'RetailerZip': u'60585', u'_id': ObjectId('592f27286cb48027a4cbf190'), u'RetailerCity': u'Naperville'}\n",
      "{u'RetailerName': u'hhgregg', u'UserOccupation': u'Student', u'ProductPrice': u'269', u'RetailerState': u'OH', u'ManufacturerRebate': u'Yes', u'ReviewDate': u'8/18/2014', u'ReviewText': u' Great smartphone', u'UserID': u'aalab66', u'ProductCategory': u'Smart Phone', u'ProductModelName': u'Galaxy S4', u'UserAge': u'54', u'RetailerOnSale': u'Yes', u'ManufacturerName': u'Samsung', u'ReviewRating': u'4', u'UserGender': u'Male', u'RetailerZip': u'44114', u'_id': ObjectId('592f27286cb48027a4cbf1c4'), u'RetailerCity': u'Cleveland'}\n",
      "{u'RetailerName': u'Walmart', u'UserOccupation': u'Unknown', u'ProductPrice': u'399', u'RetailerState': u'CA', u'ManufacturerRebate': u'No', u'ReviewDate': u'06/10/14', u'ReviewText': u\" Very easy phone to learn. It's fast\", u'UserID': u'fwppr25', u'ProductCategory': u'Smart Phone', u'ProductModelName': u'Galaxy S4', u'UserAge': u'54', u'RetailerOnSale': u'No', u'ManufacturerName': u'Samsung', u'ReviewRating': u'5', u'UserGender': u'Male', u'RetailerZip': u'90012', u'_id': ObjectId('592f27286cb48027a4cbf1d3'), u'RetailerCity': u'Los Angeles'}\n",
      "{u'RetailerName': u'Walmart', u'UserOccupation': u'Secratary', u'ProductPrice': u'1799', u'RetailerState': u'CA', u'ManufacturerRebate': u'Yes', u'ReviewDate': u'3/24/2014', u'ReviewText': u'Take it home and flex its muscles all you can.', u'UserID': u'unoyo25', u'ProductCategory': u'TV', u'ProductModelName': u'Samsung TV 65 Curved', u'UserAge': u'54', u'RetailerOnSale': u'Yes', u'ManufacturerName': u'Samsung', u'ReviewRating': u'2', u'UserGender': u'Female', u'RetailerZip': u'94158', u'_id': ObjectId('592f27286cb48027a4cbf1d5'), u'RetailerCity': u'San Francisco'}\n",
      "{u'RetailerName': u'hhgregg', u'UserOccupation': u'Programmer', u'ProductPrice': u'1200', u'RetailerState': u'CA', u'ManufacturerRebate': u'No', u'ReviewDate': u'6/18/2014', u'ReviewText': u\" What's not so great\", u'UserID': u'nozxz74', u'ProductCategory': u'TV', u'ProductModelName': u'Samsung TV 60 LED', u'UserAge': u'54', u'RetailerOnSale': u'No', u'ManufacturerName': u'Samsung', u'ReviewRating': u'2', u'UserGender': u'Male', u'RetailerZip': u'94158', u'_id': ObjectId('592f27286cb48027a4cbf1e6'), u'RetailerCity': u'San Francisco'}\n",
      "{u'RetailerName': u'Target', u'UserOccupation': u'Secratary', u'ProductPrice': u'299', u'RetailerState': u'CA', u'ManufacturerRebate': u'Yes', u'ReviewDate': u'05/12/14', u'ReviewText': u\"Apple doesn't tell you that the Ios takes up almost 5 gb. So if you actually need 16gb you need to get the 32 gb unit.\", u'UserID': u'woonl29', u'ProductCategory': u'Tablet', u'ProductModelName': u'iPad Air', u'UserAge': u'54', u'RetailerOnSale': u'Yes', u'ManufacturerName': u'Apple', u'ReviewRating': u'3', u'UserGender': u'Male', u'RetailerZip': u'90012', u'_id': ObjectId('592f27286cb48027a4cbf1f9'), u'RetailerCity': u'Los Angeles'}\n",
      "{u'RetailerName': u'hhgregg', u'UserOccupation': u'Unknown', u'ProductPrice': u'499', u'RetailerState': u'CA', u'ManufacturerRebate': u'No', u'ReviewDate': u'04/01/15', u'ReviewText': u'This is a nice gadget as a gift for seniors. Very intuitive to learn.', u'UserID': u'tkoih20', u'ProductCategory': u'Tablet', u'ProductModelName': u'iPad Air', u'UserAge': u'54', u'RetailerOnSale': u'No', u'ManufacturerName': u'Apple', u'ReviewRating': u'5', u'UserGender': u'Female', u'RetailerZip': u'90012', u'_id': ObjectId('592f27286cb48027a4cbf213'), u'RetailerCity': u'Los Angeles'}\n",
      "{u'RetailerName': u'hhgregg', u'UserOccupation': u'Unknown', u'ProductPrice': u'999', u'RetailerState': u'FL', u'ManufacturerRebate': u'No', u'ReviewDate': u'7/23/2014', u'ReviewText': u'My purchase of the surface pro three is not regrettable.', u'UserID': u'xejnc61', u'ProductCategory': u'Tablet', u'ProductModelName': u'Surface 3', u'UserAge': u'54', u'RetailerOnSale': u'No', u'ManufacturerName': u'Microsoft', u'ReviewRating': u'3', u'UserGender': u'Male', u'RetailerZip': u'33130', u'_id': ObjectId('592f27286cb48027a4cbf264'), u'RetailerCity': u'Miami'}\n",
      "{u'RetailerName': u'hhgregg', u'UserOccupation': u'Secratary', u'ProductPrice': u'349', u'RetailerState': u'MA', u'ManufacturerRebate': u'No', u'ReviewDate': u'10/10/13', u'ReviewText': u\" Needs a way to download to the tablet. It's easy to handle\", u'UserID': u'uyivx96', u'ProductCategory': u'Tablet', u'ProductModelName': u'Samsung Tab 4', u'UserAge': u'54', u'RetailerOnSale': u'No', u'ManufacturerName': u'Samsung', u'ReviewRating': u'4', u'UserGender': u'Male', u'RetailerZip': u'2110', u'_id': ObjectId('592f27286cb48027a4cbf2c7'), u'RetailerCity': u'Boston'}\n",
      "{u'RetailerName': u'Walmart', u'UserOccupation': u'Accountant', u'ProductPrice': u'499', u'RetailerState': u'FL', u'ManufacturerRebate': u'No', u'ReviewDate': u'5/25/2014', u'ReviewText': u'I like the touch screen and the computer is really fast . Also the computer is very slim and light . good overall useage .', u'UserID': u'qjzbd20', u'ProductCategory': u'Laptop', u'ProductModelName': u'Dell Ispiron 15.6', u'UserAge': u'54', u'RetailerOnSale': u'No', u'ManufacturerName': u'Dell', u'ReviewRating': u'5', u'UserGender': u'Male', u'RetailerZip': u'33129', u'_id': ObjectId('592f27286cb48027a4cbf320'), u'RetailerCity': u'Miami'}\n",
      "{u'RetailerName': u'Target', u'UserOccupation': u'Unknown', u'ProductPrice': u'402', u'RetailerState': u'CA', u'ManufacturerRebate': u'No', u'ReviewDate': u'12/05/14', u'ReviewText': u'I like the phone very fast takes good photos and very bright screen', u'UserID': u'fivvf20', u'ProductCategory': u'Smart Phone', u'ProductModelName': u'Galaxy S4', u'UserAge': u'54', u'RetailerOnSale': u'No', u'ManufacturerName': u'Samsung', u'ReviewRating': u'4', u'UserGender': u'Male', u'RetailerZip': u'94102', u'_id': ObjectId('592f27286cb48027a4cbf347'), u'RetailerCity': u'San Francisco'}\n",
      "{u'RetailerName': u'hhgregg', u'UserOccupation': u'Accountant', u'ProductPrice': u'299', u'RetailerState': u'MA', u'ManufacturerRebate': u'No', u'ReviewDate': u'11/10/14', u'ReviewText': u'Very happy with the Samsung galaxy tablet. Love it', u'UserID': u'mhgxu57', u'ProductCategory': u'Tablet', u'ProductModelName': u'Samsung Tab 4', u'UserAge': u'54', u'RetailerOnSale': u'Yes', u'ManufacturerName': u'Samsung', u'ReviewRating': u'5', u'UserGender': u'Female', u'RetailerZip': u'2108', u'_id': ObjectId('592f27286cb48027a4cbf37f'), u'RetailerCity': u'Boston'}\n",
      "{u'RetailerName': u'Walmart', u'UserOccupation': u'Unknown', u'ProductPrice': u'1799', u'RetailerState': u'CA', u'ManufacturerRebate': u'Yes', u'ReviewDate': u'7/19/2014', u'ReviewText': u' I bought it last weekend. It was delivered Tuesday.', u'UserID': u'ivour25', u'ProductCategory': u'TV', u'ProductModelName': u'Samsung TV 65 Curved', u'UserAge': u'54', u'RetailerOnSale': u'Yes', u'ManufacturerName': u'Samsung', u'ReviewRating': u'2', u'UserGender': u'Male', u'RetailerZip': u'94102', u'_id': ObjectId('592f27286cb48027a4cbf39f'), u'RetailerCity': u'San Francisco'}\n",
      "{u'RetailerName': u'Walmart', u'UserOccupation': u'Student', u'ProductPrice': u'299', u'RetailerState': u'FL', u'ManufacturerRebate': u'No', u'ReviewDate': u'12/10/14', u'ReviewText': u\" although there are many apps that I'll probably not use\", u'UserID': u'furss30', u'ProductCategory': u'Laptop', u'ProductModelName': u'HP PAVALION  15.6', u'UserAge': u'54', u'RetailerOnSale': u'Yes', u'ManufacturerName': u'HP', u'ReviewRating': u'4', u'UserGender': u'Female', u'RetailerZip': u'33130', u'_id': ObjectId('592f27286cb48027a4cbf3a8'), u'RetailerCity': u'Miami'}\n",
      "{u'RetailerName': u'Bestbuy', u'UserOccupation': u'Accountant', u'ProductPrice': u'319', u'RetailerState': u'FL', u'ManufacturerRebate': u'No', u'ReviewDate': u'9/19/2013', u'ReviewText': u' Touchscreen with plenty of storage space and more memory (6GB) than most of the other brands in the same price range. Terrific price', u'UserID': u'uqfxh9', u'ProductCategory': u'Laptop', u'ProductModelName': u'HP PAVALION  15.6', u'UserAge': u'54', u'RetailerOnSale': u'No', u'ManufacturerName': u'HP', u'ReviewRating': u'5', u'UserGender': u'Male', u'RetailerZip': u'33130', u'_id': ObjectId('592f27286cb48027a4cbf3ad'), u'RetailerCity': u'Miami'}\n",
      "{u'RetailerName': u'hhgregg', u'UserOccupation': u'Secratary', u'ProductPrice': u'402', u'RetailerState': u'OH', u'ManufacturerRebate': u'No', u'ReviewDate': u'7/23/2014', u'ReviewText': u'I will be stopping at the next Bestbuy I come to. Having problem with the speaker on speaker phone. When used words break up.', u'UserID': u'yjqno29', u'ProductCategory': u'Smart Phone', u'ProductModelName': u'Galaxy S4', u'UserAge': u'54', u'RetailerOnSale': u'No', u'ManufacturerName': u'Samsung', u'ReviewRating': u'4', u'UserGender': u'Female', u'RetailerZip': u'44114', u'_id': ObjectId('592f27286cb48027a4cbf3e7'), u'RetailerCity': u'Cleveland'}\n",
      "{u'RetailerName': u'Walmart', u'UserOccupation': u'Programmer', u'ProductPrice': u'328', u'RetailerState': u'CA', u'ManufacturerRebate': u'Yes', u'ReviewDate': u'02/01/15', u'ReviewText': u'The cost out weighed the lack of memory. I had to upgrade it to 16GB to get the performance I needed. ', u'UserID': u'jlwvl36', u'ProductCategory': u'Laptop', u'ProductModelName': u'Dell Ispiron 15.6', u'UserAge': u'54', u'RetailerOnSale': u'Yes', u'ManufacturerName': u'Dell', u'ReviewRating': u'5', u'UserGender': u'Female', u'RetailerZip': u'94102', u'_id': ObjectId('592f27286cb48027a4cbf3f6'), u'RetailerCity': u'San Francisco'}\n",
      "{u'RetailerName': u'Walmart', u'UserOccupation': u'Accountant', u'ProductPrice': u'1100', u'RetailerState': u'CA', u'ManufacturerRebate': u'No', u'ReviewDate': u'4/19/2014', u'ReviewText': u'This TV is great with a fabulous picture and feature rich options. I can connect to my phone in addition to the wifi which makes it easy to use the movie and music options.', u'UserID': u'hhbqm93', u'ProductCategory': u'TV', u'ProductModelName': u'Samsung TV 60 LED', u'UserAge': u'54', u'RetailerOnSale': u'Yes', u'ManufacturerName': u'Samsung', u'ReviewRating': u'5', u'UserGender': u'Male', u'RetailerZip': u'90012', u'_id': ObjectId('592f27286cb48027a4cbf402'), u'RetailerCity': u'Los Angeles'}\n",
      "{u'RetailerName': u'Bestbuy', u'UserOccupation': u'Secratary', u'ProductPrice': u'349', u'RetailerState': u'FL', u'ManufacturerRebate': u'No', u'ReviewDate': u'12/10/14', u'ReviewText': u'Nice tablet for the money. Purchased it to use for lyrics for live music performances.', u'UserID': u'ytpwc24', u'ProductCategory': u'Tablet', u'ProductModelName': u'Samsung Tab 4', u'UserAge': u'54', u'RetailerOnSale': u'No', u'ManufacturerName': u'Samsung', u'ReviewRating': u'4', u'UserGender': u'Male', u'RetailerZip': u'33129', u'_id': ObjectId('592f27286cb48027a4cbf49b'), u'RetailerCity': u'Miami'}\n",
      "{u'RetailerName': u'hhgregg', u'UserOccupation': u'Secratary', u'ProductPrice': u'425', u'RetailerState': u'CA', u'ManufacturerRebate': u'No', u'ReviewDate': u'6/21/2014', u'ReviewText': u'Great value for the product..Would purchase again.', u'UserID': u'xbxvd79', u'ProductCategory': u'Tablet', u'ProductModelName': u'iPad Air', u'UserAge': u'54', u'RetailerOnSale': u'Yes', u'ManufacturerName': u'Apple', u'ReviewRating': u'4', u'UserGender': u'Male', u'RetailerZip': u'94158', u'_id': ObjectId('592f27286cb48027a4cbf4c8'), u'RetailerCity': u'San Francisco'}\n",
      "{u'RetailerName': u'Frys', u'UserOccupation': u'Student', u'ProductPrice': u'349', u'RetailerState': u'FL', u'ManufacturerRebate': u'No', u'ReviewDate': u'3/24/2014', u'ReviewText': u' having difficulties getting emails that are not   gmail   addresses. went on several occasions to visit B.Buy and talk with a Samsung reps. ', u'UserID': u'mcexv70', u'ProductCategory': u'Tablet', u'ProductModelName': u'Samsung Tab 4', u'UserAge': u'54', u'RetailerOnSale': u'No', u'ManufacturerName': u'Samsung', u'ReviewRating': u'3', u'UserGender': u'Female', u'RetailerZip': u'33129', u'_id': ObjectId('592f27286cb48027a4cbf4fa'), u'RetailerCity': u'Miami'}\n",
      "{u'RetailerName': u'Frys', u'UserOccupation': u'Programmer', u'ProductPrice': u'425', u'RetailerState': u'IL', u'ManufacturerRebate': u'No', u'ReviewDate': u'12/20/2014', u'ReviewText': u'my mom loves it..as a beginner she didnt have a hard time learning the basic feature..loves the free apps', u'UserID': u'davlp81', u'ProductCategory': u'Tablet', u'ProductModelName': u'iPad Air', u'UserAge': u'54', u'RetailerOnSale': u'Yes', u'ManufacturerName': u'Apple', u'ReviewRating': u'5', u'UserGender': u'Male', u'RetailerZip': u'60616', u'_id': ObjectId('592f27286cb48027a4cbf524'), u'RetailerCity': u'Chicago'}\n",
      "{u'RetailerName': u'hhgregg', u'UserOccupation': u'Programmer', u'ProductPrice': u'925', u'RetailerState': u'CA', u'ManufacturerRebate': u'No', u'ReviewDate': u'10/10/13', u'ReviewText': u'Good thing I held back and waited for this SP3.', u'UserID': u'xxuqn9', u'ProductCategory': u'Tablet', u'ProductModelName': u'Surface 3', u'UserAge': u'54', u'RetailerOnSale': u'No', u'ManufacturerName': u'Microsoft', u'ReviewRating': u'4', u'UserGender': u'Male', u'RetailerZip': u'94102', u'_id': ObjectId('592f27286cb48027a4cbf54d'), u'RetailerCity': u'San Francisco'}\n",
      "{u'RetailerName': u'Frys', u'UserOccupation': u'Student', u'ProductPrice': u'425', u'RetailerState': u'CA', u'ManufacturerRebate': u'No', u'ReviewDate': u'8/21/2014', u'ReviewText': u'It has all the Apps I need to take care of business.', u'UserID': u'lawes58', u'ProductCategory': u'Tablet', u'ProductModelName': u'iPad Air', u'UserAge': u'54', u'RetailerOnSale': u'Yes', u'ManufacturerName': u'Apple', u'ReviewRating': u'5', u'UserGender': u'Female', u'RetailerZip': u'94102', u'_id': ObjectId('592f27286cb48027a4cbf556'), u'RetailerCity': u'San Francisco'}\n",
      "{u'RetailerName': u'hhgregg', u'UserOccupation': u'Student', u'ProductPrice': u'999', u'RetailerState': u'CA', u'ManufacturerRebate': u'No', u'ReviewDate': u'3/13/2014', u'ReviewText': u' Great picture', u'UserID': u'hvsae57', u'ProductCategory': u'TV', u'ProductModelName': u'LG 65', u'UserAge': u'54', u'RetailerOnSale': u'No', u'ManufacturerName': u'LG', u'ReviewRating': u'5', u'UserGender': u'Male', u'RetailerZip': u'90012', u'_id': ObjectId('592f27286cb48027a4cbf5a9'), u'RetailerCity': u'Los Angeles'}\n",
      "{u'RetailerName': u'Frys', u'UserOccupation': u'Student', u'ProductPrice': u'299', u'RetailerState': u'CA', u'ManufacturerRebate': u'No', u'ReviewDate': u'07/09/14', u'ReviewText': u' Easy to use format with windows 8 is everything I wanted   at my fingertips  . ', u'UserID': u'awxox77', u'ProductCategory': u'Laptop', u'ProductModelName': u'HP PAVALION  15.6', u'UserAge': u'54', u'RetailerOnSale': u'Yes', u'ManufacturerName': u'HP', u'ReviewRating': u'5', u'UserGender': u'Female', u'RetailerZip': u'94102', u'_id': ObjectId('592f27286cb48027a4cbf5b8'), u'RetailerCity': u'San Francisco'}\n",
      "{u'RetailerName': u'hhgregg', u'UserOccupation': u'Student', u'ProductPrice': u'499', u'RetailerState': u'CA', u'ManufacturerRebate': u'No', u'ReviewDate': u'07/09/14', u'ReviewText': u'Very user friendly and nice to have the net at your finger tips.', u'UserID': u'qgajd80', u'ProductCategory': u'Tablet', u'ProductModelName': u'iPad Air', u'UserAge': u'54', u'RetailerOnSale': u'No', u'ManufacturerName': u'Apple', u'ReviewRating': u'5', u'UserGender': u'Female', u'RetailerZip': u'94102', u'_id': ObjectId('592f27286cb48027a4cbf5cd'), u'RetailerCity': u'San Francisco'}\n",
      "{u'RetailerName': u'Target', u'UserOccupation': u'Unknown', u'ProductPrice': u'299', u'RetailerState': u'IL', u'ManufacturerRebate': u'No', u'ReviewDate': u'6/26/2014', u'ReviewText': u' This computer was exactly what I was looking for! Was a little hesitant on the Windows 8', u'UserID': u'tilpv47', u'ProductCategory': u'Laptop', u'ProductModelName': u'HP PAVALION  15.6', u'UserAge': u'54', u'RetailerOnSale': u'Yes', u'ManufacturerName': u'HP', u'ReviewRating': u'5', u'UserGender': u'Male', u'RetailerZip': u'60616', u'_id': ObjectId('592f27286cb48027a4cbf5d4'), u'RetailerCity': u'Chicago'}\n",
      "{u'RetailerName': u'Walmart', u'UserOccupation': u'Student', u'ProductPrice': u'1200', u'RetailerState': u'IL', u'ManufacturerRebate': u'No', u'ReviewDate': u'05/12/14', u'ReviewText': u'The picture is very clear and the internet works well.', u'UserID': u'zxjib11', u'ProductCategory': u'TV', u'ProductModelName': u'Samsung TV 60 LED', u'UserAge': u'54', u'RetailerOnSale': u'No', u'ManufacturerName': u'Samsung', u'ReviewRating': u'4', u'UserGender': u'Female', u'RetailerZip': u'60585', u'_id': ObjectId('592f27286cb48027a4cbf5e6'), u'RetailerCity': u'Naperville'}\n",
      "{u'RetailerName': u'Target', u'UserOccupation': u'Unknown', u'ProductPrice': u'2250', u'RetailerState': u'CA', u'ManufacturerRebate': u'No', u'ReviewDate': u'12/10/14', u'ReviewText': u'I am very pleased with my purchase.', u'UserID': u'jyaiz98', u'ProductCategory': u'TV', u'ProductModelName': u'LG 65', u'UserAge': u'54', u'RetailerOnSale': u'No', u'ManufacturerName': u'LG', u'ReviewRating': u'4', u'UserGender': u'Female', u'RetailerZip': u'90033', u'_id': ObjectId('592f27286cb48027a4cbf5fc'), u'RetailerCity': u'Los Angeles'}\n",
      "{u'RetailerName': u'Frys', u'UserOccupation': u'Student', u'ProductPrice': u'1200', u'RetailerState': u'CA', u'ManufacturerRebate': u'No', u'ReviewDate': u'6/21/2014', u'ReviewText': u\" TV is everything promised. Haven't found any 4K content to check picture\", u'UserID': u'ldhje71', u'ProductCategory': u'TV', u'ProductModelName': u'Samsung TV 60 LED', u'UserAge': u'54', u'RetailerOnSale': u'No', u'ManufacturerName': u'Samsung', u'ReviewRating': u'4', u'UserGender': u'Male', u'RetailerZip': u'94102', u'_id': ObjectId('592f27286cb48027a4cbf649'), u'RetailerCity': u'San Francisco'}\n",
      "{u'RetailerName': u'Target', u'UserOccupation': u'Accountant', u'ProductPrice': u'999', u'RetailerState': u'CA', u'ManufacturerRebate': u'No', u'ReviewDate': u'4/19/2014', u'ReviewText': u\"Horrible quality and picture but that's what I get for a cheap tv\", u'UserID': u'bxaoj2', u'ProductCategory': u'TV', u'ProductModelName': u'LG 65', u'UserAge': u'54', u'RetailerOnSale': u'No', u'ManufacturerName': u'LG', u'ReviewRating': u'1', u'UserGender': u'Male', u'RetailerZip': u'94158', u'_id': ObjectId('592f27286cb48027a4cbf6ff'), u'RetailerCity': u'San Francisco'}\n",
      "{u'RetailerName': u'Target', u'UserOccupation': u'Secratary', u'ProductPrice': u'298', u'RetailerState': u'CA', u'ManufacturerRebate': u'Yes', u'ReviewDate': u'7/23/2014', u'ReviewText': u'I love this computer I thought it would be hard to use but very easy', u'UserID': u'ybwme50', u'ProductCategory': u'Laptop', u'ProductModelName': u'HP PAVALION  15.6', u'UserAge': u'54', u'RetailerOnSale': u'Yes', u'ManufacturerName': u'HP', u'ReviewRating': u'5', u'UserGender': u'Female', u'RetailerZip': u'94158', u'_id': ObjectId('592f27286cb48027a4cbf716'), u'RetailerCity': u'San Francisco'}\n",
      "{u'RetailerName': u'hhgregg', u'UserOccupation': u'Accountant', u'ProductPrice': u'376', u'RetailerState': u'MA', u'ManufacturerRebate': u'No', u'ReviewDate': u'08/01/14', u'ReviewText': u'I would definitely recommend this to anyone! Amazing computer!', u'UserID': u'ykfpf91', u'ProductCategory': u'Laptop', u'ProductModelName': u'HP PAVALION  15.6', u'UserAge': u'54', u'RetailerOnSale': u'No', u'ManufacturerName': u'HP', u'ReviewRating': u'5', u'UserGender': u'Female', u'RetailerZip': u'2110', u'_id': ObjectId('592f27286cb48027a4cbf71a'), u'RetailerCity': u'Boston'}\n",
      "{u'RetailerName': u'Frys', u'UserOccupation': u'Student', u'ProductPrice': u'299', u'RetailerState': u'CA', u'ManufacturerRebate': u'No', u'ReviewDate': u'2/29/2015', u'ReviewText': u' I needed something for my 12 year old to use for accessing homework websites', u'UserID': u'btwob17', u'ProductCategory': u'Tablet', u'ProductModelName': u'Samsung Tab 4', u'UserAge': u'54', u'RetailerOnSale': u'Yes', u'ManufacturerName': u'Samsung', u'ReviewRating': u'4', u'UserGender': u'Male', u'RetailerZip': u'94102', u'_id': ObjectId('592f27286cb48027a4cbf72c'), u'RetailerCity': u'San Francisco'}\n",
      "{u'RetailerName': u'Target', u'UserOccupation': u'Manager', u'ProductPrice': u'449', u'RetailerState': u'CA', u'ManufacturerRebate': u'No', u'ReviewDate': u'10/14/2014', u'ReviewText': u'Awesome laptop. Amazing features which my daughter appreciates when she does her projects using office.', u'UserID': u'bwrvq94', u'ProductCategory': u'Laptop', u'ProductModelName': u'Dell Ispiron 15.6', u'UserAge': u'54', u'RetailerOnSale': u'Yes', u'ManufacturerName': u'Dell', u'ReviewRating': u'5', u'UserGender': u'Male', u'RetailerZip': u'94102', u'_id': ObjectId('592f27286cb48027a4cbf762'), u'RetailerCity': u'San Francisco'}\n",
      "{u'RetailerName': u'Frys', u'UserOccupation': u'Student', u'ProductPrice': u'499', u'RetailerState': u'OH', u'ManufacturerRebate': u'No', u'ReviewDate': u'11/25/2014', u'ReviewText': u'It looks beautiful by thinner. It makes comfortable by weight and speed', u'UserID': u'staeb68', u'ProductCategory': u'Tablet', u'ProductModelName': u'iPad Air', u'UserAge': u'54', u'RetailerOnSale': u'No', u'ManufacturerName': u'Apple', u'ReviewRating': u'5', u'UserGender': u'Male', u'RetailerZip': u'44114', u'_id': ObjectId('592f27286cb48027a4cbf779'), u'RetailerCity': u'Cleveland'}\n",
      "{u'RetailerName': u'Walmart', u'UserOccupation': u'Accountant', u'ProductPrice': u'298', u'RetailerState': u'CA', u'ManufacturerRebate': u'Yes', u'ReviewDate': u'7/19/2014', u'ReviewText': u\"Zip bought this laptop for the family and we all have been able to use it easily even my 7 yr old. Haven't had any problems at all.\", u'UserID': u'zemfs80', u'ProductCategory': u'Laptop', u'ProductModelName': u'HP PAVALION  15.6', u'UserAge': u'54', u'RetailerOnSale': u'Yes', u'ManufacturerName': u'HP', u'ReviewRating': u'5', u'UserGender': u'Male', u'RetailerZip': u'94158', u'_id': ObjectId('592f27286cb48027a4cbf7fb'), u'RetailerCity': u'San Francisco'}\n",
      "{u'RetailerName': u'Target', u'UserOccupation': u'Manager', u'ProductPrice': u'425', u'RetailerState': u'IL', u'ManufacturerRebate': u'No', u'ReviewDate': u'6/21/2014', u'ReviewText': u'Time delivery and good product at a lower price options for delivery', u'UserID': u'fsjdc38', u'ProductCategory': u'Tablet', u'ProductModelName': u'iPad Air', u'UserAge': u'54', u'RetailerOnSale': u'Yes', u'ManufacturerName': u'Apple', u'ReviewRating': u'5', u'UserGender': u'Female', u'RetailerZip': u'60585', u'_id': ObjectId('592f27286cb48027a4cbf817'), u'RetailerCity': u'Naperville'}\n",
      "{u'RetailerName': u'Bestbuy', u'UserOccupation': u'Secratary', u'ProductPrice': u'960', u'RetailerState': u'CA', u'ManufacturerRebate': u'No', u'ReviewDate': u'8/21/2014', u'ReviewText': u\" This is by far the best smartphone I've ever owned. Love the new design\", u'UserID': u'vijaz71', u'ProductCategory': u'Smart Phone', u'ProductModelName': u'iPhone 6', u'UserAge': u'54', u'RetailerOnSale': u'No', u'ManufacturerName': u'Apple', u'ReviewRating': u'5', u'UserGender': u'Female', u'RetailerZip': u'94158', u'_id': ObjectId('592f27286cb48027a4cbf83d'), u'RetailerCity': u'San Francisco'}\n",
      "{u'RetailerName': u'Walmart', u'UserOccupation': u'Unknown', u'ProductPrice': u'499', u'RetailerState': u'CA', u'ManufacturerRebate': u'No', u'ReviewDate': u'10/10/13', u'ReviewText': u' My first iPad was fun-I called it my toy. I also called it   the brick   ', u'UserID': u'tfssp93', u'ProductCategory': u'Tablet', u'ProductModelName': u'iPad Air', u'UserAge': u'54', u'RetailerOnSale': u'No', u'ManufacturerName': u'Apple', u'ReviewRating': u'5', u'UserGender': u'Female', u'RetailerZip': u'94102', u'_id': ObjectId('592f27286cb48027a4cbf852'), u'RetailerCity': u'San Francisco'}\n",
      "{u'RetailerName': u'Frys', u'UserOccupation': u'Secratary', u'ProductPrice': u'425', u'RetailerState': u'FL', u'ManufacturerRebate': u'No', u'ReviewDate': u'2/29/2015', u'ReviewText': u'Love apple products the is not a tablet that compares to apple', u'UserID': u'gzncm98', u'ProductCategory': u'Tablet', u'ProductModelName': u'iPad Air', u'UserAge': u'54', u'RetailerOnSale': u'Yes', u'ManufacturerName': u'Apple', u'ReviewRating': u'5', u'UserGender': u'Female', u'RetailerZip': u'33129', u'_id': ObjectId('592f27286cb48027a4cbf872'), u'RetailerCity': u'Miami'}\n",
      "{u'RetailerName': u'Bestbuy', u'UserOccupation': u'Manager', u'ProductPrice': u'349', u'RetailerState': u'IL', u'ManufacturerRebate': u'No', u'ReviewDate': u'12/14/2014', u'ReviewText': u'I love my Samsung 8 inch. I already had a 10 inch Samsung tablet but wanted something a little smaller to carry in my purse.', u'UserID': u'ahvqv15', u'ProductCategory': u'Tablet', u'ProductModelName': u'Samsung Tab 4', u'UserAge': u'54', u'RetailerOnSale': u'No', u'ManufacturerName': u'Samsung', u'ReviewRating': u'4', u'UserGender': u'Male', u'RetailerZip': u'60616', u'_id': ObjectId('592f27286cb48027a4cbf8bb'), u'RetailerCity': u'Chicago'}\n",
      "{u'RetailerName': u'Walmart', u'UserOccupation': u'Student', u'ProductPrice': u'299', u'RetailerState': u'IL', u'ManufacturerRebate': u'No', u'ReviewDate': u'2/15/2015', u'ReviewText': u' Great tablet', u'UserID': u'iidhl63', u'ProductCategory': u'Tablet', u'ProductModelName': u'Samsung Tab 4', u'UserAge': u'54', u'RetailerOnSale': u'Yes', u'ManufacturerName': u'Samsung', u'ReviewRating': u'4', u'UserGender': u'Female', u'RetailerZip': u'60603', u'_id': ObjectId('592f27286cb48027a4cbf8ec'), u'RetailerCity': u'Chicago'}\n",
      "{u'RetailerName': u'Walmart', u'UserOccupation': u'Accountant', u'ProductPrice': u'1200', u'RetailerState': u'OH', u'ManufacturerRebate': u'No', u'ReviewDate': u'6/21/2014', u'ReviewText': u' It looks great', u'UserID': u'ppavp74', u'ProductCategory': u'TV', u'ProductModelName': u'Samsung TV 60 LED', u'UserAge': u'55', u'RetailerOnSale': u'No', u'ManufacturerName': u'Samsung', u'ReviewRating': u'4', u'UserGender': u'Male', u'RetailerZip': u'44114', u'_id': ObjectId('592f27286cb48027a4cbf164'), u'RetailerCity': u'Cleveland'}\n",
      "{u'RetailerName': u'Bestbuy', u'UserOccupation': u'Programmer', u'ProductPrice': u'1100', u'RetailerState': u'CA', u'ManufacturerRebate': u'No', u'ReviewDate': u'9/24/2014', u'ReviewText': u'Took some time to get use to the movement on the screen', u'UserID': u'mjrwz43', u'ProductCategory': u'TV', u'ProductModelName': u'Samsung TV 60 LED', u'UserAge': u'55', u'RetailerOnSale': u'Yes', u'ManufacturerName': u'Samsung', u'ReviewRating': u'4', u'UserGender': u'Male', u'RetailerZip': u'94102', u'_id': ObjectId('592f27286cb48027a4cbf192'), u'RetailerCity': u'San Francisco'}\n",
      "{u'RetailerName': u'Bestbuy', u'UserOccupation': u'Secratary', u'ProductPrice': u'349', u'RetailerState': u'IL', u'ManufacturerRebate': u'No', u'ReviewDate': u'8/18/2014', u'ReviewText': u' The best table ever', u'UserID': u'txjvo9', u'ProductCategory': u'Tablet', u'ProductModelName': u'Samsung Tab 4', u'UserAge': u'55', u'RetailerOnSale': u'No', u'ManufacturerName': u'Samsung', u'ReviewRating': u'5', u'UserGender': u'Female', u'RetailerZip': u'60603', u'_id': ObjectId('592f27286cb48027a4cbf1a0'), u'RetailerCity': u'Chicago'}\n",
      "{u'RetailerName': u'Frys', u'UserOccupation': u'Secratary', u'ProductPrice': u'925', u'RetailerState': u'CA', u'ManufacturerRebate': u'No', u'ReviewDate': u'12/10/14', u'ReviewText': u'I am a teacher that LOVES new toys.', u'UserID': u'arwjy67', u'ProductCategory': u'Tablet', u'ProductModelName': u'Surface 3', u'UserAge': u'55', u'RetailerOnSale': u'No', u'ManufacturerName': u'Microsoft', u'ReviewRating': u'5', u'UserGender': u'Male', u'RetailerZip': u'94102', u'_id': ObjectId('592f27286cb48027a4cbf21d'), u'RetailerCity': u'San Francisco'}\n",
      "{u'RetailerName': u'Frys', u'UserOccupation': u'Student', u'ProductPrice': u'499', u'RetailerState': u'IL', u'ManufacturerRebate': u'No', u'ReviewDate': u'5/25/2014', u'ReviewText': u'Features did not work on the computer. Not worth the money.', u'UserID': u'vaiqd29', u'ProductCategory': u'Laptop', u'ProductModelName': u'Dell Ispiron 15.6', u'UserAge': u'55', u'RetailerOnSale': u'No', u'ManufacturerName': u'Dell', u'ReviewRating': u'2', u'UserGender': u'Male', u'RetailerZip': u'60603', u'_id': ObjectId('592f27286cb48027a4cbf23f'), u'RetailerCity': u'Chicago'}\n",
      "{u'RetailerName': u'Walmart', u'UserOccupation': u'Secratary', u'ProductPrice': u'399', u'RetailerState': u'CA', u'ManufacturerRebate': u'No', u'ReviewDate': u'4/19/2014', u'ReviewText': u'This is a great phone for any type of user. Obviously there are people who prefer other devices etc.', u'UserID': u'izzkr91', u'ProductCategory': u'Smart Phone', u'ProductModelName': u'iPhone 6', u'UserAge': u'55', u'RetailerOnSale': u'No', u'ManufacturerName': u'Apple', u'ReviewRating': u'5', u'UserGender': u'Male', u'RetailerZip': u'94158', u'_id': ObjectId('592f27286cb48027a4cbf29a'), u'RetailerCity': u'San Francisco'}\n",
      "{u'RetailerName': u'Walmart', u'UserOccupation': u'Manager', u'ProductPrice': u'299', u'RetailerState': u'IL', u'ManufacturerRebate': u'No', u'ReviewDate': u'8/18/2014', u'ReviewText': u'Competes well with iPad for the price. I prefer the IOS platform but can get used to the Android after a while.', u'UserID': u'rnviu98', u'ProductCategory': u'Tablet', u'ProductModelName': u'Samsung Tab 4', u'UserAge': u'55', u'RetailerOnSale': u'Yes', u'ManufacturerName': u'Samsung', u'ReviewRating': u'4', u'UserGender': u'Male', u'RetailerZip': u'60585', u'_id': ObjectId('592f27286cb48027a4cbf2b3'), u'RetailerCity': u'Naperville'}\n",
      "{u'RetailerName': u'Bestbuy', u'UserOccupation': u'Student', u'ProductPrice': u'849', u'RetailerState': u'CA', u'ManufacturerRebate': u'Yes', u'ReviewDate': u'07/09/14', u'ReviewText': u'Like the big screen.', u'UserID': u'rxlig53', u'ProductCategory': u'TV', u'ProductModelName': u'LG 65', u'UserAge': u'55', u'RetailerOnSale': u'Yes', u'ManufacturerName': u'LG', u'ReviewRating': u'4', u'UserGender': u'Female', u'RetailerZip': u'94158', u'_id': ObjectId('592f27286cb48027a4cbf2fe'), u'RetailerCity': u'San Francisco'}\n",
      "{u'RetailerName': u'Walmart', u'UserOccupation': u'Programmer', u'ProductPrice': u'589', u'RetailerState': u'IL', u'ManufacturerRebate': u'No', u'ReviewDate': u'11/29/2014', u'ReviewText': u' I choose the iPhone 6 and am very happy with the size and features of the phone. Longer battery life', u'UserID': u'wugfx5', u'ProductCategory': u'Smart Phone', u'ProductModelName': u'iPhone 6', u'UserAge': u'55', u'RetailerOnSale': u'No', u'ManufacturerName': u'Apple', u'ReviewRating': u'5', u'UserGender': u'Male', u'RetailerZip': u'60603', u'_id': ObjectId('592f27286cb48027a4cbf33e'), u'RetailerCity': u'Chicago'}\n",
      "{u'RetailerName': u'Bestbuy', u'UserOccupation': u'Student', u'ProductPrice': u'2250', u'RetailerState': u'CA', u'ManufacturerRebate': u'No', u'ReviewDate': u'8/13/2014', u'ReviewText': u'Fits on fireplace mantle unlike most every other larger television.', u'UserID': u'jsdkd69', u'ProductCategory': u'TV', u'ProductModelName': u'LG 65', u'UserAge': u'55', u'RetailerOnSale': u'No', u'ManufacturerName': u'LG', u'ReviewRating': u'4', u'UserGender': u'Male', u'RetailerZip': u'94102', u'_id': ObjectId('592f27286cb48027a4cbf345'), u'RetailerCity': u'San Francisco'}\n",
      "{u'RetailerName': u'Bestbuy', u'UserOccupation': u'Unknown', u'ProductPrice': u'269', u'RetailerState': u'CA', u'ManufacturerRebate': u'Yes', u'ReviewDate': u'08/10/13', u'ReviewText': u' The phone is easy to use', u'UserID': u'wtebs99', u'ProductCategory': u'Smart Phone', u'ProductModelName': u'Galaxy S4', u'UserAge': u'55', u'RetailerOnSale': u'Yes', u'ManufacturerName': u'Samsung', u'ReviewRating': u'5', u'UserGender': u'Female', u'RetailerZip': u'94102', u'_id': ObjectId('592f27286cb48027a4cbf379'), u'RetailerCity': u'San Francisco'}\n",
      "{u'RetailerName': u'hhgregg', u'UserOccupation': u'Programmer', u'ProductPrice': u'960', u'RetailerState': u'OH', u'ManufacturerRebate': u'No', u'ReviewDate': u'12/20/2014', u'ReviewText': u' The size is perfect and it feels amazing. Games', u'UserID': u'ixrmc63', u'ProductCategory': u'Smart Phone', u'ProductModelName': u'iPhone 6', u'UserAge': u'55', u'RetailerOnSale': u'No', u'ManufacturerName': u'Apple', u'ReviewRating': u'5', u'UserGender': u'Male', u'RetailerZip': u'44114', u'_id': ObjectId('592f27286cb48027a4cbf3b1'), u'RetailerCity': u'Cleveland'}\n",
      "{u'RetailerName': u'Frys', u'UserOccupation': u'Accountant', u'ProductPrice': u'349', u'RetailerState': u'IL', u'ManufacturerRebate': u'No', u'ReviewDate': u'12/14/2014', u'ReviewText': u' I wanted this tablet for watching Netflix', u'UserID': u'ardij3', u'ProductCategory': u'Tablet', u'ProductModelName': u'Samsung Tab 4', u'UserAge': u'55', u'RetailerOnSale': u'No', u'ManufacturerName': u'Samsung', u'ReviewRating': u'5', u'UserGender': u'Female', u'RetailerZip': u'60585', u'_id': ObjectId('592f27286cb48027a4cbf3e1'), u'RetailerCity': u'Naperville'}\n",
      "{u'RetailerName': u'hhgregg', u'UserOccupation': u'Accountant', u'ProductPrice': u'1900', u'RetailerState': u'CA', u'ManufacturerRebate': u'No', u'ReviewDate': u'7/21/2014', u'ReviewText': u'The best picture I have ever seen.', u'UserID': u'iwezm68', u'ProductCategory': u'TV', u'ProductModelName': u'Samsung TV 65 Curved', u'UserAge': u'55', u'RetailerOnSale': u'No', u'ManufacturerName': u'Samsung', u'ReviewRating': u'5', u'UserGender': u'Male', u'RetailerZip': u'94158', u'_id': ObjectId('592f27286cb48027a4cbf425'), u'RetailerCity': u'San Francisco'}\n",
      "{u'RetailerName': u'Walmart', u'UserOccupation': u'Secratary', u'ProductPrice': u'425', u'RetailerState': u'CA', u'ManufacturerRebate': u'No', u'ReviewDate': u'6/25/2014', u'ReviewText': u'The iPad Air is a big improvement over the prior generation iPads with a retina display.', u'UserID': u'flbmw82', u'ProductCategory': u'Tablet', u'ProductModelName': u'iPad Air', u'UserAge': u'55', u'RetailerOnSale': u'Yes', u'ManufacturerName': u'Apple', u'ReviewRating': u'5', u'UserGender': u'Female', u'RetailerZip': u'90033', u'_id': ObjectId('592f27286cb48027a4cbf42d'), u'RetailerCity': u'Los Angeles'}\n",
      "{u'RetailerName': u'Walmart', u'UserOccupation': u'Unknown', u'ProductPrice': u'925', u'RetailerState': u'CA', u'ManufacturerRebate': u'No', u'ReviewDate': u'4/19/2014', u'ReviewText': u'play a game and in 2 hours the battery dies', u'UserID': u'dlqia12', u'ProductCategory': u'Tablet', u'ProductModelName': u'Surface 3', u'UserAge': u'55', u'RetailerOnSale': u'No', u'ManufacturerName': u'Microsoft', u'ReviewRating': u'1', u'UserGender': u'Female', u'RetailerZip': u'90012', u'_id': ObjectId('592f27286cb48027a4cbf43b'), u'RetailerCity': u'Los Angeles'}\n",
      "{u'RetailerName': u'hhgregg', u'UserOccupation': u'Secratary', u'ProductPrice': u'849', u'RetailerState': u'IL', u'ManufacturerRebate': u'Yes', u'ReviewDate': u'12/20/2014', u'ReviewText': u'Great picture quality and color.', u'UserID': u'fwtag2', u'ProductCategory': u'TV', u'ProductModelName': u'LG 65', u'UserAge': u'55', u'RetailerOnSale': u'Yes', u'ManufacturerName': u'LG', u'ReviewRating': u'5', u'UserGender': u'Female', u'RetailerZip': u'60616', u'_id': ObjectId('592f27286cb48027a4cbf4b8'), u'RetailerCity': u'Chicago'}\n",
      "{u'RetailerName': u'Bestbuy', u'UserOccupation': u'Manager', u'ProductPrice': u'319', u'RetailerState': u'FL', u'ManufacturerRebate': u'No', u'ReviewDate': u'2/14/2014', u'ReviewText': u' Good laptop', u'UserID': u'wwlgg65', u'ProductCategory': u'Laptop', u'ProductModelName': u'HP PAVALION  15.6', u'UserAge': u'55', u'RetailerOnSale': u'No', u'ManufacturerName': u'HP', u'ReviewRating': u'5', u'UserGender': u'Male', u'RetailerZip': u'33129', u'_id': ObjectId('592f27286cb48027a4cbf4de'), u'RetailerCity': u'Miami'}\n",
      "{u'RetailerName': u'hhgregg', u'UserOccupation': u'Accountant', u'ProductPrice': u'1900', u'RetailerState': u'FL', u'ManufacturerRebate': u'No', u'ReviewDate': u'04/01/15', u'ReviewText': u'I would recommend this tv. ', u'UserID': u'bvxwr55', u'ProductCategory': u'TV', u'ProductModelName': u'Samsung TV 65 Curved', u'UserAge': u'55', u'RetailerOnSale': u'No', u'ManufacturerName': u'Samsung', u'ReviewRating': u'5', u'UserGender': u'Male', u'RetailerZip': u'33129', u'_id': ObjectId('592f27286cb48027a4cbf4fd'), u'RetailerCity': u'Miami'}\n",
      "{u'RetailerName': u'Target', u'UserOccupation': u'Student', u'ProductPrice': u'1899', u'RetailerState': u'IL', u'ManufacturerRebate': u'Yes', u'ReviewDate': u'10/28/2014', u'ReviewText': u'Curved feature creates a slightly 3d feel. ', u'UserID': u'yqmif85', u'ProductCategory': u'TV', u'ProductModelName': u'Samsung TV 65 Curved', u'UserAge': u'55', u'RetailerOnSale': u'Yes', u'ManufacturerName': u'Samsung', u'ReviewRating': u'4', u'UserGender': u'Male', u'RetailerZip': u'60603', u'_id': ObjectId('592f27286cb48027a4cbf540'), u'RetailerCity': u'Chicago'}\n",
      "{u'RetailerName': u'Walmart', u'UserOccupation': u'Accountant', u'ProductPrice': u'589', u'RetailerState': u'OH', u'ManufacturerRebate': u'No', u'ReviewDate': u'10/28/2014', u'ReviewText': u' I was debating between the two new iPhones', u'UserID': u'sbdia81', u'ProductCategory': u'Smart Phone', u'ProductModelName': u'iPhone 6', u'UserAge': u'55', u'RetailerOnSale': u'No', u'ManufacturerName': u'Apple', u'ReviewRating': u'5', u'UserGender': u'Female', u'RetailerZip': u'44114', u'_id': ObjectId('592f27286cb48027a4cbf55d'), u'RetailerCity': u'Cleveland'}\n",
      "{u'RetailerName': u'Walmart', u'UserOccupation': u'Manager', u'ProductPrice': u'299', u'RetailerState': u'FL', u'ManufacturerRebate': u'No', u'ReviewDate': u'7/23/2014', u'ReviewText': u'My favorite part of this phone is the fingerprint access! So much easier to unlock with a touch of a button.', u'UserID': u'htgny69', u'ProductCategory': u'Smart Phone', u'ProductModelName': u'iPhone 6', u'UserAge': u'55', u'RetailerOnSale': u'Yes', u'ManufacturerName': u'Apple', u'ReviewRating': u'5', u'UserGender': u'Female', u'RetailerZip': u'33129', u'_id': ObjectId('592f27286cb48027a4cbf59c'), u'RetailerCity': u'Miami'}\n",
      "{u'RetailerName': u'Target', u'UserOccupation': u'Manager', u'ProductPrice': u'402', u'RetailerState': u'IL', u'ManufacturerRebate': u'No', u'ReviewDate': u'2/29/2015', u'ReviewText': u' I upgraded from my Galaxy S3 with a little hesitation. It looked the same', u'UserID': u'kwxca46', u'ProductCategory': u'Smart Phone', u'ProductModelName': u'Galaxy S4', u'UserAge': u'55', u'RetailerOnSale': u'No', u'ManufacturerName': u'Samsung', u'ReviewRating': u'4', u'UserGender': u'Male', u'RetailerZip': u'60585', u'_id': ObjectId('592f27286cb48027a4cbf5c2'), u'RetailerCity': u'Naperville'}\n",
      "{u'RetailerName': u'Walmart', u'UserOccupation': u'Programmer', u'ProductPrice': u'376', u'RetailerState': u'OH', u'ManufacturerRebate': u'No', u'ReviewDate': u'11/10/14', u'ReviewText': u\"I like having the ability to use keyboard/touchscreen and ease of access. It doesn't replace my iPad but offers me more functionality.\", u'UserID': u'jlnnr92', u'ProductCategory': u'Laptop', u'ProductModelName': u'HP PAVALION  15.6', u'UserAge': u'55', u'RetailerOnSale': u'No', u'ManufacturerName': u'HP', u'ReviewRating': u'5', u'UserGender': u'Male', u'RetailerZip': u'44114', u'_id': ObjectId('592f27286cb48027a4cbf5dc'), u'RetailerCity': u'Cleveland'}\n",
      "{u'RetailerName': u'Bestbuy', u'UserOccupation': u'Accountant', u'ProductPrice': u'425', u'RetailerState': u'FL', u'ManufacturerRebate': u'No', u'ReviewDate': u'6/21/2014', u'ReviewText': u\"Picked this up on a day my original one died out. Haven't been disappointed yet. Great product for the price. Highly recommended\", u'UserID': u'ihtap56', u'ProductCategory': u'Tablet', u'ProductModelName': u'iPad Air', u'UserAge': u'55', u'RetailerOnSale': u'Yes', u'ManufacturerName': u'Apple', u'ReviewRating': u'5', u'UserGender': u'Female', u'RetailerZip': u'33129', u'_id': ObjectId('592f27286cb48027a4cbf5f3'), u'RetailerCity': u'Miami'}\n",
      "{u'RetailerName': u'hhgregg', u'UserOccupation': u'Programmer', u'ProductPrice': u'499', u'RetailerState': u'CA', u'ManufacturerRebate': u'No', u'ReviewDate': u'7/23/2014', u'ReviewText': u' I upgraded to the IPad Air by trading in my old one for credit to purchase this one. I loved the old one', u'UserID': u'mwpbd84', u'ProductCategory': u'Tablet', u'ProductModelName': u'iPad Air', u'UserAge': u'55', u'RetailerOnSale': u'No', u'ManufacturerName': u'Apple', u'ReviewRating': u'5', u'UserGender': u'Male', u'RetailerZip': u'90012', u'_id': ObjectId('592f27286cb48027a4cbf5ff'), u'RetailerCity': u'Los Angeles'}\n",
      "{u'RetailerName': u'Target', u'UserOccupation': u'Unknown', u'ProductPrice': u'2099', u'RetailerState': u'OH', u'ManufacturerRebate': u'No', u'ReviewDate': u'5/15/2013', u'ReviewText': u'Bought this as a second 4K to go along with my Sony. ', u'UserID': u'pqfld34', u'ProductCategory': u'TV', u'ProductModelName': u'Samsung TV 65 Curved', u'UserAge': u'55', u'RetailerOnSale': u'Yes', u'ManufacturerName': u'Samsung', u'ReviewRating': u'4', u'UserGender': u'Male', u'RetailerZip': u'44114', u'_id': ObjectId('592f27286cb48027a4cbf620'), u'RetailerCity': u'Cleveland'}\n",
      "{u'RetailerName': u'Walmart', u'UserOccupation': u'Student', u'ProductPrice': u'999', u'RetailerState': u'FL', u'ManufacturerRebate': u'No', u'ReviewDate': u'8/21/2014', u'ReviewText': u' Out of the box', u'UserID': u'weqht69', u'ProductCategory': u'TV', u'ProductModelName': u'LG 65', u'UserAge': u'55', u'RetailerOnSale': u'No', u'ManufacturerName': u'LG', u'ReviewRating': u'4', u'UserGender': u'Male', u'RetailerZip': u'33130', u'_id': ObjectId('592f27286cb48027a4cbf637'), u'RetailerCity': u'Miami'}\n",
      "{u'RetailerName': u'Frys', u'UserOccupation': u'Accountant', u'ProductPrice': u'499', u'RetailerState': u'CA', u'ManufacturerRebate': u'No', u'ReviewDate': u'9/19/2013', u'ReviewText': u\" I use my Dell laptop in conjunction with my 25   large screen and it's fabulous and makes viewing sooo much easier./ \", u'UserID': u'pcvfo48', u'ProductCategory': u'Laptop', u'ProductModelName': u'Dell Ispiron 15.6', u'UserAge': u'55', u'RetailerOnSale': u'No', u'ManufacturerName': u'Dell', u'ReviewRating': u'5', u'UserGender': u'Male', u'RetailerZip': u'94158', u'_id': ObjectId('592f27286cb48027a4cbf642'), u'RetailerCity': u'San Francisco'}\n",
      "{u'RetailerName': u'hhgregg', u'UserOccupation': u'Manager', u'ProductPrice': u'299', u'RetailerState': u'CA', u'ManufacturerRebate': u'No', u'ReviewDate': u'8/21/2014', u'ReviewText': u'Does everything I expected and more. Battery life is excellent.', u'UserID': u'nagnl65', u'ProductCategory': u'Tablet', u'ProductModelName': u'Samsung Tab 4', u'UserAge': u'55', u'RetailerOnSale': u'Yes', u'ManufacturerName': u'Samsung', u'ReviewRating': u'4', u'UserGender': u'Female', u'RetailerZip': u'90033', u'_id': ObjectId('592f27286cb48027a4cbf666'), u'RetailerCity': u'Los Angeles'}\n",
      "{u'RetailerName': u'Frys', u'UserOccupation': u'Unknown', u'ProductPrice': u'328', u'RetailerState': u'CA', u'ManufacturerRebate': u'Yes', u'ReviewDate': u'05/12/14', u'ReviewText': u'Screen size rocks along with amazing performance.', u'UserID': u'ggsns50', u'ProductCategory': u'Laptop', u'ProductModelName': u'Dell Ispiron 15.6', u'UserAge': u'55', u'RetailerOnSale': u'Yes', u'ManufacturerName': u'Dell', u'ReviewRating': u'5', u'UserGender': u'Male', u'RetailerZip': u'94158', u'_id': ObjectId('592f27286cb48027a4cbf698'), u'RetailerCity': u'San Francisco'}\n",
      "{u'RetailerName': u'Walmart', u'UserOccupation': u'Accountant', u'ProductPrice': u'1100', u'RetailerState': u'CA', u'ManufacturerRebate': u'No', u'ReviewDate': u'12/10/14', u'ReviewText': u' Very happy with the T.V. Has a great picture', u'UserID': u'aerzo88', u'ProductCategory': u'TV', u'ProductModelName': u'Samsung TV 60 LED', u'UserAge': u'55', u'RetailerOnSale': u'Yes', u'ManufacturerName': u'Samsung', u'ReviewRating': u'4', u'UserGender': u'Female', u'RetailerZip': u'94158', u'_id': ObjectId('592f27286cb48027a4cbf6d1'), u'RetailerCity': u'San Francisco'}\n",
      "{u'RetailerName': u'hhgregg', u'UserOccupation': u'Unknown', u'ProductPrice': u'349', u'RetailerState': u'CA', u'ManufacturerRebate': u'No', u'ReviewDate': u'8/21/2014', u'ReviewText': u'I bought this tablet as a gift for my technically challenged dad. After a few lessons he was able to operate on his own. ', u'UserID': u'mxizq83', u'ProductCategory': u'Tablet', u'ProductModelName': u'Samsung Tab 4', u'UserAge': u'55', u'RetailerOnSale': u'No', u'ManufacturerName': u'Samsung', u'ReviewRating': u'4', u'UserGender': u'Male', u'RetailerZip': u'94158', u'_id': ObjectId('592f27286cb48027a4cbf753'), u'RetailerCity': u'San Francisco'}\n",
      "{u'RetailerName': u'Target', u'UserOccupation': u'Accountant', u'ProductPrice': u'425', u'RetailerState': u'MA', u'ManufacturerRebate': u'No', u'ReviewDate': u'10/10/13', u'ReviewText': u'Battery life is great. Picture is wonderful. I wish I purchased the LTE version so I could take it everywhere!', u'UserID': u'glzhw30', u'ProductCategory': u'Tablet', u'ProductModelName': u'iPad Air', u'UserAge': u'55', u'RetailerOnSale': u'Yes', u'ManufacturerName': u'Apple', u'ReviewRating': u'4', u'UserGender': u'Male', u'RetailerZip': u'2108', u'_id': ObjectId('592f27286cb48027a4cbf7dc'), u'RetailerCity': u'Boston'}\n",
      "{u'RetailerName': u'Frys', u'UserOccupation': u'Programmer', u'ProductPrice': u'499', u'RetailerState': u'FL', u'ManufacturerRebate': u'No', u'ReviewDate': u'6/21/2014', u'ReviewText': u' Beautifully built', u'UserID': u'ageuz4', u'ProductCategory': u'Tablet', u'ProductModelName': u'iPad Air', u'UserAge': u'55', u'RetailerOnSale': u'No', u'ManufacturerName': u'Apple', u'ReviewRating': u'5', u'UserGender': u'Male', u'RetailerZip': u'33129', u'_id': ObjectId('592f27286cb48027a4cbf7de'), u'RetailerCity': u'Miami'}\n",
      "{u'RetailerName': u'Frys', u'UserOccupation': u'Unknown', u'ProductPrice': u'269', u'RetailerState': u'GA', u'ManufacturerRebate': u'Yes', u'ReviewDate': u'2/26/2014', u'ReviewText': u' Overall the phone is very good. Great camera & settings. 4g is very fast', u'UserID': u'qzzlj84', u'ProductCategory': u'Smart Phone', u'ProductModelName': u'Galaxy S4', u'UserAge': u'55', u'RetailerOnSale': u'Yes', u'ManufacturerName': u'Samsung', u'ReviewRating': u'4', u'UserGender': u'Male', u'RetailerZip': u'30134', u'_id': ObjectId('592f27286cb48027a4cbf85e'), u'RetailerCity': u'Atlanta'}\n",
      "{u'RetailerName': u'Frys', u'UserOccupation': u'Secratary', u'ProductPrice': u'2250', u'RetailerState': u'IL', u'ManufacturerRebate': u'No', u'ReviewDate': u'5/15/2013', u'ReviewText': u'Problems arose after 2 days of owning the tv. White spots began appearing on my screen.', u'UserID': u'hpydo97', u'ProductCategory': u'TV', u'ProductModelName': u'LG 65', u'UserAge': u'55', u'RetailerOnSale': u'No', u'ManufacturerName': u'LG', u'ReviewRating': u'1', u'UserGender': u'Female', u'RetailerZip': u'60616', u'_id': ObjectId('592f27286cb48027a4cbf8f4'), u'RetailerCity': u'Chicago'}\n",
      "{u'RetailerName': u'hhgregg', u'UserOccupation': u'Secratary', u'ProductPrice': u'2099', u'RetailerState': u'MA', u'ManufacturerRebate': u'No', u'ReviewDate': u'12/01/14', u'ReviewText': u'Had bask luck the day we brought it home.', u'UserID': u'anpih0', u'ProductCategory': u'TV', u'ProductModelName': u'Samsung TV 65 Curved', u'UserAge': u'55', u'RetailerOnSale': u'Yes', u'ManufacturerName': u'Samsung', u'ReviewRating': u'2', u'UserGender': u'Female', u'RetailerZip': u'2110', u'_id': ObjectId('592f27286cb48027a4cbf909'), u'RetailerCity': u'Boston'}\n",
      "{u'RetailerName': u'Frys', u'UserOccupation': u'Unknown', u'ProductPrice': u'299', u'RetailerState': u'IL', u'ManufacturerRebate': u'Yes', u'ReviewDate': u'4/29/2014', u'ReviewText': u'Very easy to use. First ipad purchase and have no problems', u'UserID': u'wmbjn58', u'ProductCategory': u'Tablet', u'ProductModelName': u'iPad Air', u'UserAge': u'55', u'RetailerOnSale': u'Yes', u'ManufacturerName': u'Apple', u'ReviewRating': u'5', u'UserGender': u'Male', u'RetailerZip': u'60585', u'_id': ObjectId('592f27286cb48027a4cbf90a'), u'RetailerCity': u'Naperville'}\n",
      "{u'RetailerName': u'Bestbuy', u'UserOccupation': u'Accountant', u'ProductPrice': u'299', u'RetailerState': u'FL', u'ManufacturerRebate': u'No', u'ReviewDate': u'02/01/13', u'ReviewText': u'Outstanding computer for the money.', u'UserID': u'gcazr42', u'ProductCategory': u'Laptop', u'ProductModelName': u'HP PAVALION  15.6', u'UserAge': u'56', u'RetailerOnSale': u'Yes', u'ManufacturerName': u'HP', u'ReviewRating': u'5', u'UserGender': u'Female', u'RetailerZip': u'33129', u'_id': ObjectId('592f27286cb48027a4cbf15e'), u'RetailerCity': u'Miami'}\n",
      "{u'RetailerName': u'hhgregg', u'UserOccupation': u'Accountant', u'ProductPrice': u'425', u'RetailerState': u'MA', u'ManufacturerRebate': u'No', u'ReviewDate': u'10/10/13', u'ReviewText': u'So glad I finally made the purchase! I use it everyday!', u'UserID': u'wnvvy21', u'ProductCategory': u'Tablet', u'ProductModelName': u'iPad Air', u'UserAge': u'56', u'RetailerOnSale': u'Yes', u'ManufacturerName': u'Apple', u'ReviewRating': u'5', u'UserGender': u'Female', u'RetailerZip': u'2110', u'_id': ObjectId('592f27286cb48027a4cbf176'), u'RetailerCity': u'Boston'}\n",
      "{u'RetailerName': u'hhgregg', u'UserOccupation': u'Secratary', u'ProductPrice': u'449', u'RetailerState': u'CA', u'ManufacturerRebate': u'No', u'ReviewDate': u'6/18/2014', u'ReviewText': u'I gave this as a gift. It has been a little troublesome with battery. But manufacturer is working with us.', u'UserID': u'omsdk39', u'ProductCategory': u'Laptop', u'ProductModelName': u'Dell Ispiron 15.6', u'UserAge': u'56', u'RetailerOnSale': u'Yes', u'ManufacturerName': u'Dell', u'ReviewRating': u'3', u'UserGender': u'Male', u'RetailerZip': u'90033', u'_id': ObjectId('592f27286cb48027a4cbf1b1'), u'RetailerCity': u'Los Angeles'}\n",
      "{u'RetailerName': u'hhgregg', u'UserOccupation': u'Programmer', u'ProductPrice': u'319', u'RetailerState': u'CA', u'ManufacturerRebate': u'No', u'ReviewDate': u'11/29/2014', u'ReviewText': u'battery lasts for less than 2 hours.', u'UserID': u'diejc61', u'ProductCategory': u'Laptop', u'ProductModelName': u'HP PAVALION  15.6', u'UserAge': u'56', u'RetailerOnSale': u'No', u'ManufacturerName': u'HP', u'ReviewRating': u'1', u'UserGender': u'Male', u'RetailerZip': u'90033', u'_id': ObjectId('592f27286cb48027a4cbf1f2'), u'RetailerCity': u'Los Angeles'}\n",
      "{u'RetailerName': u'Walmart', u'UserOccupation': u'Accountant', u'ProductPrice': u'390', u'RetailerState': u'MA', u'ManufacturerRebate': u'No', u'ReviewDate': u'9/13/2013', u'ReviewText': u'I love my android. Had the AT&T smartphone first. Did not like it!!! I love Samsung. Love the larger size and very good HDscreen! Like selection of apps to get. LOVE IT??', u'UserID': u'nxyjy62', u'ProductCategory': u'Smart Phone', u'ProductModelName': u'Galaxy S4', u'UserAge': u'56', u'RetailerOnSale': u'Yes', u'ManufacturerName': u'Samsung', u'ReviewRating': u'4', u'UserGender': u'Male', u'RetailerZip': u'2110', u'_id': ObjectId('592f27286cb48027a4cbf229'), u'RetailerCity': u'Boston'}\n",
      "{u'RetailerName': u'Bestbuy', u'UserOccupation': u'Secratary', u'ProductPrice': u'299', u'RetailerState': u'CA', u'ManufacturerRebate': u'No', u'ReviewDate': u'5/23/2014', u'ReviewText': u'I like apple phones because they are well built. Easy to use', u'UserID': u'xdecm34', u'ProductCategory': u'Smart Phone', u'ProductModelName': u'iPhone 6', u'UserAge': u'56', u'RetailerOnSale': u'Yes', u'ManufacturerName': u'Apple', u'ReviewRating': u'5', u'UserGender': u'Male', u'RetailerZip': u'94102', u'_id': ObjectId('592f27286cb48027a4cbf243'), u'RetailerCity': u'San Francisco'}\n",
      "{u'RetailerName': u'hhgregg', u'UserOccupation': u'Unknown', u'ProductPrice': u'499', u'RetailerState': u'CA', u'ManufacturerRebate': u'No', u'ReviewDate': u'6/21/2014', u'ReviewText': u'Great battery life and very user friendly.', u'UserID': u'srese51', u'ProductCategory': u'Laptop', u'ProductModelName': u'Dell Ispiron 15.6', u'UserAge': u'56', u'RetailerOnSale': u'No', u'ManufacturerName': u'Dell', u'ReviewRating': u'5', u'UserGender': u'Male', u'RetailerZip': u'94102', u'_id': ObjectId('592f27286cb48027a4cbf247'), u'RetailerCity': u'San Francisco'}\n",
      "{u'RetailerName': u'Frys', u'UserOccupation': u'Student', u'ProductPrice': u'298', u'RetailerState': u'CA', u'ManufacturerRebate': u'Yes', u'ReviewDate': u'8/21/2014', u'ReviewText': u'Awesome notebook has everything that I was looking for', u'UserID': u'qzess37', u'ProductCategory': u'Laptop', u'ProductModelName': u'HP PAVALION  15.6', u'UserAge': u'56', u'RetailerOnSale': u'Yes', u'ManufacturerName': u'HP', u'ReviewRating': u'4', u'UserGender': u'Male', u'RetailerZip': u'90033', u'_id': ObjectId('592f27286cb48027a4cbf2f6'), u'RetailerCity': u'Los Angeles'}\n",
      "{u'RetailerName': u'Frys', u'UserOccupation': u'Manager', u'ProductPrice': u'499', u'RetailerState': u'MA', u'ManufacturerRebate': u'No', u'ReviewDate': u'8/18/2014', u'ReviewText': u' Excellent laptop', u'UserID': u'ylbbe81', u'ProductCategory': u'Laptop', u'ProductModelName': u'Dell Ispiron 15.6', u'UserAge': u'56', u'RetailerOnSale': u'No', u'ManufacturerName': u'Dell', u'ReviewRating': u'5', u'UserGender': u'Male', u'RetailerZip': u'2110', u'_id': ObjectId('592f27286cb48027a4cbf2f8'), u'RetailerCity': u'Boston'}\n",
      "{u'RetailerName': u'Walmart', u'UserOccupation': u'Accountant', u'ProductPrice': u'425', u'RetailerState': u'CA', u'ManufacturerRebate': u'No', u'ReviewDate': u'02/01/13', u'ReviewText': u' Come from the Windows world', u'UserID': u'gfqzi72', u'ProductCategory': u'Tablet', u'ProductModelName': u'iPad Air', u'UserAge': u'56', u'RetailerOnSale': u'Yes', u'ManufacturerName': u'Apple', u'ReviewRating': u'5', u'UserGender': u'Female', u'RetailerZip': u'90012', u'_id': ObjectId('592f27286cb48027a4cbf30a'), u'RetailerCity': u'Los Angeles'}\n",
      "{u'RetailerName': u'hhgregg', u'UserOccupation': u'Secratary', u'ProductPrice': u'2199', u'RetailerState': u'MA', u'ManufacturerRebate': u'No', u'ReviewDate': u'10/28/2014', u'ReviewText': u'The TV is very invasive with the Internet connected.', u'UserID': u'fovlj27', u'ProductCategory': u'TV', u'ProductModelName': u'Samsung TV 65 Curved', u'UserAge': u'56', u'RetailerOnSale': u'No', u'ManufacturerName': u'Samsung', u'ReviewRating': u'4', u'UserGender': u'Male', u'RetailerZip': u'2108', u'_id': ObjectId('592f27286cb48027a4cbf35e'), u'RetailerCity': u'Boston'}\n",
      "{u'RetailerName': u'Target', u'UserOccupation': u'Secratary', u'ProductPrice': u'298', u'RetailerState': u'FL', u'ManufacturerRebate': u'Yes', u'ReviewDate': u'5/19/2014', u'ReviewText': u'Outstanding computer for the money.', u'UserID': u'ohits34', u'ProductCategory': u'Laptop', u'ProductModelName': u'HP PAVALION  15.6', u'UserAge': u'56', u'RetailerOnSale': u'Yes', u'ManufacturerName': u'HP', u'ReviewRating': u'5', u'UserGender': u'Male', u'RetailerZip': u'33130', u'_id': ObjectId('592f27286cb48027a4cbf37c'), u'RetailerCity': u'Miami'}\n",
      "{u'RetailerName': u'hhgregg', u'UserOccupation': u'Secratary', u'ProductPrice': u'1100', u'RetailerState': u'CA', u'ManufacturerRebate': u'No', u'ReviewDate': u'2/15/2015', u'ReviewText': u' I had troubles from the beginning with the Netflix app', u'UserID': u'jhquf43', u'ProductCategory': u'TV', u'ProductModelName': u'Samsung TV 60 LED', u'UserAge': u'56', u'RetailerOnSale': u'Yes', u'ManufacturerName': u'Samsung', u'ReviewRating': u'1', u'UserGender': u'Male', u'RetailerZip': u'94102', u'_id': ObjectId('592f27286cb48027a4cbf3dd'), u'RetailerCity': u'San Francisco'}\n",
      "{u'RetailerName': u'hhgregg', u'UserOccupation': u'Student', u'ProductPrice': u'960', u'RetailerState': u'CA', u'ManufacturerRebate': u'No', u'ReviewDate': u'10/25/2014', u'ReviewText': u' Finally the right size for iPhone. Fingerprint sensor is interesting. Camera is better. Other than that', u'UserID': u'ehpkj27', u'ProductCategory': u'Smart Phone', u'ProductModelName': u'iPhone 6', u'UserAge': u'56', u'RetailerOnSale': u'No', u'ManufacturerName': u'Apple', u'ReviewRating': u'4', u'UserGender': u'Male', u'RetailerZip': u'94158', u'_id': ObjectId('592f27286cb48027a4cbf3e4'), u'RetailerCity': u'San Francisco'}\n",
      "{u'RetailerName': u'Frys', u'UserOccupation': u'Unknown', u'ProductPrice': u'349', u'RetailerState': u'CA', u'ManufacturerRebate': u'No', u'ReviewDate': u'8/21/2014', u'ReviewText': u'I was looking for an upgrade for my old laptop and this was the answer from a price/performance standpoint.', u'UserID': u'colkq67', u'ProductCategory': u'Laptop', u'ProductModelName': u'Dell Ispiron 15.6', u'UserAge': u'56', u'RetailerOnSale': u'Yes', u'ManufacturerName': u'Dell', u'ReviewRating': u'4', u'UserGender': u'Male', u'RetailerZip': u'94158', u'_id': ObjectId('592f27286cb48027a4cbf3e5'), u'RetailerCity': u'San Francisco'}\n",
      "{u'RetailerName': u'Frys', u'UserOccupation': u'Secratary', u'ProductPrice': u'269', u'RetailerState': u'FL', u'ManufacturerRebate': u'Yes', u'ReviewDate': u'5/19/2014', u'ReviewText': u'I LOVE this phone. So glad I got it over the iphone. Does everything I need and its solid', u'UserID': u'ihiky73', u'ProductCategory': u'Smart Phone', u'ProductModelName': u'Galaxy S4', u'UserAge': u'56', u'RetailerOnSale': u'Yes', u'ManufacturerName': u'Samsung', u'ReviewRating': u'5', u'UserGender': u'Male', u'RetailerZip': u'33130', u'_id': ObjectId('592f27286cb48027a4cbf41d'), u'RetailerCity': u'Miami'}\n",
      "{u'RetailerName': u'Target', u'UserOccupation': u'Secratary', u'ProductPrice': u'319', u'RetailerState': u'CA', u'ManufacturerRebate': u'No', u'ReviewDate': u'9/14/2014', u'ReviewText': u\" although there are many apps that I'll probably not use\", u'UserID': u'sfpcd84', u'ProductCategory': u'Laptop', u'ProductModelName': u'HP PAVALION  15.6', u'UserAge': u'56', u'RetailerOnSale': u'No', u'ManufacturerName': u'HP', u'ReviewRating': u'5', u'UserGender': u'Male', u'RetailerZip': u'90012', u'_id': ObjectId('592f27286cb48027a4cbf422'), u'RetailerCity': u'Los Angeles'}\n",
      "{u'RetailerName': u'Frys', u'UserOccupation': u'Secratary', u'ProductPrice': u'589', u'RetailerState': u'IL', u'ManufacturerRebate': u'No', u'ReviewDate': u'8/21/2014', u'ReviewText': u'his phone is everything I expected from Apple with the Bestbuy discounts..', u'UserID': u'yykgm7', u'ProductCategory': u'Smart Phone', u'ProductModelName': u'iPhone 6', u'UserAge': u'56', u'RetailerOnSale': u'No', u'ManufacturerName': u'Apple', u'ReviewRating': u'5', u'UserGender': u'Male', u'RetailerZip': u'60603', u'_id': ObjectId('592f27286cb48027a4cbf457'), u'RetailerCity': u'Chicago'}\n",
      "{u'RetailerName': u'hhgregg', u'UserOccupation': u'Unknown', u'ProductPrice': u'399', u'RetailerState': u'CA', u'ManufacturerRebate': u'No', u'ReviewDate': u'10/28/2014', u'ReviewText': u'I have have had several iPhones sin 1st gen and they keep getting better', u'UserID': u'uybhs47', u'ProductCategory': u'Smart Phone', u'ProductModelName': u'iPhone 6', u'UserAge': u'56', u'RetailerOnSale': u'No', u'ManufacturerName': u'Apple', u'ReviewRating': u'5', u'UserGender': u'Male', u'RetailerZip': u'90033', u'_id': ObjectId('592f27286cb48027a4cbf473'), u'RetailerCity': u'Los Angeles'}\n",
      "{u'RetailerName': u'hhgregg', u'UserOccupation': u'Manager', u'ProductPrice': u'298', u'RetailerState': u'IL', u'ManufacturerRebate': u'Yes', u'ReviewDate': u'12/27/2014', u'ReviewText': u'I am starting to go to a computer next week to help me learn how to get work my computer beter', u'UserID': u'wrimt76', u'ProductCategory': u'Laptop', u'ProductModelName': u'HP PAVALION  15.6', u'UserAge': u'56', u'RetailerOnSale': u'Yes', u'ManufacturerName': u'HP', u'ReviewRating': u'4', u'UserGender': u'Male', u'RetailerZip': u'60585', u'_id': ObjectId('592f27286cb48027a4cbf4ad'), u'RetailerCity': u'Naperville'}\n",
      "{u'RetailerName': u'Frys', u'UserOccupation': u'Accountant', u'ProductPrice': u'425', u'RetailerState': u'CA', u'ManufacturerRebate': u'No', u'ReviewDate': u'2/29/2015', u'ReviewText': u' I love all Apple products the iPad is great', u'UserID': u'jiydt55', u'ProductCategory': u'Tablet', u'ProductModelName': u'iPad Air', u'UserAge': u'56', u'RetailerOnSale': u'Yes', u'ManufacturerName': u'Apple', u'ReviewRating': u'5', u'UserGender': u'Male', u'RetailerZip': u'94102', u'_id': ObjectId('592f27286cb48027a4cbf4d4'), u'RetailerCity': u'San Francisco'}\n",
      "{u'RetailerName': u'Frys', u'UserOccupation': u'Student', u'ProductPrice': u'2099', u'RetailerState': u'CA', u'ManufacturerRebate': u'No', u'ReviewDate': u'8/21/2014', u'ReviewText': u'The picture is really good', u'UserID': u'ryzab37', u'ProductCategory': u'TV', u'ProductModelName': u'Samsung TV 65 Curved', u'UserAge': u'56', u'RetailerOnSale': u'Yes', u'ManufacturerName': u'Samsung', u'ReviewRating': u'4', u'UserGender': u'Female', u'RetailerZip': u'94158', u'_id': ObjectId('592f27286cb48027a4cbf502'), u'RetailerCity': u'San Francisco'}\n",
      "{u'RetailerName': u'Walmart', u'UserOccupation': u'Manager', u'ProductPrice': u'299', u'RetailerState': u'CA', u'ManufacturerRebate': u'No', u'ReviewDate': u'7/19/2014', u'ReviewText': u'Lowest priced computer I could find with a touchscreen and I couldnt be any happier with it! Just what i needed/wanted with a low price!', u'UserID': u'ehtqj86', u'ProductCategory': u'Laptop', u'ProductModelName': u'HP PAVALION  15.6', u'UserAge': u'56', u'RetailerOnSale': u'Yes', u'ManufacturerName': u'HP', u'ReviewRating': u'5', u'UserGender': u'Female', u'RetailerZip': u'94102', u'_id': ObjectId('592f27286cb48027a4cbf523'), u'RetailerCity': u'San Francisco'}\n",
      "{u'RetailerName': u'Frys', u'UserOccupation': u'Accountant', u'ProductPrice': u'319', u'RetailerState': u'MA', u'ManufacturerRebate': u'No', u'ReviewDate': u'12/14/2014', u'ReviewText': u'Really enjoy the touch screen. New windows is great!', u'UserID': u'uqqmu57', u'ProductCategory': u'Laptop', u'ProductModelName': u'HP PAVALION  15.6', u'UserAge': u'56', u'RetailerOnSale': u'No', u'ManufacturerName': u'HP', u'ReviewRating': u'5', u'UserGender': u'Female', u'RetailerZip': u'2108', u'_id': ObjectId('592f27286cb48027a4cbf529'), u'RetailerCity': u'Boston'}\n",
      "{u'RetailerName': u'Walmart', u'UserOccupation': u'Manager', u'ProductPrice': u'1899', u'RetailerState': u'FL', u'ManufacturerRebate': u'Yes', u'ReviewDate': u'2/29/2015', u'ReviewText': u' Was happier with my 55   Samsung picture ', u'UserID': u'civzp6', u'ProductCategory': u'TV', u'ProductModelName': u'Samsung TV 65 Curved', u'UserAge': u'56', u'RetailerOnSale': u'Yes', u'ManufacturerName': u'Samsung', u'ReviewRating': u'4', u'UserGender': u'Male', u'RetailerZip': u'33130', u'_id': ObjectId('592f27286cb48027a4cbf53c'), u'RetailerCity': u'Miami'}\n",
      "{u'RetailerName': u'Bestbuy', u'UserOccupation': u'Accountant', u'ProductPrice': u'349', u'RetailerState': u'CA', u'ManufacturerRebate': u'No', u'ReviewDate': u'6/18/2014', u'ReviewText': u'This laptop has a very bad wifi adapter makes the internet so much slower..', u'UserID': u'oyqum77', u'ProductCategory': u'Laptop', u'ProductModelName': u'Dell Ispiron 15.6', u'UserAge': u'56', u'RetailerOnSale': u'Yes', u'ManufacturerName': u'Dell', u'ReviewRating': u'1', u'UserGender': u'Female', u'RetailerZip': u'94158', u'_id': ObjectId('592f27286cb48027a4cbf60f'), u'RetailerCity': u'San Francisco'}\n",
      "{u'RetailerName': u'Frys', u'UserOccupation': u'Manager', u'ProductPrice': u'1200', u'RetailerState': u'IL', u'ManufacturerRebate': u'No', u'ReviewDate': u'4/19/2014', u'ReviewText': u\" It's a great TV. Love being able to watch 4k content at home on this 60 inch screen. However\", u'UserID': u'ffmmm14', u'ProductCategory': u'TV', u'ProductModelName': u'Samsung TV 60 LED', u'UserAge': u'56', u'RetailerOnSale': u'No', u'ManufacturerName': u'Samsung', u'ReviewRating': u'4', u'UserGender': u'Male', u'RetailerZip': u'60585', u'_id': ObjectId('592f27286cb48027a4cbf61b'), u'RetailerCity': u'Naperville'}\n",
      "{u'RetailerName': u'hhgregg', u'UserOccupation': u'Student', u'ProductPrice': u'2099', u'RetailerState': u'FL', u'ManufacturerRebate': u'No', u'ReviewDate': u'7/23/2014', u'ReviewText': u'curved screen has great appearance and fantastic viewing picture. ', u'UserID': u'aitpj65', u'ProductCategory': u'TV', u'ProductModelName': u'Samsung TV 65 Curved', u'UserAge': u'56', u'RetailerOnSale': u'Yes', u'ManufacturerName': u'Samsung', u'ReviewRating': u'5', u'UserGender': u'Female', u'RetailerZip': u'33129', u'_id': ObjectId('592f27286cb48027a4cbf62b'), u'RetailerCity': u'Miami'}\n",
      "{u'RetailerName': u'Target', u'UserOccupation': u'Accountant', u'ProductPrice': u'925', u'RetailerState': u'OH', u'ManufacturerRebate': u'No', u'ReviewDate': u'4/19/2014', u'ReviewText': u'Very fast and stable platform.', u'UserID': u'zpshx11', u'ProductCategory': u'Tablet', u'ProductModelName': u'Surface 3', u'UserAge': u'56', u'RetailerOnSale': u'No', u'ManufacturerName': u'Microsoft', u'ReviewRating': u'4', u'UserGender': u'Male', u'RetailerZip': u'44114', u'_id': ObjectId('592f27286cb48027a4cbf638'), u'RetailerCity': u'Cleveland'}\n",
      "{u'RetailerName': u'Bestbuy', u'UserOccupation': u'Programmer', u'ProductPrice': u'2250', u'RetailerState': u'CA', u'ManufacturerRebate': u'No', u'ReviewDate': u'12/01/14', u'ReviewText': u'This tv is great great color and real high definition easy to operate controls..', u'UserID': u'dvjfi41', u'ProductCategory': u'TV', u'ProductModelName': u'LG 65', u'UserAge': u'56', u'RetailerOnSale': u'No', u'ManufacturerName': u'LG', u'ReviewRating': u'4', u'UserGender': u'Male', u'RetailerZip': u'90012', u'_id': ObjectId('592f27286cb48027a4cbf670'), u'RetailerCity': u'Los Angeles'}\n",
      "{u'RetailerName': u'Walmart', u'UserOccupation': u'Unknown', u'ProductPrice': u'1100', u'RetailerState': u'CA', u'ManufacturerRebate': u'No', u'ReviewDate': u'12/27/2014', u'ReviewText': u'Easy set-up. Great picture. Would recommend to connect to surround sound or sound bar. The Sound is not the best. We used a Bose solo15 and the sound came to life. Overall great product.', u'UserID': u'vnlbt49', u'ProductCategory': u'TV', u'ProductModelName': u'Samsung TV 60 LED', u'UserAge': u'56', u'RetailerOnSale': u'Yes', u'ManufacturerName': u'Samsung', u'ReviewRating': u'5', u'UserGender': u'Female', u'RetailerZip': u'90012', u'_id': ObjectId('592f27286cb48027a4cbf67c'), u'RetailerCity': u'Los Angeles'}\n",
      "{u'RetailerName': u'Target', u'UserOccupation': u'Student', u'ProductPrice': u'589', u'RetailerState': u'CA', u'ManufacturerRebate': u'No', u'ReviewDate': u'8/21/2014', u'ReviewText': u'  Great audio', u'UserID': u'hesvs77', u'ProductCategory': u'Smart Phone', u'ProductModelName': u'iPhone 6', u'UserAge': u'56', u'RetailerOnSale': u'No', u'ManufacturerName': u'Apple', u'ReviewRating': u'4', u'UserGender': u'Male', u'RetailerZip': u'94102', u'_id': ObjectId('592f27286cb48027a4cbf68a'), u'RetailerCity': u'San Francisco'}\n",
      "{u'RetailerName': u'Walmart', u'UserOccupation': u'Secratary', u'ProductPrice': u'349', u'RetailerState': u'IL', u'ManufacturerRebate': u'No', u'ReviewDate': u'5/15/2013', u'ReviewText': u'Very happy with my new Dell computer! Staff was very helpful & answered all my questions. They know their stuff.', u'UserID': u'xccml92', u'ProductCategory': u'Laptop', u'ProductModelName': u'Dell Ispiron 15.6', u'UserAge': u'56', u'RetailerOnSale': u'Yes', u'ManufacturerName': u'Dell', u'ReviewRating': u'5', u'UserGender': u'Male', u'RetailerZip': u'60585', u'_id': ObjectId('592f27286cb48027a4cbf770'), u'RetailerCity': u'Naperville'}\n",
      "{u'RetailerName': u'Bestbuy', u'UserOccupation': u'Unknown', u'ProductPrice': u'899', u'RetailerState': u'CA', u'ManufacturerRebate': u'No', u'ReviewDate': u'2/26/2014', u'ReviewText': u\"when it needed to work as tablet screen didn't slide smoothly\", u'UserID': u'hrhuc68', u'ProductCategory': u'Tablet', u'ProductModelName': u'Surface 3', u'UserAge': u'56', u'RetailerOnSale': u'Yes', u'ManufacturerName': u'Microsoft', u'ReviewRating': u'1', u'UserGender': u'Male', u'RetailerZip': u'94158', u'_id': ObjectId('592f27286cb48027a4cbf7f9'), u'RetailerCity': u'San Francisco'}\n",
      "{u'RetailerName': u'Walmart', u'UserOccupation': u'Unknown', u'ProductPrice': u'999', u'RetailerState': u'CA', u'ManufacturerRebate': u'No', u'ReviewDate': u'10/08/14', u'ReviewText': u\"Got it for $500 on Black Friday and can't be happier.\", u'UserID': u'cymze11', u'ProductCategory': u'TV', u'ProductModelName': u'LG 65', u'UserAge': u'56', u'RetailerOnSale': u'No', u'ManufacturerName': u'LG', u'ReviewRating': u'5', u'UserGender': u'Male', u'RetailerZip': u'90033', u'_id': ObjectId('592f27286cb48027a4cbf803'), u'RetailerCity': u'Los Angeles'}\n",
      "{u'RetailerName': u'Frys', u'UserOccupation': u'Accountant', u'ProductPrice': u'589', u'RetailerState': u'CA', u'ManufacturerRebate': u'No', u'ReviewDate': u'08/10/14', u'ReviewText': u'Upgraded my iPhone 5 to iphone 6. Service was quick & knowledgeable. Process done in only about 30 minutes.', u'UserID': u'htcwk93', u'ProductCategory': u'Smart Phone', u'ProductModelName': u'iPhone 6', u'UserAge': u'56', u'RetailerOnSale': u'No', u'ManufacturerName': u'Apple', u'ReviewRating': u'5', u'UserGender': u'Male', u'RetailerZip': u'90033', u'_id': ObjectId('592f27286cb48027a4cbf854'), u'RetailerCity': u'Los Angeles'}\n",
      "{u'RetailerName': u'Walmart', u'UserOccupation': u'Student', u'ProductPrice': u'1200', u'RetailerState': u'MA', u'ManufacturerRebate': u'No', u'ReviewDate': u'12/14/2014', u'ReviewText': u\"Great picture and when combined with the Bose sound bar I couldn't be happier. Fits the size of the room to a tee. Had the Geek Squad do the installation and the hookup and they were fantastic.\", u'UserID': u'elqet84', u'ProductCategory': u'TV', u'ProductModelName': u'Samsung TV 60 LED', u'UserAge': u'56', u'RetailerOnSale': u'No', u'ManufacturerName': u'Samsung', u'ReviewRating': u'5', u'UserGender': u'Female', u'RetailerZip': u'2108', u'_id': ObjectId('592f27286cb48027a4cbf857'), u'RetailerCity': u'Boston'}\n",
      "{u'RetailerName': u'Frys', u'UserOccupation': u'Accountant', u'ProductPrice': u'589', u'RetailerState': u'IL', u'ManufacturerRebate': u'No', u'ReviewDate': u'12/27/2014', u'ReviewText': u' I love this phone', u'UserID': u'hzstn45', u'ProductCategory': u'Smart Phone', u'ProductModelName': u'iPhone 6', u'UserAge': u'56', u'RetailerOnSale': u'No', u'ManufacturerName': u'Apple', u'ReviewRating': u'5', u'UserGender': u'Female', u'RetailerZip': u'60616', u'_id': ObjectId('592f27286cb48027a4cbf882'), u'RetailerCity': u'Chicago'}\n",
      "{u'RetailerName': u'hhgregg', u'UserOccupation': u'Student', u'ProductPrice': u'299', u'RetailerState': u'IL', u'ManufacturerRebate': u'No', u'ReviewDate': u'12/27/2014', u'ReviewText': u\"It is easy to use don't have to buy microsoft word comes with its own version very similar. You can do all the same things you can on microsoft.\", u'UserID': u'cptha72', u'ProductCategory': u'Tablet', u'ProductModelName': u'Samsung Tab 4', u'UserAge': u'56', u'RetailerOnSale': u'Yes', u'ManufacturerName': u'Samsung', u'ReviewRating': u'5', u'UserGender': u'Male', u'RetailerZip': u'60616', u'_id': ObjectId('592f27286cb48027a4cbf886'), u'RetailerCity': u'Chicago'}\n",
      "{u'RetailerName': u'hhgregg', u'UserOccupation': u'Manager', u'ProductPrice': u'999', u'RetailerState': u'CA', u'ManufacturerRebate': u'No', u'ReviewDate': u'5/24/2014', u'ReviewText': u'Color is great and clarity is really good.', u'UserID': u'eofpw94', u'ProductCategory': u'TV', u'ProductModelName': u'LG 65', u'UserAge': u'56', u'RetailerOnSale': u'No', u'ManufacturerName': u'LG', u'ReviewRating': u'5', u'UserGender': u'Male', u'RetailerZip': u'94102', u'_id': ObjectId('592f27286cb48027a4cbf88b'), u'RetailerCity': u'San Francisco'}\n",
      "{u'RetailerName': u'Walmart', u'UserOccupation': u'Unknown', u'ProductPrice': u'299', u'RetailerState': u'OH', u'ManufacturerRebate': u'No', u'ReviewDate': u'4/29/2014', u'ReviewText': u\" I'm a late comer in purchasing a tablet. I purchased the Tab4 8in to work as an addition to my Samsung TV. Great size\", u'UserID': u'fbuav42', u'ProductCategory': u'Tablet', u'ProductModelName': u'Samsung Tab 4', u'UserAge': u'56', u'RetailerOnSale': u'Yes', u'ManufacturerName': u'Samsung', u'ReviewRating': u'5', u'UserGender': u'Male', u'RetailerZip': u'44114', u'_id': ObjectId('592f27286cb48027a4cbf893'), u'RetailerCity': u'Cleveland'}\n",
      "{u'RetailerName': u'Frys', u'UserOccupation': u'Programmer', u'ProductPrice': u'299', u'RetailerState': u'CA', u'ManufacturerRebate': u'No', u'ReviewDate': u'03/10/15', u'ReviewText': u'This is our third Samsung tablet purchased for the family. We are very pleased with the ease of use for this item.', u'UserID': u'rkoss30', u'ProductCategory': u'Tablet', u'ProductModelName': u'Samsung Tab 4', u'UserAge': u'56', u'RetailerOnSale': u'Yes', u'ManufacturerName': u'Samsung', u'ReviewRating': u'5', u'UserGender': u'Female', u'RetailerZip': u'90012', u'_id': ObjectId('592f27286cb48027a4cbf894'), u'RetailerCity': u'Los Angeles'}\n",
      "{u'RetailerName': u'Walmart', u'UserOccupation': u'Secratary', u'ProductPrice': u'2250', u'RetailerState': u'CA', u'ManufacturerRebate': u'No', u'ReviewDate': u'2/29/2015', u'ReviewText': u\"Blue ray is so bad there's blue spots on each corner. \", u'UserID': u'ngfxf38', u'ProductCategory': u'TV', u'ProductModelName': u'LG 65', u'UserAge': u'56', u'RetailerOnSale': u'No', u'ManufacturerName': u'LG', u'ReviewRating': u'2', u'UserGender': u'Male', u'RetailerZip': u'94102', u'_id': ObjectId('592f27286cb48027a4cbf8e2'), u'RetailerCity': u'San Francisco'}\n",
      "{u'RetailerName': u'Frys', u'UserOccupation': u'Programmer', u'ProductPrice': u'390', u'RetailerState': u'OH', u'ManufacturerRebate': u'No', u'ReviewDate': u'12/01/14', u'ReviewText': u'I bought this phone for my mother. It was a tough for her to get a handle on working android but with my nieces help she can finally text. She seems very happy with it.', u'UserID': u'gxqfp48', u'ProductCategory': u'Smart Phone', u'ProductModelName': u'Galaxy S4', u'UserAge': u'57', u'RetailerOnSale': u'Yes', u'ManufacturerName': u'Samsung', u'ReviewRating': u'4', u'UserGender': u'Female', u'RetailerZip': u'44114', u'_id': ObjectId('592f27286cb48027a4cbf15b'), u'RetailerCity': u'Cleveland'}\n",
      "{u'RetailerName': u'Walmart', u'UserOccupation': u'Programmer', u'ProductPrice': u'1100', u'RetailerState': u'IL', u'ManufacturerRebate': u'No', u'ReviewDate': u'10/10/13', u'ReviewText': u'3D..240hz..1080p..960 clear motion rate..Smart TV..and the smart remote is the best', u'UserID': u'udjrc4', u'ProductCategory': u'TV', u'ProductModelName': u'Samsung TV 60 LED', u'UserAge': u'57', u'RetailerOnSale': u'Yes', u'ManufacturerName': u'Samsung', u'ReviewRating': u'5', u'UserGender': u'Male', u'RetailerZip': u'60603', u'_id': ObjectId('592f27286cb48027a4cbf18e'), u'RetailerCity': u'Chicago'}\n",
      "{u'RetailerName': u'Frys', u'UserOccupation': u'Student', u'ProductPrice': u'1899', u'RetailerState': u'CA', u'ManufacturerRebate': u'Yes', u'ReviewDate': u'10/21/2014', u'ReviewText': u' Great picture', u'UserID': u'uxwwe25', u'ProductCategory': u'TV', u'ProductModelName': u'Samsung TV 65 Curved', u'UserAge': u'57', u'RetailerOnSale': u'Yes', u'ManufacturerName': u'Samsung', u'ReviewRating': u'4', u'UserGender': u'Male', u'RetailerZip': u'94158', u'_id': ObjectId('592f27286cb48027a4cbf1ba'), u'RetailerCity': u'San Francisco'}\n",
      "{u'RetailerName': u'Walmart', u'UserOccupation': u'Manager', u'ProductPrice': u'319', u'RetailerState': u'MA', u'ManufacturerRebate': u'No', u'ReviewDate': u'3/24/2014', u'ReviewText': u\"When we head to our meeting we have all our information at our finger tips. It's great.\", u'UserID': u'mihlf49', u'ProductCategory': u'Laptop', u'ProductModelName': u'HP PAVALION  15.6', u'UserAge': u'57', u'RetailerOnSale': u'No', u'ManufacturerName': u'HP', u'ReviewRating': u'5', u'UserGender': u'Male', u'RetailerZip': u'2110', u'_id': ObjectId('592f27286cb48027a4cbf1db'), u'RetailerCity': u'Boston'}\n",
      "{u'RetailerName': u'hhgregg', u'UserOccupation': u'Programmer', u'ProductPrice': u'499', u'RetailerState': u'OH', u'ManufacturerRebate': u'No', u'ReviewDate': u'4/19/2014', u'ReviewText': u'It was exactly what we needed without logging into our computer.', u'UserID': u'wzlqa14', u'ProductCategory': u'Tablet', u'ProductModelName': u'iPad Air', u'UserAge': u'57', u'RetailerOnSale': u'No', u'ManufacturerName': u'Apple', u'ReviewRating': u'4', u'UserGender': u'Male', u'RetailerZip': u'44114', u'_id': ObjectId('592f27286cb48027a4cbf1e1'), u'RetailerCity': u'Cleveland'}\n",
      "{u'RetailerName': u'Walmart', u'UserOccupation': u'Unknown', u'ProductPrice': u'349', u'RetailerState': u'CA', u'ManufacturerRebate': u'No', u'ReviewDate': u'02/01/13', u'ReviewText': u'Love everything about this tablet. Does exactly what I need it to do.', u'UserID': u'chahv69', u'ProductCategory': u'Tablet', u'ProductModelName': u'Samsung Tab 4', u'UserAge': u'57', u'RetailerOnSale': u'No', u'ManufacturerName': u'Samsung', u'ReviewRating': u'5', u'UserGender': u'Male', u'RetailerZip': u'90033', u'_id': ObjectId('592f27286cb48027a4cbf1eb'), u'RetailerCity': u'Los Angeles'}\n",
      "{u'RetailerName': u'Walmart', u'UserOccupation': u'Student', u'ProductPrice': u'299', u'RetailerState': u'FL', u'ManufacturerRebate': u'No', u'ReviewDate': u'11/29/2014', u'ReviewText': u'I was able to move from one program to another relativity with ease. The Intel core i3 is fast in moving from one program to another. Startup is quick.', u'UserID': u'sjjoa88', u'ProductCategory': u'Laptop', u'ProductModelName': u'HP PAVALION  15.6', u'UserAge': u'57', u'RetailerOnSale': u'Yes', u'ManufacturerName': u'HP', u'ReviewRating': u'5', u'UserGender': u'Male', u'RetailerZip': u'33129', u'_id': ObjectId('592f27286cb48027a4cbf205'), u'RetailerCity': u'Miami'}\n",
      "{u'RetailerName': u'hhgregg', u'UserOccupation': u'Programmer', u'ProductPrice': u'925', u'RetailerState': u'IL', u'ManufacturerRebate': u'No', u'ReviewDate': u'8/21/2014', u'ReviewText': u\"I couldn't be happier with this purchase.\", u'UserID': u'zpbpg32', u'ProductCategory': u'Tablet', u'ProductModelName': u'Surface 3', u'UserAge': u'57', u'RetailerOnSale': u'No', u'ManufacturerName': u'Microsoft', u'ReviewRating': u'5', u'UserGender': u'Male', u'RetailerZip': u'60603', u'_id': ObjectId('592f27286cb48027a4cbf210'), u'RetailerCity': u'Chicago'}\n",
      "{u'RetailerName': u'Frys', u'UserOccupation': u'Accountant', u'ProductPrice': u'399', u'RetailerState': u'IL', u'ManufacturerRebate': u'No', u'ReviewDate': u'08/10/14', u'ReviewText': u' great phone', u'UserID': u'qccvt62', u'ProductCategory': u'Smart Phone', u'ProductModelName': u'Galaxy S4', u'UserAge': u'57', u'RetailerOnSale': u'No', u'ManufacturerName': u'Samsung', u'ReviewRating': u'5', u'UserGender': u'Male', u'RetailerZip': u'60616', u'_id': ObjectId('592f27286cb48027a4cbf217'), u'RetailerCity': u'Chicago'}\n",
      "{u'RetailerName': u'Bestbuy', u'UserOccupation': u'Unknown', u'ProductPrice': u'319', u'RetailerState': u'IL', u'ManufacturerRebate': u'No', u'ReviewDate': u'2/26/2014', u'ReviewText': u'This product offers everything I need.', u'UserID': u'pnsud33', u'ProductCategory': u'Laptop', u'ProductModelName': u'HP PAVALION  15.6', u'UserAge': u'57', u'RetailerOnSale': u'No', u'ManufacturerName': u'HP', u'ReviewRating': u'5', u'UserGender': u'Male', u'RetailerZip': u'60603', u'_id': ObjectId('592f27286cb48027a4cbf235'), u'RetailerCity': u'Chicago'}\n",
      "{u'RetailerName': u'Frys', u'UserOccupation': u'Manager', u'ProductPrice': u'402', u'RetailerState': u'CA', u'ManufacturerRebate': u'No', u'ReviewDate': u'12/14/2014', u'ReviewText': u'This was an easy transition from the iPhone. I like how I can access my work/school files and applications easily.', u'UserID': u'pgdfi53', u'ProductCategory': u'Smart Phone', u'ProductModelName': u'Galaxy S4', u'UserAge': u'57', u'RetailerOnSale': u'No', u'ManufacturerName': u'Samsung', u'ReviewRating': u'4', u'UserGender': u'Male', u'RetailerZip': u'90012', u'_id': ObjectId('592f27286cb48027a4cbf252'), u'RetailerCity': u'Los Angeles'}\n",
      "{u'RetailerName': u'Frys', u'UserOccupation': u'Programmer', u'ProductPrice': u'1799', u'RetailerState': u'CA', u'ManufacturerRebate': u'Yes', u'ReviewDate': u'06/10/14', u'ReviewText': u'This is one incredible TV', u'UserID': u'utjvz9', u'ProductCategory': u'TV', u'ProductModelName': u'Samsung TV 65 Curved', u'UserAge': u'57', u'RetailerOnSale': u'Yes', u'ManufacturerName': u'Samsung', u'ReviewRating': u'5', u'UserGender': u'Male', u'RetailerZip': u'94102', u'_id': ObjectId('592f27286cb48027a4cbf275'), u'RetailerCity': u'San Francisco'}\n",
      "{u'RetailerName': u'Frys', u'UserOccupation': u'Secratary', u'ProductPrice': u'499', u'RetailerState': u'OH', u'ManufacturerRebate': u'No', u'ReviewDate': u'9/13/2013', u'ReviewText': u'This iPad is great. It works just as good as the new one. If you are not picky about having the latest technology', u'UserID': u'xgied2', u'ProductCategory': u'Tablet', u'ProductModelName': u'iPad Air', u'UserAge': u'57', u'RetailerOnSale': u'No', u'ManufacturerName': u'Apple', u'ReviewRating': u'5', u'UserGender': u'Female', u'RetailerZip': u'44114', u'_id': ObjectId('592f27286cb48027a4cbf2a8'), u'RetailerCity': u'Cleveland'}\n",
      "{u'RetailerName': u'Target', u'UserOccupation': u'Programmer', u'ProductPrice': u'899', u'RetailerState': u'CA', u'ManufacturerRebate': u'No', u'ReviewDate': u'6/18/2014', u'ReviewText': u'Improvement on the surface pro 2 - bigger screen is nice while still maintaining excellent portability', u'UserID': u'hqakp16', u'ProductCategory': u'Tablet', u'ProductModelName': u'Surface 3', u'UserAge': u'57', u'RetailerOnSale': u'Yes', u'ManufacturerName': u'Microsoft', u'ReviewRating': u'5', u'UserGender': u'Male', u'RetailerZip': u'90033', u'_id': ObjectId('592f27286cb48027a4cbf2d2'), u'RetailerCity': u'Los Angeles'}\n",
      "{u'RetailerName': u'Frys', u'UserOccupation': u'Unknown', u'ProductPrice': u'402', u'RetailerState': u'IL', u'ManufacturerRebate': u'No', u'ReviewDate': u'12/27/2014', u'ReviewText': u'I GOT THIS PHONE AFTER ONLY EVER HAVING AN IPHONE FOR MANY YEARS AND I LOVE IT SO MUCH BETTER', u'UserID': u'ecgzp69', u'ProductCategory': u'Smart Phone', u'ProductModelName': u'Galaxy S4', u'UserAge': u'57', u'RetailerOnSale': u'No', u'ManufacturerName': u'Samsung', u'ReviewRating': u'5', u'UserGender': u'Male', u'RetailerZip': u'60585', u'_id': ObjectId('592f27286cb48027a4cbf331'), u'RetailerCity': u'Naperville'}\n",
      "{u'RetailerName': u'Target', u'UserOccupation': u'Programmer', u'ProductPrice': u'269', u'RetailerState': u'IL', u'ManufacturerRebate': u'Yes', u'ReviewDate': u'5/19/2014', u'ReviewText': u' I am enjoying my Galaxy S4; however', u'UserID': u'hrime80', u'ProductCategory': u'Smart Phone', u'ProductModelName': u'Galaxy S4', u'UserAge': u'57', u'RetailerOnSale': u'Yes', u'ManufacturerName': u'Samsung', u'ReviewRating': u'4', u'UserGender': u'Male', u'RetailerZip': u'60603', u'_id': ObjectId('592f27286cb48027a4cbf371'), u'RetailerCity': u'Chicago'}\n",
      "{u'RetailerName': u'Walmart', u'UserOccupation': u'Unknown', u'ProductPrice': u'1200', u'RetailerState': u'CA', u'ManufacturerRebate': u'No', u'ReviewDate': u'12/14/2014', u'ReviewText': u'I THOUGHT THAT SAMSUNG IS SUPPOSE TO BE TOP OF THE LINE BRAND. I BOUGHT THE TV 14 MONTHS AGO AND A GREEN LINE SHOWED UP ON THE SCREEN ALREADY. Bestbuy AND SAMSUNG WILL NOT DO ANYTHING BECAUSE WARRANTY IS ONLY FOR 1 YEAR. HORRIBLE...I', u'UserID': u'vvxjk45', u'ProductCategory': u'TV', u'ProductModelName': u'Samsung TV 60 LED', u'UserAge': u'57', u'RetailerOnSale': u'No', u'ManufacturerName': u'Samsung', u'ReviewRating': u'1', u'UserGender': u'Male', u'RetailerZip': u'94158', u'_id': ObjectId('592f27286cb48027a4cbf377'), u'RetailerCity': u'San Francisco'}\n",
      "{u'RetailerName': u'Frys', u'UserOccupation': u'Unknown', u'ProductPrice': u'390', u'RetailerState': u'GA', u'ManufacturerRebate': u'No', u'ReviewDate': u'9/24/2014', u'ReviewText': u'My son loves his new phone. Likes all the features that the phone offers.', u'UserID': u'iyyiw79', u'ProductCategory': u'Smart Phone', u'ProductModelName': u'Galaxy S4', u'UserAge': u'57', u'RetailerOnSale': u'Yes', u'ManufacturerName': u'Samsung', u'ReviewRating': u'4', u'UserGender': u'Male', u'RetailerZip': u'30303', u'_id': ObjectId('592f27286cb48027a4cbf385'), u'RetailerCity': u'Atlanta'}\n",
      "{u'RetailerName': u'Walmart', u'UserOccupation': u'Secratary', u'ProductPrice': u'319', u'RetailerState': u'CA', u'ManufacturerRebate': u'No', u'ReviewDate': u'9/21/2014', u'ReviewText': u\"It's great for everyday usage and has a nice look to it as well. Money well spent!! I will purchase another one for my husband because he is always using mine!\", u'UserID': u'jzsqf21', u'ProductCategory': u'Laptop', u'ProductModelName': u'HP PAVALION  15.6', u'UserAge': u'57', u'RetailerOnSale': u'No', u'ManufacturerName': u'HP', u'ReviewRating': u'5', u'UserGender': u'Male', u'RetailerZip': u'94102', u'_id': ObjectId('592f27286cb48027a4cbf38a'), u'RetailerCity': u'San Francisco'}\n",
      "{u'RetailerName': u'Walmart', u'UserOccupation': u'Manager', u'ProductPrice': u'402', u'RetailerState': u'GA', u'ManufacturerRebate': u'No', u'ReviewDate': u'04/01/13', u'ReviewText': u'Great all around phone. Amazing screen color and sharpness. Good battery life.', u'UserID': u'llsjf2', u'ProductCategory': u'Smart Phone', u'ProductModelName': u'Galaxy S4', u'UserAge': u'57', u'RetailerOnSale': u'No', u'ManufacturerName': u'Samsung', u'ReviewRating': u'5', u'UserGender': u'Male', u'RetailerZip': u'30303', u'_id': ObjectId('592f27286cb48027a4cbf39e'), u'RetailerCity': u'Atlanta'}\n",
      "{u'RetailerName': u'Walmart', u'UserOccupation': u'Accountant', u'ProductPrice': u'299', u'RetailerState': u'MA', u'ManufacturerRebate': u'Yes', u'ReviewDate': u'12/27/2014', u'ReviewText': u'Works just like my iPhone. A little heavier than I expected', u'UserID': u'dzpwk29', u'ProductCategory': u'Tablet', u'ProductModelName': u'iPad Air', u'UserAge': u'57', u'RetailerOnSale': u'Yes', u'ManufacturerName': u'Apple', u'ReviewRating': u'5', u'UserGender': u'Male', u'RetailerZip': u'2110', u'_id': ObjectId('592f27286cb48027a4cbf3dc'), u'RetailerCity': u'Boston'}\n",
      "{u'RetailerName': u'Walmart', u'UserOccupation': u'Student', u'ProductPrice': u'399', u'RetailerState': u'IL', u'ManufacturerRebate': u'No', u'ReviewDate': u'5/24/2014', u'ReviewText': u\"Huge battery life upgrade from the Galaxy SIII. I can't wait to compare it to the 5.\", u'UserID': u'thkvr23', u'ProductCategory': u'Smart Phone', u'ProductModelName': u'Galaxy S4', u'UserAge': u'57', u'RetailerOnSale': u'No', u'ManufacturerName': u'Samsung', u'ReviewRating': u'4', u'UserGender': u'Male', u'RetailerZip': u'60585', u'_id': ObjectId('592f27286cb48027a4cbf43c'), u'RetailerCity': u'Naperville'}\n",
      "{u'RetailerName': u'Target', u'UserOccupation': u'Programmer', u'ProductPrice': u'999', u'RetailerState': u'IL', u'ManufacturerRebate': u'No', u'ReviewDate': u'08/01/14', u'ReviewText': u'This computer picked up a virus the first day it went online even with virus protection.', u'UserID': u'lhjuk89', u'ProductCategory': u'Tablet', u'ProductModelName': u'Surface 3', u'UserAge': u'57', u'RetailerOnSale': u'No', u'ManufacturerName': u'Microsoft', u'ReviewRating': u'3', u'UserGender': u'Male', u'RetailerZip': u'60585', u'_id': ObjectId('592f27286cb48027a4cbf44b'), u'RetailerCity': u'Naperville'}\n",
      "{u'RetailerName': u'Bestbuy', u'UserOccupation': u'Unknown', u'ProductPrice': u'449', u'RetailerState': u'IL', u'ManufacturerRebate': u'No', u'ReviewDate': u'12/05/14', u'ReviewText': u\"Amazing Good product I'm so satisfied Would definitely recommend to a friend\", u'UserID': u'yieti8', u'ProductCategory': u'Laptop', u'ProductModelName': u'Dell Ispiron 15.6', u'UserAge': u'57', u'RetailerOnSale': u'Yes', u'ManufacturerName': u'Dell', u'ReviewRating': u'5', u'UserGender': u'Male', u'RetailerZip': u'60603', u'_id': ObjectId('592f27286cb48027a4cbf483'), u'RetailerCity': u'Chicago'}\n",
      "{u'RetailerName': u'Bestbuy', u'UserOccupation': u'Secratary', u'ProductPrice': u'1100', u'RetailerState': u'FL', u'ManufacturerRebate': u'No', u'ReviewDate': u'9/20/2014', u'ReviewText': u'Great picture and easy to set up and connect to wi-fi.', u'UserID': u'wntuw8', u'ProductCategory': u'TV', u'ProductModelName': u'Samsung TV 60 LED', u'UserAge': u'57', u'RetailerOnSale': u'Yes', u'ManufacturerName': u'Samsung', u'ReviewRating': u'4', u'UserGender': u'Male', u'RetailerZip': u'33129', u'_id': ObjectId('592f27286cb48027a4cbf489'), u'RetailerCity': u'Miami'}\n",
      "{u'RetailerName': u'Frys', u'UserOccupation': u'Programmer', u'ProductPrice': u'1100', u'RetailerState': u'CA', u'ManufacturerRebate': u'No', u'ReviewDate': u'11/25/2014', u'ReviewText': u'Works well as large monitor for my cad design reviews in Solidworks.', u'UserID': u'rmnzm56', u'ProductCategory': u'TV', u'ProductModelName': u'Samsung TV 60 LED', u'UserAge': u'57', u'RetailerOnSale': u'Yes', u'ManufacturerName': u'Samsung', u'ReviewRating': u'4', u'UserGender': u'Male', u'RetailerZip': u'94102', u'_id': ObjectId('592f27286cb48027a4cbf49a'), u'RetailerCity': u'San Francisco'}\n",
      "{u'RetailerName': u'hhgregg', u'UserOccupation': u'Unknown', u'ProductPrice': u'2099', u'RetailerState': u'CA', u'ManufacturerRebate': u'No', u'ReviewDate': u'9/17/2014', u'ReviewText': u'Excellent tv!', u'UserID': u'rhglw0', u'ProductCategory': u'TV', u'ProductModelName': u'Samsung TV 65 Curved', u'UserAge': u'57', u'RetailerOnSale': u'Yes', u'ManufacturerName': u'Samsung', u'ReviewRating': u'4', u'UserGender': u'Male', u'RetailerZip': u'94158', u'_id': ObjectId('592f27286cb48027a4cbf4db'), u'RetailerCity': u'San Francisco'}\n",
      "{u'RetailerName': u'hhgregg', u'UserOccupation': u'Manager', u'ProductPrice': u'399', u'RetailerState': u'GA', u'ManufacturerRebate': u'No', u'ReviewDate': u'6/26/2014', u'ReviewText': u'It is a good phone except for it getting very Hot to the touch! ', u'UserID': u'iqbfy28', u'ProductCategory': u'Smart Phone', u'ProductModelName': u'Galaxy S4', u'UserAge': u'57', u'RetailerOnSale': u'No', u'ManufacturerName': u'Samsung', u'ReviewRating': u'4', u'UserGender': u'Male', u'RetailerZip': u'30303', u'_id': ObjectId('592f27286cb48027a4cbf4f5'), u'RetailerCity': u'Atlanta'}\n",
      "{u'RetailerName': u'Walmart', u'UserOccupation': u'Student', u'ProductPrice': u'1100', u'RetailerState': u'IL', u'ManufacturerRebate': u'No', u'ReviewDate': u'7/16/2014', u'ReviewText': u' Overall', u'UserID': u'ywknu78', u'ProductCategory': u'TV', u'ProductModelName': u'Samsung TV 60 LED', u'UserAge': u'57', u'RetailerOnSale': u'Yes', u'ManufacturerName': u'Samsung', u'ReviewRating': u'4', u'UserGender': u'Male', u'RetailerZip': u'60603', u'_id': ObjectId('592f27286cb48027a4cbf512'), u'RetailerCity': u'Chicago'}\n",
      "{u'RetailerName': u'Frys', u'UserOccupation': u'Unknown', u'ProductPrice': u'960', u'RetailerState': u'MA', u'ManufacturerRebate': u'No', u'ReviewDate': u'5/25/2014', u'ReviewText': u' This is just the right size', u'UserID': u'mxzdi0', u'ProductCategory': u'Smart Phone', u'ProductModelName': u'iPhone 6', u'UserAge': u'57', u'RetailerOnSale': u'No', u'ManufacturerName': u'Apple', u'ReviewRating': u'5', u'UserGender': u'Male', u'RetailerZip': u'2108', u'_id': ObjectId('592f27286cb48027a4cbf52f'), u'RetailerCity': u'Boston'}\n",
      "{u'RetailerName': u'Bestbuy', u'UserOccupation': u'Manager', u'ProductPrice': u'499', u'RetailerState': u'OH', u'ManufacturerRebate': u'No', u'ReviewDate': u'12/27/2014', u'ReviewText': u' We love apple products and this iPad Air does not disappoint. Fast', u'UserID': u'wlszs97', u'ProductCategory': u'Tablet', u'ProductModelName': u'iPad Air', u'UserAge': u'57', u'RetailerOnSale': u'No', u'ManufacturerName': u'Apple', u'ReviewRating': u'5', u'UserGender': u'Female', u'RetailerZip': u'44114', u'_id': ObjectId('592f27286cb48027a4cbf54b'), u'RetailerCity': u'Cleveland'}\n",
      "{u'RetailerName': u'Bestbuy', u'UserOccupation': u'Manager', u'ProductPrice': u'849', u'RetailerState': u'CA', u'ManufacturerRebate': u'Yes', u'ReviewDate': u'9/17/2014', u'ReviewText': u'The screen was exactly what I was looking for', u'UserID': u'oyclg9', u'ProductCategory': u'TV', u'ProductModelName': u'LG 65', u'UserAge': u'57', u'RetailerOnSale': u'Yes', u'ManufacturerName': u'LG', u'ReviewRating': u'4', u'UserGender': u'Male', u'RetailerZip': u'94158', u'_id': ObjectId('592f27286cb48027a4cbf580'), u'RetailerCity': u'San Francisco'}\n",
      "{u'RetailerName': u'Frys', u'UserOccupation': u'Unknown', u'ProductPrice': u'449', u'RetailerState': u'FL', u'ManufacturerRebate': u'No', u'ReviewDate': u'12/01/14', u'ReviewText': u\"I'm loving it !!!! I have told people about it and they have looked at it and two have bought one from you.\", u'UserID': u'ksfxw56', u'ProductCategory': u'Laptop', u'ProductModelName': u'Dell Ispiron 15.6', u'UserAge': u'57', u'RetailerOnSale': u'Yes', u'ManufacturerName': u'Dell', u'ReviewRating': u'5', u'UserGender': u'Male', u'RetailerZip': u'33130', u'_id': ObjectId('592f27286cb48027a4cbf5ad'), u'RetailerCity': u'Miami'}\n",
      "{u'RetailerName': u'Walmart', u'UserOccupation': u'Unknown', u'ProductPrice': u'1900', u'RetailerState': u'IL', u'ManufacturerRebate': u'No', u'ReviewDate': u'6/21/2014', u'ReviewText': u'It has a great picture. ', u'UserID': u'nkexw22', u'ProductCategory': u'TV', u'ProductModelName': u'Samsung TV 65 Curved', u'UserAge': u'57', u'RetailerOnSale': u'No', u'ManufacturerName': u'Samsung', u'ReviewRating': u'5', u'UserGender': u'Male', u'RetailerZip': u'60585', u'_id': ObjectId('592f27286cb48027a4cbf5b9'), u'RetailerCity': u'Naperville'}\n",
      "{u'RetailerName': u'Target', u'UserOccupation': u'Programmer', u'ProductPrice': u'849', u'RetailerState': u'IL', u'ManufacturerRebate': u'Yes', u'ReviewDate': u'6/21/2014', u'ReviewText': u'No complaints with this tv. ', u'UserID': u'skszi8', u'ProductCategory': u'TV', u'ProductModelName': u'LG 65', u'UserAge': u'57', u'RetailerOnSale': u'Yes', u'ManufacturerName': u'LG', u'ReviewRating': u'5', u'UserGender': u'Male', u'RetailerZip': u'60585', u'_id': ObjectId('592f27286cb48027a4cbf5be'), u'RetailerCity': u'Naperville'}\n",
      "{u'RetailerName': u'hhgregg', u'UserOccupation': u'Programmer', u'ProductPrice': u'899', u'RetailerState': u'CA', u'ManufacturerRebate': u'No', u'ReviewDate': u'12/10/14', u'ReviewText': u' Good product', u'UserID': u'ieaom90', u'ProductCategory': u'Tablet', u'ProductModelName': u'Surface 3', u'UserAge': u'57', u'RetailerOnSale': u'Yes', u'ManufacturerName': u'Microsoft', u'ReviewRating': u'4', u'UserGender': u'Male', u'RetailerZip': u'94158', u'_id': ObjectId('592f27286cb48027a4cbf5c6'), u'RetailerCity': u'San Francisco'}\n",
      "{u'RetailerName': u'Target', u'UserOccupation': u'Accountant', u'ProductPrice': u'1200', u'RetailerState': u'CA', u'ManufacturerRebate': u'No', u'ReviewDate': u'08/10/13', u'ReviewText': u'slwo wifi when I stream Netflix', u'UserID': u'kzlfd39', u'ProductCategory': u'TV', u'ProductModelName': u'Samsung TV 60 LED', u'UserAge': u'57', u'RetailerOnSale': u'No', u'ManufacturerName': u'Samsung', u'ReviewRating': u'2', u'UserGender': u'Male', u'RetailerZip': u'90033', u'_id': ObjectId('592f27286cb48027a4cbf67d'), u'RetailerCity': u'Los Angeles'}\n",
      "{u'RetailerName': u'Walmart', u'UserOccupation': u'Secratary', u'ProductPrice': u'1100', u'RetailerState': u'OH', u'ManufacturerRebate': u'No', u'ReviewDate': u'04/01/15', u'ReviewText': u'We decided to go with the newer 9000 series 65 inch Curved Samsung with the One Connect software updateable capability. I am glad we did! Still looked like a good television.', u'UserID': u'txuxd70', u'ProductCategory': u'TV', u'ProductModelName': u'Samsung TV 60 LED', u'UserAge': u'57', u'RetailerOnSale': u'Yes', u'ManufacturerName': u'Samsung', u'ReviewRating': u'4', u'UserGender': u'Male', u'RetailerZip': u'44114', u'_id': ObjectId('592f27286cb48027a4cbf6bc'), u'RetailerCity': u'Cleveland'}\n",
      "{u'RetailerName': u'Walmart', u'UserOccupation': u'Secratary', u'ProductPrice': u'349', u'RetailerState': u'CA', u'ManufacturerRebate': u'No', u'ReviewDate': u'6/25/2014', u'ReviewText': u'enjoying my laptop love the touch screen great price', u'UserID': u'stnhz60', u'ProductCategory': u'Laptop', u'ProductModelName': u'Dell Ispiron 15.6', u'UserAge': u'57', u'RetailerOnSale': u'Yes', u'ManufacturerName': u'Dell', u'ReviewRating': u'5', u'UserGender': u'Male', u'RetailerZip': u'94102', u'_id': ObjectId('592f27286cb48027a4cbf725'), u'RetailerCity': u'San Francisco'}\n",
      "{u'RetailerName': u'Walmart', u'UserOccupation': u'Unknown', u'ProductPrice': u'390', u'RetailerState': u'MA', u'ManufacturerRebate': u'No', u'ReviewDate': u'12/27/2014', u'ReviewText': u' Got one last year when they first came out. Purchased another one this year for my wife. I am getting one through work also. Great phone', u'UserID': u'dxmxs7', u'ProductCategory': u'Smart Phone', u'ProductModelName': u'Galaxy S4', u'UserAge': u'57', u'RetailerOnSale': u'Yes', u'ManufacturerName': u'Samsung', u'ReviewRating': u'5', u'UserGender': u'Male', u'RetailerZip': u'2110', u'_id': ObjectId('592f27286cb48027a4cbf75c'), u'RetailerCity': u'Boston'}\n",
      "{u'RetailerName': u'Bestbuy', u'UserOccupation': u'Programmer', u'ProductPrice': u'449', u'RetailerState': u'MA', u'ManufacturerRebate': u'No', u'ReviewDate': u'06/10/14', u'ReviewText': u\"Love this laptop. Mine came with a cool facial recognition program so I don't have to type in my password anymore it's so convenient.\", u'UserID': u'gicje21', u'ProductCategory': u'Laptop', u'ProductModelName': u'Dell Ispiron 15.6', u'UserAge': u'57', u'RetailerOnSale': u'Yes', u'ManufacturerName': u'Dell', u'ReviewRating': u'5', u'UserGender': u'Male', u'RetailerZip': u'2110', u'_id': ObjectId('592f27286cb48027a4cbf775'), u'RetailerCity': u'Boston'}\n",
      "{u'RetailerName': u'Frys', u'UserOccupation': u'Student', u'ProductPrice': u'425', u'RetailerState': u'IL', u'ManufacturerRebate': u'No', u'ReviewDate': u'7/19/2014', u'ReviewText': u' Everything I expected', u'UserID': u'gnusj42', u'ProductCategory': u'Tablet', u'ProductModelName': u'iPad Air', u'UserAge': u'57', u'RetailerOnSale': u'Yes', u'ManufacturerName': u'Apple', u'ReviewRating': u'4', u'UserGender': u'Male', u'RetailerZip': u'60616', u'_id': ObjectId('592f27286cb48027a4cbf77c'), u'RetailerCity': u'Chicago'}\n",
      "{u'RetailerName': u'Bestbuy', u'UserOccupation': u'Secratary', u'ProductPrice': u'960', u'RetailerState': u'CA', u'ManufacturerRebate': u'No', u'ReviewDate': u'05/12/14', u'ReviewText': u'Great phone! No issues. It may be a little to thin for many hands. I actually like the feel in a case better.', u'UserID': u'odspn68', u'ProductCategory': u'Smart Phone', u'ProductModelName': u'iPhone 6', u'UserAge': u'57', u'RetailerOnSale': u'No', u'ManufacturerName': u'Apple', u'ReviewRating': u'4', u'UserGender': u'Male', u'RetailerZip': u'90012', u'_id': ObjectId('592f27286cb48027a4cbf7a2'), u'RetailerCity': u'Los Angeles'}\n",
      "{u'RetailerName': u'Target', u'UserOccupation': u'Unknown', u'ProductPrice': u'299', u'RetailerState': u'IL', u'ManufacturerRebate': u'No', u'ReviewDate': u'10/28/2014', u'ReviewText': u'Previously owned several Android devices and flipped to iPhone 4s last year which was a great phone and I highly anticipated the 6.', u'UserID': u'qlgrj32', u'ProductCategory': u'Smart Phone', u'ProductModelName': u'iPhone 6', u'UserAge': u'57', u'RetailerOnSale': u'Yes', u'ManufacturerName': u'Apple', u'ReviewRating': u'5', u'UserGender': u'Male', u'RetailerZip': u'60603', u'_id': ObjectId('592f27286cb48027a4cbf7c3'), u'RetailerCity': u'Chicago'}\n",
      "{u'RetailerName': u'hhgregg', u'UserOccupation': u'Manager', u'ProductPrice': u'269', u'RetailerState': u'CA', u'ManufacturerRebate': u'Yes', u'ReviewDate': u'10/08/14', u'ReviewText': u' I was given a quick lesion about how the phone works', u'UserID': u'adyhw48', u'ProductCategory': u'Smart Phone', u'ProductModelName': u'Galaxy S4', u'UserAge': u'57', u'RetailerOnSale': u'Yes', u'ManufacturerName': u'Samsung', u'ReviewRating': u'4', u'UserGender': u'Male', u'RetailerZip': u'90033', u'_id': ObjectId('592f27286cb48027a4cbf7ce'), u'RetailerCity': u'Los Angeles'}\n",
      "{u'RetailerName': u'Walmart', u'UserOccupation': u'Secratary', u'ProductPrice': u'899', u'RetailerState': u'CA', u'ManufacturerRebate': u'No', u'ReviewDate': u'10/17/2014', u'ReviewText': u'well for such a price tag you expect to have a premium product.', u'UserID': u'pkdir35', u'ProductCategory': u'Tablet', u'ProductModelName': u'Surface 3', u'UserAge': u'57', u'RetailerOnSale': u'Yes', u'ManufacturerName': u'Microsoft', u'ReviewRating': u'3', u'UserGender': u'Male', u'RetailerZip': u'90033', u'_id': ObjectId('592f27286cb48027a4cbf7e9'), u'RetailerCity': u'Los Angeles'}\n",
      "{u'RetailerName': u'hhgregg', u'UserOccupation': u'Unknown', u'ProductPrice': u'999', u'RetailerState': u'MA', u'ManufacturerRebate': u'No', u'ReviewDate': u'8/13/2014', u'ReviewText': u'We recently purchased a 65 inch LG tv from Bestbuy.', u'UserID': u'hknnp9', u'ProductCategory': u'TV', u'ProductModelName': u'LG 65', u'UserAge': u'57', u'RetailerOnSale': u'No', u'ManufacturerName': u'LG', u'ReviewRating': u'5', u'UserGender': u'Male', u'RetailerZip': u'2110', u'_id': ObjectId('592f27286cb48027a4cbf7ed'), u'RetailerCity': u'Boston'}\n",
      "{u'RetailerName': u'Walmart', u'UserOccupation': u'Student', u'ProductPrice': u'2250', u'RetailerState': u'FL', u'ManufacturerRebate': u'No', u'ReviewDate': u'12/01/14', u'ReviewText': u'Lots of inputs and great picture.', u'UserID': u'puvyi6', u'ProductCategory': u'TV', u'ProductModelName': u'LG 65', u'UserAge': u'57', u'RetailerOnSale': u'No', u'ManufacturerName': u'LG', u'ReviewRating': u'5', u'UserGender': u'Female', u'RetailerZip': u'33129', u'_id': ObjectId('592f27286cb48027a4cbf83c'), u'RetailerCity': u'Miami'}\n",
      "{u'RetailerName': u'hhgregg', u'UserOccupation': u'Programmer', u'ProductPrice': u'349', u'RetailerState': u'CA', u'ManufacturerRebate': u'No', u'ReviewDate': u'10/25/2014', u'ReviewText': u'good for web activity and personal notes.good for checking e-mails and could have made text messages an option', u'UserID': u'mxwpn62', u'ProductCategory': u'Tablet', u'ProductModelName': u'Samsung Tab 4', u'UserAge': u'57', u'RetailerOnSale': u'No', u'ManufacturerName': u'Samsung', u'ReviewRating': u'2', u'UserGender': u'Male', u'RetailerZip': u'94158', u'_id': ObjectId('592f27286cb48027a4cbf846'), u'RetailerCity': u'San Francisco'}\n",
      "{u'RetailerName': u'Walmart', u'UserOccupation': u'Student', u'ProductPrice': u'299', u'RetailerState': u'MA', u'ManufacturerRebate': u'Yes', u'ReviewDate': u'02/01/15', u'ReviewText': u' Love the iPad Air. We now have one with cellular', u'UserID': u'rnrsz41', u'ProductCategory': u'Tablet', u'ProductModelName': u'iPad Air', u'UserAge': u'57', u'RetailerOnSale': u'Yes', u'ManufacturerName': u'Apple', u'ReviewRating': u'5', u'UserGender': u'Male', u'RetailerZip': u'2108', u'_id': ObjectId('592f27286cb48027a4cbf87c'), u'RetailerCity': u'Boston'}\n",
      "{u'RetailerName': u'Target', u'UserOccupation': u'Accountant', u'ProductPrice': u'1100', u'RetailerState': u'CA', u'ManufacturerRebate': u'No', u'ReviewDate': u'07/09/14', u'ReviewText': u\" What's not so great\", u'UserID': u'ldkal45', u'ProductCategory': u'TV', u'ProductModelName': u'Samsung TV 60 LED', u'UserAge': u'57', u'RetailerOnSale': u'Yes', u'ManufacturerName': u'Samsung', u'ReviewRating': u'3', u'UserGender': u'Male', u'RetailerZip': u'94102', u'_id': ObjectId('592f27286cb48027a4cbf89b'), u'RetailerCity': u'San Francisco'}\n",
      "{u'RetailerName': u'Frys', u'UserOccupation': u'Secratary', u'ProductPrice': u'425', u'RetailerState': u'CA', u'ManufacturerRebate': u'No', u'ReviewDate': u'12/27/2014', u'ReviewText': u' bought a $499 16Gb model yesterday to see what the fuss was all about. Although I like the small size and the display', u'UserID': u'igysg90', u'ProductCategory': u'Tablet', u'ProductModelName': u'iPad Air', u'UserAge': u'57', u'RetailerOnSale': u'Yes', u'ManufacturerName': u'Apple', u'ReviewRating': u'2', u'UserGender': u'Female', u'RetailerZip': u'90012', u'_id': ObjectId('592f27286cb48027a4cbf8d7'), u'RetailerCity': u'Los Angeles'}\n",
      "{u'RetailerName': u'hhgregg', u'UserOccupation': u'Manager', u'ProductPrice': u'589', u'RetailerState': u'MA', u'ManufacturerRebate': u'No', u'ReviewDate': u'9/17/2014', u'ReviewText': u'Really glad I made the purchase. the size is awesome', u'UserID': u'hdjzn6', u'ProductCategory': u'Smart Phone', u'ProductModelName': u'iPhone 6', u'UserAge': u'57', u'RetailerOnSale': u'No', u'ManufacturerName': u'Apple', u'ReviewRating': u'5', u'UserGender': u'Male', u'RetailerZip': u'2110', u'_id': ObjectId('592f27286cb48027a4cbf8f9'), u'RetailerCity': u'Boston'}\n",
      "{u'RetailerName': u'hhgregg', u'UserOccupation': u'Unknown', u'ProductPrice': u'925', u'RetailerState': u'MA', u'ManufacturerRebate': u'No', u'ReviewDate': u'12/14/2014', u'ReviewText': u' The speed of booting up', u'UserID': u'ubrhx81', u'ProductCategory': u'Tablet', u'ProductModelName': u'Surface 3', u'UserAge': u'57', u'RetailerOnSale': u'No', u'ManufacturerName': u'Microsoft', u'ReviewRating': u'5', u'UserGender': u'Female', u'RetailerZip': u'2108', u'_id': ObjectId('592f27286cb48027a4cbf91a'), u'RetailerCity': u'Boston'}\n",
      "{u'RetailerName': u'Walmart', u'UserOccupation': u'Unknown', u'ProductPrice': u'399', u'RetailerState': u'OH', u'ManufacturerRebate': u'No', u'ReviewDate': u'8/21/2014', u'ReviewText': u\"As a novice smart phone user I've found that this phone has been fairly easy to navigate. I like the picture quality and sound.\", u'UserID': u'ydzkv69', u'ProductCategory': u'Smart Phone', u'ProductModelName': u'Galaxy S4', u'UserAge': u'58', u'RetailerOnSale': u'No', u'ManufacturerName': u'Samsung', u'ReviewRating': u'4', u'UserGender': u'Male', u'RetailerZip': u'44114', u'_id': ObjectId('592f27286cb48027a4cbf177'), u'RetailerCity': u'Cleveland'}\n",
      "{u'RetailerName': u'hhgregg', u'UserOccupation': u'Unknown', u'ProductPrice': u'2250', u'RetailerState': u'FL', u'ManufacturerRebate': u'No', u'ReviewDate': u'9/20/2014', u'ReviewText': u\" I really wanted to like this TV it's a great size and decent price but after exchanging it Twice because of the   halo   on screen we had to give in and get a different brand.  \", u'UserID': u'bcteb90', u'ProductCategory': u'TV', u'ProductModelName': u'LG 65', u'UserAge': u'58', u'RetailerOnSale': u'No', u'ManufacturerName': u'LG', u'ReviewRating': u'2', u'UserGender': u'Male', u'RetailerZip': u'33129', u'_id': ObjectId('592f27286cb48027a4cbf18f'), u'RetailerCity': u'Miami'}\n",
      "{u'RetailerName': u'Frys', u'UserOccupation': u'Manager', u'ProductPrice': u'402', u'RetailerState': u'MA', u'ManufacturerRebate': u'No', u'ReviewDate': u'6/26/2014', u'ReviewText': u'This is a great phone for any customer! The camera is great too. Takes wonderful pictures - and has many different features!', u'UserID': u'ezwzk80', u'ProductCategory': u'Smart Phone', u'ProductModelName': u'Galaxy S4', u'UserAge': u'58', u'RetailerOnSale': u'No', u'ManufacturerName': u'Samsung', u'ReviewRating': u'5', u'UserGender': u'Male', u'RetailerZip': u'2108', u'_id': ObjectId('592f27286cb48027a4cbf194'), u'RetailerCity': u'Boston'}\n",
      "{u'RetailerName': u'Frys', u'UserOccupation': u'Student', u'ProductPrice': u'349', u'RetailerState': u'FL', u'ManufacturerRebate': u'No', u'ReviewDate': u'7/19/2014', u'ReviewText': u' I bought this tablet for my daughter', u'UserID': u'vsosb32', u'ProductCategory': u'Tablet', u'ProductModelName': u'Samsung Tab 4', u'UserAge': u'58', u'RetailerOnSale': u'No', u'ManufacturerName': u'Samsung', u'ReviewRating': u'4', u'UserGender': u'Male', u'RetailerZip': u'33129', u'_id': ObjectId('592f27286cb48027a4cbf1a2'), u'RetailerCity': u'Miami'}\n",
      "{u'RetailerName': u'Bestbuy', u'UserOccupation': u'Manager', u'ProductPrice': u'299', u'RetailerState': u'FL', u'ManufacturerRebate': u'No', u'ReviewDate': u'8/21/2014', u'ReviewText': u'We like the item we purchased. We both make good use of the item.', u'UserID': u'mldsl90', u'ProductCategory': u'Tablet', u'ProductModelName': u'Samsung Tab 4', u'UserAge': u'58', u'RetailerOnSale': u'Yes', u'ManufacturerName': u'Samsung', u'ReviewRating': u'4', u'UserGender': u'Male', u'RetailerZip': u'33129', u'_id': ObjectId('592f27286cb48027a4cbf1a9'), u'RetailerCity': u'Miami'}\n",
      "{u'RetailerName': u'Bestbuy', u'UserOccupation': u'Manager', u'ProductPrice': u'1899', u'RetailerState': u'CA', u'ManufacturerRebate': u'Yes', u'ReviewDate': u'12/14/2014', u'ReviewText': u'Bought new TV & refrigerator as moving into new house', u'UserID': u'cqzbn72', u'ProductCategory': u'TV', u'ProductModelName': u'Samsung TV 65 Curved', u'UserAge': u'58', u'RetailerOnSale': u'Yes', u'ManufacturerName': u'Samsung', u'ReviewRating': u'4', u'UserGender': u'Female', u'RetailerZip': u'90033', u'_id': ObjectId('592f27286cb48027a4cbf1b0'), u'RetailerCity': u'Los Angeles'}\n",
      "{u'RetailerName': u'Frys', u'UserOccupation': u'Accountant', u'ProductPrice': u'425', u'RetailerState': u'IL', u'ManufacturerRebate': u'No', u'ReviewDate': u'12/05/14', u'ReviewText': u\" it didn't work with my bluetooth headset\", u'UserID': u'rhucg9', u'ProductCategory': u'Tablet', u'ProductModelName': u'iPad Air', u'UserAge': u'58', u'RetailerOnSale': u'Yes', u'ManufacturerName': u'Apple', u'ReviewRating': u'1', u'UserGender': u'Female', u'RetailerZip': u'60616', u'_id': ObjectId('592f27286cb48027a4cbf1ec'), u'RetailerCity': u'Chicago'}\n",
      "{u'RetailerName': u'Walmart', u'UserOccupation': u'Unknown', u'ProductPrice': u'999', u'RetailerState': u'CA', u'ManufacturerRebate': u'No', u'ReviewDate': u'7/16/2014', u'ReviewText': u'the sound bar was defective and after several trips back to Bestbuy and a call to the manufacturer I had to get another sound bar.', u'UserID': u'ekgfn17', u'ProductCategory': u'TV', u'ProductModelName': u'LG 65', u'UserAge': u'58', u'RetailerOnSale': u'No', u'ManufacturerName': u'LG', u'ReviewRating': u'4', u'UserGender': u'Male', u'RetailerZip': u'94102', u'_id': ObjectId('592f27286cb48027a4cbf250'), u'RetailerCity': u'San Francisco'}\n",
      "{u'RetailerName': u'Walmart', u'UserOccupation': u'Programmer', u'ProductPrice': u'349', u'RetailerState': u'OH', u'ManufacturerRebate': u'No', u'ReviewDate': u'9/17/2014', u'ReviewText': u' I bought this tablet because it was on sale and I wanted a bigger screen to watch video versus my phone. The tablet is great', u'UserID': u'ioauu36', u'ProductCategory': u'Tablet', u'ProductModelName': u'Samsung Tab 4', u'UserAge': u'58', u'RetailerOnSale': u'No', u'ManufacturerName': u'Samsung', u'ReviewRating': u'4', u'UserGender': u'Male', u'RetailerZip': u'44114', u'_id': ObjectId('592f27286cb48027a4cbf26a'), u'RetailerCity': u'Cleveland'}\n",
      "{u'RetailerName': u'Frys', u'UserOccupation': u'Programmer', u'ProductPrice': u'402', u'RetailerState': u'CA', u'ManufacturerRebate': u'No', u'ReviewDate': u'2/15/2014', u'ReviewText': u' Easy to use and learn since I came from using the Note II. Better screen resolution', u'UserID': u'kvcsl66', u'ProductCategory': u'Smart Phone', u'ProductModelName': u'Galaxy S4', u'UserAge': u'58', u'RetailerOnSale': u'No', u'ManufacturerName': u'Samsung', u'ReviewRating': u'4', u'UserGender': u'Female', u'RetailerZip': u'90033', u'_id': ObjectId('592f27286cb48027a4cbf273'), u'RetailerCity': u'Los Angeles'}\n",
      "{u'RetailerName': u'Walmart', u'UserOccupation': u'Manager', u'ProductPrice': u'1799', u'RetailerState': u'IL', u'ManufacturerRebate': u'Yes', u'ReviewDate': u'2/26/2014', u'ReviewText': u'The TV works very well and was easy enough to set up.', u'UserID': u'gradg33', u'ProductCategory': u'TV', u'ProductModelName': u'Samsung TV 65 Curved', u'UserAge': u'58', u'RetailerOnSale': u'Yes', u'ManufacturerName': u'Samsung', u'ReviewRating': u'5', u'UserGender': u'Male', u'RetailerZip': u'60616', u'_id': ObjectId('592f27286cb48027a4cbf2cf'), u'RetailerCity': u'Chicago'}\n",
      "{u'RetailerName': u'hhgregg', u'UserOccupation': u'Programmer', u'ProductPrice': u'999', u'RetailerState': u'MA', u'ManufacturerRebate': u'No', u'ReviewDate': u'10/28/2014', u'ReviewText': u'I purchased this device sight unseen due to the high reviews.', u'UserID': u'avsea61', u'ProductCategory': u'TV', u'ProductModelName': u'LG 65', u'UserAge': u'58', u'RetailerOnSale': u'No', u'ManufacturerName': u'LG', u'ReviewRating': u'1', u'UserGender': u'Female', u'RetailerZip': u'2108', u'_id': ObjectId('592f27286cb48027a4cbf329'), u'RetailerCity': u'Boston'}\n",
      "{u'RetailerName': u'Frys', u'UserOccupation': u'Unknown', u'ProductPrice': u'960', u'RetailerState': u'CA', u'ManufacturerRebate': u'No', u'ReviewDate': u'07/10/13', u'ReviewText': u'Happy with the purchase. Easy to get used to the bigger phone', u'UserID': u'amsnn82', u'ProductCategory': u'Smart Phone', u'ProductModelName': u'iPhone 6', u'UserAge': u'58', u'RetailerOnSale': u'No', u'ManufacturerName': u'Apple', u'ReviewRating': u'5', u'UserGender': u'Male', u'RetailerZip': u'90033', u'_id': ObjectId('592f27286cb48027a4cbf3cb'), u'RetailerCity': u'Los Angeles'}\n",
      "{u'RetailerName': u'Target', u'UserOccupation': u'Manager', u'ProductPrice': u'269', u'RetailerState': u'IL', u'ManufacturerRebate': u'Yes', u'ReviewDate': u'4/19/2014', u'ReviewText': u'Always have good luck with Samsung products. Durable enough to last at least until my next upgrade availability.', u'UserID': u'sdqes6', u'ProductCategory': u'Smart Phone', u'ProductModelName': u'Galaxy S4', u'UserAge': u'58', u'RetailerOnSale': u'Yes', u'ManufacturerName': u'Samsung', u'ReviewRating': u'5', u'UserGender': u'Female', u'RetailerZip': u'60603', u'_id': ObjectId('592f27286cb48027a4cbf3d6'), u'RetailerCity': u'Chicago'}\n",
      "{u'RetailerName': u'Walmart', u'UserOccupation': u'Accountant', u'ProductPrice': u'349', u'RetailerState': u'CA', u'ManufacturerRebate': u'No', u'ReviewDate': u'4/19/2014', u'ReviewText': u'This turned out to be a great gift for my 8 yr old grandson.', u'UserID': u'atlnt31', u'ProductCategory': u'Tablet', u'ProductModelName': u'Samsung Tab 4', u'UserAge': u'58', u'RetailerOnSale': u'No', u'ManufacturerName': u'Samsung', u'ReviewRating': u'4', u'UserGender': u'Male', u'RetailerZip': u'94158', u'_id': ObjectId('592f27286cb48027a4cbf3e9'), u'RetailerCity': u'San Francisco'}\n",
      "{u'RetailerName': u'Frys', u'UserOccupation': u'Secratary', u'ProductPrice': u'349', u'RetailerState': u'IL', u'ManufacturerRebate': u'No', u'ReviewDate': u'8/21/2014', u'ReviewText': u\"I paid $475 dollar for an extended warranty that oh by the way doesn't cover SOFTWARE troubleshooting\", u'UserID': u'iygsj70', u'ProductCategory': u'Laptop', u'ProductModelName': u'Dell Ispiron 15.6', u'UserAge': u'58', u'RetailerOnSale': u'Yes', u'ManufacturerName': u'Dell', u'ReviewRating': u'1', u'UserGender': u'Male', u'RetailerZip': u'60585', u'_id': ObjectId('592f27286cb48027a4cbf405'), u'RetailerCity': u'Naperville'}\n",
      "{u'RetailerName': u'Walmart', u'UserOccupation': u'Student', u'ProductPrice': u'999', u'RetailerState': u'IL', u'ManufacturerRebate': u'No', u'ReviewDate': u'2/14/2014', u'ReviewText': u\"My husband and I had an iPad and didn't like it because it wouldn't work like a laptop. \", u'UserID': u'pjxvw71', u'ProductCategory': u'Tablet', u'ProductModelName': u'Surface 3', u'UserAge': u'58', u'RetailerOnSale': u'No', u'ManufacturerName': u'Microsoft', u'ReviewRating': u'5', u'UserGender': u'Male', u'RetailerZip': u'60585', u'_id': ObjectId('592f27286cb48027a4cbf416'), u'RetailerCity': u'Naperville'}\n",
      "{u'RetailerName': u'Frys', u'UserOccupation': u'Accountant', u'ProductPrice': u'499', u'RetailerState': u'CA', u'ManufacturerRebate': u'No', u'ReviewDate': u'8/13/2014', u'ReviewText': u'This iPad is great and fast. Battery life is awesome. I highly recommend.', u'UserID': u'zeafq65', u'ProductCategory': u'Tablet', u'ProductModelName': u'iPad Air', u'UserAge': u'58', u'RetailerOnSale': u'No', u'ManufacturerName': u'Apple', u'ReviewRating': u'5', u'UserGender': u'Female', u'RetailerZip': u'94102', u'_id': ObjectId('592f27286cb48027a4cbf423'), u'RetailerCity': u'San Francisco'}\n",
      "{u'RetailerName': u'hhgregg', u'UserOccupation': u'Accountant', u'ProductPrice': u'589', u'RetailerState': u'MA', u'ManufacturerRebate': u'No', u'ReviewDate': u'12/20/2014', u'ReviewText': u\"I'ven been using iPhone6 for about 3 months now and I love everything about it. It's fast and the touch ID works awesome. Battery lasts more than I expected. Great phone!\", u'UserID': u'pjgqi1', u'ProductCategory': u'Smart Phone', u'ProductModelName': u'iPhone 6', u'UserAge': u'58', u'RetailerOnSale': u'No', u'ManufacturerName': u'Apple', u'ReviewRating': u'5', u'UserGender': u'Male', u'RetailerZip': u'2110', u'_id': ObjectId('592f27286cb48027a4cbf42b'), u'RetailerCity': u'Boston'}\n",
      "{u'RetailerName': u'Bestbuy', u'UserOccupation': u'Programmer', u'ProductPrice': u'960', u'RetailerState': u'CA', u'ManufacturerRebate': u'No', u'ReviewDate': u'6/26/2014', u'ReviewText': u'Love this phone I finally upgraded from the 4s and it was well worth it', u'UserID': u'gmqdj18', u'ProductCategory': u'Smart Phone', u'ProductModelName': u'iPhone 6', u'UserAge': u'58', u'RetailerOnSale': u'No', u'ManufacturerName': u'Apple', u'ReviewRating': u'5', u'UserGender': u'Male', u'RetailerZip': u'94158', u'_id': ObjectId('592f27286cb48027a4cbf433'), u'RetailerCity': u'San Francisco'}\n",
      "{u'RetailerName': u'Frys', u'UserOccupation': u'Unknown', u'ProductPrice': u'1100', u'RetailerState': u'IL', u'ManufacturerRebate': u'No', u'ReviewDate': u'7/23/2014', u'ReviewText': u'The sells people were great in explaining and going over the product with us. Good Job Bestbuy', u'UserID': u'rtjsl31', u'ProductCategory': u'TV', u'ProductModelName': u'Samsung TV 60 LED', u'UserAge': u'58', u'RetailerOnSale': u'Yes', u'ManufacturerName': u'Samsung', u'ReviewRating': u'4', u'UserGender': u'Female', u'RetailerZip': u'60585', u'_id': ObjectId('592f27286cb48027a4cbf462'), u'RetailerCity': u'Naperville'}\n",
      "{u'RetailerName': u'Bestbuy', u'UserOccupation': u'Unknown', u'ProductPrice': u'1100', u'RetailerState': u'OH', u'ManufacturerRebate': u'No', u'ReviewDate': u'06/10/14', u'ReviewText': u'TV looks better that older model. However Smart hub keeps crashing', u'UserID': u'ssxgd70', u'ProductCategory': u'TV', u'ProductModelName': u'Samsung TV 60 LED', u'UserAge': u'58', u'RetailerOnSale': u'Yes', u'ManufacturerName': u'Samsung', u'ReviewRating': u'3', u'UserGender': u'Male', u'RetailerZip': u'44114', u'_id': ObjectId('592f27286cb48027a4cbf46c'), u'RetailerCity': u'Cleveland'}\n",
      "{u'RetailerName': u'Frys', u'UserOccupation': u'Programmer', u'ProductPrice': u'2250', u'RetailerState': u'CA', u'ManufacturerRebate': u'No', u'ReviewDate': u'2/15/2014', u'ReviewText': u'awesome tv! Better price! ', u'UserID': u'btkli83', u'ProductCategory': u'TV', u'ProductModelName': u'LG 65', u'UserAge': u'58', u'RetailerOnSale': u'No', u'ManufacturerName': u'LG', u'ReviewRating': u'5', u'UserGender': u'Male', u'RetailerZip': u'94158', u'_id': ObjectId('592f27286cb48027a4cbf486'), u'RetailerCity': u'San Francisco'}\n",
      "{u'RetailerName': u'Walmart', u'UserOccupation': u'Unknown', u'ProductPrice': u'925', u'RetailerState': u'CA', u'ManufacturerRebate': u'No', u'ReviewDate': u'9/21/2014', u'ReviewText': u' Very easy to use', u'UserID': u'pxscv98', u'ProductCategory': u'Tablet', u'ProductModelName': u'Surface 3', u'UserAge': u'58', u'RetailerOnSale': u'No', u'ManufacturerName': u'Microsoft', u'ReviewRating': u'5', u'UserGender': u'Female', u'RetailerZip': u'90033', u'_id': ObjectId('592f27286cb48027a4cbf495'), u'RetailerCity': u'Los Angeles'}\n",
      "{u'RetailerName': u'Walmart', u'UserOccupation': u'Secratary', u'ProductPrice': u'969', u'RetailerState': u'IL', u'ManufacturerRebate': u'No', u'ReviewDate': u'06/10/14', u'ReviewText': u'If I move the pen to close to the edge while I write it then it makes a line expanding the writing area. ', u'UserID': u'uzctw97', u'ProductCategory': u'Tablet', u'ProductModelName': u'Surface 3', u'UserAge': u'58', u'RetailerOnSale': u'No', u'ManufacturerName': u'Microsoft', u'ReviewRating': u'1', u'UserGender': u'Male', u'RetailerZip': u'60616', u'_id': ObjectId('592f27286cb48027a4cbf4a8'), u'RetailerCity': u'Chicago'}\n",
      "{u'RetailerName': u'Target', u'UserOccupation': u'Secratary', u'ProductPrice': u'298', u'RetailerState': u'IL', u'ManufacturerRebate': u'Yes', u'ReviewDate': u'9/20/2014', u'ReviewText': u'This laptop is the best and the windows 8.1 is awesome.', u'UserID': u'uyafy16', u'ProductCategory': u'Laptop', u'ProductModelName': u'HP PAVALION  15.6', u'UserAge': u'58', u'RetailerOnSale': u'Yes', u'ManufacturerName': u'HP', u'ReviewRating': u'4', u'UserGender': u'Female', u'RetailerZip': u'60616', u'_id': ObjectId('592f27286cb48027a4cbf4c4'), u'RetailerCity': u'Chicago'}\n",
      "{u'RetailerName': u'Frys', u'UserOccupation': u'Manager', u'ProductPrice': u'1200', u'RetailerState': u'CA', u'ManufacturerRebate': u'No', u'ReviewDate': u'12/14/2014', u'ReviewText': u\" The only times you will see the picture blurry is when you watch old shows such as reruns of Roseanne and even Will & Grace which was newer. It's understandable\", u'UserID': u'rbfqi97', u'ProductCategory': u'TV', u'ProductModelName': u'Samsung TV 60 LED', u'UserAge': u'58', u'RetailerOnSale': u'No', u'ManufacturerName': u'Samsung', u'ReviewRating': u'4', u'UserGender': u'Female', u'RetailerZip': u'94158', u'_id': ObjectId('592f27286cb48027a4cbf4fe'), u'RetailerCity': u'San Francisco'}\n",
      "{u'RetailerName': u'Target', u'UserOccupation': u'Manager', u'ProductPrice': u'349', u'RetailerState': u'MA', u'ManufacturerRebate': u'No', u'ReviewDate': u'04/01/15', u'ReviewText': u'Purchased the tablet for my mom. She will use it on the road when she travels instead of carrying her laptop with her. ', u'UserID': u'nsjij59', u'ProductCategory': u'Tablet', u'ProductModelName': u'Samsung Tab 4', u'UserAge': u'58', u'RetailerOnSale': u'No', u'ManufacturerName': u'Samsung', u'ReviewRating': u'3', u'UserGender': u'Male', u'RetailerZip': u'2110', u'_id': ObjectId('592f27286cb48027a4cbf4ff'), u'RetailerCity': u'Boston'}\n",
      "{u'RetailerName': u'hhgregg', u'UserOccupation': u'Accountant', u'ProductPrice': u'399', u'RetailerState': u'IL', u'ManufacturerRebate': u'No', u'ReviewDate': u'9/20/2014', u'ReviewText': u' I love my iPhone 6! It has a larger screen', u'UserID': u'xifct50', u'ProductCategory': u'Smart Phone', u'ProductModelName': u'iPhone 6', u'UserAge': u'58', u'RetailerOnSale': u'No', u'ManufacturerName': u'Apple', u'ReviewRating': u'5', u'UserGender': u'Male', u'RetailerZip': u'60585', u'_id': ObjectId('592f27286cb48027a4cbf513'), u'RetailerCity': u'Naperville'}\n",
      "{u'RetailerName': u'Target', u'UserOccupation': u'Unknown', u'ProductPrice': u'349', u'RetailerState': u'IL', u'ManufacturerRebate': u'No', u'ReviewDate': u'05/12/14', u'ReviewText': u' Bought 2 inferior 10.1 tablets before deciding on the Samsung Tab 4 8  . Should have bought this for wifey from the beginning but she is a novice. ', u'UserID': u'kelys63', u'ProductCategory': u'Tablet', u'ProductModelName': u'Samsung Tab 4', u'UserAge': u'58', u'RetailerOnSale': u'No', u'ManufacturerName': u'Samsung', u'ReviewRating': u'4', u'UserGender': u'Male', u'RetailerZip': u'60616', u'_id': ObjectId('592f27286cb48027a4cbf528'), u'RetailerCity': u'Chicago'}\n",
      "{u'RetailerName': u'Bestbuy', u'UserOccupation': u'Student', u'ProductPrice': u'449', u'RetailerState': u'OH', u'ManufacturerRebate': u'No', u'ReviewDate': u'9/13/2013', u'ReviewText': u'I am excited about this purchase', u'UserID': u'tokpy68', u'ProductCategory': u'Laptop', u'ProductModelName': u'Dell Ispiron 15.6', u'UserAge': u'58', u'RetailerOnSale': u'Yes', u'ManufacturerName': u'Dell', u'ReviewRating': u'5', u'UserGender': u'Female', u'RetailerZip': u'44114', u'_id': ObjectId('592f27286cb48027a4cbf563'), u'RetailerCity': u'Cleveland'}\n",
      "{u'RetailerName': u'Walmart', u'UserOccupation': u'Accountant', u'ProductPrice': u'425', u'RetailerState': u'MA', u'ManufacturerRebate': u'No', u'ReviewDate': u'6/25/2014', u'ReviewText': u' Powered itself off every time it went to standby', u'UserID': u'boqxj67', u'ProductCategory': u'Tablet', u'ProductModelName': u'iPad Air', u'UserAge': u'58', u'RetailerOnSale': u'Yes', u'ManufacturerName': u'Apple', u'ReviewRating': u'2', u'UserGender': u'Female', u'RetailerZip': u'2110', u'_id': ObjectId('592f27286cb48027a4cbf564'), u'RetailerCity': u'Boston'}\n",
      "{u'RetailerName': u'Walmart', u'UserOccupation': u'Unknown', u'ProductPrice': u'299', u'RetailerState': u'MA', u'ManufacturerRebate': u'No', u'ReviewDate': u'2/29/2015', u'ReviewText': u' good phone', u'UserID': u'chbbk29', u'ProductCategory': u'Smart Phone', u'ProductModelName': u'iPhone 6', u'UserAge': u'58', u'RetailerOnSale': u'Yes', u'ManufacturerName': u'Apple', u'ReviewRating': u'5', u'UserGender': u'Female', u'RetailerZip': u'2108', u'_id': ObjectId('592f27286cb48027a4cbf571'), u'RetailerCity': u'Boston'}\n",
      "{u'RetailerName': u'Frys', u'UserOccupation': u'Programmer', u'ProductPrice': u'399', u'RetailerState': u'CA', u'ManufacturerRebate': u'No', u'ReviewDate': u'8/21/2014', u'ReviewText': u'Apple did a great job in improving the new iPhone', u'UserID': u'xefpl23', u'ProductCategory': u'Smart Phone', u'ProductModelName': u'iPhone 6', u'UserAge': u'58', u'RetailerOnSale': u'No', u'ManufacturerName': u'Apple', u'ReviewRating': u'5', u'UserGender': u'Male', u'RetailerZip': u'90033', u'_id': ObjectId('592f27286cb48027a4cbf58b'), u'RetailerCity': u'Los Angeles'}\n",
      "{u'RetailerName': u'Walmart', u'UserOccupation': u'Secratary', u'ProductPrice': u'1100', u'RetailerState': u'FL', u'ManufacturerRebate': u'No', u'ReviewDate': u'11/29/2014', u'ReviewText': u'tv was what I expected. very happy with it. Thanks.', u'UserID': u'gdioa10', u'ProductCategory': u'TV', u'ProductModelName': u'Samsung TV 60 LED', u'UserAge': u'58', u'RetailerOnSale': u'Yes', u'ManufacturerName': u'Samsung', u'ReviewRating': u'4', u'UserGender': u'Male', u'RetailerZip': u'33130', u'_id': ObjectId('592f27286cb48027a4cbf5aa'), u'RetailerCity': u'Miami'}\n",
      "{u'RetailerName': u'Walmart', u'UserOccupation': u'Accountant', u'ProductPrice': u'299', u'RetailerState': u'CA', u'ManufacturerRebate': u'No', u'ReviewDate': u'06/10/14', u'ReviewText': u'Iam enjoying this tablet as it does everything that I need. Love to watch movies on it also. Very clear picture and nice little camera also. Love that the battery stays charged.', u'UserID': u'mmazk35', u'ProductCategory': u'Tablet', u'ProductModelName': u'Samsung Tab 4', u'UserAge': u'58', u'RetailerOnSale': u'Yes', u'ManufacturerName': u'Samsung', u'ReviewRating': u'5', u'UserGender': u'Male', u'RetailerZip': u'94158', u'_id': ObjectId('592f27286cb48027a4cbf5f0'), u'RetailerCity': u'San Francisco'}\n",
      "{u'RetailerName': u'hhgregg', u'UserOccupation': u'Programmer', u'ProductPrice': u'399', u'RetailerState': u'CA', u'ManufacturerRebate': u'No', u'ReviewDate': u'06/10/12', u'ReviewText': u' Got this phone for my mom', u'UserID': u'bntzq95', u'ProductCategory': u'Smart Phone', u'ProductModelName': u'Galaxy S4', u'UserAge': u'58', u'RetailerOnSale': u'No', u'ManufacturerName': u'Samsung', u'ReviewRating': u'5', u'UserGender': u'Female', u'RetailerZip': u'90033', u'_id': ObjectId('592f27286cb48027a4cbf625'), u'RetailerCity': u'Los Angeles'}\n",
      "{u'RetailerName': u'hhgregg', u'UserOccupation': u'Manager', u'ProductPrice': u'390', u'RetailerState': u'FL', u'ManufacturerRebate': u'No', u'ReviewDate': u'10/21/2014', u'ReviewText': u'I just wish i could send recorded songs via text. Other wise GREAT PHONE!', u'UserID': u'wgszb47', u'ProductCategory': u'Smart Phone', u'ProductModelName': u'Galaxy S4', u'UserAge': u'58', u'RetailerOnSale': u'Yes', u'ManufacturerName': u'Samsung', u'ReviewRating': u'4', u'UserGender': u'Male', u'RetailerZip': u'33129', u'_id': ObjectId('592f27286cb48027a4cbf639'), u'RetailerCity': u'Miami'}\n",
      "{u'RetailerName': u'hhgregg', u'UserOccupation': u'Programmer', u'ProductPrice': u'349', u'RetailerState': u'MA', u'ManufacturerRebate': u'No', u'ReviewDate': u'6/21/2014', u'ReviewText': u' No issues', u'UserID': u'uqbdr52', u'ProductCategory': u'Tablet', u'ProductModelName': u'Samsung Tab 4', u'UserAge': u'58', u'RetailerOnSale': u'No', u'ManufacturerName': u'Samsung', u'ReviewRating': u'5', u'UserGender': u'Male', u'RetailerZip': u'2108', u'_id': ObjectId('592f27286cb48027a4cbf689'), u'RetailerCity': u'Boston'}\n",
      "{u'RetailerName': u'Walmart', u'UserOccupation': u'Unknown', u'ProductPrice': u'390', u'RetailerState': u'MA', u'ManufacturerRebate': u'No', u'ReviewDate': u'5/25/2014', u'ReviewText': u'I have no complaints about the phone. I hate being tied to a contract.', u'UserID': u'xwtgs28', u'ProductCategory': u'Smart Phone', u'ProductModelName': u'Galaxy S4', u'UserAge': u'58', u'RetailerOnSale': u'Yes', u'ManufacturerName': u'Samsung', u'ReviewRating': u'5', u'UserGender': u'Female', u'RetailerZip': u'2110', u'_id': ObjectId('592f27286cb48027a4cbf6b6'), u'RetailerCity': u'Boston'}\n",
      "{u'RetailerName': u'hhgregg', u'UserOccupation': u'Accountant', u'ProductPrice': u'1900', u'RetailerState': u'CA', u'ManufacturerRebate': u'No', u'ReviewDate': u'6/18/2014', u'ReviewText': u'This tv set is phenomenal', u'UserID': u'tiqns51', u'ProductCategory': u'TV', u'ProductModelName': u'Samsung TV 65 Curved', u'UserAge': u'58', u'RetailerOnSale': u'No', u'ManufacturerName': u'Samsung', u'ReviewRating': u'5', u'UserGender': u'Female', u'RetailerZip': u'94102', u'_id': ObjectId('592f27286cb48027a4cbf6d0'), u'RetailerCity': u'San Francisco'}\n",
      "{u'RetailerName': u'hhgregg', u'UserOccupation': u'Accountant', u'ProductPrice': u'1799', u'RetailerState': u'IL', u'ManufacturerRebate': u'Yes', u'ReviewDate': u'5/15/2013', u'ReviewText': u\"The Samsung curved tv is the best I've ever bought.\", u'UserID': u'zfytd28', u'ProductCategory': u'TV', u'ProductModelName': u'Samsung TV 65 Curved', u'UserAge': u'58', u'RetailerOnSale': u'Yes', u'ManufacturerName': u'Samsung', u'ReviewRating': u'5', u'UserGender': u'Male', u'RetailerZip': u'60616', u'_id': ObjectId('592f27286cb48027a4cbf6db'), u'RetailerCity': u'Chicago'}\n",
      "{u'RetailerName': u'Bestbuy', u'UserOccupation': u'Student', u'ProductPrice': u'399', u'RetailerState': u'IL', u'ManufacturerRebate': u'No', u'ReviewDate': u'2/26/2014', u'ReviewText': u'This was a huge step up from an older sony phone. I am very happy with this purchase.', u'UserID': u'farvp90', u'ProductCategory': u'Smart Phone', u'ProductModelName': u'Galaxy S4', u'UserAge': u'58', u'RetailerOnSale': u'No', u'ManufacturerName': u'Samsung', u'ReviewRating': u'5', u'UserGender': u'Male', u'RetailerZip': u'60616', u'_id': ObjectId('592f27286cb48027a4cbf6e7'), u'RetailerCity': u'Chicago'}\n",
      "{u'RetailerName': u'hhgregg', u'UserOccupation': u'Programmer', u'ProductPrice': u'390', u'RetailerState': u'OH', u'ManufacturerRebate': u'No', u'ReviewDate': u'9/20/2014', u'ReviewText': u' Overall good phone. I think the camera quality could be better', u'UserID': u'tpgxj5', u'ProductCategory': u'Smart Phone', u'ProductModelName': u'Galaxy S4', u'UserAge': u'58', u'RetailerOnSale': u'Yes', u'ManufacturerName': u'Samsung', u'ReviewRating': u'4', u'UserGender': u'Male', u'RetailerZip': u'44114', u'_id': ObjectId('592f27286cb48027a4cbf722'), u'RetailerCity': u'Cleveland'}\n",
      "{u'RetailerName': u'Bestbuy', u'UserOccupation': u'Unknown', u'ProductPrice': u'399', u'RetailerState': u'OH', u'ManufacturerRebate': u'No', u'ReviewDate': u'5/15/2013', u'ReviewText': u\"I'm surprised to see so many low ratings. I really like this phone.\", u'UserID': u'raxbs8', u'ProductCategory': u'Smart Phone', u'ProductModelName': u'iPhone 6', u'UserAge': u'58', u'RetailerOnSale': u'No', u'ManufacturerName': u'Apple', u'ReviewRating': u'5', u'UserGender': u'Male', u'RetailerZip': u'44114', u'_id': ObjectId('592f27286cb48027a4cbf777'), u'RetailerCity': u'Cleveland'}\n",
      "{u'RetailerName': u'Bestbuy', u'UserOccupation': u'Programmer', u'ProductPrice': u'399', u'RetailerState': u'CA', u'ManufacturerRebate': u'No', u'ReviewDate': u'7/21/2014', u'ReviewText': u\"I've had this phone for a short while and I am still in awe. I\", u'UserID': u'auqxt26', u'ProductCategory': u'Smart Phone', u'ProductModelName': u'Galaxy S4', u'UserAge': u'58', u'RetailerOnSale': u'No', u'ManufacturerName': u'Samsung', u'ReviewRating': u'4', u'UserGender': u'Female', u'RetailerZip': u'90012', u'_id': ObjectId('592f27286cb48027a4cbf7c7'), u'RetailerCity': u'Los Angeles'}\n",
      "{u'RetailerName': u'Bestbuy', u'UserOccupation': u'Accountant', u'ProductPrice': u'849', u'RetailerState': u'IL', u'ManufacturerRebate': u'Yes', u'ReviewDate': u'6/26/2014', u'ReviewText': u'NO issues with the tv. Has a great picture even though its not 4K', u'UserID': u'ufako40', u'ProductCategory': u'TV', u'ProductModelName': u'LG 65', u'UserAge': u'58', u'RetailerOnSale': u'Yes', u'ManufacturerName': u'LG', u'ReviewRating': u'4', u'UserGender': u'Female', u'RetailerZip': u'60585', u'_id': ObjectId('592f27286cb48027a4cbf7cf'), u'RetailerCity': u'Naperville'}\n",
      "{u'RetailerName': u'hhgregg', u'UserOccupation': u'Unknown', u'ProductPrice': u'1100', u'RetailerState': u'OH', u'ManufacturerRebate': u'No', u'ReviewDate': u'12/05/14', u'ReviewText': u\"This tv is amazing!! Extremely clear picture and sound. Movies just got that much better! The apps are sweet too! One click and I'm watching Netflix\", u'UserID': u'dfxcj76', u'ProductCategory': u'TV', u'ProductModelName': u'Samsung TV 60 LED', u'UserAge': u'58', u'RetailerOnSale': u'Yes', u'ManufacturerName': u'Samsung', u'ReviewRating': u'5', u'UserGender': u'Male', u'RetailerZip': u'44114', u'_id': ObjectId('592f27286cb48027a4cbf7d6'), u'RetailerCity': u'Cleveland'}\n",
      "{u'RetailerName': u'Walmart', u'UserOccupation': u'Manager', u'ProductPrice': u'299', u'RetailerState': u'CA', u'ManufacturerRebate': u'No', u'ReviewDate': u'4/19/2014', u'ReviewText': u' Easy to use', u'UserID': u'xfaot20', u'ProductCategory': u'Laptop', u'ProductModelName': u'HP PAVALION  15.6', u'UserAge': u'58', u'RetailerOnSale': u'Yes', u'ManufacturerName': u'HP', u'ReviewRating': u'5', u'UserGender': u'Female', u'RetailerZip': u'90033', u'_id': ObjectId('592f27286cb48027a4cbf7db'), u'RetailerCity': u'Los Angeles'}\n",
      "{u'RetailerName': u'hhgregg', u'UserOccupation': u'Programmer', u'ProductPrice': u'969', u'RetailerState': u'CA', u'ManufacturerRebate': u'No', u'ReviewDate': u'7/23/2014', u'ReviewText': u' Runs quick', u'UserID': u'zguri59', u'ProductCategory': u'Tablet', u'ProductModelName': u'Surface 3', u'UserAge': u'58', u'RetailerOnSale': u'No', u'ManufacturerName': u'Microsoft', u'ReviewRating': u'5', u'UserGender': u'Male', u'RetailerZip': u'94102', u'_id': ObjectId('592f27286cb48027a4cbf7e4'), u'RetailerCity': u'San Francisco'}\n",
      "{u'RetailerName': u'Bestbuy', u'UserOccupation': u'Programmer', u'ProductPrice': u'299', u'RetailerState': u'IL', u'ManufacturerRebate': u'No', u'ReviewDate': u'12/14/2014', u'ReviewText': u'I bought this for traveling and so far it has worked well. Bigger then my phone but still small enough to be easily portable. ', u'UserID': u'viplf50', u'ProductCategory': u'Tablet', u'ProductModelName': u'Samsung Tab 4', u'UserAge': u'58', u'RetailerOnSale': u'Yes', u'ManufacturerName': u'Samsung', u'ReviewRating': u'4', u'UserGender': u'Female', u'RetailerZip': u'60603', u'_id': ObjectId('592f27286cb48027a4cbf844'), u'RetailerCity': u'Chicago'}\n",
      "{u'RetailerName': u'Walmart', u'UserOccupation': u'Manager', u'ProductPrice': u'399', u'RetailerState': u'CA', u'ManufacturerRebate': u'No', u'ReviewDate': u'10/13/2013', u'ReviewText': u'Same quality you would expect from any apple product. Is it worth the hype? My last phone was a 4G so in my case yes.', u'UserID': u'xtzxw10', u'ProductCategory': u'Smart Phone', u'ProductModelName': u'iPhone 6', u'UserAge': u'58', u'RetailerOnSale': u'No', u'ManufacturerName': u'Apple', u'ReviewRating': u'5', u'UserGender': u'Female', u'RetailerZip': u'90012', u'_id': ObjectId('592f27286cb48027a4cbf864'), u'RetailerCity': u'Los Angeles'}\n",
      "{u'RetailerName': u'Walmart', u'UserOccupation': u'Programmer', u'ProductPrice': u'299', u'RetailerState': u'FL', u'ManufacturerRebate': u'No', u'ReviewDate': u'08/10/13', u'ReviewText': u' I have all Apple at home. I bought this as a development/test device for an Android app', u'UserID': u'cfoji38', u'ProductCategory': u'Tablet', u'ProductModelName': u'Samsung Tab 4', u'UserAge': u'58', u'RetailerOnSale': u'Yes', u'ManufacturerName': u'Samsung', u'ReviewRating': u'4', u'UserGender': u'Female', u'RetailerZip': u'33129', u'_id': ObjectId('592f27286cb48027a4cbf867'), u'RetailerCity': u'Miami'}\n",
      "{u'RetailerName': u'Bestbuy', u'UserOccupation': u'Manager', u'ProductPrice': u'425', u'RetailerState': u'CA', u'ManufacturerRebate': u'No', u'ReviewDate': u'5/15/2013', u'ReviewText': u' Excellent iPad', u'UserID': u'tuiwk49', u'ProductCategory': u'Tablet', u'ProductModelName': u'iPad Air', u'UserAge': u'58', u'RetailerOnSale': u'Yes', u'ManufacturerName': u'Apple', u'ReviewRating': u'5', u'UserGender': u'Female', u'RetailerZip': u'90012', u'_id': ObjectId('592f27286cb48027a4cbf87e'), u'RetailerCity': u'Los Angeles'}\n",
      "{u'RetailerName': u'Walmart', u'UserOccupation': u'Programmer', u'ProductPrice': u'449', u'RetailerState': u'FL', u'ManufacturerRebate': u'No', u'ReviewDate': u'12/20/2014', u'ReviewText': u'kids use it for homework and playing games.', u'UserID': u'zfedd46', u'ProductCategory': u'Laptop', u'ProductModelName': u'Dell Ispiron 15.6', u'UserAge': u'58', u'RetailerOnSale': u'Yes', u'ManufacturerName': u'Dell', u'ReviewRating': u'4', u'UserGender': u'Male', u'RetailerZip': u'33130', u'_id': ObjectId('592f27286cb48027a4cbf884'), u'RetailerCity': u'Miami'}\n",
      "{u'RetailerName': u'Walmart', u'UserOccupation': u'Programmer', u'ProductPrice': u'299', u'RetailerState': u'OH', u'ManufacturerRebate': u'No', u'ReviewDate': u'3/24/2014', u'ReviewText': u' She says its great...no complaints...she is interested in researching her illness', u'UserID': u'dlwvs41', u'ProductCategory': u'Tablet', u'ProductModelName': u'Samsung Tab 4', u'UserAge': u'58', u'RetailerOnSale': u'Yes', u'ManufacturerName': u'Samsung', u'ReviewRating': u'5', u'UserGender': u'Female', u'RetailerZip': u'44114', u'_id': ObjectId('592f27286cb48027a4cbf89c'), u'RetailerCity': u'Cleveland'}\n",
      "{u'RetailerName': u'Walmart', u'UserOccupation': u'Programmer', u'ProductPrice': u'299', u'RetailerState': u'MA', u'ManufacturerRebate': u'No', u'ReviewDate': u'2/15/2014', u'ReviewText': u' Great tablet for videos ', u'UserID': u'fjcxi14', u'ProductCategory': u'Tablet', u'ProductModelName': u'Samsung Tab 4', u'UserAge': u'58', u'RetailerOnSale': u'Yes', u'ManufacturerName': u'Samsung', u'ReviewRating': u'5', u'UserGender': u'Male', u'RetailerZip': u'2110', u'_id': ObjectId('592f27286cb48027a4cbf8b3'), u'RetailerCity': u'Boston'}\n",
      "{u'RetailerName': u'Target', u'UserOccupation': u'Accountant', u'ProductPrice': u'349', u'RetailerState': u'FL', u'ManufacturerRebate': u'No', u'ReviewDate': u'5/15/2013', u'ReviewText': u'Really hard to get used to 8.1.', u'UserID': u'kyuwv88', u'ProductCategory': u'Laptop', u'ProductModelName': u'Dell Ispiron 15.6', u'UserAge': u'58', u'RetailerOnSale': u'Yes', u'ManufacturerName': u'Dell', u'ReviewRating': u'3', u'UserGender': u'Male', u'RetailerZip': u'33129', u'_id': ObjectId('592f27286cb48027a4cbf8d2'), u'RetailerCity': u'Miami'}\n",
      "{u'RetailerName': u'Target', u'UserOccupation': u'Student', u'ProductPrice': u'1100', u'RetailerState': u'CA', u'ManufacturerRebate': u'No', u'ReviewDate': u'2/15/2015', u'ReviewText': u'this is a wonderful television and the service was excellent especially the geek squad', u'UserID': u'ujvip28', u'ProductCategory': u'TV', u'ProductModelName': u'Samsung TV 60 LED', u'UserAge': u'59', u'RetailerOnSale': u'Yes', u'ManufacturerName': u'Samsung', u'ReviewRating': u'4', u'UserGender': u'Male', u'RetailerZip': u'94102', u'_id': ObjectId('592f27286cb48027a4cbf157'), u'RetailerCity': u'San Francisco'}\n",
      "{u'RetailerName': u'Target', u'UserOccupation': u'Manager', u'ProductPrice': u'999', u'RetailerState': u'IL', u'ManufacturerRebate': u'No', u'ReviewDate': u'12/05/14', u'ReviewText': u'Enjoy the portability as a traveler.', u'UserID': u'fjook35', u'ProductCategory': u'Tablet', u'ProductModelName': u'Surface 3', u'UserAge': u'59', u'RetailerOnSale': u'No', u'ManufacturerName': u'Microsoft', u'ReviewRating': u'4', u'UserGender': u'Male', u'RetailerZip': u'60616', u'_id': ObjectId('592f27286cb48027a4cbf198'), u'RetailerCity': u'Chicago'}\n",
      "{u'RetailerName': u'Bestbuy', u'UserOccupation': u'Unknown', u'ProductPrice': u'376', u'RetailerState': u'CA', u'ManufacturerRebate': u'No', u'ReviewDate': u'7/21/2014', u'ReviewText': u\"I'm quite happy with the PC. It has adequate speed for my needs.\", u'UserID': u'gkgkl66', u'ProductCategory': u'Laptop', u'ProductModelName': u'HP PAVALION  15.6', u'UserAge': u'59', u'RetailerOnSale': u'No', u'ManufacturerName': u'HP', u'ReviewRating': u'5', u'UserGender': u'Female', u'RetailerZip': u'90012', u'_id': ObjectId('592f27286cb48027a4cbf1ae'), u'RetailerCity': u'Los Angeles'}\n",
      "{u'RetailerName': u'Bestbuy', u'UserOccupation': u'Secratary', u'ProductPrice': u'589', u'RetailerState': u'IL', u'ManufacturerRebate': u'No', u'ReviewDate': u'11/25/2014', u'ReviewText': u'All the pros of an iphone - great storage and speed.', u'UserID': u'rokiq78', u'ProductCategory': u'Smart Phone', u'ProductModelName': u'iPhone 6', u'UserAge': u'59', u'RetailerOnSale': u'No', u'ManufacturerName': u'Apple', u'ReviewRating': u'4', u'UserGender': u'Female', u'RetailerZip': u'60585', u'_id': ObjectId('592f27286cb48027a4cbf1b8'), u'RetailerCity': u'Naperville'}\n",
      "{u'RetailerName': u'Target', u'UserOccupation': u'Unknown', u'ProductPrice': u'349', u'RetailerState': u'CA', u'ManufacturerRebate': u'No', u'ReviewDate': u'8/21/2014', u'ReviewText': u' Got it for my mother', u'UserID': u'cwqnt17', u'ProductCategory': u'Tablet', u'ProductModelName': u'Samsung Tab 4', u'UserAge': u'59', u'RetailerOnSale': u'No', u'ManufacturerName': u'Samsung', u'ReviewRating': u'5', u'UserGender': u'Male', u'RetailerZip': u'90033', u'_id': ObjectId('592f27286cb48027a4cbf1c5'), u'RetailerCity': u'Los Angeles'}\n",
      "{u'RetailerName': u'hhgregg', u'UserOccupation': u'Unknown', u'ProductPrice': u'849', u'RetailerState': u'CA', u'ManufacturerRebate': u'Yes', u'ReviewDate': u'8/17/2014', u'ReviewText': u'Nice TV for the price. Wish it had optical outputs to connect my sound bar.', u'UserID': u'ugbwo30', u'ProductCategory': u'TV', u'ProductModelName': u'LG 65', u'UserAge': u'59', u'RetailerOnSale': u'Yes', u'ManufacturerName': u'LG', u'ReviewRating': u'4', u'UserGender': u'Male', u'RetailerZip': u'94158', u'_id': ObjectId('592f27286cb48027a4cbf1ea'), u'RetailerCity': u'San Francisco'}\n",
      "{u'RetailerName': u'Bestbuy', u'UserOccupation': u'Manager', u'ProductPrice': u'499', u'RetailerState': u'MA', u'ManufacturerRebate': u'No', u'ReviewDate': u'6/18/2014', u'ReviewText': u'It has been a great tool for post stroke use games and speech apps.', u'UserID': u'xsqhh73', u'ProductCategory': u'Tablet', u'ProductModelName': u'iPad Air', u'UserAge': u'59', u'RetailerOnSale': u'No', u'ManufacturerName': u'Apple', u'ReviewRating': u'5', u'UserGender': u'Female', u'RetailerZip': u'2108', u'_id': ObjectId('592f27286cb48027a4cbf214'), u'RetailerCity': u'Boston'}\n",
      "{u'RetailerName': u'hhgregg', u'UserOccupation': u'Programmer', u'ProductPrice': u'390', u'RetailerState': u'MA', u'ManufacturerRebate': u'No', u'ReviewDate': u'2/15/2014', u'ReviewText': u'Son went from iPhone to galaxy. He likes the new options he has as well as the better graphics and memory storage.', u'UserID': u'cfzej61', u'ProductCategory': u'Smart Phone', u'ProductModelName': u'Galaxy S4', u'UserAge': u'59', u'RetailerOnSale': u'Yes', u'ManufacturerName': u'Samsung', u'ReviewRating': u'4', u'UserGender': u'Male', u'RetailerZip': u'2108', u'_id': ObjectId('592f27286cb48027a4cbf23c'), u'RetailerCity': u'Boston'}\n",
      "{u'RetailerName': u'Target', u'UserOccupation': u'Student', u'ProductPrice': u'399', u'RetailerState': u'MA', u'ManufacturerRebate': u'No', u'ReviewDate': u'10/25/2014', u'ReviewText': u' Good phone', u'UserID': u'ullxf50', u'ProductCategory': u'Smart Phone', u'ProductModelName': u'Galaxy S4', u'UserAge': u'59', u'RetailerOnSale': u'No', u'ManufacturerName': u'Samsung', u'ReviewRating': u'4', u'UserGender': u'Male', u'RetailerZip': u'2109', u'_id': ObjectId('592f27286cb48027a4cbf25d'), u'RetailerCity': u'Boston'}\n",
      "{u'RetailerName': u'Frys', u'UserOccupation': u'Accountant', u'ProductPrice': u'449', u'RetailerState': u'CA', u'ManufacturerRebate': u'No', u'ReviewDate': u'11/25/2014', u'ReviewText': u\"This was a big expense for our family so it would be terribly disappointing if it wasn't up to par.\", u'UserID': u'abzic63', u'ProductCategory': u'Laptop', u'ProductModelName': u'Dell Ispiron 15.6', u'UserAge': u'59', u'RetailerOnSale': u'Yes', u'ManufacturerName': u'Dell', u'ReviewRating': u'5', u'UserGender': u'Male', u'RetailerZip': u'94158', u'_id': ObjectId('592f27286cb48027a4cbf261'), u'RetailerCity': u'San Francisco'}\n",
      "{u'RetailerName': u'Walmart', u'UserOccupation': u'Programmer', u'ProductPrice': u'299', u'RetailerState': u'FL', u'ManufacturerRebate': u'No', u'ReviewDate': u'6/25/2014', u'ReviewText': u'i like what I brought and would do it all over again', u'UserID': u'qbgyc95', u'ProductCategory': u'Laptop', u'ProductModelName': u'HP PAVALION  15.6', u'UserAge': u'59', u'RetailerOnSale': u'Yes', u'ManufacturerName': u'HP', u'ReviewRating': u'5', u'UserGender': u'Male', u'RetailerZip': u'33129', u'_id': ObjectId('592f27286cb48027a4cbf269'), u'RetailerCity': u'Miami'}\n",
      "{u'RetailerName': u'hhgregg', u'UserOccupation': u'Accountant', u'ProductPrice': u'449', u'RetailerState': u'FL', u'ManufacturerRebate': u'No', u'ReviewDate': u'8/21/2014', u'ReviewText': u' The computer worked fine', u'UserID': u'llvkl69', u'ProductCategory': u'Laptop', u'ProductModelName': u'Dell Ispiron 15.6', u'UserAge': u'59', u'RetailerOnSale': u'Yes', u'ManufacturerName': u'Dell', u'ReviewRating': u'3', u'UserGender': u'Male', u'RetailerZip': u'33129', u'_id': ObjectId('592f27286cb48027a4cbf286'), u'RetailerCity': u'Miami'}\n",
      "{u'RetailerName': u'Frys', u'UserOccupation': u'Accountant', u'ProductPrice': u'589', u'RetailerState': u'CA', u'ManufacturerRebate': u'No', u'ReviewDate': u'05/12/14', u'ReviewText': u'The 6 is perfect to fit in the butt pocket of those skinny jeans.', u'UserID': u'bpikc92', u'ProductCategory': u'Smart Phone', u'ProductModelName': u'iPhone 6', u'UserAge': u'59', u'RetailerOnSale': u'No', u'ManufacturerName': u'Apple', u'ReviewRating': u'5', u'UserGender': u'Male', u'RetailerZip': u'94158', u'_id': ObjectId('592f27286cb48027a4cbf2a2'), u'RetailerCity': u'San Francisco'}\n",
      "{u'RetailerName': u'hhgregg', u'UserOccupation': u'Student', u'ProductPrice': u'1899', u'RetailerState': u'CA', u'ManufacturerRebate': u'Yes', u'ReviewDate': u'11/29/2014', u'ReviewText': u'Great for our new room', u'UserID': u'hdlmm42', u'ProductCategory': u'TV', u'ProductModelName': u'Samsung TV 65 Curved', u'UserAge': u'59', u'RetailerOnSale': u'Yes', u'ManufacturerName': u'Samsung', u'ReviewRating': u'5', u'UserGender': u'Female', u'RetailerZip': u'94102', u'_id': ObjectId('592f27286cb48027a4cbf2c0'), u'RetailerCity': u'San Francisco'}\n",
      "{u'RetailerName': u'Walmart', u'UserOccupation': u'Unknown', u'ProductPrice': u'425', u'RetailerState': u'CA', u'ManufacturerRebate': u'No', u'ReviewDate': u'2/26/2014', u'ReviewText': u\"These replaced my wife and I's iPad 2s. I absolutely love them. I mostly use it to read in bed at night so the lighter build id a godsend.\", u'UserID': u'srxui6', u'ProductCategory': u'Tablet', u'ProductModelName': u'iPad Air', u'UserAge': u'59', u'RetailerOnSale': u'Yes', u'ManufacturerName': u'Apple', u'ReviewRating': u'5', u'UserGender': u'Female', u'RetailerZip': u'94158', u'_id': ObjectId('592f27286cb48027a4cbf2ce'), u'RetailerCity': u'San Francisco'}\n",
      "{u'RetailerName': u'Walmart', u'UserOccupation': u'Unknown', u'ProductPrice': u'299', u'RetailerState': u'MA', u'ManufacturerRebate': u'No', u'ReviewDate': u'12/05/14', u'ReviewText': u' This is exactly what I needed to do the job. Bigger screen than the 7  . Everything works as expected ', u'UserID': u'jsyrm2', u'ProductCategory': u'Tablet', u'ProductModelName': u'Samsung Tab 4', u'UserAge': u'59', u'RetailerOnSale': u'Yes', u'ManufacturerName': u'Samsung', u'ReviewRating': u'5', u'UserGender': u'Female', u'RetailerZip': u'2110', u'_id': ObjectId('592f27286cb48027a4cbf2fb'), u'RetailerCity': u'Boston'}\n",
      "{u'RetailerName': u'Walmart', u'UserOccupation': u'Manager', u'ProductPrice': u'849', u'RetailerState': u'CA', u'ManufacturerRebate': u'Yes', u'ReviewDate': u'8/21/2014', u'ReviewText': u\"It wasn't what I expected! \", u'UserID': u'njxft16', u'ProductCategory': u'TV', u'ProductModelName': u'LG 65', u'UserAge': u'59', u'RetailerOnSale': u'Yes', u'ManufacturerName': u'LG', u'ReviewRating': u'3', u'UserGender': u'Male', u'RetailerZip': u'90033', u'_id': ObjectId('592f27286cb48027a4cbf307'), u'RetailerCity': u'Los Angeles'}\n",
      "{u'RetailerName': u'Walmart', u'UserOccupation': u'Student', u'ProductPrice': u'299', u'RetailerState': u'IL', u'ManufacturerRebate': u'No', u'ReviewDate': u'5/15/2013', u'ReviewText': u'Nice tablet.Lots of functions. Not to small or large. Has expandable storage for a media card. Front & rear camera. ', u'UserID': u'btfco67', u'ProductCategory': u'Tablet', u'ProductModelName': u'Samsung Tab 4', u'UserAge': u'59', u'RetailerOnSale': u'Yes', u'ManufacturerName': u'Samsung', u'ReviewRating': u'4', u'UserGender': u'Male', u'RetailerZip': u'60603', u'_id': ObjectId('592f27286cb48027a4cbf349'), u'RetailerCity': u'Chicago'}\n",
      "{u'RetailerName': u'Frys', u'UserOccupation': u'Student', u'ProductPrice': u'1200', u'RetailerState': u'CA', u'ManufacturerRebate': u'No', u'ReviewDate': u'9/20/2014', u'ReviewText': u'We have been very happy with the Television. I has an excellent picture. the features are great.', u'UserID': u'jnciq35', u'ProductCategory': u'TV', u'ProductModelName': u'Samsung TV 60 LED', u'UserAge': u'59', u'RetailerOnSale': u'No', u'ManufacturerName': u'Samsung', u'ReviewRating': u'5', u'UserGender': u'Male', u'RetailerZip': u'90033', u'_id': ObjectId('592f27286cb48027a4cbf366'), u'RetailerCity': u'Los Angeles'}\n",
      "{u'RetailerName': u'Walmart', u'UserOccupation': u'Programmer', u'ProductPrice': u'499', u'RetailerState': u'IL', u'ManufacturerRebate': u'No', u'ReviewDate': u'10/14/2014', u'ReviewText': u\" I love the iPad Air's size and weight - so easy to take with me and I have everything I need\", u'UserID': u'exzwm42', u'ProductCategory': u'Tablet', u'ProductModelName': u'iPad Air', u'UserAge': u'59', u'RetailerOnSale': u'No', u'ManufacturerName': u'Apple', u'ReviewRating': u'5', u'UserGender': u'Female', u'RetailerZip': u'60603', u'_id': ObjectId('592f27286cb48027a4cbf3b4'), u'RetailerCity': u'Chicago'}\n",
      "{u'RetailerName': u'hhgregg', u'UserOccupation': u'Student', u'ProductPrice': u'328', u'RetailerState': u'CA', u'ManufacturerRebate': u'Yes', u'ReviewDate': u'5/19/2014', u'ReviewText': u' All the products firstrate', u'UserID': u'mbufg47', u'ProductCategory': u'Laptop', u'ProductModelName': u'Dell Ispiron 15.6', u'UserAge': u'59', u'RetailerOnSale': u'Yes', u'ManufacturerName': u'Dell', u'ReviewRating': u'5', u'UserGender': u'Male', u'RetailerZip': u'94102', u'_id': ObjectId('592f27286cb48027a4cbf40b'), u'RetailerCity': u'San Francisco'}\n",
      "{u'RetailerName': u'Bestbuy', u'UserOccupation': u'Student', u'ProductPrice': u'499', u'RetailerState': u'IL', u'ManufacturerRebate': u'No', u'ReviewDate': u'6/18/2014', u'ReviewText': u'Set up was easy and did t over run me with add-ons.', u'UserID': u'qcjai53', u'ProductCategory': u'Laptop', u'ProductModelName': u'Dell Ispiron 15.6', u'UserAge': u'59', u'RetailerOnSale': u'No', u'ManufacturerName': u'Dell', u'ReviewRating': u'4', u'UserGender': u'Male', u'RetailerZip': u'60616', u'_id': ObjectId('592f27286cb48027a4cbf46d'), u'RetailerCity': u'Chicago'}\n",
      "{u'RetailerName': u'Walmart', u'UserOccupation': u'Secratary', u'ProductPrice': u'449', u'RetailerState': u'CA', u'ManufacturerRebate': u'No', u'ReviewDate': u'6/25/2014', u'ReviewText': u'Had to send to dell after 10 days of purchase.', u'UserID': u'fgbrc13', u'ProductCategory': u'Laptop', u'ProductModelName': u'Dell Ispiron 15.6', u'UserAge': u'59', u'RetailerOnSale': u'Yes', u'ManufacturerName': u'Dell', u'ReviewRating': u'1', u'UserGender': u'Female', u'RetailerZip': u'90012', u'_id': ObjectId('592f27286cb48027a4cbf49d'), u'RetailerCity': u'Los Angeles'}\n",
      "{u'RetailerName': u'Walmart', u'UserOccupation': u'Programmer', u'ProductPrice': u'299', u'RetailerState': u'IL', u'ManufacturerRebate': u'Yes', u'ReviewDate': u'12/27/2014', u'ReviewText': u' I bought this from the open box bin', u'UserID': u'midpi31', u'ProductCategory': u'Tablet', u'ProductModelName': u'iPad Air', u'UserAge': u'59', u'RetailerOnSale': u'Yes', u'ManufacturerName': u'Apple', u'ReviewRating': u'5', u'UserGender': u'Female', u'RetailerZip': u'60585', u'_id': ObjectId('592f27286cb48027a4cbf4a6'), u'RetailerCity': u'Naperville'}\n",
      "{u'RetailerName': u'Walmart', u'UserOccupation': u'Manager', u'ProductPrice': u'899', u'RetailerState': u'OH', u'ManufacturerRebate': u'No', u'ReviewDate': u'2/29/2015', u'ReviewText': u' The surface pro 3 is a really good laptop', u'UserID': u'smmuw91', u'ProductCategory': u'Tablet', u'ProductModelName': u'Surface 3', u'UserAge': u'59', u'RetailerOnSale': u'Yes', u'ManufacturerName': u'Microsoft', u'ReviewRating': u'4', u'UserGender': u'Male', u'RetailerZip': u'44114', u'_id': ObjectId('592f27286cb48027a4cbf4b1'), u'RetailerCity': u'Cleveland'}\n",
      "{u'RetailerName': u'Frys', u'UserOccupation': u'Secratary', u'ProductPrice': u'399', u'RetailerState': u'IL', u'ManufacturerRebate': u'No', u'ReviewDate': u'3/24/2014', u'ReviewText': u' I would recommend this phone to others', u'UserID': u'dfwfq96', u'ProductCategory': u'Smart Phone', u'ProductModelName': u'Galaxy S4', u'UserAge': u'59', u'RetailerOnSale': u'No', u'ManufacturerName': u'Samsung', u'ReviewRating': u'4', u'UserGender': u'Male', u'RetailerZip': u'60616', u'_id': ObjectId('592f27286cb48027a4cbf4b6'), u'RetailerCity': u'Chicago'}\n",
      "{u'RetailerName': u'Target', u'UserOccupation': u'Programmer', u'ProductPrice': u'1900', u'RetailerState': u'CA', u'ManufacturerRebate': u'No', u'ReviewDate': u'5/25/2014', u'ReviewText': u'Picture quality is ok. Inside Bestbuy stores TVs picture quality is great?', u'UserID': u'kagpj63', u'ProductCategory': u'TV', u'ProductModelName': u'Samsung TV 65 Curved', u'UserAge': u'59', u'RetailerOnSale': u'No', u'ManufacturerName': u'Samsung', u'ReviewRating': u'2', u'UserGender': u'Male', u'RetailerZip': u'90012', u'_id': ObjectId('592f27286cb48027a4cbf4d0'), u'RetailerCity': u'Los Angeles'}\n",
      "{u'RetailerName': u'Frys', u'UserOccupation': u'Secratary', u'ProductPrice': u'299', u'RetailerState': u'CA', u'ManufacturerRebate': u'No', u'ReviewDate': u'6/26/2014', u'ReviewText': u' Customer service was awesome', u'UserID': u'btgfg31', u'ProductCategory': u'Tablet', u'ProductModelName': u'Samsung Tab 4', u'UserAge': u'59', u'RetailerOnSale': u'Yes', u'ManufacturerName': u'Samsung', u'ReviewRating': u'5', u'UserGender': u'Female', u'RetailerZip': u'94102', u'_id': ObjectId('592f27286cb48027a4cbf4dd'), u'RetailerCity': u'San Francisco'}\n",
      "{u'RetailerName': u'Bestbuy', u'UserOccupation': u'Manager', u'ProductPrice': u'328', u'RetailerState': u'IL', u'ManufacturerRebate': u'Yes', u'ReviewDate': u'12/14/2014', u'ReviewText': u' I love Dell computers', u'UserID': u'iqhva36', u'ProductCategory': u'Laptop', u'ProductModelName': u'Dell Ispiron 15.6', u'UserAge': u'59', u'RetailerOnSale': u'Yes', u'ManufacturerName': u'Dell', u'ReviewRating': u'3', u'UserGender': u'Male', u'RetailerZip': u'60585', u'_id': ObjectId('592f27286cb48027a4cbf4f8'), u'RetailerCity': u'Naperville'}\n",
      "{u'RetailerName': u'hhgregg', u'UserOccupation': u'Manager', u'ProductPrice': u'960', u'RetailerState': u'IL', u'ManufacturerRebate': u'No', u'ReviewDate': u'8/21/2014', u'ReviewText': u' Love the new phone', u'UserID': u'sleoe3', u'ProductCategory': u'Smart Phone', u'ProductModelName': u'iPhone 6', u'UserAge': u'59', u'RetailerOnSale': u'No', u'ManufacturerName': u'Apple', u'ReviewRating': u'5', u'UserGender': u'Female', u'RetailerZip': u'60585', u'_id': ObjectId('592f27286cb48027a4cbf521'), u'RetailerCity': u'Naperville'}\n",
      "{u'RetailerName': u'Walmart', u'UserOccupation': u'Programmer', u'ProductPrice': u'399', u'RetailerState': u'IL', u'ManufacturerRebate': u'No', u'ReviewDate': u'3/24/2014', u'ReviewText': u'Thinner and faster then the 5 I replaced. Love the fingerprint unlock feature', u'UserID': u'yplnh81', u'ProductCategory': u'Smart Phone', u'ProductModelName': u'iPhone 6', u'UserAge': u'59', u'RetailerOnSale': u'No', u'ManufacturerName': u'Apple', u'ReviewRating': u'4', u'UserGender': u'Female', u'RetailerZip': u'60585', u'_id': ObjectId('592f27286cb48027a4cbf546'), u'RetailerCity': u'Naperville'}\n",
      "{u'RetailerName': u'hhgregg', u'UserOccupation': u'Programmer', u'ProductPrice': u'899', u'RetailerState': u'FL', u'ManufacturerRebate': u'No', u'ReviewDate': u'3/13/2014', u'ReviewText': u'The combination of a tablet with the functionality of a laptop - excellent combination. recommended.', u'UserID': u'hczfm79', u'ProductCategory': u'Tablet', u'ProductModelName': u'Surface 3', u'UserAge': u'59', u'RetailerOnSale': u'Yes', u'ManufacturerName': u'Microsoft', u'ReviewRating': u'5', u'UserGender': u'Male', u'RetailerZip': u'33129', u'_id': ObjectId('592f27286cb48027a4cbf551'), u'RetailerCity': u'Miami'}\n",
      "{u'RetailerName': u'Frys', u'UserOccupation': u'Student', u'ProductPrice': u'319', u'RetailerState': u'FL', u'ManufacturerRebate': u'No', u'ReviewDate': u'06/10/14', u'ReviewText': u\"This is a perfect basic laptop for the price. You seriously aren't going to get a better deal than this!\", u'UserID': u'oxaoa5', u'ProductCategory': u'Laptop', u'ProductModelName': u'HP PAVALION  15.6', u'UserAge': u'59', u'RetailerOnSale': u'No', u'ManufacturerName': u'HP', u'ReviewRating': u'5', u'UserGender': u'Male', u'RetailerZip': u'33129', u'_id': ObjectId('592f27286cb48027a4cbf55b'), u'RetailerCity': u'Miami'}\n",
      "{u'RetailerName': u'Frys', u'UserOccupation': u'Unknown', u'ProductPrice': u'349', u'RetailerState': u'CA', u'ManufacturerRebate': u'No', u'ReviewDate': u'08/10/13', u'ReviewText': u'samsung tab four is a good product to use its help me in work a lot..', u'UserID': u'ahkrq85', u'ProductCategory': u'Tablet', u'ProductModelName': u'Samsung Tab 4', u'UserAge': u'59', u'RetailerOnSale': u'No', u'ManufacturerName': u'Samsung', u'ReviewRating': u'4', u'UserGender': u'Female', u'RetailerZip': u'90012', u'_id': ObjectId('592f27286cb48027a4cbf58e'), u'RetailerCity': u'Los Angeles'}\n",
      "{u'RetailerName': u'Walmart', u'UserOccupation': u'Student', u'ProductPrice': u'2250', u'RetailerState': u'CA', u'ManufacturerRebate': u'No', u'ReviewDate': u'12/15/2013', u'ReviewText': u'This new LG TV is perfect for me and such an improvement over my other TV.', u'UserID': u'tphet15', u'ProductCategory': u'TV', u'ProductModelName': u'LG 65', u'UserAge': u'59', u'RetailerOnSale': u'No', u'ManufacturerName': u'LG', u'ReviewRating': u'5', u'UserGender': u'Female', u'RetailerZip': u'94102', u'_id': ObjectId('592f27286cb48027a4cbf5fa'), u'RetailerCity': u'San Francisco'}\n",
      "{u'RetailerName': u'Walmart', u'UserOccupation': u'Accountant', u'ProductPrice': u'589', u'RetailerState': u'CA', u'ManufacturerRebate': u'No', u'ReviewDate': u'6/21/2014', u'ReviewText': u'This is a great upgrade over the previous generation iPhone. I have enjoyed the larger screen. Easy to setup and use.', u'UserID': u'ifaxl41', u'ProductCategory': u'Smart Phone', u'ProductModelName': u'iPhone 6', u'UserAge': u'59', u'RetailerOnSale': u'No', u'ManufacturerName': u'Apple', u'ReviewRating': u'5', u'UserGender': u'Male', u'RetailerZip': u'94102', u'_id': ObjectId('592f27286cb48027a4cbf628'), u'RetailerCity': u'San Francisco'}\n",
      "{u'RetailerName': u'Target', u'UserOccupation': u'Unknown', u'ProductPrice': u'499', u'RetailerState': u'FL', u'ManufacturerRebate': u'No', u'ReviewDate': u'7/19/2014', u'ReviewText': u' Great laptop', u'UserID': u'ucoab56', u'ProductCategory': u'Laptop', u'ProductModelName': u'Dell Ispiron 15.6', u'UserAge': u'59', u'RetailerOnSale': u'No', u'ManufacturerName': u'Dell', u'ReviewRating': u'4', u'UserGender': u'Male', u'RetailerZip': u'33129', u'_id': ObjectId('592f27286cb48027a4cbf685'), u'RetailerCity': u'Miami'}\n",
      "{u'RetailerName': u'hhgregg', u'UserOccupation': u'Secratary', u'ProductPrice': u'328', u'RetailerState': u'IL', u'ManufacturerRebate': u'Yes', u'ReviewDate': u'2/15/2015', u'ReviewText': u' Does exactly what you would want it to. Easy to set up', u'UserID': u'cusac65', u'ProductCategory': u'Laptop', u'ProductModelName': u'Dell Ispiron 15.6', u'UserAge': u'59', u'RetailerOnSale': u'Yes', u'ManufacturerName': u'Dell', u'ReviewRating': u'5', u'UserGender': u'Female', u'RetailerZip': u'60585', u'_id': ObjectId('592f27286cb48027a4cbf6a9'), u'RetailerCity': u'Naperville'}\n",
      "{u'RetailerName': u'Walmart', u'UserOccupation': u'Unknown', u'ProductPrice': u'849', u'RetailerState': u'OH', u'ManufacturerRebate': u'Yes', u'ReviewDate': u'11/25/2014', u'ReviewText': u'Very thin and light and provides great picture.', u'UserID': u'dyujm92', u'ProductCategory': u'TV', u'ProductModelName': u'LG 65', u'UserAge': u'59', u'RetailerOnSale': u'Yes', u'ManufacturerName': u'LG', u'ReviewRating': u'5', u'UserGender': u'Male', u'RetailerZip': u'44114', u'_id': ObjectId('592f27286cb48027a4cbf73e'), u'RetailerCity': u'Cleveland'}\n",
      "{u'RetailerName': u'hhgregg', u'UserOccupation': u'Secratary', u'ProductPrice': u'299', u'RetailerState': u'CA', u'ManufacturerRebate': u'No', u'ReviewDate': u'2/15/2015', u'ReviewText': u' HP - 15.6   Touch-Screen Laptop is a very good', u'UserID': u'dasja50', u'ProductCategory': u'Laptop', u'ProductModelName': u'HP PAVALION  15.6', u'UserAge': u'59', u'RetailerOnSale': u'Yes', u'ManufacturerName': u'HP', u'ReviewRating': u'5', u'UserGender': u'Female', u'RetailerZip': u'90033', u'_id': ObjectId('592f27286cb48027a4cbf740'), u'RetailerCity': u'Los Angeles'}\n",
      "{u'RetailerName': u'Walmart', u'UserOccupation': u'Student', u'ProductPrice': u'899', u'RetailerState': u'CA', u'ManufacturerRebate': u'No', u'ReviewDate': u'11/25/2014', u'ReviewText': u' Still having trouble with windows 8', u'UserID': u'wndvu52', u'ProductCategory': u'Tablet', u'ProductModelName': u'Surface 3', u'UserAge': u'59', u'RetailerOnSale': u'Yes', u'ManufacturerName': u'Microsoft', u'ReviewRating': u'4', u'UserGender': u'Male', u'RetailerZip': u'90033', u'_id': ObjectId('592f27286cb48027a4cbf759'), u'RetailerCity': u'Los Angeles'}\n",
      "{u'RetailerName': u'Bestbuy', u'UserOccupation': u'Accountant', u'ProductPrice': u'960', u'RetailerState': u'IL', u'ManufacturerRebate': u'No', u'ReviewDate': u'8/18/2014', u'ReviewText': u'The iPhone6 is nicely designed and I love the finger print acc', u'UserID': u'bejfj89', u'ProductCategory': u'Smart Phone', u'ProductModelName': u'iPhone 6', u'UserAge': u'59', u'RetailerOnSale': u'No', u'ManufacturerName': u'Apple', u'ReviewRating': u'5', u'UserGender': u'Male', u'RetailerZip': u'60585', u'_id': ObjectId('592f27286cb48027a4cbf77e'), u'RetailerCity': u'Naperville'}\n",
      "{u'RetailerName': u'Walmart', u'UserOccupation': u'Accountant', u'ProductPrice': u'1200', u'RetailerState': u'CA', u'ManufacturerRebate': u'No', u'ReviewDate': u'2/29/2015', u'ReviewText': u'Picture quality (after adjustment) is extremely good.', u'UserID': u'guxut35', u'ProductCategory': u'TV', u'ProductModelName': u'Samsung TV 60 LED', u'UserAge': u'59', u'RetailerOnSale': u'No', u'ManufacturerName': u'Samsung', u'ReviewRating': u'4', u'UserGender': u'Male', u'RetailerZip': u'90012', u'_id': ObjectId('592f27286cb48027a4cbf7ee'), u'RetailerCity': u'Los Angeles'}\n",
      "{u'RetailerName': u'hhgregg', u'UserOccupation': u'Unknown', u'ProductPrice': u'399', u'RetailerState': u'CA', u'ManufacturerRebate': u'No', u'ReviewDate': u'2/14/2014', u'ReviewText': u'Love my phones and cases I not only got a great deal but also received gift cards for upgrading with Bestbuy ', u'UserID': u'osong6', u'ProductCategory': u'Smart Phone', u'ProductModelName': u'Galaxy S4', u'UserAge': u'59', u'RetailerOnSale': u'No', u'ManufacturerName': u'Samsung', u'ReviewRating': u'5', u'UserGender': u'Male', u'RetailerZip': u'90012', u'_id': ObjectId('592f27286cb48027a4cbf80c'), u'RetailerCity': u'Los Angeles'}\n",
      "{u'RetailerName': u'Bestbuy', u'UserOccupation': u'Student', u'ProductPrice': u'349', u'RetailerState': u'CA', u'ManufacturerRebate': u'No', u'ReviewDate': u'7/16/2014', u'ReviewText': u'The young lady helped me was honest gave me just what I need', u'UserID': u'ruiys47', u'ProductCategory': u'Laptop', u'ProductModelName': u'Dell Ispiron 15.6', u'UserAge': u'59', u'RetailerOnSale': u'Yes', u'ManufacturerName': u'Dell', u'ReviewRating': u'5', u'UserGender': u'Female', u'RetailerZip': u'94158', u'_id': ObjectId('592f27286cb48027a4cbf829'), u'RetailerCity': u'San Francisco'}\n",
      "{u'RetailerName': u'Target', u'UserOccupation': u'Programmer', u'ProductPrice': u'449', u'RetailerState': u'OH', u'ManufacturerRebate': u'No', u'ReviewDate': u'11/25/2014', u'ReviewText': u'It is okay but the mouse pad is very slow.', u'UserID': u'qxbud80', u'ProductCategory': u'Laptop', u'ProductModelName': u'Dell Ispiron 15.6', u'UserAge': u'59', u'RetailerOnSale': u'Yes', u'ManufacturerName': u'Dell', u'ReviewRating': u'1', u'UserGender': u'Female', u'RetailerZip': u'44114', u'_id': ObjectId('592f27286cb48027a4cbf82d'), u'RetailerCity': u'Cleveland'}\n",
      "{u'RetailerName': u'Bestbuy', u'UserOccupation': u'Programmer', u'ProductPrice': u'298', u'RetailerState': u'CA', u'ManufacturerRebate': u'Yes', u'ReviewDate': u'12/27/2014', u'ReviewText': u' Computer was easy to install battery pack and adjusting features like lighting contrast', u'UserID': u'fqetg63', u'ProductCategory': u'Laptop', u'ProductModelName': u'HP PAVALION  15.6', u'UserAge': u'59', u'RetailerOnSale': u'Yes', u'ManufacturerName': u'HP', u'ReviewRating': u'5', u'UserGender': u'Male', u'RetailerZip': u'90012', u'_id': ObjectId('592f27286cb48027a4cbf85a'), u'RetailerCity': u'Los Angeles'}\n",
      "{u'RetailerName': u'Bestbuy', u'UserOccupation': u'Accountant', u'ProductPrice': u'319', u'RetailerState': u'IL', u'ManufacturerRebate': u'No', u'ReviewDate': u'7/23/2014', u'ReviewText': u'Good computer. Good price. Satisfied with the purchase.', u'UserID': u'ergqj64', u'ProductCategory': u'Laptop', u'ProductModelName': u'HP PAVALION  15.6', u'UserAge': u'59', u'RetailerOnSale': u'No', u'ManufacturerName': u'HP', u'ReviewRating': u'5', u'UserGender': u'Male', u'RetailerZip': u'60616', u'_id': ObjectId('592f27286cb48027a4cbf85b'), u'RetailerCity': u'Chicago'}\n",
      "{u'RetailerName': u'hhgregg', u'UserOccupation': u'Student', u'ProductPrice': u'390', u'RetailerState': u'MA', u'ManufacturerRebate': u'No', u'ReviewDate': u'6/18/2013', u'ReviewText': u'I have had this phone for a year now and am still extremely pleased with it. ', u'UserID': u'xucvv44', u'ProductCategory': u'Smart Phone', u'ProductModelName': u'Galaxy S4', u'UserAge': u'59', u'RetailerOnSale': u'Yes', u'ManufacturerName': u'Samsung', u'ReviewRating': u'5', u'UserGender': u'Male', u'RetailerZip': u'2110', u'_id': ObjectId('592f27286cb48027a4cbf871'), u'RetailerCity': u'Boston'}\n",
      "{u'RetailerName': u'Frys', u'UserOccupation': u'Secratary', u'ProductPrice': u'376', u'RetailerState': u'CA', u'ManufacturerRebate': u'No', u'ReviewDate': u'5/15/2013', u'ReviewText': u\"Good laptop but SSLLOOWW. But it's all I really need.\", u'UserID': u'ejexq0', u'ProductCategory': u'Laptop', u'ProductModelName': u'HP PAVALION  15.6', u'UserAge': u'59', u'RetailerOnSale': u'No', u'ManufacturerName': u'HP', u'ReviewRating': u'3', u'UserGender': u'Female', u'RetailerZip': u'94102', u'_id': ObjectId('592f27286cb48027a4cbf8a1'), u'RetailerCity': u'San Francisco'}\n",
      "{u'RetailerName': u'Bestbuy', u'UserOccupation': u'Secratary', u'ProductPrice': u'589', u'RetailerState': u'MA', u'ManufacturerRebate': u'No', u'ReviewDate': u'8/18/2014', u'ReviewText': u\"I'm ecstatic that Apple has finally stepped up their game with the iPhone 6. I was happy to switch back after having an android\", u'UserID': u'kckaw33', u'ProductCategory': u'Smart Phone', u'ProductModelName': u'iPhone 6', u'UserAge': u'59', u'RetailerOnSale': u'No', u'ManufacturerName': u'Apple', u'ReviewRating': u'5', u'UserGender': u'Male', u'RetailerZip': u'2110', u'_id': ObjectId('592f27286cb48027a4cbf8a2'), u'RetailerCity': u'Boston'}\n",
      "{u'RetailerName': u'Walmart', u'UserOccupation': u'Manager', u'ProductPrice': u'499', u'RetailerState': u'MA', u'ManufacturerRebate': u'No', u'ReviewDate': u'10/08/14', u'ReviewText': u'We have a couple of iPads now and this one is great and it was a great price.', u'UserID': u'ketdl31', u'ProductCategory': u'Tablet', u'ProductModelName': u'iPad Air', u'UserAge': u'59', u'RetailerOnSale': u'No', u'ManufacturerName': u'Apple', u'ReviewRating': u'5', u'UserGender': u'Male', u'RetailerZip': u'2108', u'_id': ObjectId('592f27286cb48027a4cbf8d3'), u'RetailerCity': u'Boston'}\n",
      "{u'RetailerName': u'Bestbuy', u'UserOccupation': u'Programmer', u'ProductPrice': u'328', u'RetailerState': u'IL', u'ManufacturerRebate': u'Yes', u'ReviewDate': u'8/21/2014', u'ReviewText': u'Screen goes blank on the net every day or two and have to restart', u'UserID': u'gwjjp33', u'ProductCategory': u'Laptop', u'ProductModelName': u'Dell Ispiron 15.6', u'UserAge': u'59', u'RetailerOnSale': u'Yes', u'ManufacturerName': u'Dell', u'ReviewRating': u'3', u'UserGender': u'Female', u'RetailerZip': u'60603', u'_id': ObjectId('592f27286cb48027a4cbf8d9'), u'RetailerCity': u'Chicago'}\n"
     ]
    }
   ],
   "source": [
    "for review in reviews.find({ 'UserAge': {'$gt': '50'}} ).sort('UserAge') :\n",
    "    print review"
   ]
  },
  {
   "cell_type": "markdown",
   "metadata": {
    "deletable": true,
    "editable": true
   },
   "source": [
    "# Query 4: Get a list of reviews where customers mentioned bluetooth or overheat in the review text and the list is sorted by ProductModelName"
   ]
  },
  {
   "cell_type": "code",
   "execution_count": 47,
   "metadata": {
    "collapsed": false,
    "deletable": true,
    "editable": true
   },
   "outputs": [
    {
     "name": "stdout",
     "output_type": "stream",
     "text": [
      "{u'RetailerName': u'Target', u'UserOccupation': u'Student', u'ProductPrice': u'349', u'RetailerState': u'MA', u'ManufacturerRebate': u'No', u'ReviewDate': u'2/15/2015', u'ReviewText': u' noisy fan after it overheats', u'UserID': u'plxor58', u'ProductCategory': u'Laptop', u'ProductModelName': u'Dell Ispiron 15.6', u'UserAge': u'28', u'RetailerOnSale': u'Yes', u'ManufacturerName': u'Dell', u'ReviewRating': u'2', u'UserGender': u'Male', u'RetailerZip': u'2108', u'_id': ObjectId('592f27286cb48027a4cbf8ee'), u'RetailerCity': u'Boston'}\n",
      "{u'RetailerName': u'Target', u'UserOccupation': u'Accountant', u'ProductPrice': u'399', u'RetailerState': u'FL', u'ManufacturerRebate': u'No', u'ReviewDate': u'2/15/2015', u'ReviewText': u'Had to exchange this one for another because the battery overheated and the phone would not power off or restart', u'UserID': u'swoja34', u'ProductCategory': u'Smart Phone', u'ProductModelName': u'Galaxy S4', u'UserAge': u'25', u'RetailerOnSale': u'No', u'ManufacturerName': u'Samsung', u'ReviewRating': u'3', u'UserGender': u'Female', u'RetailerZip': u'33130', u'_id': ObjectId('592f27286cb48027a4cbf736'), u'RetailerCity': u'Miami'}\n",
      "{u'RetailerName': u'hhgregg', u'UserOccupation': u'Unknown', u'ProductPrice': u'269', u'RetailerState': u'IL', u'ManufacturerRebate': u'Yes', u'ReviewDate': u'2/15/2015', u'ReviewText': u' overheats after 3 hours', u'UserID': u'nfqyy81', u'ProductCategory': u'Smart Phone', u'ProductModelName': u'Galaxy S4', u'UserAge': u'26', u'RetailerOnSale': u'Yes', u'ManufacturerName': u'Samsung', u'ReviewRating': u'1', u'UserGender': u'Male', u'RetailerZip': u'60585', u'_id': ObjectId('592f27286cb48027a4cbf8dd'), u'RetailerCity': u'Naperville'}\n",
      "{u'RetailerName': u'Walmart', u'UserOccupation': u'Manager', u'ProductPrice': u'298', u'RetailerState': u'CA', u'ManufacturerRebate': u'Yes', u'ReviewDate': u'6/18/2014', u'ReviewText': u\"I don't like this lap top the bluetooth didn't work at all\", u'UserID': u'cylis38', u'ProductCategory': u'Laptop', u'ProductModelName': u'HP PAVALION  15.6', u'UserAge': u'19', u'RetailerOnSale': u'Yes', u'ManufacturerName': u'HP', u'ReviewRating': u'2', u'UserGender': u'Female', u'RetailerZip': u'94158', u'_id': ObjectId('592f27286cb48027a4cbf158'), u'RetailerCity': u'San Francisco'}\n",
      "{u'RetailerName': u'hhgregg', u'UserOccupation': u'Accountant', u'ProductPrice': u'298', u'RetailerState': u'CA', u'ManufacturerRebate': u'Yes', u'ReviewDate': u'3/13/2014', u'ReviewText': u' the fan makes alot of noise when it overheats', u'UserID': u'auqos38', u'ProductCategory': u'Laptop', u'ProductModelName': u'HP PAVALION  15.6', u'UserAge': u'28', u'RetailerOnSale': u'Yes', u'ManufacturerName': u'HP', u'ReviewRating': u'1', u'UserGender': u'Male', u'RetailerZip': u'90033', u'_id': ObjectId('592f27286cb48027a4cbf769'), u'RetailerCity': u'Los Angeles'}\n",
      "{u'RetailerName': u'Walmart', u'UserOccupation': u'Student', u'ProductPrice': u'1200', u'RetailerState': u'CA', u'ManufacturerRebate': u'No', u'ReviewDate': u'4/29/2014', u'ReviewText': u'  did not work with my bluetooth sound system', u'UserID': u'jougn31', u'ProductCategory': u'TV', u'ProductModelName': u'Samsung TV 60 LED', u'UserAge': u'25', u'RetailerOnSale': u'No', u'ManufacturerName': u'Samsung', u'ReviewRating': u'2', u'UserGender': u'Female', u'RetailerZip': u'94158', u'_id': ObjectId('592f27286cb48027a4cbf297'), u'RetailerCity': u'San Francisco'}\n",
      "{u'RetailerName': u'Frys', u'UserOccupation': u'Unknown', u'ProductPrice': u'899', u'RetailerState': u'IL', u'ManufacturerRebate': u'No', u'ReviewDate': u'2/15/2014', u'ReviewText': u'overheated after 5 hours of use and stopped working', u'UserID': u'lzcqf22', u'ProductCategory': u'Tablet', u'ProductModelName': u'Surface 3', u'UserAge': u'30', u'RetailerOnSale': u'Yes', u'ManufacturerName': u'Microsoft', u'ReviewRating': u'1', u'UserGender': u'Female', u'RetailerZip': u'60616', u'_id': ObjectId('592f27286cb48027a4cbf1e0'), u'RetailerCity': u'Chicago'}\n",
      "{u'RetailerName': u'hhgregg', u'UserOccupation': u'Programmer', u'ProductPrice': u'925', u'RetailerState': u'FL', u'ManufacturerRebate': u'No', u'ReviewDate': u'4/29/2014', u'ReviewText': u'I got the overheated one while just using it for watching youtube around 3 hours.', u'UserID': u'ekcoh54', u'ProductCategory': u'Tablet', u'ProductModelName': u'Surface 3', u'UserAge': u'19', u'RetailerOnSale': u'No', u'ManufacturerName': u'Microsoft', u'ReviewRating': u'1', u'UserGender': u'Male', u'RetailerZip': u'33129', u'_id': ObjectId('592f27286cb48027a4cbf672'), u'RetailerCity': u'Miami'}\n",
      "{u'RetailerName': u'Frys', u'UserOccupation': u'Accountant', u'ProductPrice': u'425', u'RetailerState': u'IL', u'ManufacturerRebate': u'No', u'ReviewDate': u'12/05/14', u'ReviewText': u\" it didn't work with my bluetooth headset\", u'UserID': u'rhucg9', u'ProductCategory': u'Tablet', u'ProductModelName': u'iPad Air', u'UserAge': u'58', u'RetailerOnSale': u'Yes', u'ManufacturerName': u'Apple', u'ReviewRating': u'1', u'UserGender': u'Female', u'RetailerZip': u'60616', u'_id': ObjectId('592f27286cb48027a4cbf1ec'), u'RetailerCity': u'Chicago'}\n"
     ]
    }
   ],
   "source": [
    "\n",
    "for review in reviews.find({'ReviewText': re.compile('bluetooth|overheat')}).sort('ProductModelName') :\n",
    "    print review"
   ]
  },
  {
   "cell_type": "markdown",
   "metadata": {
    "deletable": true,
    "editable": true
   },
   "source": [
    "# Query 5: Get a list of reviews where customers mentioned bluetooth or overheat in the review text and  gave a ReviewRating less than 3"
   ]
  },
  {
   "cell_type": "code",
   "execution_count": 48,
   "metadata": {
    "collapsed": false,
    "deletable": true,
    "editable": true
   },
   "outputs": [
    {
     "name": "stdout",
     "output_type": "stream",
     "text": [
      "{u'RetailerName': u'Walmart', u'UserOccupation': u'Manager', u'ProductPrice': u'298', u'RetailerState': u'CA', u'ManufacturerRebate': u'Yes', u'ReviewDate': u'6/18/2014', u'ReviewText': u\"I don't like this lap top the bluetooth didn't work at all\", u'UserID': u'cylis38', u'ProductCategory': u'Laptop', u'ProductModelName': u'HP PAVALION  15.6', u'UserAge': u'19', u'RetailerOnSale': u'Yes', u'ManufacturerName': u'HP', u'ReviewRating': u'2', u'UserGender': u'Female', u'RetailerZip': u'94158', u'_id': ObjectId('592f27286cb48027a4cbf158'), u'RetailerCity': u'San Francisco'}\n",
      "{u'RetailerName': u'Frys', u'UserOccupation': u'Unknown', u'ProductPrice': u'899', u'RetailerState': u'IL', u'ManufacturerRebate': u'No', u'ReviewDate': u'2/15/2014', u'ReviewText': u'overheated after 5 hours of use and stopped working', u'UserID': u'lzcqf22', u'ProductCategory': u'Tablet', u'ProductModelName': u'Surface 3', u'UserAge': u'30', u'RetailerOnSale': u'Yes', u'ManufacturerName': u'Microsoft', u'ReviewRating': u'1', u'UserGender': u'Female', u'RetailerZip': u'60616', u'_id': ObjectId('592f27286cb48027a4cbf1e0'), u'RetailerCity': u'Chicago'}\n",
      "{u'RetailerName': u'Frys', u'UserOccupation': u'Accountant', u'ProductPrice': u'425', u'RetailerState': u'IL', u'ManufacturerRebate': u'No', u'ReviewDate': u'12/05/14', u'ReviewText': u\" it didn't work with my bluetooth headset\", u'UserID': u'rhucg9', u'ProductCategory': u'Tablet', u'ProductModelName': u'iPad Air', u'UserAge': u'58', u'RetailerOnSale': u'Yes', u'ManufacturerName': u'Apple', u'ReviewRating': u'1', u'UserGender': u'Female', u'RetailerZip': u'60616', u'_id': ObjectId('592f27286cb48027a4cbf1ec'), u'RetailerCity': u'Chicago'}\n",
      "{u'RetailerName': u'Walmart', u'UserOccupation': u'Student', u'ProductPrice': u'1200', u'RetailerState': u'CA', u'ManufacturerRebate': u'No', u'ReviewDate': u'4/29/2014', u'ReviewText': u'  did not work with my bluetooth sound system', u'UserID': u'jougn31', u'ProductCategory': u'TV', u'ProductModelName': u'Samsung TV 60 LED', u'UserAge': u'25', u'RetailerOnSale': u'No', u'ManufacturerName': u'Samsung', u'ReviewRating': u'2', u'UserGender': u'Female', u'RetailerZip': u'94158', u'_id': ObjectId('592f27286cb48027a4cbf297'), u'RetailerCity': u'San Francisco'}\n",
      "{u'RetailerName': u'hhgregg', u'UserOccupation': u'Programmer', u'ProductPrice': u'925', u'RetailerState': u'FL', u'ManufacturerRebate': u'No', u'ReviewDate': u'4/29/2014', u'ReviewText': u'I got the overheated one while just using it for watching youtube around 3 hours.', u'UserID': u'ekcoh54', u'ProductCategory': u'Tablet', u'ProductModelName': u'Surface 3', u'UserAge': u'19', u'RetailerOnSale': u'No', u'ManufacturerName': u'Microsoft', u'ReviewRating': u'1', u'UserGender': u'Male', u'RetailerZip': u'33129', u'_id': ObjectId('592f27286cb48027a4cbf672'), u'RetailerCity': u'Miami'}\n",
      "{u'RetailerName': u'hhgregg', u'UserOccupation': u'Accountant', u'ProductPrice': u'298', u'RetailerState': u'CA', u'ManufacturerRebate': u'Yes', u'ReviewDate': u'3/13/2014', u'ReviewText': u' the fan makes alot of noise when it overheats', u'UserID': u'auqos38', u'ProductCategory': u'Laptop', u'ProductModelName': u'HP PAVALION  15.6', u'UserAge': u'28', u'RetailerOnSale': u'Yes', u'ManufacturerName': u'HP', u'ReviewRating': u'1', u'UserGender': u'Male', u'RetailerZip': u'90033', u'_id': ObjectId('592f27286cb48027a4cbf769'), u'RetailerCity': u'Los Angeles'}\n",
      "{u'RetailerName': u'hhgregg', u'UserOccupation': u'Unknown', u'ProductPrice': u'269', u'RetailerState': u'IL', u'ManufacturerRebate': u'Yes', u'ReviewDate': u'2/15/2015', u'ReviewText': u' overheats after 3 hours', u'UserID': u'nfqyy81', u'ProductCategory': u'Smart Phone', u'ProductModelName': u'Galaxy S4', u'UserAge': u'26', u'RetailerOnSale': u'Yes', u'ManufacturerName': u'Samsung', u'ReviewRating': u'1', u'UserGender': u'Male', u'RetailerZip': u'60585', u'_id': ObjectId('592f27286cb48027a4cbf8dd'), u'RetailerCity': u'Naperville'}\n",
      "{u'RetailerName': u'Target', u'UserOccupation': u'Student', u'ProductPrice': u'349', u'RetailerState': u'MA', u'ManufacturerRebate': u'No', u'ReviewDate': u'2/15/2015', u'ReviewText': u' noisy fan after it overheats', u'UserID': u'plxor58', u'ProductCategory': u'Laptop', u'ProductModelName': u'Dell Ispiron 15.6', u'UserAge': u'28', u'RetailerOnSale': u'Yes', u'ManufacturerName': u'Dell', u'ReviewRating': u'2', u'UserGender': u'Male', u'RetailerZip': u'2108', u'_id': ObjectId('592f27286cb48027a4cbf8ee'), u'RetailerCity': u'Boston'}\n"
     ]
    }
   ],
   "source": [
    "\n",
    "for review in reviews.find({'ReviewText': re.compile('bluetooth|overheat'), 'ReviewRating': {'$lt': '3'}}) :\n",
    "    print review\n",
    "\n"
   ]
  },
  {
   "cell_type": "markdown",
   "metadata": {
    "deletable": true,
    "editable": true
   },
   "source": [
    "# Query 6: Get a list of 5 reviews where customers mentioned bluetooth or overheat in the review text and  gave a ReviewRating less than 3"
   ]
  },
  {
   "cell_type": "code",
   "execution_count": 49,
   "metadata": {
    "collapsed": false,
    "deletable": true,
    "editable": true
   },
   "outputs": [
    {
     "name": "stdout",
     "output_type": "stream",
     "text": [
      "{u'RetailerName': u'Walmart', u'UserOccupation': u'Manager', u'ProductPrice': u'298', u'RetailerState': u'CA', u'ManufacturerRebate': u'Yes', u'ReviewDate': u'6/18/2014', u'ReviewText': u\"I don't like this lap top the bluetooth didn't work at all\", u'UserID': u'cylis38', u'ProductCategory': u'Laptop', u'ProductModelName': u'HP PAVALION  15.6', u'UserAge': u'19', u'RetailerOnSale': u'Yes', u'ManufacturerName': u'HP', u'ReviewRating': u'2', u'UserGender': u'Female', u'RetailerZip': u'94158', u'_id': ObjectId('592f27286cb48027a4cbf158'), u'RetailerCity': u'San Francisco'}\n",
      "{u'RetailerName': u'Frys', u'UserOccupation': u'Unknown', u'ProductPrice': u'899', u'RetailerState': u'IL', u'ManufacturerRebate': u'No', u'ReviewDate': u'2/15/2014', u'ReviewText': u'overheated after 5 hours of use and stopped working', u'UserID': u'lzcqf22', u'ProductCategory': u'Tablet', u'ProductModelName': u'Surface 3', u'UserAge': u'30', u'RetailerOnSale': u'Yes', u'ManufacturerName': u'Microsoft', u'ReviewRating': u'1', u'UserGender': u'Female', u'RetailerZip': u'60616', u'_id': ObjectId('592f27286cb48027a4cbf1e0'), u'RetailerCity': u'Chicago'}\n",
      "{u'RetailerName': u'Frys', u'UserOccupation': u'Accountant', u'ProductPrice': u'425', u'RetailerState': u'IL', u'ManufacturerRebate': u'No', u'ReviewDate': u'12/05/14', u'ReviewText': u\" it didn't work with my bluetooth headset\", u'UserID': u'rhucg9', u'ProductCategory': u'Tablet', u'ProductModelName': u'iPad Air', u'UserAge': u'58', u'RetailerOnSale': u'Yes', u'ManufacturerName': u'Apple', u'ReviewRating': u'1', u'UserGender': u'Female', u'RetailerZip': u'60616', u'_id': ObjectId('592f27286cb48027a4cbf1ec'), u'RetailerCity': u'Chicago'}\n",
      "{u'RetailerName': u'Walmart', u'UserOccupation': u'Student', u'ProductPrice': u'1200', u'RetailerState': u'CA', u'ManufacturerRebate': u'No', u'ReviewDate': u'4/29/2014', u'ReviewText': u'  did not work with my bluetooth sound system', u'UserID': u'jougn31', u'ProductCategory': u'TV', u'ProductModelName': u'Samsung TV 60 LED', u'UserAge': u'25', u'RetailerOnSale': u'No', u'ManufacturerName': u'Samsung', u'ReviewRating': u'2', u'UserGender': u'Female', u'RetailerZip': u'94158', u'_id': ObjectId('592f27286cb48027a4cbf297'), u'RetailerCity': u'San Francisco'}\n",
      "{u'RetailerName': u'hhgregg', u'UserOccupation': u'Programmer', u'ProductPrice': u'925', u'RetailerState': u'FL', u'ManufacturerRebate': u'No', u'ReviewDate': u'4/29/2014', u'ReviewText': u'I got the overheated one while just using it for watching youtube around 3 hours.', u'UserID': u'ekcoh54', u'ProductCategory': u'Tablet', u'ProductModelName': u'Surface 3', u'UserAge': u'19', u'RetailerOnSale': u'No', u'ManufacturerName': u'Microsoft', u'ReviewRating': u'1', u'UserGender': u'Male', u'RetailerZip': u'33129', u'_id': ObjectId('592f27286cb48027a4cbf672'), u'RetailerCity': u'Miami'}\n"
     ]
    }
   ],
   "source": [
    "\n",
    "for review in reviews.find({'ReviewText': re.compile('bluetooth|overheat'), 'ReviewRating': {'$lt': '3'}}).limit(5) :\n",
    "    print review\n",
    "\n"
   ]
  },
  {
   "cell_type": "markdown",
   "metadata": {
    "deletable": true,
    "editable": true
   },
   "source": [
    "# +++++++++++++++++++++++++++++++++++++++++++"
   ]
  },
  {
   "cell_type": "markdown",
   "metadata": {
    "deletable": true,
    "editable": true
   },
   "source": [
    "# +++++++++++++++++++++++++++++++++++++++++++"
   ]
  },
  {
   "cell_type": "markdown",
   "metadata": {
    "deletable": true,
    "editable": true
   },
   "source": [
    "# +++++++++++++++++  Deliverable ++++++++++++++++++"
   ]
  },
  {
   "cell_type": "markdown",
   "metadata": {
    "deletable": true,
    "editable": true
   },
   "source": [
    "# +++++++++++++++++++++++++++++++++++++++++++"
   ]
  },
  {
   "cell_type": "markdown",
   "metadata": {
    "deletable": true,
    "editable": true
   },
   "source": [
    "# +++++++++++++++++++++++++++++++++++++++++++"
   ]
  },
  {
   "cell_type": "markdown",
   "metadata": {
    "deletable": true,
    "editable": true
   },
   "source": [
    "# After you create the reviews collection in MongoDB, Write Python code (one-cell-for-every-requirement)for the following requirements :"
   ]
  },
  {
   "cell_type": "markdown",
   "metadata": {
    "deletable": true,
    "editable": true
   },
   "source": [
    "# Requirement #1: "
   ]
  },
  {
   "cell_type": "raw",
   "metadata": {
    "deletable": true,
    "editable": true
   },
   "source": [
    "Get the list of reviewes for products sold in Chicago"
   ]
  },
  {
   "cell_type": "code",
   "execution_count": 57,
   "metadata": {
    "collapsed": false,
    "deletable": true,
    "editable": true
   },
   "outputs": [
    {
     "name": "stdout",
     "output_type": "stream",
     "text": [
      "\n",
      "{u'RetailerName': u'Frys', u'UserOccupation': u'Accountant', u'ProductPrice': u'999', u'RetailerState': u'IL', u'ManufacturerRebate': u'No', u'ReviewDate': u'05/12/14', u'ReviewText': u'I like the Surface Pro 3 but not sure I like Windows 8.1.', u'UserID': u'gkmgb76', u'ProductCategory': u'Tablet', u'ProductModelName': u'Surface 3', u'UserAge': u'41', u'RetailerOnSale': u'No', u'ManufacturerName': u'Microsoft', u'ReviewRating': u'4', u'UserGender': u'Male', u'RetailerZip': u'60603', u'_id': ObjectId('592f27286cb48027a4cbf15c'), u'RetailerCity': u'Chicago'}\n",
      "\n",
      "{u'RetailerName': u'Frys', u'UserOccupation': u'Secratary', u'ProductPrice': u'589', u'RetailerState': u'IL', u'ManufacturerRebate': u'No', u'ReviewDate': u'02/01/13', u'ReviewText': u' I like everything...camera', u'UserID': u'vtpzh47', u'ProductCategory': u'Smart Phone', u'ProductModelName': u'iPhone 6', u'UserAge': u'23', u'RetailerOnSale': u'No', u'ManufacturerName': u'Apple', u'ReviewRating': u'5', u'UserGender': u'Male', u'RetailerZip': u'60616', u'_id': ObjectId('592f27286cb48027a4cbf15d'), u'RetailerCity': u'Chicago'}\n",
      "\n",
      "{u'RetailerName': u'hhgregg', u'UserOccupation': u'Programmer', u'ProductPrice': u'499', u'RetailerState': u'IL', u'ManufacturerRebate': u'No', u'ReviewDate': u'2/29/2015', u'ReviewText': u' Difficult to use', u'UserID': u'wydci21', u'ProductCategory': u'Laptop', u'ProductModelName': u'Dell Ispiron 15.6', u'UserAge': u'43', u'RetailerOnSale': u'No', u'ManufacturerName': u'Dell', u'ReviewRating': u'1', u'UserGender': u'Male', u'RetailerZip': u'60616', u'_id': ObjectId('592f27286cb48027a4cbf15f'), u'RetailerCity': u'Chicago'}\n",
      "\n",
      "{u'RetailerName': u'Target', u'UserOccupation': u'Secratary', u'ProductPrice': u'449', u'RetailerState': u'IL', u'ManufacturerRebate': u'No', u'ReviewDate': u'12/27/2014', u'ReviewText': u' I did not like the keyboard at all - it was difficult to use', u'UserID': u'rhgpc68', u'ProductCategory': u'Laptop', u'ProductModelName': u'Dell Ispiron 15.6', u'UserAge': u'23', u'RetailerOnSale': u'Yes', u'ManufacturerName': u'Dell', u'ReviewRating': u'1', u'UserGender': u'Male', u'RetailerZip': u'60603', u'_id': ObjectId('592f27286cb48027a4cbf160'), u'RetailerCity': u'Chicago'}\n",
      "\n",
      "{u'RetailerName': u'Frys', u'UserOccupation': u'Student', u'ProductPrice': u'999', u'RetailerState': u'IL', u'ManufacturerRebate': u'No', u'ReviewDate': u'11/29/2014', u'ReviewText': u'It does have 3 HDMI ports instead of two.', u'UserID': u'rakyc94', u'ProductCategory': u'TV', u'ProductModelName': u'LG 65', u'UserAge': u'43', u'RetailerOnSale': u'No', u'ManufacturerName': u'LG', u'ReviewRating': u'2', u'UserGender': u'Male', u'RetailerZip': u'60603', u'_id': ObjectId('592f27286cb48027a4cbf165'), u'RetailerCity': u'Chicago'}\n"
     ]
    }
   ],
   "source": [
    "for review in reviews.find({'RetailerCity': 'Chicago'}).limit(5):\n",
    "    print '\\n', review"
   ]
  },
  {
   "cell_type": "markdown",
   "metadata": {
    "deletable": true,
    "editable": true
   },
   "source": [
    "# Requirement #2: "
   ]
  },
  {
   "cell_type": "raw",
   "metadata": {
    "deletable": true,
    "editable": true
   },
   "source": [
    "Get the list of reviews for products sold  in chicago and got review rating highr than 3"
   ]
  },
  {
   "cell_type": "code",
   "execution_count": 58,
   "metadata": {
    "collapsed": false,
    "deletable": true,
    "editable": true
   },
   "outputs": [
    {
     "name": "stdout",
     "output_type": "stream",
     "text": [
      "\n",
      "{u'RetailerName': u'Frys', u'UserOccupation': u'Accountant', u'ProductPrice': u'999', u'RetailerState': u'IL', u'ManufacturerRebate': u'No', u'ReviewDate': u'05/12/14', u'ReviewText': u'I like the Surface Pro 3 but not sure I like Windows 8.1.', u'UserID': u'gkmgb76', u'ProductCategory': u'Tablet', u'ProductModelName': u'Surface 3', u'UserAge': u'41', u'RetailerOnSale': u'No', u'ManufacturerName': u'Microsoft', u'ReviewRating': u'4', u'UserGender': u'Male', u'RetailerZip': u'60603', u'_id': ObjectId('592f27286cb48027a4cbf15c'), u'RetailerCity': u'Chicago'}\n",
      "\n",
      "{u'RetailerName': u'Frys', u'UserOccupation': u'Secratary', u'ProductPrice': u'589', u'RetailerState': u'IL', u'ManufacturerRebate': u'No', u'ReviewDate': u'02/01/13', u'ReviewText': u' I like everything...camera', u'UserID': u'vtpzh47', u'ProductCategory': u'Smart Phone', u'ProductModelName': u'iPhone 6', u'UserAge': u'23', u'RetailerOnSale': u'No', u'ManufacturerName': u'Apple', u'ReviewRating': u'5', u'UserGender': u'Male', u'RetailerZip': u'60616', u'_id': ObjectId('592f27286cb48027a4cbf15d'), u'RetailerCity': u'Chicago'}\n",
      "\n",
      "{u'RetailerName': u'Bestbuy', u'UserOccupation': u'Programmer', u'ProductPrice': u'399', u'RetailerState': u'IL', u'ManufacturerRebate': u'No', u'ReviewDate': u'11/25/2014', u'ReviewText': u' Phone is fine still learning some of the features', u'UserID': u'gywiq36', u'ProductCategory': u'Smart Phone', u'ProductModelName': u'Galaxy S4', u'UserAge': u'49', u'RetailerOnSale': u'No', u'ManufacturerName': u'Samsung', u'ReviewRating': u'4', u'UserGender': u'Male', u'RetailerZip': u'60616', u'_id': ObjectId('592f27286cb48027a4cbf179'), u'RetailerCity': u'Chicago'}\n",
      "\n",
      "{u'RetailerName': u'Walmart', u'UserOccupation': u'Manager', u'ProductPrice': u'449', u'RetailerState': u'IL', u'ManufacturerRebate': u'No', u'ReviewDate': u'12/05/14', u'ReviewText': u' works a lot better than my old Dell', u'UserID': u'txzbv78', u'ProductCategory': u'Laptop', u'ProductModelName': u'Dell Ispiron 15.6', u'UserAge': u'44', u'RetailerOnSale': u'Yes', u'ManufacturerName': u'Dell', u'ReviewRating': u'4', u'UserGender': u'Male', u'RetailerZip': u'60603', u'_id': ObjectId('592f27286cb48027a4cbf17a'), u'RetailerCity': u'Chicago'}\n",
      "\n",
      "{u'RetailerName': u'Bestbuy', u'UserOccupation': u'Accountant', u'ProductPrice': u'299', u'RetailerState': u'IL', u'ManufacturerRebate': u'No', u'ReviewDate': u'12/27/2014', u'ReviewText': u' My Samsung Galaxy Tab 4 8   tablet is very versatile. I use it for my email', u'UserID': u'lgjiv47', u'ProductCategory': u'Tablet', u'ProductModelName': u'Samsung Tab 4', u'UserAge': u'43', u'RetailerOnSale': u'Yes', u'ManufacturerName': u'Samsung', u'ReviewRating': u'5', u'UserGender': u'Female', u'RetailerZip': u'60616', u'_id': ObjectId('592f27286cb48027a4cbf181'), u'RetailerCity': u'Chicago'}\n"
     ]
    }
   ],
   "source": [
    "for review in reviews.find({'RetailerCity': 'Chicago','ReviewRating': {'$gt': '3'}}).limit(5):\n",
    "    print '\\n', review"
   ]
  },
  {
   "cell_type": "markdown",
   "metadata": {
    "deletable": true,
    "editable": true
   },
   "source": [
    "# Requirement #3:"
   ]
  },
  {
   "cell_type": "raw",
   "metadata": {
    "deletable": true,
    "editable": true
   },
   "source": [
    "Get the list of products sold at walmart and reviewed in zip code 90033"
   ]
  },
  {
   "cell_type": "code",
   "execution_count": 59,
   "metadata": {
    "collapsed": false,
    "deletable": true,
    "editable": true
   },
   "outputs": [
    {
     "name": "stdout",
     "output_type": "stream",
     "text": [
      "\n",
      "{u'RetailerName': u'Walmart', u'UserOccupation': u'Manager', u'ProductPrice': u'449', u'RetailerState': u'IL', u'ManufacturerRebate': u'No', u'ReviewDate': u'12/05/14', u'ReviewText': u' works a lot better than my old Dell', u'UserID': u'txzbv78', u'ProductCategory': u'Laptop', u'ProductModelName': u'Dell Ispiron 15.6', u'UserAge': u'44', u'RetailerOnSale': u'Yes', u'ManufacturerName': u'Dell', u'ReviewRating': u'4', u'UserGender': u'Male', u'RetailerZip': u'60603', u'_id': ObjectId('592f27286cb48027a4cbf17a'), u'RetailerCity': u'Chicago'}\n",
      "\n",
      "{u'RetailerName': u'Walmart', u'UserOccupation': u'Programmer', u'ProductPrice': u'1100', u'RetailerState': u'IL', u'ManufacturerRebate': u'No', u'ReviewDate': u'10/10/13', u'ReviewText': u'3D..240hz..1080p..960 clear motion rate..Smart TV..and the smart remote is the best', u'UserID': u'udjrc4', u'ProductCategory': u'TV', u'ProductModelName': u'Samsung TV 60 LED', u'UserAge': u'57', u'RetailerOnSale': u'Yes', u'ManufacturerName': u'Samsung', u'ReviewRating': u'5', u'UserGender': u'Male', u'RetailerZip': u'60603', u'_id': ObjectId('592f27286cb48027a4cbf18e'), u'RetailerCity': u'Chicago'}\n",
      "\n",
      "{u'RetailerName': u'Walmart', u'UserOccupation': u'Unknown', u'ProductPrice': u'999', u'RetailerState': u'IL', u'ManufacturerRebate': u'No', u'ReviewDate': u'5/23/2014', u'ReviewText': u' I love picture quality', u'UserID': u'dgqrv79', u'ProductCategory': u'TV', u'ProductModelName': u'LG 65', u'UserAge': u'42', u'RetailerOnSale': u'No', u'ManufacturerName': u'LG', u'ReviewRating': u'4', u'UserGender': u'Female', u'RetailerZip': u'60603', u'_id': ObjectId('592f27286cb48027a4cbf19f'), u'RetailerCity': u'Chicago'}\n",
      "\n",
      "{u'RetailerName': u'Walmart', u'UserOccupation': u'Accountant', u'ProductPrice': u'299', u'RetailerState': u'IL', u'ManufacturerRebate': u'No', u'ReviewDate': u'5/15/2013', u'ReviewText': u'This is a great tablet. It has all the best apps and plays all my digital movie files', u'UserID': u'xhcce9', u'ProductCategory': u'Tablet', u'ProductModelName': u'Samsung Tab 4', u'UserAge': u'26', u'RetailerOnSale': u'Yes', u'ManufacturerName': u'Samsung', u'ReviewRating': u'5', u'UserGender': u'Female', u'RetailerZip': u'60603', u'_id': ObjectId('592f27286cb48027a4cbf1c7'), u'RetailerCity': u'Chicago'}\n",
      "\n",
      "{u'RetailerName': u'Walmart', u'UserOccupation': u'Secratary', u'ProductPrice': u'269', u'RetailerState': u'IL', u'ManufacturerRebate': u'Yes', u'ReviewDate': u'6/25/2014', u'ReviewText': u'Love this phone even with the battery issue. I like it more than my old iphone.', u'UserID': u'dhvcy50', u'ProductCategory': u'Smart Phone', u'ProductModelName': u'Galaxy S4', u'UserAge': u'43', u'RetailerOnSale': u'Yes', u'ManufacturerName': u'Samsung', u'ReviewRating': u'4', u'UserGender': u'Male', u'RetailerZip': u'60603', u'_id': ObjectId('592f27286cb48027a4cbf1cd'), u'RetailerCity': u'Chicago'}\n"
     ]
    }
   ],
   "source": [
    "for review in reviews.find({'RetailerName': 'Walmart','RetailerZip': '60603'}).limit(5):\n",
    "    print '\\n', review"
   ]
  },
  {
   "cell_type": "markdown",
   "metadata": {
    "deletable": true,
    "editable": true
   },
   "source": [
    "# Requirement #4:"
   ]
  },
  {
   "cell_type": "raw",
   "metadata": {
    "deletable": true,
    "editable": true
   },
   "source": [
    "Get the list of reviews that got rating less than 3 and wifi or battery issues/problems mentioned in the review text"
   ]
  },
  {
   "cell_type": "code",
   "execution_count": 60,
   "metadata": {
    "collapsed": false,
    "deletable": true,
    "editable": true
   },
   "outputs": [
    {
     "name": "stdout",
     "output_type": "stream",
     "text": [
      "\n",
      "{u'RetailerName': u'hhgregg', u'UserOccupation': u'Programmer', u'ProductPrice': u'319', u'RetailerState': u'CA', u'ManufacturerRebate': u'No', u'ReviewDate': u'11/29/2014', u'ReviewText': u'battery lasts for less than 2 hours.', u'UserID': u'diejc61', u'ProductCategory': u'Laptop', u'ProductModelName': u'HP PAVALION  15.6', u'UserAge': u'56', u'RetailerOnSale': u'No', u'ManufacturerName': u'HP', u'ReviewRating': u'1', u'UserGender': u'Male', u'RetailerZip': u'90033', u'_id': ObjectId('592f27286cb48027a4cbf1f2'), u'RetailerCity': u'Los Angeles'}\n",
      "\n",
      "{u'RetailerName': u'hhgregg', u'UserOccupation': u'Unknown', u'ProductPrice': u'925', u'RetailerState': u'MA', u'ManufacturerRebate': u'No', u'ReviewDate': u'7/16/2014', u'ReviewText': u'While it has great features (as a laptop) the battery life is OMG-horrible!.', u'UserID': u'xcyrd23', u'ProductCategory': u'Tablet', u'ProductModelName': u'Surface 3', u'UserAge': u'50', u'RetailerOnSale': u'No', u'ManufacturerName': u'Microsoft', u'ReviewRating': u'2', u'UserGender': u'Male', u'RetailerZip': u'2108', u'_id': ObjectId('592f27286cb48027a4cbf258'), u'RetailerCity': u'Boston'}\n",
      "\n",
      "{u'RetailerName': u'hhgregg', u'UserOccupation': u'Secratary', u'ProductPrice': u'499', u'RetailerState': u'CA', u'ManufacturerRebate': u'No', u'ReviewDate': u'5/15/2013', u'ReviewText': u'bad battery and noisy fan', u'UserID': u'dtmsz51', u'ProductCategory': u'Laptop', u'ProductModelName': u'Dell Ispiron 15.6', u'UserAge': u'23', u'RetailerOnSale': u'No', u'ManufacturerName': u'Dell', u'ReviewRating': u'1', u'UserGender': u'Male', u'RetailerZip': u'94102', u'_id': ObjectId('592f27286cb48027a4cbf287'), u'RetailerCity': u'San Francisco'}\n",
      "\n",
      "{u'RetailerName': u'Walmart', u'UserOccupation': u'Accountant', u'ProductPrice': u'499', u'RetailerState': u'MA', u'ManufacturerRebate': u'No', u'ReviewDate': u'5/15/2013', u'ReviewText': u'when using youtube battery dies after 2 hours.', u'UserID': u'kopwr10', u'ProductCategory': u'Tablet', u'ProductModelName': u'iPad Air', u'UserAge': u'49', u'RetailerOnSale': u'No', u'ManufacturerName': u'Apple', u'ReviewRating': u'1', u'UserGender': u'Female', u'RetailerZip': u'2108', u'_id': ObjectId('592f27286cb48027a4cbf28c'), u'RetailerCity': u'Boston'}\n",
      "\n",
      "{u'RetailerName': u'Target', u'UserOccupation': u'Manager', u'ProductPrice': u'969', u'RetailerState': u'IL', u'ManufacturerRebate': u'No', u'ReviewDate': u'03/10/15', u'ReviewText': u'The Surface Pro 3 is having a terrible time connecting to any wifi hub. ', u'UserID': u'jgfif74', u'ProductCategory': u'Tablet', u'ProductModelName': u'Surface 3', u'UserAge': u'31', u'RetailerOnSale': u'No', u'ManufacturerName': u'Microsoft', u'ReviewRating': u'2', u'UserGender': u'Male', u'RetailerZip': u'60616', u'_id': ObjectId('592f27286cb48027a4cbf291'), u'RetailerCity': u'Chicago'}\n"
     ]
    }
   ],
   "source": [
    "for review in reviews.find({'ReviewText': re.compile('wifi|battery'),'ReviewRating': {'$lt':'3'}}).limit(5):\n",
    "    print '\\n', review"
   ]
  },
  {
   "cell_type": "markdown",
   "metadata": {
    "deletable": true,
    "editable": true
   },
   "source": [
    "# Requirement #5:"
   ]
  },
  {
   "cell_type": "raw",
   "metadata": {
    "deletable": true,
    "editable": true
   },
   "source": [
    "Get the list of reviews got rating greater than 3 and the resulting list  to be sorted by the ManufacturerName"
   ]
  },
  {
   "cell_type": "code",
   "execution_count": 61,
   "metadata": {
    "collapsed": false,
    "deletable": true,
    "editable": true
   },
   "outputs": [
    {
     "name": "stdout",
     "output_type": "stream",
     "text": [
      "\n",
      "{u'RetailerName': u'Frys', u'UserOccupation': u'Secratary', u'ProductPrice': u'589', u'RetailerState': u'IL', u'ManufacturerRebate': u'No', u'ReviewDate': u'02/01/13', u'ReviewText': u' I like everything...camera', u'UserID': u'vtpzh47', u'ProductCategory': u'Smart Phone', u'ProductModelName': u'iPhone 6', u'UserAge': u'23', u'RetailerOnSale': u'No', u'ManufacturerName': u'Apple', u'ReviewRating': u'5', u'UserGender': u'Male', u'RetailerZip': u'60616', u'_id': ObjectId('592f27286cb48027a4cbf15d'), u'RetailerCity': u'Chicago'}\n",
      "\n",
      "{u'RetailerName': u'hhgregg', u'UserOccupation': u'Accountant', u'ProductPrice': u'425', u'RetailerState': u'MA', u'ManufacturerRebate': u'No', u'ReviewDate': u'10/10/13', u'ReviewText': u'So glad I finally made the purchase! I use it everyday!', u'UserID': u'wnvvy21', u'ProductCategory': u'Tablet', u'ProductModelName': u'iPad Air', u'UserAge': u'56', u'RetailerOnSale': u'Yes', u'ManufacturerName': u'Apple', u'ReviewRating': u'5', u'UserGender': u'Female', u'RetailerZip': u'2110', u'_id': ObjectId('592f27286cb48027a4cbf176'), u'RetailerCity': u'Boston'}\n",
      "\n",
      "{u'RetailerName': u'hhgregg', u'UserOccupation': u'Programmer', u'ProductPrice': u'960', u'RetailerState': u'OH', u'ManufacturerRebate': u'No', u'ReviewDate': u'12/05/14', u'ReviewText': u' Since the last version of iOS I used was on the iPhone 4', u'UserID': u'ttdio14', u'ProductCategory': u'Smart Phone', u'ProductModelName': u'iPhone 6', u'UserAge': u'30', u'RetailerOnSale': u'No', u'ManufacturerName': u'Apple', u'ReviewRating': u'4', u'UserGender': u'Male', u'RetailerZip': u'44114', u'_id': ObjectId('592f27286cb48027a4cbf180'), u'RetailerCity': u'Cleveland'}\n",
      "\n",
      "{u'RetailerName': u'Frys', u'UserOccupation': u'Student', u'ProductPrice': u'589', u'RetailerState': u'IL', u'ManufacturerRebate': u'No', u'ReviewDate': u'2/15/2015', u'ReviewText': u'This is a major upgrade from iPhone 5. Would not look back as this is an excellent phone!', u'UserID': u'klyoc65', u'ProductCategory': u'Smart Phone', u'ProductModelName': u'iPhone 6', u'UserAge': u'45', u'RetailerOnSale': u'No', u'ManufacturerName': u'Apple', u'ReviewRating': u'5', u'UserGender': u'Male', u'RetailerZip': u'60585', u'_id': ObjectId('592f27286cb48027a4cbf184'), u'RetailerCity': u'Naperville'}\n",
      "\n",
      "{u'RetailerName': u'Target', u'UserOccupation': u'Accountant', u'ProductPrice': u'299', u'RetailerState': u'IL', u'ManufacturerRebate': u'No', u'ReviewDate': u'7/19/2014', u'ReviewText': u' I would recommend the iPhone 6', u'UserID': u'rqrxq44', u'ProductCategory': u'Smart Phone', u'ProductModelName': u'iPhone 6', u'UserAge': u'48', u'RetailerOnSale': u'Yes', u'ManufacturerName': u'Apple', u'ReviewRating': u'5', u'UserGender': u'Male', u'RetailerZip': u'60603', u'_id': ObjectId('592f27286cb48027a4cbf18a'), u'RetailerCity': u'Chicago'}\n"
     ]
    }
   ],
   "source": [
    "for review in reviews.find({'ReviewRating': {'$gt':'3'}}).sort('ManufacturerName').limit(5):\n",
    "    print '\\n', review"
   ]
  },
  {
   "cell_type": "code",
   "execution_count": null,
   "metadata": {
    "collapsed": false,
    "deletable": true,
    "editable": true
   },
   "outputs": [],
   "source": []
  },
  {
   "cell_type": "code",
   "execution_count": null,
   "metadata": {
    "collapsed": true,
    "deletable": true,
    "editable": true
   },
   "outputs": [],
   "source": []
  }
 ],
 "metadata": {
  "kernelspec": {
   "display_name": "Python 2",
   "language": "python",
   "name": "python2"
  },
  "language_info": {
   "codemirror_mode": {
    "name": "ipython",
    "version": 2
   },
   "file_extension": ".py",
   "mimetype": "text/x-python",
   "name": "python",
   "nbconvert_exporter": "python",
   "pygments_lexer": "ipython2",
   "version": "2.7.11"
  }
 },
 "nbformat": 4,
 "nbformat_minor": 0
}
